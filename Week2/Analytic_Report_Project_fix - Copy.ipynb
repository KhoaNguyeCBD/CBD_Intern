{
 "cells": [
  {
   "cell_type": "markdown",
   "metadata": {},
   "source": [
    "# <center> Analytic Report Project</center>"
   ]
  },
  {
   "cell_type": "markdown",
   "metadata": {},
   "source": [
    "## Abstract\n",
    "This report uses a friction dataset created by IBM data scients scientists to discover several factors affecting IBM employee's attrition and job satisfaction. Moreover, it also illustrates when they will resign by utilizing statistic method such as hypothesis test."
   ]
  },
  {
   "cell_type": "markdown",
   "metadata": {},
   "source": [
    "## Table of Contents\n",
    "### [I.Introduction](#intro)\n",
    "### [II.  Dataset Overview](#AnalII)\n",
    "#### [1. Preparing Library](#AnalII1)\n",
    "#### [2. Dataset Content](#AnalII2)\n",
    "### [III. Attrition Feature Analization](#AnalIII)\n",
    "#### [1. Attrition Statistical Overview](#AnalIII1)\n",
    "#### [2. Attrition Hypothesis Test](#AnalIII2)\n",
    "### [IV. JobSatisfaction Feature Analization](#AnalV)\n",
    "#### [1. JobSatisfaction Statistical Overview](#AnalIV1)\n",
    "#### [2. JobSatisfaction Hypothesis Test](#AnalIV2)\n",
    "### [V. When Employee will resign](#AnaV)\n",
    "### [VI. Conclusion](#conc)\n"
   ]
  },
  {
   "cell_type": "markdown",
   "metadata": {},
   "source": [
    "## I.Introduction <a id = \"intro\">\n",
    "    \n",
    "[IBM HR Analytics Employee Attrition & Performance](https://www.kaggle.com/pavansubhasht/ibm-hr-analytics-attrition-dataset) is a pseudo dataset giving information about IBM human resources, and this report is going to apply some statistic methods to analyze several aspects of IBM's employees. Furthermore, the main goal is to explore three vital questions:\n",
    "   1. What are key factors that are playing into current attrition rates? \n",
    "   2. What are key factors that are playing into current satisfaction rates? \n",
    "   3. When are employees leaving?\n",
    "    \n",
    "In order to address these problems, t-test, and f-test technique are utilized. \n",
    "\n",
    "The report include the [Dataset Overview](#AnalII) [Attrition Feature Analization](#AnalIII), [JobSatisfaction Feature Analization](#AnalV), and [Conclusion](#conc). Next session will given an general view of the dataset "
   ]
  },
  {
   "cell_type": "markdown",
   "metadata": {},
   "source": [
    "## II. Dataset Overview  <a id = \"AnalII\">"
   ]
  },
  {
   "cell_type": "markdown",
   "metadata": {},
   "source": [
    "### 1. Preparing Library  <a id = \"AnalII1\">"
   ]
  },
  {
   "cell_type": "markdown",
   "metadata": {},
   "source": [
    "\n",
    "Import libraries will be used in calculation"
   ]
  },
  {
   "cell_type": "code",
   "execution_count": 1,
   "metadata": {},
   "outputs": [],
   "source": [
    "import pandas as pd\n",
    "import numpy as np\n",
    "import scipy as sci # use for ttest\n",
    "import seaborn as sns\n",
    "import matplotlib.pyplot as plt"
   ]
  },
  {
   "cell_type": "markdown",
   "metadata": {},
   "source": [
    "### 2 Dataset Content <a id='AnalII2'>"
   ]
  },
  {
   "cell_type": "markdown",
   "metadata": {},
   "source": [
    "Load the dataset (csv type) and show the first five samples. "
   ]
  },
  {
   "cell_type": "code",
   "execution_count": 2,
   "metadata": {},
   "outputs": [
    {
     "data": {
      "text/html": [
       "<div>\n",
       "<style scoped>\n",
       "    .dataframe tbody tr th:only-of-type {\n",
       "        vertical-align: middle;\n",
       "    }\n",
       "\n",
       "    .dataframe tbody tr th {\n",
       "        vertical-align: top;\n",
       "    }\n",
       "\n",
       "    .dataframe thead th {\n",
       "        text-align: right;\n",
       "    }\n",
       "</style>\n",
       "<table border=\"1\" class=\"dataframe\">\n",
       "  <thead>\n",
       "    <tr style=\"text-align: right;\">\n",
       "      <th></th>\n",
       "      <th>Age</th>\n",
       "      <th>Attrition</th>\n",
       "      <th>BusinessTravel</th>\n",
       "      <th>DailyRate</th>\n",
       "      <th>Department</th>\n",
       "      <th>DistanceFromHome</th>\n",
       "      <th>Education</th>\n",
       "      <th>EducationField</th>\n",
       "      <th>EmployeeCount</th>\n",
       "      <th>EmployeeNumber</th>\n",
       "      <th>...</th>\n",
       "      <th>RelationshipSatisfaction</th>\n",
       "      <th>StandardHours</th>\n",
       "      <th>StockOptionLevel</th>\n",
       "      <th>TotalWorkingYears</th>\n",
       "      <th>TrainingTimesLastYear</th>\n",
       "      <th>WorkLifeBalance</th>\n",
       "      <th>YearsAtCompany</th>\n",
       "      <th>YearsInCurrentRole</th>\n",
       "      <th>YearsSinceLastPromotion</th>\n",
       "      <th>YearsWithCurrManager</th>\n",
       "    </tr>\n",
       "  </thead>\n",
       "  <tbody>\n",
       "    <tr>\n",
       "      <td>0</td>\n",
       "      <td>41</td>\n",
       "      <td>Yes</td>\n",
       "      <td>Travel_Rarely</td>\n",
       "      <td>1102</td>\n",
       "      <td>Sales</td>\n",
       "      <td>1</td>\n",
       "      <td>2</td>\n",
       "      <td>Life Sciences</td>\n",
       "      <td>1</td>\n",
       "      <td>1</td>\n",
       "      <td>...</td>\n",
       "      <td>1</td>\n",
       "      <td>80</td>\n",
       "      <td>0</td>\n",
       "      <td>8</td>\n",
       "      <td>0</td>\n",
       "      <td>1</td>\n",
       "      <td>6</td>\n",
       "      <td>4</td>\n",
       "      <td>0</td>\n",
       "      <td>5</td>\n",
       "    </tr>\n",
       "    <tr>\n",
       "      <td>1</td>\n",
       "      <td>49</td>\n",
       "      <td>No</td>\n",
       "      <td>Travel_Frequently</td>\n",
       "      <td>279</td>\n",
       "      <td>Research &amp; Development</td>\n",
       "      <td>8</td>\n",
       "      <td>1</td>\n",
       "      <td>Life Sciences</td>\n",
       "      <td>1</td>\n",
       "      <td>2</td>\n",
       "      <td>...</td>\n",
       "      <td>4</td>\n",
       "      <td>80</td>\n",
       "      <td>1</td>\n",
       "      <td>10</td>\n",
       "      <td>3</td>\n",
       "      <td>3</td>\n",
       "      <td>10</td>\n",
       "      <td>7</td>\n",
       "      <td>1</td>\n",
       "      <td>7</td>\n",
       "    </tr>\n",
       "    <tr>\n",
       "      <td>2</td>\n",
       "      <td>37</td>\n",
       "      <td>Yes</td>\n",
       "      <td>Travel_Rarely</td>\n",
       "      <td>1373</td>\n",
       "      <td>Research &amp; Development</td>\n",
       "      <td>2</td>\n",
       "      <td>2</td>\n",
       "      <td>Other</td>\n",
       "      <td>1</td>\n",
       "      <td>4</td>\n",
       "      <td>...</td>\n",
       "      <td>2</td>\n",
       "      <td>80</td>\n",
       "      <td>0</td>\n",
       "      <td>7</td>\n",
       "      <td>3</td>\n",
       "      <td>3</td>\n",
       "      <td>0</td>\n",
       "      <td>0</td>\n",
       "      <td>0</td>\n",
       "      <td>0</td>\n",
       "    </tr>\n",
       "    <tr>\n",
       "      <td>3</td>\n",
       "      <td>33</td>\n",
       "      <td>No</td>\n",
       "      <td>Travel_Frequently</td>\n",
       "      <td>1392</td>\n",
       "      <td>Research &amp; Development</td>\n",
       "      <td>3</td>\n",
       "      <td>4</td>\n",
       "      <td>Life Sciences</td>\n",
       "      <td>1</td>\n",
       "      <td>5</td>\n",
       "      <td>...</td>\n",
       "      <td>3</td>\n",
       "      <td>80</td>\n",
       "      <td>0</td>\n",
       "      <td>8</td>\n",
       "      <td>3</td>\n",
       "      <td>3</td>\n",
       "      <td>8</td>\n",
       "      <td>7</td>\n",
       "      <td>3</td>\n",
       "      <td>0</td>\n",
       "    </tr>\n",
       "    <tr>\n",
       "      <td>4</td>\n",
       "      <td>27</td>\n",
       "      <td>No</td>\n",
       "      <td>Travel_Rarely</td>\n",
       "      <td>591</td>\n",
       "      <td>Research &amp; Development</td>\n",
       "      <td>2</td>\n",
       "      <td>1</td>\n",
       "      <td>Medical</td>\n",
       "      <td>1</td>\n",
       "      <td>7</td>\n",
       "      <td>...</td>\n",
       "      <td>4</td>\n",
       "      <td>80</td>\n",
       "      <td>1</td>\n",
       "      <td>6</td>\n",
       "      <td>3</td>\n",
       "      <td>3</td>\n",
       "      <td>2</td>\n",
       "      <td>2</td>\n",
       "      <td>2</td>\n",
       "      <td>2</td>\n",
       "    </tr>\n",
       "  </tbody>\n",
       "</table>\n",
       "<p>5 rows × 35 columns</p>\n",
       "</div>"
      ],
      "text/plain": [
       "   Age Attrition     BusinessTravel  DailyRate              Department  \\\n",
       "0   41       Yes      Travel_Rarely       1102                   Sales   \n",
       "1   49        No  Travel_Frequently        279  Research & Development   \n",
       "2   37       Yes      Travel_Rarely       1373  Research & Development   \n",
       "3   33        No  Travel_Frequently       1392  Research & Development   \n",
       "4   27        No      Travel_Rarely        591  Research & Development   \n",
       "\n",
       "   DistanceFromHome  Education EducationField  EmployeeCount  EmployeeNumber  \\\n",
       "0                 1          2  Life Sciences              1               1   \n",
       "1                 8          1  Life Sciences              1               2   \n",
       "2                 2          2          Other              1               4   \n",
       "3                 3          4  Life Sciences              1               5   \n",
       "4                 2          1        Medical              1               7   \n",
       "\n",
       "   ...  RelationshipSatisfaction StandardHours  StockOptionLevel  \\\n",
       "0  ...                         1            80                 0   \n",
       "1  ...                         4            80                 1   \n",
       "2  ...                         2            80                 0   \n",
       "3  ...                         3            80                 0   \n",
       "4  ...                         4            80                 1   \n",
       "\n",
       "   TotalWorkingYears  TrainingTimesLastYear WorkLifeBalance  YearsAtCompany  \\\n",
       "0                  8                      0               1               6   \n",
       "1                 10                      3               3              10   \n",
       "2                  7                      3               3               0   \n",
       "3                  8                      3               3               8   \n",
       "4                  6                      3               3               2   \n",
       "\n",
       "  YearsInCurrentRole  YearsSinceLastPromotion  YearsWithCurrManager  \n",
       "0                  4                        0                     5  \n",
       "1                  7                        1                     7  \n",
       "2                  0                        0                     0  \n",
       "3                  7                        3                     0  \n",
       "4                  2                        2                     2  \n",
       "\n",
       "[5 rows x 35 columns]"
      ]
     },
     "execution_count": 2,
     "metadata": {},
     "output_type": "execute_result"
    }
   ],
   "source": [
    "data = pd.read_csv('WA_Fn-UseC_-HR-Employee-Attrition.csv')\n",
    "data.head()"
   ]
  },
  {
   "cell_type": "markdown",
   "metadata": {},
   "source": [
    "There are some mean of numbers in categorical features need to be clear\n",
    "\n",
    "**Education:** 1 'Below College', 2 'College', 3 'Bachelor', 4 'Master', 5 'Doctor'\n",
    "\n",
    "**EnvironmentSatisfaction:** 1 'Low', 2 'Medium,' 3 'High', 4 'Very High'\n",
    "\n",
    "**JobInvolvement:** 1 'Low', 2 'Medium', 3 'High', 4 'Very High'\n",
    "\n",
    "**JobSatisfaction:** 1 'Low', 2 'Medium', 3 'High', 4 'Very High'\n",
    "\n",
    "**PerformanceRating:** 1 'Low', 2 'Good', 3 'Excellent',, 4 'Outstanding'\n",
    "\n",
    "**RelationshipSatisfaction:** 1 'Low', 2 'Medium', 3 'High', 4 'Very High'\n",
    "\n",
    "**WorkLifeBalance:** 1 'Bad', 2 'Good', 3 'Better', 4 'Best"
   ]
  },
  {
   "cell_type": "code",
   "execution_count": 3,
   "metadata": {},
   "outputs": [],
   "source": [
    "#--------------------------------------------------------------------------------------------------------------------#"
   ]
  },
  {
   "cell_type": "markdown",
   "metadata": {},
   "source": [
    "Check \n",
    "\n",
    "       How many samples included in the dataset \n",
    "\n",
    "       Whether or not missing values existed in this dataset\n",
    "\n",
    "       Types of each features"
   ]
  },
  {
   "cell_type": "code",
   "execution_count": 4,
   "metadata": {},
   "outputs": [
    {
     "name": "stdout",
     "output_type": "stream",
     "text": [
      "<class 'pandas.core.frame.DataFrame'>\n",
      "RangeIndex: 1470 entries, 0 to 1469\n",
      "Data columns (total 35 columns):\n",
      "Age                         1470 non-null int64\n",
      "Attrition                   1470 non-null object\n",
      "BusinessTravel              1470 non-null object\n",
      "DailyRate                   1470 non-null int64\n",
      "Department                  1470 non-null object\n",
      "DistanceFromHome            1470 non-null int64\n",
      "Education                   1470 non-null int64\n",
      "EducationField              1470 non-null object\n",
      "EmployeeCount               1470 non-null int64\n",
      "EmployeeNumber              1470 non-null int64\n",
      "EnvironmentSatisfaction     1470 non-null int64\n",
      "Gender                      1470 non-null object\n",
      "HourlyRate                  1470 non-null int64\n",
      "JobInvolvement              1470 non-null int64\n",
      "JobLevel                    1470 non-null int64\n",
      "JobRole                     1470 non-null object\n",
      "JobSatisfaction             1470 non-null int64\n",
      "MaritalStatus               1470 non-null object\n",
      "MonthlyIncome               1470 non-null int64\n",
      "MonthlyRate                 1470 non-null int64\n",
      "NumCompaniesWorked          1470 non-null int64\n",
      "Over18                      1470 non-null object\n",
      "OverTime                    1470 non-null object\n",
      "PercentSalaryHike           1470 non-null int64\n",
      "PerformanceRating           1470 non-null int64\n",
      "RelationshipSatisfaction    1470 non-null int64\n",
      "StandardHours               1470 non-null int64\n",
      "StockOptionLevel            1470 non-null int64\n",
      "TotalWorkingYears           1470 non-null int64\n",
      "TrainingTimesLastYear       1470 non-null int64\n",
      "WorkLifeBalance             1470 non-null int64\n",
      "YearsAtCompany              1470 non-null int64\n",
      "YearsInCurrentRole          1470 non-null int64\n",
      "YearsSinceLastPromotion     1470 non-null int64\n",
      "YearsWithCurrManager        1470 non-null int64\n",
      "dtypes: int64(26), object(9)\n",
      "memory usage: 402.1+ KB\n"
     ]
    }
   ],
   "source": [
    "data.info()"
   ]
  },
  {
   "cell_type": "markdown",
   "metadata": {},
   "source": [
    "=> **There are 1470 samples, and each sample has full values (No missing values)**\n",
    "\n",
    "=> **There are 26 \"int64\" samples and 9 \"object\" samples**\n",
    "\n",
    "=> **Dataset includes 1470 employees and 35 features of them which are listed above**"
   ]
  },
  {
   "cell_type": "code",
   "execution_count": 5,
   "metadata": {},
   "outputs": [],
   "source": [
    "#--------------------------------------------------------------------------------------------------------------------#"
   ]
  },
  {
   "cell_type": "markdown",
   "metadata": {},
   "source": [
    "The list of 35 feature in this dataset"
   ]
  },
  {
   "cell_type": "code",
   "execution_count": 6,
   "metadata": {},
   "outputs": [
    {
     "data": {
      "text/plain": [
       "Index(['Age', 'Attrition', 'BusinessTravel', 'DailyRate', 'Department',\n",
       "       'DistanceFromHome', 'Education', 'EducationField', 'EmployeeCount',\n",
       "       'EmployeeNumber', 'EnvironmentSatisfaction', 'Gender', 'HourlyRate',\n",
       "       'JobInvolvement', 'JobLevel', 'JobRole', 'JobSatisfaction',\n",
       "       'MaritalStatus', 'MonthlyIncome', 'MonthlyRate', 'NumCompaniesWorked',\n",
       "       'Over18', 'OverTime', 'PercentSalaryHike', 'PerformanceRating',\n",
       "       'RelationshipSatisfaction', 'StandardHours', 'StockOptionLevel',\n",
       "       'TotalWorkingYears', 'TrainingTimesLastYear', 'WorkLifeBalance',\n",
       "       'YearsAtCompany', 'YearsInCurrentRole', 'YearsSinceLastPromotion',\n",
       "       'YearsWithCurrManager'],\n",
       "      dtype='object')"
      ]
     },
     "execution_count": 6,
     "metadata": {},
     "output_type": "execute_result"
    }
   ],
   "source": [
    "data.columns"
   ]
  },
  {
   "cell_type": "markdown",
   "metadata": {},
   "source": []
  },
  {
   "cell_type": "code",
   "execution_count": 7,
   "metadata": {},
   "outputs": [
    {
     "data": {
      "text/html": [
       "<div>\n",
       "<style scoped>\n",
       "    .dataframe tbody tr th:only-of-type {\n",
       "        vertical-align: middle;\n",
       "    }\n",
       "\n",
       "    .dataframe tbody tr th {\n",
       "        vertical-align: top;\n",
       "    }\n",
       "\n",
       "    .dataframe thead th {\n",
       "        text-align: right;\n",
       "    }\n",
       "</style>\n",
       "<table border=\"1\" class=\"dataframe\">\n",
       "  <thead>\n",
       "    <tr style=\"text-align: right;\">\n",
       "      <th></th>\n",
       "      <th>Age</th>\n",
       "      <th>DailyRate</th>\n",
       "      <th>DistanceFromHome</th>\n",
       "      <th>Education</th>\n",
       "      <th>EmployeeCount</th>\n",
       "      <th>EmployeeNumber</th>\n",
       "      <th>EnvironmentSatisfaction</th>\n",
       "      <th>HourlyRate</th>\n",
       "      <th>JobInvolvement</th>\n",
       "      <th>JobLevel</th>\n",
       "      <th>...</th>\n",
       "      <th>RelationshipSatisfaction</th>\n",
       "      <th>StandardHours</th>\n",
       "      <th>StockOptionLevel</th>\n",
       "      <th>TotalWorkingYears</th>\n",
       "      <th>TrainingTimesLastYear</th>\n",
       "      <th>WorkLifeBalance</th>\n",
       "      <th>YearsAtCompany</th>\n",
       "      <th>YearsInCurrentRole</th>\n",
       "      <th>YearsSinceLastPromotion</th>\n",
       "      <th>YearsWithCurrManager</th>\n",
       "    </tr>\n",
       "  </thead>\n",
       "  <tbody>\n",
       "    <tr>\n",
       "      <td>count</td>\n",
       "      <td>1470.000000</td>\n",
       "      <td>1470.000000</td>\n",
       "      <td>1470.000000</td>\n",
       "      <td>1470.000000</td>\n",
       "      <td>1470.0</td>\n",
       "      <td>1470.000000</td>\n",
       "      <td>1470.000000</td>\n",
       "      <td>1470.000000</td>\n",
       "      <td>1470.000000</td>\n",
       "      <td>1470.000000</td>\n",
       "      <td>...</td>\n",
       "      <td>1470.000000</td>\n",
       "      <td>1470.0</td>\n",
       "      <td>1470.000000</td>\n",
       "      <td>1470.000000</td>\n",
       "      <td>1470.000000</td>\n",
       "      <td>1470.000000</td>\n",
       "      <td>1470.000000</td>\n",
       "      <td>1470.000000</td>\n",
       "      <td>1470.000000</td>\n",
       "      <td>1470.000000</td>\n",
       "    </tr>\n",
       "    <tr>\n",
       "      <td>mean</td>\n",
       "      <td>36.923810</td>\n",
       "      <td>802.485714</td>\n",
       "      <td>9.192517</td>\n",
       "      <td>2.912925</td>\n",
       "      <td>1.0</td>\n",
       "      <td>1024.865306</td>\n",
       "      <td>2.721769</td>\n",
       "      <td>65.891156</td>\n",
       "      <td>2.729932</td>\n",
       "      <td>2.063946</td>\n",
       "      <td>...</td>\n",
       "      <td>2.712245</td>\n",
       "      <td>80.0</td>\n",
       "      <td>0.793878</td>\n",
       "      <td>11.279592</td>\n",
       "      <td>2.799320</td>\n",
       "      <td>2.761224</td>\n",
       "      <td>7.008163</td>\n",
       "      <td>4.229252</td>\n",
       "      <td>2.187755</td>\n",
       "      <td>4.123129</td>\n",
       "    </tr>\n",
       "    <tr>\n",
       "      <td>std</td>\n",
       "      <td>9.135373</td>\n",
       "      <td>403.509100</td>\n",
       "      <td>8.106864</td>\n",
       "      <td>1.024165</td>\n",
       "      <td>0.0</td>\n",
       "      <td>602.024335</td>\n",
       "      <td>1.093082</td>\n",
       "      <td>20.329428</td>\n",
       "      <td>0.711561</td>\n",
       "      <td>1.106940</td>\n",
       "      <td>...</td>\n",
       "      <td>1.081209</td>\n",
       "      <td>0.0</td>\n",
       "      <td>0.852077</td>\n",
       "      <td>7.780782</td>\n",
       "      <td>1.289271</td>\n",
       "      <td>0.706476</td>\n",
       "      <td>6.126525</td>\n",
       "      <td>3.623137</td>\n",
       "      <td>3.222430</td>\n",
       "      <td>3.568136</td>\n",
       "    </tr>\n",
       "    <tr>\n",
       "      <td>min</td>\n",
       "      <td>18.000000</td>\n",
       "      <td>102.000000</td>\n",
       "      <td>1.000000</td>\n",
       "      <td>1.000000</td>\n",
       "      <td>1.0</td>\n",
       "      <td>1.000000</td>\n",
       "      <td>1.000000</td>\n",
       "      <td>30.000000</td>\n",
       "      <td>1.000000</td>\n",
       "      <td>1.000000</td>\n",
       "      <td>...</td>\n",
       "      <td>1.000000</td>\n",
       "      <td>80.0</td>\n",
       "      <td>0.000000</td>\n",
       "      <td>0.000000</td>\n",
       "      <td>0.000000</td>\n",
       "      <td>1.000000</td>\n",
       "      <td>0.000000</td>\n",
       "      <td>0.000000</td>\n",
       "      <td>0.000000</td>\n",
       "      <td>0.000000</td>\n",
       "    </tr>\n",
       "    <tr>\n",
       "      <td>25%</td>\n",
       "      <td>30.000000</td>\n",
       "      <td>465.000000</td>\n",
       "      <td>2.000000</td>\n",
       "      <td>2.000000</td>\n",
       "      <td>1.0</td>\n",
       "      <td>491.250000</td>\n",
       "      <td>2.000000</td>\n",
       "      <td>48.000000</td>\n",
       "      <td>2.000000</td>\n",
       "      <td>1.000000</td>\n",
       "      <td>...</td>\n",
       "      <td>2.000000</td>\n",
       "      <td>80.0</td>\n",
       "      <td>0.000000</td>\n",
       "      <td>6.000000</td>\n",
       "      <td>2.000000</td>\n",
       "      <td>2.000000</td>\n",
       "      <td>3.000000</td>\n",
       "      <td>2.000000</td>\n",
       "      <td>0.000000</td>\n",
       "      <td>2.000000</td>\n",
       "    </tr>\n",
       "    <tr>\n",
       "      <td>50%</td>\n",
       "      <td>36.000000</td>\n",
       "      <td>802.000000</td>\n",
       "      <td>7.000000</td>\n",
       "      <td>3.000000</td>\n",
       "      <td>1.0</td>\n",
       "      <td>1020.500000</td>\n",
       "      <td>3.000000</td>\n",
       "      <td>66.000000</td>\n",
       "      <td>3.000000</td>\n",
       "      <td>2.000000</td>\n",
       "      <td>...</td>\n",
       "      <td>3.000000</td>\n",
       "      <td>80.0</td>\n",
       "      <td>1.000000</td>\n",
       "      <td>10.000000</td>\n",
       "      <td>3.000000</td>\n",
       "      <td>3.000000</td>\n",
       "      <td>5.000000</td>\n",
       "      <td>3.000000</td>\n",
       "      <td>1.000000</td>\n",
       "      <td>3.000000</td>\n",
       "    </tr>\n",
       "    <tr>\n",
       "      <td>75%</td>\n",
       "      <td>43.000000</td>\n",
       "      <td>1157.000000</td>\n",
       "      <td>14.000000</td>\n",
       "      <td>4.000000</td>\n",
       "      <td>1.0</td>\n",
       "      <td>1555.750000</td>\n",
       "      <td>4.000000</td>\n",
       "      <td>83.750000</td>\n",
       "      <td>3.000000</td>\n",
       "      <td>3.000000</td>\n",
       "      <td>...</td>\n",
       "      <td>4.000000</td>\n",
       "      <td>80.0</td>\n",
       "      <td>1.000000</td>\n",
       "      <td>15.000000</td>\n",
       "      <td>3.000000</td>\n",
       "      <td>3.000000</td>\n",
       "      <td>9.000000</td>\n",
       "      <td>7.000000</td>\n",
       "      <td>3.000000</td>\n",
       "      <td>7.000000</td>\n",
       "    </tr>\n",
       "    <tr>\n",
       "      <td>max</td>\n",
       "      <td>60.000000</td>\n",
       "      <td>1499.000000</td>\n",
       "      <td>29.000000</td>\n",
       "      <td>5.000000</td>\n",
       "      <td>1.0</td>\n",
       "      <td>2068.000000</td>\n",
       "      <td>4.000000</td>\n",
       "      <td>100.000000</td>\n",
       "      <td>4.000000</td>\n",
       "      <td>5.000000</td>\n",
       "      <td>...</td>\n",
       "      <td>4.000000</td>\n",
       "      <td>80.0</td>\n",
       "      <td>3.000000</td>\n",
       "      <td>40.000000</td>\n",
       "      <td>6.000000</td>\n",
       "      <td>4.000000</td>\n",
       "      <td>40.000000</td>\n",
       "      <td>18.000000</td>\n",
       "      <td>15.000000</td>\n",
       "      <td>17.000000</td>\n",
       "    </tr>\n",
       "  </tbody>\n",
       "</table>\n",
       "<p>8 rows × 26 columns</p>\n",
       "</div>"
      ],
      "text/plain": [
       "               Age    DailyRate  DistanceFromHome    Education  EmployeeCount  \\\n",
       "count  1470.000000  1470.000000       1470.000000  1470.000000         1470.0   \n",
       "mean     36.923810   802.485714          9.192517     2.912925            1.0   \n",
       "std       9.135373   403.509100          8.106864     1.024165            0.0   \n",
       "min      18.000000   102.000000          1.000000     1.000000            1.0   \n",
       "25%      30.000000   465.000000          2.000000     2.000000            1.0   \n",
       "50%      36.000000   802.000000          7.000000     3.000000            1.0   \n",
       "75%      43.000000  1157.000000         14.000000     4.000000            1.0   \n",
       "max      60.000000  1499.000000         29.000000     5.000000            1.0   \n",
       "\n",
       "       EmployeeNumber  EnvironmentSatisfaction   HourlyRate  JobInvolvement  \\\n",
       "count     1470.000000              1470.000000  1470.000000     1470.000000   \n",
       "mean      1024.865306                 2.721769    65.891156        2.729932   \n",
       "std        602.024335                 1.093082    20.329428        0.711561   \n",
       "min          1.000000                 1.000000    30.000000        1.000000   \n",
       "25%        491.250000                 2.000000    48.000000        2.000000   \n",
       "50%       1020.500000                 3.000000    66.000000        3.000000   \n",
       "75%       1555.750000                 4.000000    83.750000        3.000000   \n",
       "max       2068.000000                 4.000000   100.000000        4.000000   \n",
       "\n",
       "          JobLevel  ...  RelationshipSatisfaction  StandardHours  \\\n",
       "count  1470.000000  ...               1470.000000         1470.0   \n",
       "mean      2.063946  ...                  2.712245           80.0   \n",
       "std       1.106940  ...                  1.081209            0.0   \n",
       "min       1.000000  ...                  1.000000           80.0   \n",
       "25%       1.000000  ...                  2.000000           80.0   \n",
       "50%       2.000000  ...                  3.000000           80.0   \n",
       "75%       3.000000  ...                  4.000000           80.0   \n",
       "max       5.000000  ...                  4.000000           80.0   \n",
       "\n",
       "       StockOptionLevel  TotalWorkingYears  TrainingTimesLastYear  \\\n",
       "count       1470.000000        1470.000000            1470.000000   \n",
       "mean           0.793878          11.279592               2.799320   \n",
       "std            0.852077           7.780782               1.289271   \n",
       "min            0.000000           0.000000               0.000000   \n",
       "25%            0.000000           6.000000               2.000000   \n",
       "50%            1.000000          10.000000               3.000000   \n",
       "75%            1.000000          15.000000               3.000000   \n",
       "max            3.000000          40.000000               6.000000   \n",
       "\n",
       "       WorkLifeBalance  YearsAtCompany  YearsInCurrentRole  \\\n",
       "count      1470.000000     1470.000000         1470.000000   \n",
       "mean          2.761224        7.008163            4.229252   \n",
       "std           0.706476        6.126525            3.623137   \n",
       "min           1.000000        0.000000            0.000000   \n",
       "25%           2.000000        3.000000            2.000000   \n",
       "50%           3.000000        5.000000            3.000000   \n",
       "75%           3.000000        9.000000            7.000000   \n",
       "max           4.000000       40.000000           18.000000   \n",
       "\n",
       "       YearsSinceLastPromotion  YearsWithCurrManager  \n",
       "count              1470.000000           1470.000000  \n",
       "mean                  2.187755              4.123129  \n",
       "std                   3.222430              3.568136  \n",
       "min                   0.000000              0.000000  \n",
       "25%                   0.000000              2.000000  \n",
       "50%                   1.000000              3.000000  \n",
       "75%                   3.000000              7.000000  \n",
       "max                  15.000000             17.000000  \n",
       "\n",
       "[8 rows x 26 columns]"
      ]
     },
     "execution_count": 7,
     "metadata": {},
     "output_type": "execute_result"
    }
   ],
   "source": [
    "data.describe()"
   ]
  },
  {
   "cell_type": "markdown",
   "metadata": {},
   "source": [
    "Check unsual negative values and return their position in dataset"
   ]
  },
  {
   "cell_type": "code",
   "execution_count": 8,
   "metadata": {},
   "outputs": [
    {
     "data": {
      "text/plain": [
       "[]"
      ]
     },
     "execution_count": 8,
     "metadata": {},
     "output_type": "execute_result"
    }
   ],
   "source": [
    "dataNum = data.select_dtypes(include = 'number')\n",
    "# shoulde eliminate columns accepted negative value\n",
    "rowsNumNeg, colsNumNeg = np.where(dataNum < 0)\n",
    "posNumNeg = []\n",
    "for i in range(len(rowsNumNeg)):\n",
    "    posNumNeg.append([rowsNumNeg[i],colsNumNeg[i]])\n",
    "posNumNeg"
   ]
  },
  {
   "cell_type": "markdown",
   "metadata": {},
   "source": [
    "### => Dataset has 1470 samples and 35 features with (26 Numerical and 9 object features)\n",
    "### => No unsual negative values"
   ]
  },
  {
   "cell_type": "markdown",
   "metadata": {},
   "source": [
    "## III. Attrition Feature Analization <a id='AnalIII'>"
   ]
  },
  {
   "cell_type": "markdown",
   "metadata": {},
   "source": [
    "### 1 Attrition Statistical Overview <a id = 'AnalIII1'>"
   ]
  },
  {
   "cell_type": "markdown",
   "metadata": {},
   "source": [
    "First of all, 'Attrition' needs to be observated."
   ]
  },
  {
   "cell_type": "markdown",
   "metadata": {},
   "source": [
    "**Attrition:** pepole who leave IBM company. There are only two values for this feature (Yes or No, dtype is object). From the observation, it can be conclude that 1233 employees choose 'No' and 237 emplyees choose 'Yes' accounting for 83.878% and 16.122% respectively."
   ]
  },
  {
   "cell_type": "code",
   "execution_count": 9,
   "metadata": {},
   "outputs": [
    {
     "data": {
      "text/plain": [
       "No     1233\n",
       "Yes     237\n",
       "Name: Attrition, dtype: int64"
      ]
     },
     "execution_count": 9,
     "metadata": {},
     "output_type": "execute_result"
    }
   ],
   "source": [
    "data[\"Attrition\"].value_counts()"
   ]
  },
  {
   "cell_type": "code",
   "execution_count": 10,
   "metadata": {},
   "outputs": [
    {
     "name": "stdout",
     "output_type": "stream",
     "text": [
      "83.878% is No\n",
      "16.122% is Yes\n"
     ]
    }
   ],
   "source": [
    "#Attrition rate\n",
    "attritionRate = data[\"Attrition\"].value_counts() / data['Attrition'].shape[0]\n",
    "attritionRate = attritionRate * 100\n",
    "print(\"%.3f\" % attritionRate[0] + \"% is No\")\n",
    "print(\"%.3f\" % attritionRate[1] + \"% is Yes\" )"
   ]
  },
  {
   "cell_type": "markdown",
   "metadata": {},
   "source": [
    "**This report is going to opt for 5 features which are likely considered as important factors in 'Attrition' rate:**\n",
    "   \n",
    "    Numerical features: \n",
    "        \n",
    "        1. 'YearsAtCompany'                  : how many years employee worked in company.\n",
    "        2. 'DistanceFromHome'                : how much far from there home to work place.\n",
    "        3. 'MonthlyIncome'                   : sallary on a monthly basis.\n",
    "        4. 'Age'                             : their sex.\n",
    "        5. 'YearsSinceLastPromotion'         : they work overtime or not."
   ]
  },
  {
   "cell_type": "markdown",
   "metadata": {},
   "source": [
    "In this section we just focus on these features; therefore, a sub dataset is created"
   ]
  },
  {
   "cell_type": "code",
   "execution_count": 11,
   "metadata": {
    "scrolled": true
   },
   "outputs": [],
   "source": [
    "dataQuestion1 = data[['Attrition','YearsAtCompany','DistanceFromHome','MonthlyIncome','Age','YearsSinceLastPromotion']]"
   ]
  },
  {
   "cell_type": "markdown",
   "metadata": {},
   "source": [
    "Because 'Attrition' is non numerical, it should be converted to numerical for calculating purposes (Yes = 1 and No = 0)."
   ]
  },
  {
   "cell_type": "code",
   "execution_count": 12,
   "metadata": {},
   "outputs": [
    {
     "name": "stderr",
     "output_type": "stream",
     "text": [
      "C:\\Users\\Annie Nguyen\\Anaconda3\\lib\\site-packages\\ipykernel_launcher.py:3: SettingWithCopyWarning: \n",
      "A value is trying to be set on a copy of a slice from a DataFrame.\n",
      "Try using .loc[row_indexer,col_indexer] = value instead\n",
      "\n",
      "See the caveats in the documentation: http://pandas.pydata.org/pandas-docs/stable/user_guide/indexing.html#returning-a-view-versus-a-copy\n",
      "  This is separate from the ipykernel package so we can avoid doing imports until\n"
     ]
    },
    {
     "data": {
      "text/html": [
       "<div>\n",
       "<style scoped>\n",
       "    .dataframe tbody tr th:only-of-type {\n",
       "        vertical-align: middle;\n",
       "    }\n",
       "\n",
       "    .dataframe tbody tr th {\n",
       "        vertical-align: top;\n",
       "    }\n",
       "\n",
       "    .dataframe thead th {\n",
       "        text-align: right;\n",
       "    }\n",
       "</style>\n",
       "<table border=\"1\" class=\"dataframe\">\n",
       "  <thead>\n",
       "    <tr style=\"text-align: right;\">\n",
       "      <th></th>\n",
       "      <th>Attrition</th>\n",
       "      <th>YearsAtCompany</th>\n",
       "      <th>DistanceFromHome</th>\n",
       "      <th>MonthlyIncome</th>\n",
       "      <th>Age</th>\n",
       "      <th>YearsSinceLastPromotion</th>\n",
       "    </tr>\n",
       "  </thead>\n",
       "  <tbody>\n",
       "    <tr>\n",
       "      <td>0</td>\n",
       "      <td>1</td>\n",
       "      <td>6</td>\n",
       "      <td>1</td>\n",
       "      <td>5993</td>\n",
       "      <td>41</td>\n",
       "      <td>0</td>\n",
       "    </tr>\n",
       "    <tr>\n",
       "      <td>1</td>\n",
       "      <td>0</td>\n",
       "      <td>10</td>\n",
       "      <td>8</td>\n",
       "      <td>5130</td>\n",
       "      <td>49</td>\n",
       "      <td>1</td>\n",
       "    </tr>\n",
       "    <tr>\n",
       "      <td>2</td>\n",
       "      <td>1</td>\n",
       "      <td>0</td>\n",
       "      <td>2</td>\n",
       "      <td>2090</td>\n",
       "      <td>37</td>\n",
       "      <td>0</td>\n",
       "    </tr>\n",
       "    <tr>\n",
       "      <td>3</td>\n",
       "      <td>0</td>\n",
       "      <td>8</td>\n",
       "      <td>3</td>\n",
       "      <td>2909</td>\n",
       "      <td>33</td>\n",
       "      <td>3</td>\n",
       "    </tr>\n",
       "    <tr>\n",
       "      <td>4</td>\n",
       "      <td>0</td>\n",
       "      <td>2</td>\n",
       "      <td>2</td>\n",
       "      <td>3468</td>\n",
       "      <td>27</td>\n",
       "      <td>2</td>\n",
       "    </tr>\n",
       "  </tbody>\n",
       "</table>\n",
       "</div>"
      ],
      "text/plain": [
       "   Attrition  YearsAtCompany  DistanceFromHome  MonthlyIncome  Age  \\\n",
       "0          1               6                 1           5993   41   \n",
       "1          0              10                 8           5130   49   \n",
       "2          1               0                 2           2090   37   \n",
       "3          0               8                 3           2909   33   \n",
       "4          0               2                 2           3468   27   \n",
       "\n",
       "   YearsSinceLastPromotion  \n",
       "0                        0  \n",
       "1                        1  \n",
       "2                        0  \n",
       "3                        3  \n",
       "4                        2  "
      ]
     },
     "execution_count": 12,
     "metadata": {},
     "output_type": "execute_result"
    }
   ],
   "source": [
    "# must change object type to numerical type to calculate mean\n",
    "#dataQuestion1.loc[:,'Attrition'] = np.where(data['Attrition'] == 'Yes',1,0) # Yes = 1 & No = 0\n",
    "dataQuestion1['Attrition'] = data['Attrition'].apply(lambda x: 1 if (x=='Yes') else 0 ) # Yes = 1 & No = 0\n",
    "dataQuestion1.head()"
   ]
  },
  {
   "cell_type": "code",
   "execution_count": 13,
   "metadata": {},
   "outputs": [
    {
     "data": {
      "text/plain": [
       "[0      6.751055\n",
       " 1     24.894515\n",
       " 2     11.392405\n",
       " 3      8.438819\n",
       " 4      8.016878\n",
       " 5      8.860759\n",
       " 6      3.797468\n",
       " 7      4.641350\n",
       " 8      3.797468\n",
       " 9      3.375527\n",
       " 10     7.594937\n",
       " 11     0.843882\n",
       " 13     0.843882\n",
       " 14     0.843882\n",
       " 15     0.421941\n",
       " 16     0.421941\n",
       " 17     0.421941\n",
       " 18     0.421941\n",
       " 19     0.421941\n",
       " 20     0.421941\n",
       " 21     0.421941\n",
       " 22     0.421941\n",
       " 23     0.421941\n",
       " 24     0.421941\n",
       " 31     0.421941\n",
       " 32     0.421941\n",
       " 33     0.421941\n",
       " 40     0.421941\n",
       " Name: YearsAtCompany, dtype: float64, 0      2.270884\n",
       " 1      9.083536\n",
       " 2      8.110300\n",
       " 3      8.759124\n",
       " 4      7.380373\n",
       " 5     14.193025\n",
       " 6      5.433901\n",
       " 7      6.407137\n",
       " 8      5.758313\n",
       " 9      6.001622\n",
       " 10     8.272506\n",
       " 11     2.433090\n",
       " 12     1.135442\n",
       " 13     1.784266\n",
       " 14     1.297648\n",
       " 15     1.540957\n",
       " 16     0.892133\n",
       " 17     0.648824\n",
       " 18     0.973236\n",
       " 19     0.811030\n",
       " 20     2.108678\n",
       " 21     1.054339\n",
       " 22     1.135442\n",
       " 23     0.081103\n",
       " 24     0.405515\n",
       " 25     0.324412\n",
       " 26     0.324412\n",
       " 27     0.162206\n",
       " 29     0.162206\n",
       " 30     0.081103\n",
       " 31     0.162206\n",
       " 32     0.162206\n",
       " 33     0.324412\n",
       " 34     0.081103\n",
       " 36     0.162206\n",
       " 37     0.081103\n",
       " Name: YearsAtCompany, dtype: float64, 1     10.970464\n",
       " 2     11.814346\n",
       " 3      5.907173\n",
       " 4      3.797468\n",
       " 5      4.219409\n",
       " 6      2.953586\n",
       " 7      4.641350\n",
       " 8      4.219409\n",
       " 9      7.594937\n",
       " 10     4.641350\n",
       " 11     1.687764\n",
       " 12     2.531646\n",
       " 13     2.531646\n",
       " 14     1.687764\n",
       " 15     2.109705\n",
       " 16     2.953586\n",
       " 17     2.109705\n",
       " 18     1.687764\n",
       " 19     1.265823\n",
       " 20     1.687764\n",
       " 21     1.265823\n",
       " 22     2.531646\n",
       " 23     2.109705\n",
       " 24     5.063291\n",
       " 25     2.531646\n",
       " 26     1.265823\n",
       " 27     1.265823\n",
       " 28     0.843882\n",
       " 29     2.109705\n",
       " Name: DistanceFromHome, dtype: float64, 1     14.760746\n",
       " 2     14.841849\n",
       " 3      5.677210\n",
       " 4      4.460665\n",
       " 5      4.460665\n",
       " 6      4.217356\n",
       " 7      5.920519\n",
       " 8      5.677210\n",
       " 9      5.433901\n",
       " 10     6.082725\n",
       " 11     2.027575\n",
       " 12     1.135442\n",
       " 13     1.054339\n",
       " 14     1.378751\n",
       " 15     1.703163\n",
       " 16     2.027575\n",
       " 17     1.216545\n",
       " 18     1.784266\n",
       " 19     1.540957\n",
       " 20     1.703163\n",
       " 21     1.216545\n",
       " 22     1.054339\n",
       " 23     1.784266\n",
       " 24     1.297648\n",
       " 25     1.540957\n",
       " 26     1.784266\n",
       " 27     0.729927\n",
       " 28     1.703163\n",
       " 29     1.784266\n",
       " Name: DistanceFromHome, dtype: float64, 1009     0.421941\n",
       " 1081     0.421941\n",
       " 1091     0.421941\n",
       " 1102     0.421941\n",
       " 1118     0.421941\n",
       "            ...   \n",
       " 18824    0.421941\n",
       " 19246    0.421941\n",
       " 19545    0.421941\n",
       " 19845    0.421941\n",
       " 19859    0.421941\n",
       " Name: MonthlyIncome, Length: 233, dtype: float64, 1051     0.081103\n",
       " 1052     0.081103\n",
       " 1129     0.081103\n",
       " 1200     0.081103\n",
       " 1223     0.081103\n",
       "            ...   \n",
       " 19847    0.081103\n",
       " 19926    0.081103\n",
       " 19943    0.081103\n",
       " 19973    0.081103\n",
       " 19999    0.081103\n",
       " Name: MonthlyIncome, Length: 1155, dtype: float64, 18    1.687764\n",
       " 19    2.531646\n",
       " 20    2.531646\n",
       " 21    2.531646\n",
       " 22    2.109705\n",
       " 23    1.687764\n",
       " 24    2.953586\n",
       " 25    2.531646\n",
       " 26    5.063291\n",
       " 27    1.265823\n",
       " 28    5.907173\n",
       " 29    7.594937\n",
       " 30    3.797468\n",
       " 31    7.594937\n",
       " 32    4.641350\n",
       " 33    5.063291\n",
       " 34    3.797468\n",
       " 35    4.219409\n",
       " 36    2.531646\n",
       " 37    2.531646\n",
       " 38    0.843882\n",
       " 39    2.531646\n",
       " 40    2.109705\n",
       " 41    2.531646\n",
       " 42    0.843882\n",
       " 43    0.843882\n",
       " 44    2.531646\n",
       " 45    0.843882\n",
       " 46    1.687764\n",
       " 47    1.265823\n",
       " 48    0.843882\n",
       " 49    0.843882\n",
       " 50    2.109705\n",
       " 51    0.843882\n",
       " 52    1.265823\n",
       " 53    0.843882\n",
       " 55    1.265823\n",
       " 56    1.265823\n",
       " 58    2.109705\n",
       " Name: Age, dtype: float64, 18    0.324412\n",
       " 19    0.243309\n",
       " 20    0.405515\n",
       " 21    0.567721\n",
       " 22    0.892133\n",
       " 23    0.811030\n",
       " 24    1.540957\n",
       " 25    1.622060\n",
       " 26    2.189781\n",
       " 27    3.649635\n",
       " 28    2.757502\n",
       " 29    4.055150\n",
       " 30    4.136253\n",
       " 31    4.136253\n",
       " 32    4.055150\n",
       " 33    3.730738\n",
       " 34    5.515004\n",
       " 35    5.515004\n",
       " 36    5.109489\n",
       " 37    3.568532\n",
       " 38    4.541768\n",
       " 39    2.919708\n",
       " 40    4.217356\n",
       " 41    2.757502\n",
       " 42    3.568532\n",
       " 43    2.433090\n",
       " 44    2.189781\n",
       " 45    3.163017\n",
       " 46    2.351987\n",
       " 47    1.703163\n",
       " 48    1.378751\n",
       " 49    1.784266\n",
       " 50    2.027575\n",
       " 51    1.378751\n",
       " 52    1.216545\n",
       " 53    1.378751\n",
       " 54    1.459854\n",
       " 55    1.540957\n",
       " 56    0.892133\n",
       " 57    0.324412\n",
       " 58    0.729927\n",
       " 59    0.811030\n",
       " 60    0.405515\n",
       " Name: Age, dtype: float64, 0     46.413502\n",
       " 1     20.675105\n",
       " 2     11.392405\n",
       " 3      3.797468\n",
       " 4      2.109705\n",
       " 5      0.843882\n",
       " 6      2.531646\n",
       " 7      6.751055\n",
       " 9      1.687764\n",
       " 10     0.421941\n",
       " 11     0.843882\n",
       " 13     0.843882\n",
       " 14     0.421941\n",
       " 15     1.265823\n",
       " Name: YearsSinceLastPromotion, dtype: float64, 0     38.199513\n",
       " 1     24.979724\n",
       " 2     10.705596\n",
       " 3      3.487429\n",
       " 4      4.541768\n",
       " 5      3.487429\n",
       " 6      2.108678\n",
       " 7      4.866180\n",
       " 8      1.459854\n",
       " 9      1.054339\n",
       " 10     0.405515\n",
       " 11     1.784266\n",
       " 12     0.811030\n",
       " 13     0.648824\n",
       " 14     0.648824\n",
       " 15     0.811030\n",
       " Name: YearsSinceLastPromotion, dtype: float64]"
      ]
     },
     "execution_count": 13,
     "metadata": {},
     "output_type": "execute_result"
    }
   ],
   "source": [
    "AttritionNY=dataQuestion1['Attrition'].value_counts()\n",
    "#dataQuestion1[dataQuestion1['Attrition'] == 1].groupby('YearsAtCompany').count()\n",
    "featListNum = dataQuestion1.columns[1:6]\n",
    "#fist yest after that no for each feature\n",
    "perYNList =  []\n",
    "# count total numebr of each value and then divide it by total employe leave and not leave company\n",
    "for i in range(0,5):\n",
    "   perYNList.append(dataQuestion1[dataQuestion1['Attrition'] == 1][featListNum[i]].value_counts().sort_index()/AttritionNY[1] * 100) \n",
    "   perYNList.append(dataQuestion1[dataQuestion1['Attrition'] == 0][featListNum[i]].value_counts().sort_index()/AttritionNY[0] * 100)\n",
    "perYNList"
   ]
  },
  {
   "cell_type": "code",
   "execution_count": 14,
   "metadata": {},
   "outputs": [
    {
     "data": {
      "image/png": "[encoded data removed]",
      "text/plain": [
       "<Figure size 1080x576 with 1 Axes>"
      ]
     },
     "metadata": {
      "needs_background": "light"
     },
     "output_type": "display_data"
    }
   ],
   "source": [
    "\n",
    "plt.figure(figsize=(15,8)) # figure size\n",
    "line1, = plt.plot(perYNList[0], 'x-', color='g',label='Attrition = Yes')\n",
    "plt.plot(perYNList[1], 'o-', color='orange',label='Attrition = No')\n",
    "plt.xlabel('YearsAtCompany',fontsize=20)\n",
    "plt.xticks(fontsize=20) ## Major tick lable size\n",
    "plt.ylabel('Percentage(%)',fontsize=20)\n",
    "plt.yticks(fontsize=20) ## Major tick lable size\n",
    "plt.title('Percentage of employee leaving and not leaving with working years',fontsize=20)\n",
    "plt.legend(loc='upper right',fontsize=20)\n",
    "\n",
    "plt.show()\n"
   ]
  },
  {
   "cell_type": "markdown",
   "metadata": {},
   "source": [
    "**YearsAtCompany:** Most of people who quit their job, worked at company less than 5 years. Percentage of employees leave the company is higher than those of who do not levae when they work for company under 5 years. Moreover, there is a contrast trend for people who work from 5 to 24 years. Consequently, there might be differennce from who leave and still work for company in YearsAtCompany.\n"
   ]
  },
  {
   "cell_type": "code",
   "execution_count": 15,
   "metadata": {},
   "outputs": [
    {
     "data": {
      "image/png": "[encoded data removed]",
      "text/plain": [
       "<Figure size 1080x576 with 1 Axes>"
      ]
     },
     "metadata": {
      "needs_background": "light"
     },
     "output_type": "display_data"
    }
   ],
   "source": [
    "\n",
    "plt.figure(figsize=(15,8)) # figure size\n",
    "line1, = plt.plot(perYNList[2], 'x-', color='g',label='Attrition = Yes')\n",
    "plt.plot(perYNList[3], 'o-', color='orange',label='Attrition = No')\n",
    "plt.xlabel('DistanceFromHome',fontsize=20)\n",
    "plt.xticks(fontsize=20) ## Major tick lable size\n",
    "plt.ylabel('Percentage(%)',fontsize=20)\n",
    "plt.yticks(fontsize=20) ## Major tick lable size\n",
    "plt.title('Percentage of employee leaving and not leaving with DistanceFromHome',fontsize=20)\n",
    "plt.legend(loc='upper right',fontsize=20)\n",
    "plt.show()"
   ]
  },
  {
   "cell_type": "markdown",
   "metadata": {},
   "source": [
    "**DistanceFromHome:** Percentarge of employees who giving up their job seem to always higher than those do not when they live far from their company (10-30), while there is a opposite trend with distance from 1 to 8. As a result, it might belive that people who leave furhter tend to leave the company.\n"
   ]
  },
  {
   "cell_type": "code",
   "execution_count": 16,
   "metadata": {},
   "outputs": [
    {
     "data": {
      "image/png": "[encoded data removed]",
      "text/plain": [
       "<Figure size 1080x576 with 1 Axes>"
      ]
     },
     "metadata": {
      "needs_background": "light"
     },
     "output_type": "display_data"
    }
   ],
   "source": [
    "\n",
    "plt.figure(figsize=(15,8)) # figure size\n",
    "plt.plot(perYNList[4], 'x', color='g',label='Attrition = Yes')\n",
    "plt.plot(perYNList[5], 'o', color='orange',label='Attrition = No')\n",
    "plt.xlabel('MonthlyIncome',fontsize=20)\n",
    "plt.xticks(fontsize=20) ## Major tick lable size\n",
    "plt.ylabel('Percentage(%)',fontsize=20)\n",
    "plt.yticks(fontsize=20) ## Major tick lable size\n",
    "plt.title('Percentage of employee leaving and not leaving with MonthlyIncome',fontsize=20)\n",
    "plt.legend(loc='upper right',fontsize=20)\n",
    "plt.show()"
   ]
  },
  {
   "cell_type": "markdown",
   "metadata": {},
   "source": [
    "\n",
    "\n",
    "**MonthlyIncome:** The two graphs dipict that there are no one resign in range from 15000 and under 20000, and percentage of employee quit their job seem to always higher those do not when they receive the salary below 100000. For the salary over 10000 it is rarely for leaving company."
   ]
  },
  {
   "cell_type": "code",
   "execution_count": 17,
   "metadata": {},
   "outputs": [
    {
     "data": {
      "image/png": "[encoded data removed]",
      "text/plain": [
       "<Figure size 1080x576 with 1 Axes>"
      ]
     },
     "metadata": {
      "needs_background": "light"
     },
     "output_type": "display_data"
    }
   ],
   "source": [
    "plt.figure(figsize=(15,8)) # figure size\n",
    "plt.plot(perYNList[6], 'x-', color='g',label='Attrition = Yes')\n",
    "plt.plot(perYNList[7], 'o-', color='orange',label='Attrition = No')\n",
    "plt.xlabel('Age',fontsize=20)\n",
    "plt.xticks(fontsize=20) ## Major tick lable size\n",
    "plt.ylabel('Percentage(%)',fontsize=20)\n",
    "plt.yticks(fontsize=20) ## Major tick lable size\n",
    "plt.title('Percentage of employee leaving and not leaving with Age',fontsize=20)\n",
    "plt.legend(loc='upper right',fontsize=20)\n",
    "plt.show()"
   ]
  },
  {
   "cell_type": "markdown",
   "metadata": {},
   "source": [
    "**Age:** The graph illustrates that percentage of employee under 30 tend to quit job more than those do not, and it is vice versa for employee over 30. Subsequently, Age can affect to the attrition rate. "
   ]
  },
  {
   "cell_type": "code",
   "execution_count": 18,
   "metadata": {},
   "outputs": [
    {
     "data": {
      "image/png": "[encoded data removed]",
      "text/plain": [
       "<Figure size 1080x576 with 1 Axes>"
      ]
     },
     "metadata": {
      "needs_background": "light"
     },
     "output_type": "display_data"
    }
   ],
   "source": [
    "plt.figure(figsize=(15,8)) # figure size\n",
    "line1, = plt.plot(perYNList[8], 'x-', color='g',label='Attrition = Yes')\n",
    "plt.plot(perYNList[9], 'o-', color='orange',label='Attrition = No')\n",
    "plt.xlabel('YearsSinceLastPromotion',fontsize=20)\n",
    "plt.xticks(fontsize=20) ## Major tick lable size\n",
    "plt.ylabel('Percentage(%)',fontsize=20)\n",
    "plt.yticks(fontsize=20) ## Major tick lable size\n",
    "plt.title('Percentage of employee leaving and not leaving with YearsSinceLastPromotion',fontsize=20)\n",
    "plt.legend(loc='upper right',fontsize=20)\n",
    "plt.show()"
   ]
  },
  {
   "cell_type": "markdown",
   "metadata": {},
   "source": [
    "**YearsSinceLastPromotion:** There are no significant differneces between percentage of employee leave or still work for the company when comparing in years since last promotion. Therefore, it cannot affect attrition rate."
   ]
  },
  {
   "cell_type": "code",
   "execution_count": 19,
   "metadata": {},
   "outputs": [
    {
     "data": {
      "text/html": [
       "<div>\n",
       "<style scoped>\n",
       "    .dataframe tbody tr th:only-of-type {\n",
       "        vertical-align: middle;\n",
       "    }\n",
       "\n",
       "    .dataframe tbody tr th {\n",
       "        vertical-align: top;\n",
       "    }\n",
       "\n",
       "    .dataframe thead th {\n",
       "        text-align: right;\n",
       "    }\n",
       "</style>\n",
       "<table border=\"1\" class=\"dataframe\">\n",
       "  <thead>\n",
       "    <tr style=\"text-align: right;\">\n",
       "      <th></th>\n",
       "      <th>Attrition</th>\n",
       "      <th>YearsAtCompany</th>\n",
       "      <th>DistanceFromHome</th>\n",
       "      <th>MonthlyIncome</th>\n",
       "      <th>Age</th>\n",
       "      <th>YearsSinceLastPromotion</th>\n",
       "    </tr>\n",
       "  </thead>\n",
       "  <tbody>\n",
       "    <tr>\n",
       "      <td>count</td>\n",
       "      <td>1470.000000</td>\n",
       "      <td>1470.000000</td>\n",
       "      <td>1470.000000</td>\n",
       "      <td>1470.000000</td>\n",
       "      <td>1470.000000</td>\n",
       "      <td>1470.000000</td>\n",
       "    </tr>\n",
       "    <tr>\n",
       "      <td>mean</td>\n",
       "      <td>0.161224</td>\n",
       "      <td>7.008163</td>\n",
       "      <td>9.192517</td>\n",
       "      <td>6502.931293</td>\n",
       "      <td>36.923810</td>\n",
       "      <td>2.187755</td>\n",
       "    </tr>\n",
       "    <tr>\n",
       "      <td>std</td>\n",
       "      <td>0.367863</td>\n",
       "      <td>6.126525</td>\n",
       "      <td>8.106864</td>\n",
       "      <td>4707.956783</td>\n",
       "      <td>9.135373</td>\n",
       "      <td>3.222430</td>\n",
       "    </tr>\n",
       "    <tr>\n",
       "      <td>min</td>\n",
       "      <td>0.000000</td>\n",
       "      <td>0.000000</td>\n",
       "      <td>1.000000</td>\n",
       "      <td>1009.000000</td>\n",
       "      <td>18.000000</td>\n",
       "      <td>0.000000</td>\n",
       "    </tr>\n",
       "    <tr>\n",
       "      <td>25%</td>\n",
       "      <td>0.000000</td>\n",
       "      <td>3.000000</td>\n",
       "      <td>2.000000</td>\n",
       "      <td>2911.000000</td>\n",
       "      <td>30.000000</td>\n",
       "      <td>0.000000</td>\n",
       "    </tr>\n",
       "    <tr>\n",
       "      <td>50%</td>\n",
       "      <td>0.000000</td>\n",
       "      <td>5.000000</td>\n",
       "      <td>7.000000</td>\n",
       "      <td>4919.000000</td>\n",
       "      <td>36.000000</td>\n",
       "      <td>1.000000</td>\n",
       "    </tr>\n",
       "    <tr>\n",
       "      <td>75%</td>\n",
       "      <td>0.000000</td>\n",
       "      <td>9.000000</td>\n",
       "      <td>14.000000</td>\n",
       "      <td>8379.000000</td>\n",
       "      <td>43.000000</td>\n",
       "      <td>3.000000</td>\n",
       "    </tr>\n",
       "    <tr>\n",
       "      <td>max</td>\n",
       "      <td>1.000000</td>\n",
       "      <td>40.000000</td>\n",
       "      <td>29.000000</td>\n",
       "      <td>19999.000000</td>\n",
       "      <td>60.000000</td>\n",
       "      <td>15.000000</td>\n",
       "    </tr>\n",
       "  </tbody>\n",
       "</table>\n",
       "</div>"
      ],
      "text/plain": [
       "         Attrition  YearsAtCompany  DistanceFromHome  MonthlyIncome  \\\n",
       "count  1470.000000     1470.000000       1470.000000    1470.000000   \n",
       "mean      0.161224        7.008163          9.192517    6502.931293   \n",
       "std       0.367863        6.126525          8.106864    4707.956783   \n",
       "min       0.000000        0.000000          1.000000    1009.000000   \n",
       "25%       0.000000        3.000000          2.000000    2911.000000   \n",
       "50%       0.000000        5.000000          7.000000    4919.000000   \n",
       "75%       0.000000        9.000000         14.000000    8379.000000   \n",
       "max       1.000000       40.000000         29.000000   19999.000000   \n",
       "\n",
       "               Age  YearsSinceLastPromotion  \n",
       "count  1470.000000              1470.000000  \n",
       "mean     36.923810                 2.187755  \n",
       "std       9.135373                 3.222430  \n",
       "min      18.000000                 0.000000  \n",
       "25%      30.000000                 0.000000  \n",
       "50%      36.000000                 1.000000  \n",
       "75%      43.000000                 3.000000  \n",
       "max      60.000000                15.000000  "
      ]
     },
     "execution_count": 19,
     "metadata": {},
     "output_type": "execute_result"
    }
   ],
   "source": [
    "# Describe numerical data in statistical way  \n",
    "dataQuestion1.describe(include=None) # include = None  The result will include all numerical columns."
   ]
  },
  {
   "cell_type": "markdown",
   "metadata": {},
   "source": [
    "Find variance for these factors"
   ]
  },
  {
   "cell_type": "code",
   "execution_count": 20,
   "metadata": {},
   "outputs": [
    {
     "data": {
      "text/plain": [
       "Attrition                  1.353232e-01\n",
       "YearsAtCompany             3.753431e+01\n",
       "DistanceFromHome           6.572125e+01\n",
       "MonthlyIncome              2.216486e+07\n",
       "Age                        8.345505e+01\n",
       "YearsSinceLastPromotion    1.038406e+01\n",
       "Name: std, dtype: float64"
      ]
     },
     "execution_count": 20,
     "metadata": {},
     "output_type": "execute_result"
    }
   ],
   "source": [
    "varQuestion1 = dataQuestion1.describe(include=None)\n",
    "varQuestion1.iloc[2,:]**2"
   ]
  },
  {
   "cell_type": "markdown",
   "metadata": {},
   "source": [
    "Means of each Numeric features of question 1 for each group of Attrition"
   ]
  },
  {
   "cell_type": "code",
   "execution_count": 21,
   "metadata": {},
   "outputs": [
    {
     "data": {
      "text/html": [
       "<div>\n",
       "<style scoped>\n",
       "    .dataframe tbody tr th:only-of-type {\n",
       "        vertical-align: middle;\n",
       "    }\n",
       "\n",
       "    .dataframe tbody tr th {\n",
       "        vertical-align: top;\n",
       "    }\n",
       "\n",
       "    .dataframe thead th {\n",
       "        text-align: right;\n",
       "    }\n",
       "</style>\n",
       "<table border=\"1\" class=\"dataframe\">\n",
       "  <thead>\n",
       "    <tr style=\"text-align: right;\">\n",
       "      <th></th>\n",
       "      <th>YearsAtCompany</th>\n",
       "      <th>DistanceFromHome</th>\n",
       "      <th>MonthlyIncome</th>\n",
       "      <th>Age</th>\n",
       "      <th>YearsSinceLastPromotion</th>\n",
       "    </tr>\n",
       "    <tr>\n",
       "      <th>Attrition</th>\n",
       "      <th></th>\n",
       "      <th></th>\n",
       "      <th></th>\n",
       "      <th></th>\n",
       "      <th></th>\n",
       "    </tr>\n",
       "  </thead>\n",
       "  <tbody>\n",
       "    <tr>\n",
       "      <td>0</td>\n",
       "      <td>7.369019</td>\n",
       "      <td>8.915653</td>\n",
       "      <td>6832.739659</td>\n",
       "      <td>37.561233</td>\n",
       "      <td>2.234388</td>\n",
       "    </tr>\n",
       "    <tr>\n",
       "      <td>1</td>\n",
       "      <td>5.130802</td>\n",
       "      <td>10.632911</td>\n",
       "      <td>4787.092827</td>\n",
       "      <td>33.607595</td>\n",
       "      <td>1.945148</td>\n",
       "    </tr>\n",
       "  </tbody>\n",
       "</table>\n",
       "</div>"
      ],
      "text/plain": [
       "           YearsAtCompany  DistanceFromHome  MonthlyIncome        Age  \\\n",
       "Attrition                                                               \n",
       "0                7.369019          8.915653    6832.739659  37.561233   \n",
       "1                5.130802         10.632911    4787.092827  33.607595   \n",
       "\n",
       "           YearsSinceLastPromotion  \n",
       "Attrition                           \n",
       "0                         2.234388  \n",
       "1                         1.945148  "
      ]
     },
     "execution_count": 21,
     "metadata": {},
     "output_type": "execute_result"
    }
   ],
   "source": [
    "dataQuestion1.groupby('Attrition').mean()"
   ]
  },
  {
   "cell_type": "markdown",
   "metadata": {},
   "source": [
    "From the observation of 'Attrition' and the 5 factors: <font color = 'red'> **(they are just the firts obsrvation from figures statistic values, it needs to be experienced hypothesis test to give more accuracy conclusions)** </font>\n",
    "\n",
    "Numerical Features:\n",
    "\n",
    "**=> 'YearsAtCompany' is integer number range from <font color = 'red'> 1 to 40 </font>. The mean and variance of YearsAtCompany are <font color = 'red'> 7.008 and 37.534 </font>. Moreover, it can show that people <font color = 'red'> spent less years at company tend to leave the company than the others </font>**\n",
    "\n",
    "**=> 'DistanceFromHome' is integer number range from <font color = 'red'> 1 to 29 </font>. The mean and variance of the distance are <font color = 'red'> 9.193 and 65.721 </font>. Moreover, it can show that might be <font color = 'red'> people further from home tend to leave the company </font>**\n",
    "\n",
    "**=> 'MonthlyIncome' is integer number range <font color = 'red'> from 1009 to 19999 </font>. The mean and variance of the income are <font color = 'red'> 6502.931 and 2216486 </font>. Moreover, it can show might be <font color = 'red'> people received low salary tend to leave the company </font>**\n",
    "\n",
    "**=> 'Age' is integer number range <font color = 'red'> from 18 to 60 </font>. The mean and variance of Age are <font color = 'red'> 36.924 and 83.455 </font>. Moreover, it can show might be <font color = 'red'> people under 30 tend to leave the company </font>**\n",
    "\n",
    "**=> 'YearsSinceLastPromotion' is integer number range <font color = 'red'> from 0 to 15 </font>. The mean and variance of YearsSinceLastPromotion are <font color = 'red'> 2.188 and 10.384 </font>. Moreover, it can show might be <font color = 'red'> not effect to attrition rate </font>**\n"
   ]
  },
  {
   "cell_type": "markdown",
   "metadata": {},
   "source": [
    "### 2. Attrition Hypothesis Test <a id='AnalIII2'>"
   ]
  },
  {
   "cell_type": "markdown",
   "metadata": {},
   "source": [
    "### Attrition vs YearsAtCompany"
   ]
  },
  {
   "cell_type": "markdown",
   "metadata": {},
   "source": [
    "**Hypothesis:** YearsAtCompany affects Attrition\n",
    "1.  Identity \n",
    "    - Populations: \n",
    "\n",
    "            Pop1: Number of years at the company of employees leaving the company .\n",
    "        \n",
    "            Pop2: Number of years at the company of employees who still work.\n",
    "        \n",
    "    - Distribution: Because two group of employees with number of years at the company, the distribution is Differences Between Means.\n",
    "\n",
    "    - Data is continuos.\n",
    "    \n",
    "    - Sample size > 30, therefore distribution might be normal\n",
    "    \n",
    " \n",
    "2. State the null and research hypothesis \n",
    " \n",
    "     - H0: There are no diffrences in the years at company between employees quit job and do not.\n",
    " \n",
    "     - H1: There are diffrences in the years at company between employees quit job and do not.\n",
    "    "
   ]
  },
  {
   "cell_type": "code",
   "execution_count": 22,
   "metadata": {},
   "outputs": [
    {
     "data": {
      "text/plain": [
       "Ttest_indResult(statistic=-5.1963086670254235, pvalue=2.3188716103863033e-07)"
      ]
     },
     "execution_count": 22,
     "metadata": {},
     "output_type": "execute_result"
    }
   ],
   "source": [
    "JobSatYesArray = dataQuestion1[dataQuestion1['Attrition'] == 1]['YearsAtCompany']\n",
    "JobSatNoArray = dataQuestion1[dataQuestion1['Attrition'] == 0]['YearsAtCompany']\n",
    "sci.stats.ttest_ind(JobSatYesArray,JobSatNoArray)"
   ]
  },
  {
   "cell_type": "markdown",
   "metadata": {},
   "source": [
    "**Assump alpha level is 0.05, pvalue < 0.05 => There is a statistically significant difference between the mean number of year at company of employees who leave and still work for company**\n",
    "\n",
    "**=> group who leave company tent to have number of years at compnay lower than another**"
   ]
  },
  {
   "cell_type": "code",
   "execution_count": 23,
   "metadata": {},
   "outputs": [],
   "source": [
    "#dataQuestion1 = data[['Attrition','JobSatisfaction','DistanceFromHome','MonthlyIncome','Gender','OverTime','Department']]"
   ]
  },
  {
   "cell_type": "markdown",
   "metadata": {},
   "source": [
    "### Attrition vs DistanceFromHome"
   ]
  },
  {
   "cell_type": "markdown",
   "metadata": {},
   "source": [
    "**Hypothesis:** DistanceFromHome affects Attrition\n",
    "1.  Identity \n",
    "    - Populations: \n",
    "\n",
    "            Pop1: Distance from home of people who leaving the company.\n",
    "        \n",
    "            Pop2: Distance from home of people who still working in the company rate their sastisfaction.\n",
    "        \n",
    "    - Distribution: Because two group of distance from home of employees who leave and not, the distribution is Differences Between Means.\n",
    "\n",
    "    - Data is continuos.\n",
    "    \n",
    "    - Sample size > 30, therefore distribution might be normal\n",
    "    \n",
    " \n",
    "2. State the null and research hypothesis \n",
    " \n",
    "     - H0: There are no diffrences in  distance from home between employees quit job and do not.\n",
    " \n",
    "     - H1: There are diffrences in distance from home between employees quit job and do not.\n",
    "    "
   ]
  },
  {
   "cell_type": "code",
   "execution_count": 24,
   "metadata": {},
   "outputs": [
    {
     "data": {
      "text/plain": [
       "Ttest_indResult(statistic=2.994708098265125, pvalue=0.0027930600802134266)"
      ]
     },
     "execution_count": 24,
     "metadata": {},
     "output_type": "execute_result"
    }
   ],
   "source": [
    "DistYesArray = dataQuestion1[dataQuestion1['Attrition'] == 1]['DistanceFromHome']\n",
    "DistNoArray = dataQuestion1[dataQuestion1['Attrition'] == 0]['DistanceFromHome']\n",
    "sci.stats.ttest_ind(DistYesArray,DistNoArray)"
   ]
  },
  {
   "cell_type": "markdown",
   "metadata": {},
   "source": [
    "**Assump alpha level is 0.05, pvalue < 0.05 => There is a statistically significant difference between the mean of distance from of employees who leave and still work for company**\n",
    "\n",
    "**=> group who leave company seem to live further than another**"
   ]
  },
  {
   "cell_type": "code",
   "execution_count": 25,
   "metadata": {},
   "outputs": [],
   "source": [
    "#dataQuestion1 = data[['Attrition','YearsAtCompany','DistanceFromHome','MonthlyIncome','Gender','OverTime','Department']]"
   ]
  },
  {
   "cell_type": "markdown",
   "metadata": {},
   "source": [
    "### Attrition vs MonthlyIncome"
   ]
  },
  {
   "cell_type": "markdown",
   "metadata": {},
   "source": [
    "**Hypothesis:** MonthlyIncome affects Attrition\n",
    "1.  Identity \n",
    "    - Populations: \n",
    "\n",
    "            Pop1: Montly income of people who leaving the company.\n",
    "        \n",
    "            Pop2: Montly income of of people who still working in the company rate their sastisfaction.\n",
    "        \n",
    "    - Distribution: Because two group of Montly income of employees who leave and not, the distribution is Differences Between Means.\n",
    "\n",
    "    - Data is continuos.\n",
    "    \n",
    "    - Sample size > 30, therefore distribution might be normal\n",
    "    \n",
    " \n",
    "2. State the null and research hypothesis \n",
    " \n",
    "     - H0: There are no diffrences in montly income between employees quit job and do not.\n",
    " \n",
    "     - H1: There are diffrences in montly income between employees quit job and do not.\n",
    "    "
   ]
  },
  {
   "cell_type": "code",
   "execution_count": 26,
   "metadata": {},
   "outputs": [
    {
     "data": {
      "text/plain": [
       "Ttest_indResult(statistic=-6.203935765608938, pvalue=7.14736398535381e-10)"
      ]
     },
     "execution_count": 26,
     "metadata": {},
     "output_type": "execute_result"
    }
   ],
   "source": [
    "MonIncYesArray = dataQuestion1[dataQuestion1['Attrition'] == 1]['MonthlyIncome']\n",
    "MonIncNoArray = dataQuestion1[dataQuestion1['Attrition'] == 0]['MonthlyIncome']\n",
    "sci.stats.ttest_ind(MonIncYesArray,MonIncNoArray)"
   ]
  },
  {
   "cell_type": "markdown",
   "metadata": {},
   "source": [
    "**Assump alpha level is 0.05, pvalue < 0.05 => There is a statistically significant difference between the mean of monthly income of employees who leave and still work for company**\n",
    "\n",
    "**=> group who leave company seem to have lower income than another**"
   ]
  },
  {
   "cell_type": "code",
   "execution_count": 27,
   "metadata": {},
   "outputs": [],
   "source": [
    "#dataQuestion1 = data[['Attrition','YearsAtCompany','DistanceFromHome','MonthlyIncome','Gender','OverTime','Department']]"
   ]
  },
  {
   "cell_type": "markdown",
   "metadata": {},
   "source": [
    "### Attrition vs Age"
   ]
  },
  {
   "cell_type": "markdown",
   "metadata": {},
   "source": [
    "**Hypothesis:** Agge affects Attrition\n",
    "1.  Identity \n",
    "    - Populations: \n",
    "\n",
    "            Pop1: Age of employee leave the company.\n",
    "        \n",
    "            Pop2: Age of employee who do not leave the company.\n",
    "        \n",
    "    - Distribution: Because two group of employee's age, the distribution is Differences Between Means.\n",
    "    \n",
    "    - Sample size > 30, therefore distribution might be normal\n",
    "    \n",
    " \n",
    "2. State the null and research hypothesis \n",
    " \n",
    "     - H0: There are no diffrences in age of people quit job.\n",
    " \n",
    "     - H1: There are diffrences in age of people quit job.\n",
    "    "
   ]
  },
  {
   "cell_type": "code",
   "execution_count": 28,
   "metadata": {},
   "outputs": [
    {
     "data": {
      "text/plain": [
       "Ttest_indResult(statistic=-6.1786638353072165, pvalue=8.356308021103649e-10)"
      ]
     },
     "execution_count": 28,
     "metadata": {},
     "output_type": "execute_result"
    }
   ],
   "source": [
    "ageYesArray = dataQuestion1[dataQuestion1['Attrition'] == 1]['Age']\n",
    "ageNoArray = dataQuestion1[dataQuestion1['Attrition'] == 0]['Age']\n",
    "sci.stats.ttest_ind(ageYesArray,ageNoArray)"
   ]
  },
  {
   "cell_type": "markdown",
   "metadata": {},
   "source": [
    "**Assump alpha level is 0.05, pvalue < 0.05 => There is a statistically significant difference between the mean of age of employees who leave and still work for company**\n",
    "\n",
    "**=> group who leave company seem to have lower age than another**"
   ]
  },
  {
   "cell_type": "markdown",
   "metadata": {},
   "source": [
    "### Attrition vs YearsSinceLastPromotion"
   ]
  },
  {
   "cell_type": "markdown",
   "metadata": {},
   "source": [
    "**Hypothesis:** YearsSinceLastPromotion affects Attrition\n",
    "1.  Identity \n",
    "    - Populations: \n",
    "\n",
    "            Pop1: Number of years since last promotion of employees leave the company.\n",
    "        \n",
    "            Pop2: Number of years since last promotion of employees do not leave the company.\n",
    "        \n",
    "    - Distribution: Because two group of Number of years since last promotion of employees, the distribution is Differences Between Means.\n",
    "    \n",
    "    - Sample size > 30, therefore distribution might be normal\n",
    "    \n",
    " \n",
    "2. State the null and research hypothesis \n",
    " \n",
    "     - H0: There are no diffrences between employee who quit job and do not in number of year since last promotion.\n",
    " \n",
    "     - H1: There are diffrences between employee who quit job and do not in number of year since last promotion\n",
    "    "
   ]
  },
  {
   "cell_type": "code",
   "execution_count": 29,
   "metadata": {},
   "outputs": [
    {
     "data": {
      "text/plain": [
       "Ttest_indResult(statistic=-1.2657876620135298, pvalue=0.2057899591624936)"
      ]
     },
     "execution_count": 29,
     "metadata": {},
     "output_type": "execute_result"
    }
   ],
   "source": [
    "YSLPYesArray = dataQuestion1[dataQuestion1['Attrition'] == 1]['YearsSinceLastPromotion']\n",
    "YSLPNoArray = dataQuestion1[dataQuestion1['Attrition'] == 0]['YearsSinceLastPromotion']\n",
    "sci.stats.ttest_ind(YSLPYesArray,YSLPNoArray)"
   ]
  },
  {
   "cell_type": "markdown",
   "metadata": {},
   "source": [
    "**Assump alpha level is 0.05, pvalue > 0.05 => Not enough evidence is available to reject H0 (80%).**\n",
    "\n",
    "**=>YearsSinceLastPromotion seems to does not affect Attrition rate**"
   ]
  },
  {
   "cell_type": "markdown",
   "metadata": {},
   "source": [
    "### => There are 4 over 5 factors affect Attrition"
   ]
  },
  {
   "cell_type": "markdown",
   "metadata": {},
   "source": [
    "\n",
    "## IV. JobSatisfaction Feature Analization<a id='AnalV'>\n"
   ]
  },
  {
   "cell_type": "markdown",
   "metadata": {},
   "source": [
    "### 1. JobSatisfaction Statistical Overview<a id='AnalIV1'>\n"
   ]
  },
  {
   "cell_type": "markdown",
   "metadata": {},
   "source": [
    "First of all, 'JobSatisfaction' need to be observated."
   ]
  },
  {
   "cell_type": "markdown",
   "metadata": {},
   "source": [
    "**JobSatisfaction:** IBM employees sastisfy their job. There are four values for this feature (1, 2,3, 4 ,and dtype is int64), the larger number, the more sastisfaction. From the observation, it can be conclude that 280 employees choose 2, 289 choose 1, 442 choose 3, and 459 choose 4 accounting for 19.048%, 19.660%, 30.068%, and 31.224% respectively."
   ]
  },
  {
   "cell_type": "code",
   "execution_count": 30,
   "metadata": {},
   "outputs": [
    {
     "data": {
      "text/plain": [
       "4    459\n",
       "3    442\n",
       "1    289\n",
       "2    280\n",
       "Name: JobSatisfaction, dtype: int64"
      ]
     },
     "execution_count": 30,
     "metadata": {},
     "output_type": "execute_result"
    }
   ],
   "source": [
    "data['JobSatisfaction'].value_counts()"
   ]
  },
  {
   "cell_type": "code",
   "execution_count": 31,
   "metadata": {},
   "outputs": [
    {
     "name": "stdout",
     "output_type": "stream",
     "text": [
      "1 is 19.660%\n",
      "2 is 19.048%\n",
      "3 is 30.068%\n",
      "4 is 31.224%\n"
     ]
    }
   ],
   "source": [
    "data['JobSatisfaction'].value_counts()/data['JobSatisfaction'].shape[0]*100\n",
    "#JobSatisfaction rate\n",
    "JobSatisfactionRate = data[\"JobSatisfaction\"].value_counts() / data['JobSatisfaction'].shape[0]\n",
    "JobSatisfactionRate = JobSatisfactionRate * 100\n",
    "for i in range(1,JobSatisfactionRate.shape[0]+1): # index 1 to 4\n",
    "    print( \"%d \" %i + \"is \" + \"%.3f\" % JobSatisfactionRate[i]+\"%\" )\n"
   ]
  },
  {
   "cell_type": "markdown",
   "metadata": {},
   "source": [
    "**This report is going to opt for 6 features which are likely considered as important factors in 'JobSatisfaction' rate:**\n",
    "   \n",
    "    Numerical features: \n",
    "        \n",
    "        1. 'YearsInCurrentRole'   : Years in current role.\n",
    "        2. 'Age'                  : How old they are.\n",
    "        3. 'DistanceFromHome'     : Distance from home to company.\n",
    "        4. 'MonthlyIncome'        : Frequency of business travel.\n",
    "        5. 'YearsWithCurrManager' : Years with current manager."
   ]
  },
  {
   "cell_type": "code",
   "execution_count": 32,
   "metadata": {},
   "outputs": [
    {
     "data": {
      "text/html": [
       "<div>\n",
       "<style scoped>\n",
       "    .dataframe tbody tr th:only-of-type {\n",
       "        vertical-align: middle;\n",
       "    }\n",
       "\n",
       "    .dataframe tbody tr th {\n",
       "        vertical-align: top;\n",
       "    }\n",
       "\n",
       "    .dataframe thead th {\n",
       "        text-align: right;\n",
       "    }\n",
       "</style>\n",
       "<table border=\"1\" class=\"dataframe\">\n",
       "  <thead>\n",
       "    <tr style=\"text-align: right;\">\n",
       "      <th></th>\n",
       "      <th>Age</th>\n",
       "      <th>DailyRate</th>\n",
       "      <th>DistanceFromHome</th>\n",
       "      <th>Education</th>\n",
       "      <th>EmployeeCount</th>\n",
       "      <th>EmployeeNumber</th>\n",
       "      <th>EnvironmentSatisfaction</th>\n",
       "      <th>HourlyRate</th>\n",
       "      <th>JobInvolvement</th>\n",
       "      <th>JobLevel</th>\n",
       "      <th>...</th>\n",
       "      <th>RelationshipSatisfaction</th>\n",
       "      <th>StandardHours</th>\n",
       "      <th>StockOptionLevel</th>\n",
       "      <th>TotalWorkingYears</th>\n",
       "      <th>TrainingTimesLastYear</th>\n",
       "      <th>WorkLifeBalance</th>\n",
       "      <th>YearsAtCompany</th>\n",
       "      <th>YearsInCurrentRole</th>\n",
       "      <th>YearsSinceLastPromotion</th>\n",
       "      <th>YearsWithCurrManager</th>\n",
       "    </tr>\n",
       "  </thead>\n",
       "  <tbody>\n",
       "    <tr>\n",
       "      <td>count</td>\n",
       "      <td>1470.000000</td>\n",
       "      <td>1470.000000</td>\n",
       "      <td>1470.000000</td>\n",
       "      <td>1470.000000</td>\n",
       "      <td>1470.0</td>\n",
       "      <td>1470.000000</td>\n",
       "      <td>1470.000000</td>\n",
       "      <td>1470.000000</td>\n",
       "      <td>1470.000000</td>\n",
       "      <td>1470.000000</td>\n",
       "      <td>...</td>\n",
       "      <td>1470.000000</td>\n",
       "      <td>1470.0</td>\n",
       "      <td>1470.000000</td>\n",
       "      <td>1470.000000</td>\n",
       "      <td>1470.000000</td>\n",
       "      <td>1470.000000</td>\n",
       "      <td>1470.000000</td>\n",
       "      <td>1470.000000</td>\n",
       "      <td>1470.000000</td>\n",
       "      <td>1470.000000</td>\n",
       "    </tr>\n",
       "    <tr>\n",
       "      <td>mean</td>\n",
       "      <td>36.923810</td>\n",
       "      <td>802.485714</td>\n",
       "      <td>9.192517</td>\n",
       "      <td>2.912925</td>\n",
       "      <td>1.0</td>\n",
       "      <td>1024.865306</td>\n",
       "      <td>2.721769</td>\n",
       "      <td>65.891156</td>\n",
       "      <td>2.729932</td>\n",
       "      <td>2.063946</td>\n",
       "      <td>...</td>\n",
       "      <td>2.712245</td>\n",
       "      <td>80.0</td>\n",
       "      <td>0.793878</td>\n",
       "      <td>11.279592</td>\n",
       "      <td>2.799320</td>\n",
       "      <td>2.761224</td>\n",
       "      <td>7.008163</td>\n",
       "      <td>4.229252</td>\n",
       "      <td>2.187755</td>\n",
       "      <td>4.123129</td>\n",
       "    </tr>\n",
       "    <tr>\n",
       "      <td>std</td>\n",
       "      <td>9.135373</td>\n",
       "      <td>403.509100</td>\n",
       "      <td>8.106864</td>\n",
       "      <td>1.024165</td>\n",
       "      <td>0.0</td>\n",
       "      <td>602.024335</td>\n",
       "      <td>1.093082</td>\n",
       "      <td>20.329428</td>\n",
       "      <td>0.711561</td>\n",
       "      <td>1.106940</td>\n",
       "      <td>...</td>\n",
       "      <td>1.081209</td>\n",
       "      <td>0.0</td>\n",
       "      <td>0.852077</td>\n",
       "      <td>7.780782</td>\n",
       "      <td>1.289271</td>\n",
       "      <td>0.706476</td>\n",
       "      <td>6.126525</td>\n",
       "      <td>3.623137</td>\n",
       "      <td>3.222430</td>\n",
       "      <td>3.568136</td>\n",
       "    </tr>\n",
       "    <tr>\n",
       "      <td>min</td>\n",
       "      <td>18.000000</td>\n",
       "      <td>102.000000</td>\n",
       "      <td>1.000000</td>\n",
       "      <td>1.000000</td>\n",
       "      <td>1.0</td>\n",
       "      <td>1.000000</td>\n",
       "      <td>1.000000</td>\n",
       "      <td>30.000000</td>\n",
       "      <td>1.000000</td>\n",
       "      <td>1.000000</td>\n",
       "      <td>...</td>\n",
       "      <td>1.000000</td>\n",
       "      <td>80.0</td>\n",
       "      <td>0.000000</td>\n",
       "      <td>0.000000</td>\n",
       "      <td>0.000000</td>\n",
       "      <td>1.000000</td>\n",
       "      <td>0.000000</td>\n",
       "      <td>0.000000</td>\n",
       "      <td>0.000000</td>\n",
       "      <td>0.000000</td>\n",
       "    </tr>\n",
       "    <tr>\n",
       "      <td>25%</td>\n",
       "      <td>30.000000</td>\n",
       "      <td>465.000000</td>\n",
       "      <td>2.000000</td>\n",
       "      <td>2.000000</td>\n",
       "      <td>1.0</td>\n",
       "      <td>491.250000</td>\n",
       "      <td>2.000000</td>\n",
       "      <td>48.000000</td>\n",
       "      <td>2.000000</td>\n",
       "      <td>1.000000</td>\n",
       "      <td>...</td>\n",
       "      <td>2.000000</td>\n",
       "      <td>80.0</td>\n",
       "      <td>0.000000</td>\n",
       "      <td>6.000000</td>\n",
       "      <td>2.000000</td>\n",
       "      <td>2.000000</td>\n",
       "      <td>3.000000</td>\n",
       "      <td>2.000000</td>\n",
       "      <td>0.000000</td>\n",
       "      <td>2.000000</td>\n",
       "    </tr>\n",
       "    <tr>\n",
       "      <td>50%</td>\n",
       "      <td>36.000000</td>\n",
       "      <td>802.000000</td>\n",
       "      <td>7.000000</td>\n",
       "      <td>3.000000</td>\n",
       "      <td>1.0</td>\n",
       "      <td>1020.500000</td>\n",
       "      <td>3.000000</td>\n",
       "      <td>66.000000</td>\n",
       "      <td>3.000000</td>\n",
       "      <td>2.000000</td>\n",
       "      <td>...</td>\n",
       "      <td>3.000000</td>\n",
       "      <td>80.0</td>\n",
       "      <td>1.000000</td>\n",
       "      <td>10.000000</td>\n",
       "      <td>3.000000</td>\n",
       "      <td>3.000000</td>\n",
       "      <td>5.000000</td>\n",
       "      <td>3.000000</td>\n",
       "      <td>1.000000</td>\n",
       "      <td>3.000000</td>\n",
       "    </tr>\n",
       "    <tr>\n",
       "      <td>75%</td>\n",
       "      <td>43.000000</td>\n",
       "      <td>1157.000000</td>\n",
       "      <td>14.000000</td>\n",
       "      <td>4.000000</td>\n",
       "      <td>1.0</td>\n",
       "      <td>1555.750000</td>\n",
       "      <td>4.000000</td>\n",
       "      <td>83.750000</td>\n",
       "      <td>3.000000</td>\n",
       "      <td>3.000000</td>\n",
       "      <td>...</td>\n",
       "      <td>4.000000</td>\n",
       "      <td>80.0</td>\n",
       "      <td>1.000000</td>\n",
       "      <td>15.000000</td>\n",
       "      <td>3.000000</td>\n",
       "      <td>3.000000</td>\n",
       "      <td>9.000000</td>\n",
       "      <td>7.000000</td>\n",
       "      <td>3.000000</td>\n",
       "      <td>7.000000</td>\n",
       "    </tr>\n",
       "    <tr>\n",
       "      <td>max</td>\n",
       "      <td>60.000000</td>\n",
       "      <td>1499.000000</td>\n",
       "      <td>29.000000</td>\n",
       "      <td>5.000000</td>\n",
       "      <td>1.0</td>\n",
       "      <td>2068.000000</td>\n",
       "      <td>4.000000</td>\n",
       "      <td>100.000000</td>\n",
       "      <td>4.000000</td>\n",
       "      <td>5.000000</td>\n",
       "      <td>...</td>\n",
       "      <td>4.000000</td>\n",
       "      <td>80.0</td>\n",
       "      <td>3.000000</td>\n",
       "      <td>40.000000</td>\n",
       "      <td>6.000000</td>\n",
       "      <td>4.000000</td>\n",
       "      <td>40.000000</td>\n",
       "      <td>18.000000</td>\n",
       "      <td>15.000000</td>\n",
       "      <td>17.000000</td>\n",
       "    </tr>\n",
       "  </tbody>\n",
       "</table>\n",
       "<p>8 rows × 26 columns</p>\n",
       "</div>"
      ],
      "text/plain": [
       "               Age    DailyRate  DistanceFromHome    Education  EmployeeCount  \\\n",
       "count  1470.000000  1470.000000       1470.000000  1470.000000         1470.0   \n",
       "mean     36.923810   802.485714          9.192517     2.912925            1.0   \n",
       "std       9.135373   403.509100          8.106864     1.024165            0.0   \n",
       "min      18.000000   102.000000          1.000000     1.000000            1.0   \n",
       "25%      30.000000   465.000000          2.000000     2.000000            1.0   \n",
       "50%      36.000000   802.000000          7.000000     3.000000            1.0   \n",
       "75%      43.000000  1157.000000         14.000000     4.000000            1.0   \n",
       "max      60.000000  1499.000000         29.000000     5.000000            1.0   \n",
       "\n",
       "       EmployeeNumber  EnvironmentSatisfaction   HourlyRate  JobInvolvement  \\\n",
       "count     1470.000000              1470.000000  1470.000000     1470.000000   \n",
       "mean      1024.865306                 2.721769    65.891156        2.729932   \n",
       "std        602.024335                 1.093082    20.329428        0.711561   \n",
       "min          1.000000                 1.000000    30.000000        1.000000   \n",
       "25%        491.250000                 2.000000    48.000000        2.000000   \n",
       "50%       1020.500000                 3.000000    66.000000        3.000000   \n",
       "75%       1555.750000                 4.000000    83.750000        3.000000   \n",
       "max       2068.000000                 4.000000   100.000000        4.000000   \n",
       "\n",
       "          JobLevel  ...  RelationshipSatisfaction  StandardHours  \\\n",
       "count  1470.000000  ...               1470.000000         1470.0   \n",
       "mean      2.063946  ...                  2.712245           80.0   \n",
       "std       1.106940  ...                  1.081209            0.0   \n",
       "min       1.000000  ...                  1.000000           80.0   \n",
       "25%       1.000000  ...                  2.000000           80.0   \n",
       "50%       2.000000  ...                  3.000000           80.0   \n",
       "75%       3.000000  ...                  4.000000           80.0   \n",
       "max       5.000000  ...                  4.000000           80.0   \n",
       "\n",
       "       StockOptionLevel  TotalWorkingYears  TrainingTimesLastYear  \\\n",
       "count       1470.000000        1470.000000            1470.000000   \n",
       "mean           0.793878          11.279592               2.799320   \n",
       "std            0.852077           7.780782               1.289271   \n",
       "min            0.000000           0.000000               0.000000   \n",
       "25%            0.000000           6.000000               2.000000   \n",
       "50%            1.000000          10.000000               3.000000   \n",
       "75%            1.000000          15.000000               3.000000   \n",
       "max            3.000000          40.000000               6.000000   \n",
       "\n",
       "       WorkLifeBalance  YearsAtCompany  YearsInCurrentRole  \\\n",
       "count      1470.000000     1470.000000         1470.000000   \n",
       "mean          2.761224        7.008163            4.229252   \n",
       "std           0.706476        6.126525            3.623137   \n",
       "min           1.000000        0.000000            0.000000   \n",
       "25%           2.000000        3.000000            2.000000   \n",
       "50%           3.000000        5.000000            3.000000   \n",
       "75%           3.000000        9.000000            7.000000   \n",
       "max           4.000000       40.000000           18.000000   \n",
       "\n",
       "       YearsSinceLastPromotion  YearsWithCurrManager  \n",
       "count              1470.000000           1470.000000  \n",
       "mean                  2.187755              4.123129  \n",
       "std                   3.222430              3.568136  \n",
       "min                   0.000000              0.000000  \n",
       "25%                   0.000000              2.000000  \n",
       "50%                   1.000000              3.000000  \n",
       "75%                   3.000000              7.000000  \n",
       "max                  15.000000             17.000000  \n",
       "\n",
       "[8 rows x 26 columns]"
      ]
     },
     "execution_count": 32,
     "metadata": {},
     "output_type": "execute_result"
    }
   ],
   "source": [
    "data.describe()"
   ]
  },
  {
   "cell_type": "markdown",
   "metadata": {},
   "source": [
    "Get necessary feature for question 2."
   ]
  },
  {
   "cell_type": "code",
   "execution_count": 33,
   "metadata": {},
   "outputs": [
    {
     "data": {
      "text/html": [
       "<div>\n",
       "<style scoped>\n",
       "    .dataframe tbody tr th:only-of-type {\n",
       "        vertical-align: middle;\n",
       "    }\n",
       "\n",
       "    .dataframe tbody tr th {\n",
       "        vertical-align: top;\n",
       "    }\n",
       "\n",
       "    .dataframe thead th {\n",
       "        text-align: right;\n",
       "    }\n",
       "</style>\n",
       "<table border=\"1\" class=\"dataframe\">\n",
       "  <thead>\n",
       "    <tr style=\"text-align: right;\">\n",
       "      <th></th>\n",
       "      <th>JobSatisfaction</th>\n",
       "      <th>YearsInCurrentRole</th>\n",
       "      <th>Age</th>\n",
       "      <th>DistanceFromHome</th>\n",
       "      <th>MonthlyIncome</th>\n",
       "      <th>YearsWithCurrManager</th>\n",
       "    </tr>\n",
       "  </thead>\n",
       "  <tbody>\n",
       "    <tr>\n",
       "      <td>0</td>\n",
       "      <td>4</td>\n",
       "      <td>4</td>\n",
       "      <td>41</td>\n",
       "      <td>1</td>\n",
       "      <td>5993</td>\n",
       "      <td>5</td>\n",
       "    </tr>\n",
       "    <tr>\n",
       "      <td>1</td>\n",
       "      <td>2</td>\n",
       "      <td>7</td>\n",
       "      <td>49</td>\n",
       "      <td>8</td>\n",
       "      <td>5130</td>\n",
       "      <td>7</td>\n",
       "    </tr>\n",
       "    <tr>\n",
       "      <td>2</td>\n",
       "      <td>3</td>\n",
       "      <td>0</td>\n",
       "      <td>37</td>\n",
       "      <td>2</td>\n",
       "      <td>2090</td>\n",
       "      <td>0</td>\n",
       "    </tr>\n",
       "    <tr>\n",
       "      <td>3</td>\n",
       "      <td>3</td>\n",
       "      <td>7</td>\n",
       "      <td>33</td>\n",
       "      <td>3</td>\n",
       "      <td>2909</td>\n",
       "      <td>0</td>\n",
       "    </tr>\n",
       "    <tr>\n",
       "      <td>4</td>\n",
       "      <td>2</td>\n",
       "      <td>2</td>\n",
       "      <td>27</td>\n",
       "      <td>2</td>\n",
       "      <td>3468</td>\n",
       "      <td>2</td>\n",
       "    </tr>\n",
       "  </tbody>\n",
       "</table>\n",
       "</div>"
      ],
      "text/plain": [
       "   JobSatisfaction  YearsInCurrentRole  Age  DistanceFromHome  MonthlyIncome  \\\n",
       "0                4                   4   41                 1           5993   \n",
       "1                2                   7   49                 8           5130   \n",
       "2                3                   0   37                 2           2090   \n",
       "3                3                   7   33                 3           2909   \n",
       "4                2                   2   27                 2           3468   \n",
       "\n",
       "   YearsWithCurrManager  \n",
       "0                     5  \n",
       "1                     7  \n",
       "2                     0  \n",
       "3                     0  \n",
       "4                     2  "
      ]
     },
     "execution_count": 33,
     "metadata": {},
     "output_type": "execute_result"
    }
   ],
   "source": [
    "dataQuestion2 = data[['JobSatisfaction', 'YearsInCurrentRole', 'Age', 'DistanceFromHome', \n",
    "                      'MonthlyIncome', 'YearsWithCurrManager']]\n",
    "\n",
    "dataQuestion2.head()"
   ]
  },
  {
   "cell_type": "code",
   "execution_count": 34,
   "metadata": {},
   "outputs": [
    {
     "data": {
      "text/html": [
       "<div>\n",
       "<style scoped>\n",
       "    .dataframe tbody tr th:only-of-type {\n",
       "        vertical-align: middle;\n",
       "    }\n",
       "\n",
       "    .dataframe tbody tr th {\n",
       "        vertical-align: top;\n",
       "    }\n",
       "\n",
       "    .dataframe thead th {\n",
       "        text-align: right;\n",
       "    }\n",
       "</style>\n",
       "<table border=\"1\" class=\"dataframe\">\n",
       "  <thead>\n",
       "    <tr style=\"text-align: right;\">\n",
       "      <th></th>\n",
       "      <th>JobSatisfaction</th>\n",
       "      <th>YearsInCurrentRole</th>\n",
       "      <th>Age</th>\n",
       "      <th>DistanceFromHome</th>\n",
       "      <th>MonthlyIncome</th>\n",
       "      <th>YearsWithCurrManager</th>\n",
       "    </tr>\n",
       "  </thead>\n",
       "  <tbody>\n",
       "    <tr>\n",
       "      <td>count</td>\n",
       "      <td>1470.000000</td>\n",
       "      <td>1470.000000</td>\n",
       "      <td>1470.000000</td>\n",
       "      <td>1470.000000</td>\n",
       "      <td>1470.000000</td>\n",
       "      <td>1470.000000</td>\n",
       "    </tr>\n",
       "    <tr>\n",
       "      <td>mean</td>\n",
       "      <td>2.728571</td>\n",
       "      <td>4.229252</td>\n",
       "      <td>36.923810</td>\n",
       "      <td>9.192517</td>\n",
       "      <td>6502.931293</td>\n",
       "      <td>4.123129</td>\n",
       "    </tr>\n",
       "    <tr>\n",
       "      <td>std</td>\n",
       "      <td>1.102846</td>\n",
       "      <td>3.623137</td>\n",
       "      <td>9.135373</td>\n",
       "      <td>8.106864</td>\n",
       "      <td>4707.956783</td>\n",
       "      <td>3.568136</td>\n",
       "    </tr>\n",
       "    <tr>\n",
       "      <td>min</td>\n",
       "      <td>1.000000</td>\n",
       "      <td>0.000000</td>\n",
       "      <td>18.000000</td>\n",
       "      <td>1.000000</td>\n",
       "      <td>1009.000000</td>\n",
       "      <td>0.000000</td>\n",
       "    </tr>\n",
       "    <tr>\n",
       "      <td>25%</td>\n",
       "      <td>2.000000</td>\n",
       "      <td>2.000000</td>\n",
       "      <td>30.000000</td>\n",
       "      <td>2.000000</td>\n",
       "      <td>2911.000000</td>\n",
       "      <td>2.000000</td>\n",
       "    </tr>\n",
       "    <tr>\n",
       "      <td>50%</td>\n",
       "      <td>3.000000</td>\n",
       "      <td>3.000000</td>\n",
       "      <td>36.000000</td>\n",
       "      <td>7.000000</td>\n",
       "      <td>4919.000000</td>\n",
       "      <td>3.000000</td>\n",
       "    </tr>\n",
       "    <tr>\n",
       "      <td>75%</td>\n",
       "      <td>4.000000</td>\n",
       "      <td>7.000000</td>\n",
       "      <td>43.000000</td>\n",
       "      <td>14.000000</td>\n",
       "      <td>8379.000000</td>\n",
       "      <td>7.000000</td>\n",
       "    </tr>\n",
       "    <tr>\n",
       "      <td>max</td>\n",
       "      <td>4.000000</td>\n",
       "      <td>18.000000</td>\n",
       "      <td>60.000000</td>\n",
       "      <td>29.000000</td>\n",
       "      <td>19999.000000</td>\n",
       "      <td>17.000000</td>\n",
       "    </tr>\n",
       "  </tbody>\n",
       "</table>\n",
       "</div>"
      ],
      "text/plain": [
       "       JobSatisfaction  YearsInCurrentRole          Age  DistanceFromHome  \\\n",
       "count      1470.000000         1470.000000  1470.000000       1470.000000   \n",
       "mean          2.728571            4.229252    36.923810          9.192517   \n",
       "std           1.102846            3.623137     9.135373          8.106864   \n",
       "min           1.000000            0.000000    18.000000          1.000000   \n",
       "25%           2.000000            2.000000    30.000000          2.000000   \n",
       "50%           3.000000            3.000000    36.000000          7.000000   \n",
       "75%           4.000000            7.000000    43.000000         14.000000   \n",
       "max           4.000000           18.000000    60.000000         29.000000   \n",
       "\n",
       "       MonthlyIncome  YearsWithCurrManager  \n",
       "count    1470.000000           1470.000000  \n",
       "mean     6502.931293              4.123129  \n",
       "std      4707.956783              3.568136  \n",
       "min      1009.000000              0.000000  \n",
       "25%      2911.000000              2.000000  \n",
       "50%      4919.000000              3.000000  \n",
       "75%      8379.000000              7.000000  \n",
       "max     19999.000000             17.000000  "
      ]
     },
     "execution_count": 34,
     "metadata": {},
     "output_type": "execute_result"
    }
   ],
   "source": [
    "# Describe numerical data in statistical way  \n",
    "dataQuestion2.describe()"
   ]
  },
  {
   "cell_type": "markdown",
   "metadata": {},
   "source": [
    "Find Numerical variance for these factors."
   ]
  },
  {
   "cell_type": "code",
   "execution_count": 35,
   "metadata": {},
   "outputs": [
    {
     "data": {
      "text/plain": [
       "JobSatisfaction         1.216270e+00\n",
       "YearsInCurrentRole      1.312712e+01\n",
       "Age                     8.345505e+01\n",
       "DistanceFromHome        6.572125e+01\n",
       "MonthlyIncome           2.216486e+07\n",
       "YearsWithCurrManager    1.273160e+01\n",
       "Name: std, dtype: float64"
      ]
     },
     "execution_count": 35,
     "metadata": {},
     "output_type": "execute_result"
    }
   ],
   "source": [
    "varQuestion2 = dataQuestion2.describe().iloc[2,:]\n",
    "varQuestion2 = varQuestion2**2\n",
    "varQuestion2"
   ]
  },
  {
   "cell_type": "markdown",
   "metadata": {},
   "source": [
    "Find means of each feature in each group of JobSatisfaction"
   ]
  },
  {
   "cell_type": "code",
   "execution_count": 36,
   "metadata": {},
   "outputs": [
    {
     "data": {
      "text/html": [
       "<div>\n",
       "<style scoped>\n",
       "    .dataframe tbody tr th:only-of-type {\n",
       "        vertical-align: middle;\n",
       "    }\n",
       "\n",
       "    .dataframe tbody tr th {\n",
       "        vertical-align: top;\n",
       "    }\n",
       "\n",
       "    .dataframe thead th {\n",
       "        text-align: right;\n",
       "    }\n",
       "</style>\n",
       "<table border=\"1\" class=\"dataframe\">\n",
       "  <thead>\n",
       "    <tr style=\"text-align: right;\">\n",
       "      <th></th>\n",
       "      <th>YearsInCurrentRole</th>\n",
       "      <th>Age</th>\n",
       "      <th>DistanceFromHome</th>\n",
       "      <th>MonthlyIncome</th>\n",
       "      <th>YearsWithCurrManager</th>\n",
       "    </tr>\n",
       "    <tr>\n",
       "      <th>JobSatisfaction</th>\n",
       "      <th></th>\n",
       "      <th></th>\n",
       "      <th></th>\n",
       "      <th></th>\n",
       "      <th></th>\n",
       "    </tr>\n",
       "  </thead>\n",
       "  <tbody>\n",
       "    <tr>\n",
       "      <td>1</td>\n",
       "      <td>4.276817</td>\n",
       "      <td>36.916955</td>\n",
       "      <td>9.190311</td>\n",
       "      <td>6561.570934</td>\n",
       "      <td>4.384083</td>\n",
       "    </tr>\n",
       "    <tr>\n",
       "      <td>2</td>\n",
       "      <td>4.135714</td>\n",
       "      <td>36.985714</td>\n",
       "      <td>9.103571</td>\n",
       "      <td>6527.328571</td>\n",
       "      <td>4.075000</td>\n",
       "    </tr>\n",
       "    <tr>\n",
       "      <td>3</td>\n",
       "      <td>4.285068</td>\n",
       "      <td>37.022624</td>\n",
       "      <td>9.418552</td>\n",
       "      <td>6480.495475</td>\n",
       "      <td>4.033937</td>\n",
       "    </tr>\n",
       "    <tr>\n",
       "      <td>4</td>\n",
       "      <td>4.202614</td>\n",
       "      <td>36.795207</td>\n",
       "      <td>9.030501</td>\n",
       "      <td>6472.732026</td>\n",
       "      <td>4.074074</td>\n",
       "    </tr>\n",
       "  </tbody>\n",
       "</table>\n",
       "</div>"
      ],
      "text/plain": [
       "                 YearsInCurrentRole        Age  DistanceFromHome  \\\n",
       "JobSatisfaction                                                    \n",
       "1                          4.276817  36.916955          9.190311   \n",
       "2                          4.135714  36.985714          9.103571   \n",
       "3                          4.285068  37.022624          9.418552   \n",
       "4                          4.202614  36.795207          9.030501   \n",
       "\n",
       "                 MonthlyIncome  YearsWithCurrManager  \n",
       "JobSatisfaction                                       \n",
       "1                  6561.570934              4.384083  \n",
       "2                  6527.328571              4.075000  \n",
       "3                  6480.495475              4.033937  \n",
       "4                  6472.732026              4.074074  "
      ]
     },
     "execution_count": 36,
     "metadata": {},
     "output_type": "execute_result"
    }
   ],
   "source": [
    "dataQuestion2.groupby('JobSatisfaction').mean()"
   ]
  },
  {
   "cell_type": "code",
   "execution_count": 37,
   "metadata": {
    "scrolled": true
   },
   "outputs": [
    {
     "data": {
      "text/plain": [
       "<matplotlib.axes._subplots.AxesSubplot at 0x130f5728548>"
      ]
     },
     "execution_count": 37,
     "metadata": {},
     "output_type": "execute_result"
    },
    {
     "data": {
      "image/png": "[encoded data removed]",
      "text/plain": [
       "<Figure size 1080x432 with 3 Axes>"
      ]
     },
     "metadata": {
      "needs_background": "light"
     },
     "output_type": "display_data"
    }
   ],
   "source": [
    "#subplot wiht 1 rows 3 cols and each figure size is 15x6 inches\n",
    "fNumQuestion2, axes = plt.subplots(nrows=1, ncols =3 , figsize=(15, 6))\n",
    "# data, turnof line, color, title for sub figure\n",
    "#fNumQuestion2.suptitle('  Employees leave the company')\n",
    "sns.boxplot(x=\"JobSatisfaction\",y=\"YearsInCurrentRole\",data=dataQuestion2,ax=axes[0])\n",
    "sns.boxplot(x=\"JobSatisfaction\",y=\"Age\",data=dataQuestion2,ax=axes[1])\n",
    "sns.boxplot(x=\"JobSatisfaction\",y=\"DistanceFromHome\",data=dataQuestion2,ax=axes[2])\n",
    "\n"
   ]
  },
  {
   "cell_type": "code",
   "execution_count": 38,
   "metadata": {},
   "outputs": [
    {
     "data": {
      "text/plain": [
       "<matplotlib.axes._subplots.AxesSubplot at 0x130f58f0188>"
      ]
     },
     "execution_count": 38,
     "metadata": {},
     "output_type": "execute_result"
    },
    {
     "data": {
      "image/png": "[encoded data removed]",
      "text/plain": [
       "<Figure size 1080x432 with 2 Axes>"
      ]
     },
     "metadata": {
      "needs_background": "light"
     },
     "output_type": "display_data"
    }
   ],
   "source": [
    "#subplot wiht 1 rows 32cols and each figure size is 15x6 inches\n",
    "fNumQuestion22, axes = plt.subplots(nrows=1, ncols =2 , figsize=(15, 6))\n",
    "# data, turnof line, color, title for sub figure\n",
    "#fNumQuestion22.suptitle('  Employees leave the company')\n",
    "sns.boxplot(x=\"JobSatisfaction\",y=\"MonthlyIncome\",data=dataQuestion2,ax=axes[0])\n",
    "sns.boxplot(x=\"JobSatisfaction\",y=\"YearsWithCurrManager\",data=dataQuestion2,ax=axes[1])\n",
    "#sns.boxplot(x=\"JobSatisfaction\",y=\"DistanceFromHome\",data=dataQuestion2,ax=axes[0],ay=axes[0])"
   ]
  },
  {
   "cell_type": "markdown",
   "metadata": {},
   "source": [
    "From the observation of 'Jobsatisfaction' and the 5 factors: <font color = 'red'> **(they are just the firts obsrvation from figures statistic values, it needs to be experienced hypothesis test to give more accuracy conclusions)** </font>\n",
    "\n",
    "Numerical Features:\n",
    "\n",
    "**=> 'YearsInCurrentRole' is integer number range from <font color = 'red'> 0 to 18 </font>. The mean and variance for YearsInCurrentRole are <font color = 'red'> 4.229 and 13.127</font>. Moreover, it can show that there are no differences among means of YearsInCurrentRole with each Jobsatisfaction group**\n",
    "\n",
    "**=> 'Age' is integer number range from <font color = 'red'> 18 to 60 </font>. The mean and variance for the distance are <font color = 'red'> 36.924 and 83.455 </font>. Moreover, it can show that there are no differences among means of Age with each Jobsatisfaction group**\n",
    "\n",
    "**=> 'DistanceFromHome' is integer number range <font color = 'red'> from 1 to 29 </font>. The mean and variance  for the distance are <font color = 'red'> 9.193 and 65.721 </font>. Moreover, it can show might be no differences among means of DistanceFromHome with each Jobsatisfaction group**\n",
    "\n",
    "**=> 'MonthlyIncome', is integer number range <font color = 'red'> from 1009 to 19999 </font>. The mean and variance for the MontlyIncome are <font color = 'red'> 6502.931 and 2216486 </font>. Moreover, it can show might be no differences among means of MonthlyIncome with each Jobsatisfaction group**\n",
    "\n",
    "**=> YearsWithCurrManager', is integer number range <font color = 'red'> from 0 to 17 </font>. The mean and variance for the YearsWithCurrManager are <font color = 'red'> 4.123 and 12.731 </font>. Moreover, it can show might be no differences among means of YearsWithCurrManager with each Jobsatisfaction group**"
   ]
  },
  {
   "cell_type": "markdown",
   "metadata": {},
   "source": [
    "### 2. JobSatisfaction Hypothesis Test<a id='AnalIV2'>"
   ]
  },
  {
   "cell_type": "markdown",
   "metadata": {},
   "source": [
    "### JobSatisfaction vs YearsInCurrentRole"
   ]
  },
  {
   "cell_type": "markdown",
   "metadata": {},
   "source": [
    "**Hypothesis:** YearsInCurrentRole affects JobSatisfaction\n",
    "1.  Identity \n",
    "    - Populations: \n",
    "\n",
    "            Pop1: Number of years in current role when JobSatisfaction is 1.\n",
    "        \n",
    "            Pop2: Number of years in current role when JobSatisfaction is 2.\n",
    "            \n",
    "            Pop3: Number of years in current role when JobSatisfaction is 3.\n",
    "            \n",
    "            Pop4: Number of years in current role when JobSatisfaction is 4.\n",
    "        \n",
    "    - Distribution: Because of 4 groups of employee's JobSatisfaction with years in current role, one-way ANOVA is used.\n",
    "    \n",
    "    - Sample size > 30, therefore distribution might be normal\n",
    "    \n",
    " \n",
    "2. State the null and research hypothesis \n",
    " \n",
    "     - H0: There are no diffrences in 4 groups of JobSatisfaction in YearsInCurrentRole.\n",
    " \n",
    "     - H1: There are diffrences in 4 groups of JobSatisfaction in YearsInCurrentRole.\n",
    "    "
   ]
  },
  {
   "cell_type": "code",
   "execution_count": 39,
   "metadata": {},
   "outputs": [
    {
     "data": {
      "text/plain": [
       "F_onewayResult(statistic=0.12182711023317545, pvalue=0.9472613160241014)"
      ]
     },
     "execution_count": 39,
     "metadata": {},
     "output_type": "execute_result"
    }
   ],
   "source": [
    "WorkGroup1 = dataQuestion2[dataQuestion2['JobSatisfaction'] == 1]['YearsInCurrentRole']\n",
    "WorkGroup2 = dataQuestion2[dataQuestion2['JobSatisfaction'] == 2]['YearsInCurrentRole']\n",
    "WorkGroup3 = dataQuestion2[dataQuestion2['JobSatisfaction'] == 3]['YearsInCurrentRole']\n",
    "WorkGroup4 = dataQuestion2[dataQuestion2['JobSatisfaction'] == 4]['YearsInCurrentRole']\n",
    "sci.stats.f_oneway(WorkGroup1,WorkGroup2,WorkGroup3,WorkGroup4)"
   ]
  },
  {
   "cell_type": "markdown",
   "metadata": {},
   "source": [
    "**Assump alpha level is 0.05, pvalue > 0.05 => Not enough evidence is available to reject H0 (6%).**\n",
    "\n",
    "**=>YearsInCurrentRole seems to does not affect JobSatisfaction**"
   ]
  },
  {
   "cell_type": "markdown",
   "metadata": {},
   "source": [
    "### JobSatisfaction vs Age"
   ]
  },
  {
   "cell_type": "markdown",
   "metadata": {},
   "source": [
    "**Hypothesis:** Age affects JobSatisfaction\n",
    "1.  Identity \n",
    "    - Populations: \n",
    "\n",
    "            Pop1: employee's age when JobSatisfaction is 1.\n",
    "        \n",
    "            Pop2: employee's age when JobSatisfaction is 2.\n",
    "            \n",
    "            Pop3: employee's age when JobSatisfaction is 3.\n",
    "            \n",
    "            Pop4: employee's age when JobSatisfaction is 4.\n",
    "        \n",
    "        \n",
    "    - Distribution: Because of 4 groups of employee's JobSatisfaction  with different age, one-way ANOVA is used.\n",
    "    \n",
    "    - Sample size > 30, therefore distribution might be normal\n",
    "    \n",
    " \n",
    "2. State the null and research hypothesis \n",
    " \n",
    "     - H0: There are no diffrences in 4 groups of JobSatisfaction and Age.\n",
    " \n",
    "     - H1: There are diffrences in 4 groups of JobSatisfaction and Age..\n",
    "    "
   ]
  },
  {
   "cell_type": "code",
   "execution_count": 40,
   "metadata": {},
   "outputs": [
    {
     "data": {
      "text/plain": [
       "F_onewayResult(statistic=0.051798411447326435, pvalue=0.9844403066163281)"
      ]
     },
     "execution_count": 40,
     "metadata": {},
     "output_type": "execute_result"
    }
   ],
   "source": [
    "AgeGroup1 = dataQuestion2[dataQuestion2['JobSatisfaction'] == 1]['Age']\n",
    "AgeGroup2 = dataQuestion2[dataQuestion2['JobSatisfaction'] == 2]['Age']\n",
    "AgeGroup3 = dataQuestion2[dataQuestion2['JobSatisfaction'] == 3]['Age']\n",
    "AgeGroup4 = dataQuestion2[dataQuestion2['JobSatisfaction'] == 4]['Age']\n",
    "sci.stats.f_oneway(AgeGroup1,AgeGroup2,AgeGroup3,AgeGroup4)"
   ]
  },
  {
   "cell_type": "markdown",
   "metadata": {},
   "source": [
    "**Assump alpha level is 0.05, pvalue > 0.05 => Not enough evidence is available to reject H0 (2%).**\n",
    "\n",
    "**=>Age seems to does not affect JobSatisfaction**"
   ]
  },
  {
   "cell_type": "markdown",
   "metadata": {},
   "source": [
    "### JobSatisfaction vs DistanceFromHome"
   ]
  },
  {
   "cell_type": "markdown",
   "metadata": {},
   "source": [
    "**Hypothesis:** DistanceFromHome affects JobSatisfaction\n",
    "1.  Identity \n",
    "    - Populations: \n",
    "\n",
    "            Pop1: employee's DistanceFromHome when JobSatisfaction is 1.\n",
    "        \n",
    "            Pop2: employee's DistanceFromHome when JobSatisfaction is 2.\n",
    "            \n",
    "            Pop3: employee's DistanceFromHome when JobSatisfaction is 3.\n",
    "            \n",
    "            Pop4: employee's DistanceFromHome when JobSatisfaction is 4.\n",
    "        \n",
    "        \n",
    "    - Distribution: Because of 4 groups of employee's JobSatisfaction  with different DistanceFromHome, one-way ANOVA is used.\n",
    "    \n",
    "    - Sample size > 30, therefore distribution might be normal\n",
    "    \n",
    " \n",
    "2. State the null and research hypothesis \n",
    " \n",
    "     - H0: There are no diffrences in 4 groups of JobSatisfaction in DistanceFromHome.\n",
    " \n",
    "     - H1: There are diffrences in 4 groups of JobSatisfaction in DistanceFromHome.\n",
    "    "
   ]
  },
  {
   "cell_type": "code",
   "execution_count": 41,
   "metadata": {},
   "outputs": [
    {
     "data": {
      "text/plain": [
       "F_onewayResult(statistic=0.18657749054436545, pvalue=0.9055666234307)"
      ]
     },
     "execution_count": 41,
     "metadata": {},
     "output_type": "execute_result"
    }
   ],
   "source": [
    "DistGroup1 = dataQuestion2[dataQuestion2['JobSatisfaction'] == 1]['DistanceFromHome']\n",
    "DistGroup2 = dataQuestion2[dataQuestion2['JobSatisfaction'] == 2]['DistanceFromHome']\n",
    "DistGroup3 = dataQuestion2[dataQuestion2['JobSatisfaction'] == 3]['DistanceFromHome']\n",
    "DistGroup4 = dataQuestion2[dataQuestion2['JobSatisfaction'] == 4]['DistanceFromHome']\n",
    "sci.stats.f_oneway(DistGroup1,DistGroup2,DistGroup3,DistGroup4)"
   ]
  },
  {
   "cell_type": "markdown",
   "metadata": {},
   "source": [
    "**Assump alpha level is 0.05, pvalue > 0.05 => Not enough evidence is available to reject H0 (10%).**\n",
    "\n",
    "**=>DistanceFromHome seems to does not affect JobSatisfaction**"
   ]
  },
  {
   "cell_type": "markdown",
   "metadata": {},
   "source": [
    "### JobSatisfaction vs MonthlyIncome"
   ]
  },
  {
   "cell_type": "markdown",
   "metadata": {},
   "source": [
    "**Hypothesis:** MonthlyIncome affects JobSatisfaction\n",
    "1.  Identity \n",
    "    - Populations: \n",
    "\n",
    "           \n",
    "            Pop1: employee's MonthlyIncome when JobSatisfaction is 1.\n",
    "        \n",
    "            Pop2: employee's MonthlyIncome when JobSatisfaction is 2.\n",
    "            \n",
    "            Pop3: employee's MonthlyIncome when JobSatisfaction is 3.\n",
    "            \n",
    "            Pop4: employee's MonthlyIncome when JobSatisfaction is 4.\n",
    "            \n",
    "    - Distribution: Because of 4 groups of employee's JobSatisfaction with different MonthlyIncome, one-way ANOVA is used.\n",
    "    \n",
    "    - Sample size > 30, therefore distribution might be normal\n",
    "    \n",
    " \n",
    "2. State the null and research hypothesis \n",
    " \n",
    "     - H0: There are no diffrences in 4 groups of JobSatisfaction in MonthlyIncome.\n",
    " \n",
    "     - H1: There are diffrences in 4 groups of JobSatisfaction in MonthlyIncome.\n",
    "    "
   ]
  },
  {
   "cell_type": "code",
   "execution_count": 42,
   "metadata": {},
   "outputs": [
    {
     "data": {
      "text/plain": [
       "F_onewayResult(statistic=0.027038829545482108, pvalue=0.9940001654548951)"
      ]
     },
     "execution_count": 42,
     "metadata": {},
     "output_type": "execute_result"
    }
   ],
   "source": [
    "MonthlyGroup1 = dataQuestion2[dataQuestion2['JobSatisfaction'] == 1]['MonthlyIncome']\n",
    "MonthlyGroup2 = dataQuestion2[dataQuestion2['JobSatisfaction'] == 2]['MonthlyIncome']\n",
    "MonthlyGroup3 = dataQuestion2[dataQuestion2['JobSatisfaction'] == 3]['MonthlyIncome']\n",
    "MonthlyGroup4 = dataQuestion2[dataQuestion2['JobSatisfaction'] == 4]['MonthlyIncome']\n",
    "sci.stats.f_oneway(MonthlyGroup1,MonthlyGroup2,MonthlyGroup3,MonthlyGroup4)"
   ]
  },
  {
   "cell_type": "markdown",
   "metadata": {},
   "source": [
    "**Assump alpha level is 0.05, pvalue > 0.05 => Not enough evidence is available to reject H0 (63%).**\n",
    "\n",
    "**=>MonthlyIncome seems to does not affect JobSatisfaction**"
   ]
  },
  {
   "cell_type": "markdown",
   "metadata": {},
   "source": [
    "### JobSatisfaction vs YearsWithCurrManager"
   ]
  },
  {
   "cell_type": "markdown",
   "metadata": {},
   "source": [
    "**Hypothesis:** YearsWithCurrManager affects JobSatisfaction\n",
    "1.  Identity \n",
    "    - Populations: \n",
    "\n",
    "            Pop1: employee's YearsWithCurrManager when JobSatisfaction is 1.\n",
    "        \n",
    "            Pop2: employee's YearsWithCurrManager when JobSatisfaction is 2.\n",
    "            \n",
    "            Pop3: employee's YearsWithCurrManager when JobSatisfaction is 3.\n",
    "            \n",
    "            Pop4: employee's YearsWithCurrManager when JobSatisfaction is 4.\n",
    "           \n",
    "    - Distribution: Because of 4 groups of employee's JobSatisfaction with different YearsWithCurrManager, one-way ANOVA is used.\n",
    "    \n",
    "    - Sample size > 30, therefore distribution might be normal\n",
    "    \n",
    " \n",
    "2. State the null and research hypothesis \n",
    " \n",
    "     - H0: There are no diffrences in JobSatisfaction in YearsWithCurrManager.\n",
    " \n",
    "     - H1: There are diffrences in JobSatisfaction in YearsWithCurrManager.\n",
    "    "
   ]
  },
  {
   "cell_type": "code",
   "execution_count": 43,
   "metadata": {},
   "outputs": [
    {
     "data": {
      "text/plain": [
       "F_onewayResult(statistic=0.6527513652785619, pvalue=0.5812504044357087)"
      ]
     },
     "execution_count": 43,
     "metadata": {},
     "output_type": "execute_result"
    }
   ],
   "source": [
    "YWCMGroup1 = dataQuestion2[dataQuestion2['JobSatisfaction'] == 1]['YearsWithCurrManager']\n",
    "YWCMGroup2 = dataQuestion2[dataQuestion2['JobSatisfaction'] == 2]['YearsWithCurrManager']\n",
    "YWCMGroup3 = dataQuestion2[dataQuestion2['JobSatisfaction'] == 3]['YearsWithCurrManager']\n",
    "YWCMGroup4 = dataQuestion2[dataQuestion2['JobSatisfaction'] == 4]['YearsWithCurrManager']\n",
    "sci.stats.f_oneway(YWCMGroup1,YWCMGroup2,YWCMGroup3,YWCMGroup4)"
   ]
  },
  {
   "cell_type": "markdown",
   "metadata": {},
   "source": [
    "**Assump alpha level is 0.05, pvalue > 0.05 => Not enough evidence is available to reject H0 (52%).**\n",
    "\n",
    "**=>YearsWithCurrManager seems to does not affect JobSatisfaction**"
   ]
  },
  {
   "cell_type": "markdown",
   "metadata": {},
   "source": [
    "### => 5 chosen factors cannot affect JobSatisfaction"
   ]
  },
  {
   "cell_type": "markdown",
   "metadata": {},
   "source": [
    "## V. When employee will resign <a id = AnaV>\n"
   ]
  },
  {
   "cell_type": "code",
   "execution_count": null,
   "metadata": {},
   "outputs": [],
   "source": []
  },
  {
   "cell_type": "markdown",
   "metadata": {},
   "source": [
    "From [the previous statistical tests](#AnalIII2), it illustrate that there are four factors considered as affecting to decision of quiting job.\n",
    "    \n",
    "    1. The number of years at company can affect attrition rate, the lower years at company, the greater attrition rate. Moreover, the most number of employees who quit job when they worked at company for 1 year.\n",
    "    \n",
    "    2. The employees who leave company live further than the others. However, the most number of employees who leave the company live the company with distance ranging from 1 to 10\n",
    "    \n",
    "    3. The lower income employees tend to quit, especially those who have income below 10000, and seem to no one leave company with icome between 15000 and 20000\n",
    "    \n",
    "    4.  The percentage of employees under 30 tend to quit job more than those do not, and it is vice versa for employee over 30. Moreover, from the t-test employees who give up their job, are younger than who do not. \n",
    "    "
   ]
  },
  {
   "cell_type": "markdown",
   "metadata": {},
   "source": [
    "\n",
    "## IV. Conclusions  <a id = 'conc'> "
   ]
  },
  {
   "cell_type": "markdown",
   "metadata": {},
   "source": [
    "From the observation and visualization above, the report indicate sevaral essential points:\n",
    "\n",
    "There are 5 features are chosen to  find what features can affect to attrition rate : YearsAtCompany, DistanceFromHome, MonthlyIncome, Age, and YearsSinceLastPromotion.\n",
    "    \n",
    "- **YearsAtCompany:** There is a statistically significant difference between the mean number of year at company of employees who leave and still work for company. Empolyee leave company tend to have less years at company than who did not. Moreover, the most number of employees who quit job when they worked at company for 1 year.\n",
    "\n",
    "- **DistanceFromHome:** People who live far away from company intent to quit job more than who are not. However, Most of people giving up their job, seem to live near the company (1 to 10). Almost 30% of them are just 1. Moreover this is nearly the same as in still working for the company. However distance between 20 and 25 seem to different from each other.\n",
    "\n",
    "-  **MonthlyIncome:** The less monthly income the more chance they leave the company. Moreove, the two graphs dipict that there is no-one resign in range from 15000 and under 20000.\n",
    "  \n",
    "-  **Age:** This is the last factors in 5 factors can affect attrtion rate. Base on the test, it can confirm that people who are younger seem to have more probability to resign.\n",
    "\n",
    "-  **YearsSinceLastPromotion**: This is the only one factor in 5 opted factor does not affect the attrition rate.\n",
    "\n",
    "##### => There are 4 out of 5 factors likely affect the attrition rate <font color='red'>(YearsAtCompany, DistanceFromHome, MonthlyIncome, Age)</font>.\n",
    "\n",
    "For the job satisfaction, 5 factors have been chosen to find the relationship between them and job satisfaction. Unfortunately, it cannot be under the influence of all these factors. \n",
    "\n",
    "- **YearsInCurrentRole:** from the Anova test it cannot make a conclusion that job satisfaction is affected by it becasue there are not enough evidence. \n",
    "\n",
    "- **Age, DistanceFromHome, MonthlyIncome, and YearsWithCurrManager:** also give the same result as YearsInCurrentRole. The do not provide sufficient evidence to claim that they affect job satisfaction feature.  \n",
    "\n",
    "##### => There are 5 out of 5 factors cannot affect the attrition rate <font color='red'>(YearsInCurrentRole, Age, DistanceFromHome, MonthlyIncome, and YearsWithCurrManager ).</font>\n",
    "\n",
    "##### => There is a noticeable point in job satisfaction because the lower rate in satisfaction, the higher chance to leave job. Therefore, can consider as job satisfaction affected by attrition.\n"
   ]
  },
  {
   "cell_type": "code",
   "execution_count": 44,
   "metadata": {},
   "outputs": [
    {
     "data": {
      "text/html": [
       "<div>\n",
       "<style scoped>\n",
       "    .dataframe tbody tr th:only-of-type {\n",
       "        vertical-align: middle;\n",
       "    }\n",
       "\n",
       "    .dataframe tbody tr th {\n",
       "        vertical-align: top;\n",
       "    }\n",
       "\n",
       "    .dataframe thead th {\n",
       "        text-align: right;\n",
       "    }\n",
       "</style>\n",
       "<table border=\"1\" class=\"dataframe\">\n",
       "  <thead>\n",
       "    <tr style=\"text-align: right;\">\n",
       "      <th></th>\n",
       "      <th>YearsAtCompany</th>\n",
       "      <th>DistanceFromHome</th>\n",
       "      <th>MonthlyIncome</th>\n",
       "      <th>Age</th>\n",
       "      <th>YearsSinceLastPromotion</th>\n",
       "      <th>YearsInCurrentRole</th>\n",
       "      <th>Age</th>\n",
       "      <th>MonthlyIncome</th>\n",
       "    </tr>\n",
       "  </thead>\n",
       "  <tbody>\n",
       "    <tr>\n",
       "      <td>Question1</td>\n",
       "      <td>t-test</td>\n",
       "      <td>t-test</td>\n",
       "      <td>t-test</td>\n",
       "      <td>t-test</td>\n",
       "      <td>t-test</td>\n",
       "      <td></td>\n",
       "      <td></td>\n",
       "      <td></td>\n",
       "    </tr>\n",
       "    <tr>\n",
       "      <td>Question2</td>\n",
       "      <td></td>\n",
       "      <td>f-test</td>\n",
       "      <td></td>\n",
       "      <td></td>\n",
       "      <td>f-test</td>\n",
       "      <td>f-test</td>\n",
       "      <td>f-test</td>\n",
       "      <td>f-test</td>\n",
       "    </tr>\n",
       "  </tbody>\n",
       "</table>\n",
       "</div>"
      ],
      "text/plain": [
       "          YearsAtCompany DistanceFromHome MonthlyIncome     Age  \\\n",
       "Question1         t-test           t-test        t-test  t-test   \n",
       "Question2                          f-test                         \n",
       "\n",
       "          YearsSinceLastPromotion YearsInCurrentRole     Age MonthlyIncome  \n",
       "Question1                  t-test                                           \n",
       "Question2                  f-test             f-test  f-test        f-test  "
      ]
     },
     "execution_count": 44,
     "metadata": {},
     "output_type": "execute_result"
    }
   ],
   "source": [
    "dataQuestion1.columns[1:]\n",
    "dataQuestion2.columns[[1,2,4]]\n",
    "feaCon = dataQuestion1.columns[1:].tolist() + dataQuestion2.columns[[1,2,4]].tolist()\n",
    "feaCon\n",
    "samCon = [['t-test','t-test','t-test','t-test','t-test', '', '', ''],\n",
    "          ['','f-test','','','f-test','f-test','f-test','f-test']]\n",
    "pd.DataFrame(samCon, columns = feaCon, index = ['Question1','Question2'])"
   ]
  }
 ],
 "metadata": {
  "kernelspec": {
   "display_name": "Python 3",
   "language": "python",
   "name": "python3"
  },
  "language_info": {
   "codemirror_mode": {
    "name": "ipython",
    "version": 3
   },
   "file_extension": ".py",
   "mimetype": "text/x-python",
   "name": "python",
   "nbconvert_exporter": "python",
   "pygments_lexer": "ipython3",
   "version": "3.7.4"
  }
 },
 "nbformat": 4,
 "nbformat_minor": 2
}
