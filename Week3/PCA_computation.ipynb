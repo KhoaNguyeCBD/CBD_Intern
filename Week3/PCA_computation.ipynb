{
 "cells": [
  {
   "cell_type": "markdown",
   "metadata": {},
   "source": [
    "# <center>  PCA Computation </center>"
   ]
  },
  {
   "cell_type": "markdown",
   "metadata": {},
   "source": [
    "# Table of Content\n",
    "# [I. Introduction](#Intro)\n",
    "# [II. Problem](#Prob) \n",
    "# [III. Solution](#Sol)\n",
    "## [1. Eigenvalues](#Sol1)\n",
    "## [2. Eigenvectors](#Sol2)\n",
    "## [3. Principal Compents](#Sol3)\n",
    "## [4. Check results with Numpy](#Sol4)\n",
    "# [IV. Conclusions](#Conc)"
   ]
  },
  {
   "cell_type": "markdown",
   "metadata": {},
   "source": [
    "# I. Introduction<a id='Intro'>\n",
    "\n",
    "This report concentrates on calculating the eigenvalues, eigenvectors and its principal components for a given covariance matrix by hand."
   ]
  },
  {
   "cell_type": "markdown",
   "metadata": {},
   "source": [
    "# II. Problem\n",
    "\n",
    "Suppose the random variables X1, X2, and X3 have the covariance matrix:\n",
    "\n",
    "$$ C = \n",
    "\\begin{pmatrix}\n",
    " 1 & -2 &  0 \\\\\n",
    "-2 &  5 &  0 \\\\\n",
    " 0 &  0 &  2 \n",
    "\\end{pmatrix}\n",
    "$$"
   ]
  },
  {
   "cell_type": "markdown",
   "metadata": {},
   "source": [
    "Calculate (by hand, show detail work) the eigenvalue-eigenvector pairs and the principal components Y1, Y2 and Y3."
   ]
  },
  {
   "cell_type": "markdown",
   "metadata": {},
   "source": [
    "# III. Solution <a id='Sol'>"
   ]
  },
  {
   "cell_type": "markdown",
   "metadata": {},
   "source": [
    "**Denot:** \n",
    "\n",
    "- $\\lambda$ is egienvalue.\n",
    "\n",
    "- **v** is eigenvector.\n",
    "\n",
    "**Formula**:\n",
    "- **Cv** = $\\lambda$**v** \n",
    "- (**C** - $\\lambda$**I**)**v** = 0 [1]\n",
    "\n",
    "The are two cases in this equation - (**C** - $\\lambda$**I**) = 0 or **v** = 0. However, **v** = 0 it means eigenvetor = 0, it is meaningless. Therefore, the procedure to solve this problem is that det(**C** - $\\lambda$**I**) = 0 is solved to find eigenvalues. Then, apply the eigenvalues to [1] to find eigenvectors.\n",
    "\n"
   ]
  },
  {
   "cell_type": "markdown",
   "metadata": {},
   "source": [
    "## 1. Eigenvalues<a id='Sol1'>"
   ]
  },
  {
   "cell_type": "markdown",
   "metadata": {},
   "source": [
    "\n",
    "det(**C** - $\\lambda$**I**) = 0\n",
    "\n",
    "$$  \\mathbf{(C - \\lambda I)} =  \\begin{pmatrix}\n",
    "1-\\lambda &        -2   & 0 \\\\\n",
    "       -2 & 5-\\lambda   & 0 \\\\\n",
    "        0 &         0   & 2-\\lambda \\\\\n",
    "\\end{pmatrix}\n",
    "$$\n",
    "\n",
    "\n",
    "det(**C** - $\\lambda$**I**) = $ (1-\\lambda)(5-\\lambda)(2-\\lambda) - (-2)(-2)(2-\\lambda) = 0 $\n",
    "\n",
    "<=> $ (2 - \\lambda)(\\lambda^2 - 6\\lambda  + 1) = 0 $ \n",
    "\n",
    "Roots of the equation above are also the value of eigenvalue: they are aranged in order from highest to lowest. \n",
    "\n",
    "$\\lambda_1 = 3 + 2 \\sqrt{2}$\n",
    "\n",
    "$\\lambda_2 = 2 $\n",
    "\n",
    "$\\lambda_3 = 3 - 2 \\sqrt{2}$\n",
    "\n",
    "\n",
    "\n",
    "\n"
   ]
  },
  {
   "cell_type": "markdown",
   "metadata": {},
   "source": [
    "## 2. Eigenvectors<a id ='Sol2'>"
   ]
  },
  {
   "cell_type": "markdown",
   "metadata": {},
   "source": [
    "There are 3 eigenvalues, so there are 3 eigenvectors corresponding to each of them. Each $\\lambda$ is substituted to the equation [1].\n",
    "\n",
    "## - $ \\mathbf{\\lambda_1 = 3 + 2 \\sqrt{2}}$\n",
    "\n",
    "(**C** - $\\lambda_1$**I**)**v** = $\\begin{bmatrix}\n",
    " -2-2\\sqrt{2} & -2 & 0 \\\\\n",
    " -2 &  2-2\\sqrt{2} & 0  \\\\\n",
    "  0 &  0 & -1-2\\sqrt{2}\n",
    "\\end{bmatrix} *\n",
    "\\begin{bmatrix}\n",
    " v1\\\\\n",
    " v2\\\\\n",
    " v3\n",
    "\\end{bmatrix} = 0\n",
    "$\n",
    "\n",
    "\n",
    "- 3rd row $v3 = 0$\n",
    "- 1st and 2nd rows $v1 =(1 - \\sqrt{2}) v2$\n",
    "- choose $v2 = 1 $ so  $v1 = 1 - \\sqrt{2}   $\n",
    "\n",
    "=> **v** = $\\begin{bmatrix}\n",
    " 1-\\sqrt{2}\\\\\n",
    " 1\\\\\n",
    " 0\n",
    "\\end{bmatrix}$\n",
    "\n",
    "Similar procedure is applied to remained $\\lambda$\n",
    "\n",
    "## - $ \\mathbf{\\lambda_1 = 2}$\n",
    "\n",
    "(**C** - $\\lambda_1$**I**)**v** = $\\begin{bmatrix}\n",
    " -1 & -2 & 0 \\\\\n",
    " -2 &  3 & 0  \\\\\n",
    " 0 &  0 &  0\n",
    "\\end{bmatrix} *\n",
    "\\begin{bmatrix}\n",
    " v1\\\\\n",
    " v2\\\\\n",
    " v3\n",
    "\\end{bmatrix} = 0\n",
    "$\n",
    "\n",
    "\n",
    "- 3rd row $v3 = 1$ (it can be any value and in this case 1 is chosen.)\n",
    "- 2nd row $v1 =\\frac{3}{2} v2$\n",
    "- 1st row $v2 = 0 $ so $v1 = 0   $\n",
    "\n",
    "=> **v** = $\\begin{bmatrix}\n",
    " 0\\\\\n",
    " 0\\\\\n",
    " 1\n",
    "\\end{bmatrix}$\n",
    "\n",
    "\n",
    "## - $ \\mathbf{\\lambda_1 = 3 - 2 \\sqrt{2}}$\n",
    "\n",
    "(**C** - $\\lambda_1$**I**)**v** = $\\begin{bmatrix}\n",
    " -2+2\\sqrt{2} & -2 & 0 \\\\\n",
    " -2 `&  2+2\\sqrt{2} & 0  \\\\\n",
    " 0 &  0 & -1+2\\sqrt{2}\n",
    "\\end{bmatrix} *\n",
    "\\begin{bmatrix}\n",
    " v1\\\\\n",
    " v2\\\\\n",
    " v3\n",
    "\\end{bmatrix} = 0\n",
    "$\n",
    "\n",
    "\n",
    "- 3rd row $v3 = 0$\n",
    "- 1st and 2nd rows $v1 =(1 + \\sqrt{2}) v2$\n",
    "- choose $v2 = 1 $ so $v1 = 1 + \\sqrt{2}   $\n",
    "\n",
    "=> **v** = $\\begin{bmatrix}\n",
    " 1+ \\sqrt{2}\\\\\n",
    " 1\\\\\n",
    " 0\n",
    "\\end{bmatrix}$\n",
    "\n",
    "**=> Results are:**\n",
    "\n",
    "$\\mathbf{v1}=\\begin{bmatrix}\n",
    " 1-\\sqrt{2}\\\\\n",
    " 1\\\\\n",
    " 0\n",
    "\\end{bmatrix},\n",
    "\\mathbf{v2}=\\begin{bmatrix}\n",
    " 0\\\\\n",
    " 0\\\\\n",
    " 1\n",
    "\\end{bmatrix},\n",
    "\\mathbf{v3}=\\begin{bmatrix}\n",
    " 1+\\sqrt{2}\\\\\n",
    " 1\\\\\n",
    " 0\n",
    "\\end{bmatrix}\n",
    "$ with $\\lambda_1=3+2\\sqrt{2},\\lambda_2=2, and \\lambda_3=3-2\\sqrt{2}$ respectively\n",
    "\n",
    "<font color ='red'> The eigenvectors have to be unit length to avoid multiple solutions; therefore, they are divided by its Euclidean length  </font>\n",
    "\n",
    "**=>Final Results are:**\n",
    "\n",
    "$\\mathbf{v1}=\\begin{bmatrix}\n",
    " -0.3827\\\\\n",
    " 0.9239\\\\\n",
    " 0\n",
    "\\end{bmatrix},\n",
    "\\mathbf{v2}=\\begin{bmatrix}\n",
    " 0\\\\\n",
    " 0\\\\\n",
    " 1\n",
    "\\end{bmatrix},\n",
    "\\mathbf{v3}=\\begin{bmatrix}\n",
    " 0.9239\\\\\n",
    " 0,3827\\\\\n",
    " 0\n",
    "\\end{bmatrix}\n",
    "$ with $\\lambda_1=3+2\\sqrt{2},\\lambda_2=2, and \\lambda_3=3-2\\sqrt{2}$ respectively"
   ]
  },
  {
   "cell_type": "markdown",
   "metadata": {},
   "source": [
    "## 3. Principal Components <a id='Sol3'>"
   ]
  },
  {
   "cell_type": "markdown",
   "metadata": {},
   "source": [
    "The principal components are:\n",
    "\n",
    "**PC1:**  \n",
    "$\\mathbf{v1}=\\begin{bmatrix}\n",
    " -0.3827\\\\\n",
    " 0.9239\\\\\n",
    " 0\n",
    "\\end{bmatrix}$,\n",
    "$\\lambda_1=3+2\\sqrt{2}$\n",
    "\n",
    "**PC2:**  $\\mathbf{v2}=\\begin{bmatrix}\n",
    " 0\\\\\n",
    " 0\\\\\n",
    " 1\n",
    "\\end{bmatrix},$\n",
    "$\\lambda_2=2$\n",
    "\n",
    "**PC3:** \n",
    "$\\mathbf{v3}=\\begin{bmatrix}\n",
    " 0.9239\\\\\n",
    " 0.3827\\\\\n",
    " 0\n",
    "\\end{bmatrix}$,\n",
    "$\\lambda_3=3-2\\sqrt{2}$"
   ]
  },
  {
   "cell_type": "markdown",
   "metadata": {},
   "source": [
    "## 4. Check result with Numpy <a id='Sol3'>"
   ]
  },
  {
   "cell_type": "markdown",
   "metadata": {},
   "source": [
    "## Import Libary"
   ]
  },
  {
   "cell_type": "code",
   "execution_count": 1,
   "metadata": {},
   "outputs": [
    {
     "name": "stdout",
     "output_type": "stream",
     "text": [
      "eigenvalues are:\n",
      " 0.17157287525381015 5.82842712474619 2.0\n",
      "eigenvectors are \n",
      " [[-0.92387953  0.38268343  0.        ]\n",
      " [-0.38268343 -0.92387953  0.        ]\n",
      " [ 0.          0.          1.        ]]\n"
     ]
    }
   ],
   "source": [
    "import numpy as np\n",
    "from numpy import linalg as LA\n",
    "\n",
    "C = np.array([[1, -2, 0],\n",
    "              [-2, 5, 0],\n",
    "              [0, 0, 2]])\n",
    "eigVal, eigVect=LA.eig(C)\n",
    "print('eigenvalues are:\\n', *eigVal)\n",
    "print('eigenvectors are \\n',eigVect)"
   ]
  },
  {
   "cell_type": "markdown",
   "metadata": {},
   "source": [
    "\n",
    "\n",
    "$\\mathbf{v1}=\\begin{bmatrix}\n",
    " -0.3827\\\\\n",
    " 0.9239\\\\\n",
    " 0\n",
    "\\end{bmatrix},\n",
    "\\mathbf{v2}=\\begin{bmatrix}\n",
    " 0\\\\\n",
    " 0\\\\\n",
    " 1\n",
    "\\end{bmatrix},\n",
    "\\mathbf{v3}=\\begin{bmatrix}\n",
    " 0.9239\\\\\n",
    " 0,3827\\\\\n",
    " 0\n",
    "\\end{bmatrix}\n",
    "$ with $\\lambda_1=3+2\\sqrt{2}=5.8284,\\lambda_2=2, and \\lambda_3=3-2\\sqrt{2}=0.1716$ respectively."
   ]
  },
  {
   "cell_type": "markdown",
   "metadata": {},
   "source": [
    "**=> The reuslts are completely correct because** <font color ='red'> the eigenvectors have to be unit length to avoid multiple solution  </font>\n",
    " \n",
    " **v1** (by hand) = -1* **v1** (by function) \n",
    " \n",
    " **v3** (by hand) = -1* **v3** (by function) "
   ]
  },
  {
   "cell_type": "markdown",
   "metadata": {},
   "source": [
    "# IV. Conclusions<a id='Conc'>"
   ]
  },
  {
   "cell_type": "markdown",
   "metadata": {},
   "source": [
    "$$ C = \n",
    "\\begin{pmatrix}\n",
    " 1 & -2 &  0 \\\\\n",
    "-2 &  5 &  0 \\\\\n",
    " 0 &  0 &  2 \n",
    "\\end{pmatrix}\n",
    "$$"
   ]
  },
  {
   "cell_type": "markdown",
   "metadata": {},
   "source": [
    "There are three eigenvalues: $\\lambda_1=3+2\\sqrt{2}, \\lambda_2=2, \\lambda_3=3-2\\sqrt{2} $\n",
    "\n",
    "There are three correspoing eigenvectors:\n",
    "\n",
    "$\\mathbf{v1}=\\begin{bmatrix}\n",
    " -0.3827\\\\\n",
    " 0.9239\\\\\n",
    " 0\n",
    "\\end{bmatrix},\n",
    "\\mathbf{v2}=\\begin{bmatrix}\n",
    " 0\\\\\n",
    " 0\\\\\n",
    " 1\n",
    "\\end{bmatrix},\n",
    "\\mathbf{v3}=\\begin{bmatrix}\n",
    " 0.9239\\\\\n",
    " 0,3827\\\\\n",
    " 0\n",
    "\\end{bmatrix}\n",
    "$\n",
    "\n",
    "The principal components are:\n",
    " \n",
    "$\\begin{pmatrix}\n",
    " -0.3827 & 0 & 0.9239\\\\\n",
    " 0.9239  & 0 & 0.3827\\\\\n",
    " 0       & 1 & 0\n",
    "\\end{pmatrix}$,\n",
    "$\\lambda_1, \\lambda_2, \\lambda_3$\n"
   ]
  },
  {
   "cell_type": "code",
   "execution_count": null,
   "metadata": {},
   "outputs": [],
   "source": []
  }
 ],
 "metadata": {
  "kernelspec": {
   "display_name": "Python 3",
   "language": "python",
   "name": "python3"
  },
  "language_info": {
   "codemirror_mode": {
    "name": "ipython",
    "version": 3
   },
   "file_extension": ".py",
   "mimetype": "text/x-python",
   "name": "python",
   "nbconvert_exporter": "python",
   "pygments_lexer": "ipython3",
   "version": "3.7.4"
  }
 },
 "nbformat": 4,
 "nbformat_minor": 2
}
