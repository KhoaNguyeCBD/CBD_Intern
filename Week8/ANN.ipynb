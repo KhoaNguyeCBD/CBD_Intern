{
 "cells": [
  {
   "cell_type": "markdown",
   "metadata": {},
   "source": [
    "# <center> Compute adaptive weight for ANN </center>"
   ]
  },
  {
   "cell_type": "markdown",
   "metadata": {
    "toc": true
   },
   "source": [
    "<h1>Table of Contents<span class=\"tocSkip\"></span></h1>\n",
    "<div class=\"toc\"><ul class=\"toc-item\"><li><span><a href=\"#INTRODUCTION\" data-toc-modified-id=\"INTRODUCTION-1\"><span class=\"toc-item-num\">1&nbsp;&nbsp;</span>INTRODUCTION</a></span></li><li><span><a href=\"#PROBLEM\" data-toc-modified-id=\"PROBLEM-2\"><span class=\"toc-item-num\">2&nbsp;&nbsp;</span>PROBLEM</a></span></li><li><span><a href=\"#SOLUTION\" data-toc-modified-id=\"SOLUTION-3\"><span class=\"toc-item-num\">3&nbsp;&nbsp;</span>SOLUTION</a></span><ul class=\"toc-item\"><li><span><a href=\"#Forward-Propagation\" data-toc-modified-id=\"Forward-Propagation-3.1\"><span class=\"toc-item-num\">3.1&nbsp;&nbsp;</span>Forward Propagation</a></span></li><li><span><a href=\"#Back-Propagation\" data-toc-modified-id=\"Back-Propagation-3.2\"><span class=\"toc-item-num\">3.2&nbsp;&nbsp;</span>Back Propagation</a></span></li></ul></li><li><span><a href=\"#CONCLUSIONS\" data-toc-modified-id=\"CONCLUSIONS-4\"><span class=\"toc-item-num\">4&nbsp;&nbsp;</span>CONCLUSIONS</a></span></li></ul></div>"
   ]
  },
  {
   "cell_type": "markdown",
   "metadata": {},
   "source": [
    "##  INTRODUCTION"
   ]
  },
  {
   "cell_type": "markdown",
   "metadata": {},
   "source": [
    "This project will calculate the updated weight for the the first iteration of a ANN with 2 layers by using given weights for all these layers and initialize bias as well as learning rate."
   ]
  },
  {
   "cell_type": "markdown",
   "metadata": {},
   "source": [
    "## PROBLEM"
   ]
  },
  {
   "cell_type": "code",
   "execution_count": 1,
   "metadata": {},
   "outputs": [],
   "source": [
    "import numpy as np"
   ]
  },
  {
   "cell_type": "markdown",
   "metadata": {},
   "source": [
    "![title](problem.png)\n"
   ]
  },
  {
   "cell_type": "markdown",
   "metadata": {},
   "source": [
    "**=> Initialize bias for layers = 0 (example x0 = 1 w0 = 0  -> x0*w0 = 0, bias layer 1 = 0)**"
   ]
  },
  {
   "cell_type": "markdown",
   "metadata": {},
   "source": [
    "!['Diagram'](Diagram.png)"
   ]
  },
  {
   "cell_type": "markdown",
   "metadata": {},
   "source": [
    "Matrix of weights for layers 1 and 2 as follow (bias = 0 so they are not added to matrice):\n",
    "\n",
    "Weights of layer 1 \n",
    "$ W1 = \\begin{bmatrix}\n",
    "    w1j & w2j & w3j\n",
    "  \\\\w1i & w2i & w3i \n",
    "\\end{bmatrix}$\n",
    "\n",
    "Weights of layer 2 \n",
    "$ W2 = \\begin{bmatrix}\n",
    "    wjk & wik    \n",
    "\\end{bmatrix}$\n"
   ]
  },
  {
   "cell_type": "code",
   "execution_count": 2,
   "metadata": {},
   "outputs": [
    {
     "data": {
      "text/plain": [
       "array([[ 0.2,  0.3, -0.1],\n",
       "       [ 0.1, -0.1,  0.2]])"
      ]
     },
     "execution_count": 2,
     "metadata": {},
     "output_type": "execute_result"
    }
   ],
   "source": [
    "W1=np.array([[0.2, 0.3, -0.1],\n",
    "             [0.1, -0.1, 0.2]])\n",
    "W1"
   ]
  },
  {
   "cell_type": "code",
   "execution_count": 3,
   "metadata": {},
   "outputs": [
    {
     "data": {
      "text/plain": [
       "array([[0.1, 0.5]])"
      ]
     },
     "execution_count": 3,
     "metadata": {},
     "output_type": "execute_result"
    }
   ],
   "source": [
    "W2=np.array([0.1, 0.5])\n",
    "W2 = W2.reshape(1,2)\n",
    "W2"
   ]
  },
  {
   "cell_type": "code",
   "execution_count": 4,
   "metadata": {},
   "outputs": [
    {
     "data": {
      "text/plain": [
       "array([[1. ],\n",
       "       [0.4],\n",
       "       [0.7]])"
      ]
     },
     "execution_count": 4,
     "metadata": {},
     "output_type": "execute_result"
    }
   ],
   "source": [
    "X = np.array([[1], [0.4], [0.7]])\n",
    "X"
   ]
  },
  {
   "cell_type": "markdown",
   "metadata": {},
   "source": [
    "**The activation function used in this project is sigmoid function $sig = \\frac{1}{1+e^{-z}}$**"
   ]
  },
  {
   "cell_type": "markdown",
   "metadata": {},
   "source": [
    "## SOLUTION"
   ]
  },
  {
   "cell_type": "markdown",
   "metadata": {},
   "source": [
    "### Forward Propagation"
   ]
  },
  {
   "cell_type": "markdown",
   "metadata": {},
   "source": [
    "Output Matrix of Layer 1 is $ O1 = \\begin{bmatrix}\n",
    "    Oj\n",
    "  \\\\Oi \n",
    "\\end{bmatrix}=$ \n",
    "$\\begin{bmatrix}\n",
    "    sig( w1j*x1 + w2j*x2 + w3j*x3)\n",
    "  \\\\sig( w1i*x1 + w2i*x2 + w3i*x3) \n",
    "\\end{bmatrix}$\n"
   ]
  },
  {
   "cell_type": "code",
   "execution_count": 5,
   "metadata": {},
   "outputs": [],
   "source": [
    "def SigmoidFunc(num):\n",
    "    return 1/(1 + np.exp(- num))"
   ]
  },
  {
   "cell_type": "code",
   "execution_count": 6,
   "metadata": {},
   "outputs": [
    {
     "data": {
      "text/plain": [
       "array([[0.5621765],\n",
       "       [0.549834 ]])"
      ]
     },
     "execution_count": 6,
     "metadata": {},
     "output_type": "execute_result"
    }
   ],
   "source": [
    "O1 = SigmoidFunc(np.dot(W1,X))\n",
    "O1"
   ]
  },
  {
   "cell_type": "markdown",
   "metadata": {},
   "source": [
    "Output Matrix of Layer 2 is $ O2 = \\begin{bmatrix}\n",
    "    Ok \n",
    "\\end{bmatrix}=$\n",
    "$\\begin{bmatrix}\n",
    "    sig( wjk*O1 + wik*O2)\n",
    "\\end{bmatrix}$"
   ]
  },
  {
   "cell_type": "code",
   "execution_count": 7,
   "metadata": {},
   "outputs": [
    {
     "data": {
      "text/plain": [
       "array([[0.58203543]])"
      ]
     },
     "execution_count": 7,
     "metadata": {},
     "output_type": "execute_result"
    }
   ],
   "source": [
    "O2 = SigmoidFunc(np.dot(W2,O1))\n",
    "O2"
   ]
  },
  {
   "cell_type": "markdown",
   "metadata": {},
   "source": [
    "### Back Propagation"
   ]
  },
  {
   "cell_type": "markdown",
   "metadata": {},
   "source": [
    "Error function"
   ]
  },
  {
   "cell_type": "markdown",
   "metadata": {},
   "source": [
    "![aaa](Error.png)"
   ]
  },
  {
   "cell_type": "markdown",
   "metadata": {},
   "source": [
    "**Define tk = 0.8**"
   ]
  },
  {
   "cell_type": "code",
   "execution_count": 8,
   "metadata": {},
   "outputs": [],
   "source": [
    "tk = 0.8"
   ]
  },
  {
   "cell_type": "markdown",
   "metadata": {},
   "source": [
    "![ASDA](BackForm.png)"
   ]
  },
  {
   "cell_type": "markdown",
   "metadata": {},
   "source": [
    "Derivative weights of layer 1 \n",
    "$ dW1 = \\begin{bmatrix}\n",
    "    dw1j & dw2j & dw3j\n",
    "  \\\\dw1i & dw2i & dw3i \n",
    "\\end{bmatrix}$\n",
    "\n",
    "Derivative weights of layer 2 \n",
    "$ dW2 = \\begin{bmatrix}\n",
    "    dwjk & dwik    \n",
    "\\end{bmatrix}$"
   ]
  },
  {
   "cell_type": "markdown",
   "metadata": {},
   "source": [
    "$$dW2 = \\frac{de}{dO2} * \\frac{dO2}{dZ2} * \\frac{dZ2}{dW2}$$\n",
    "\n"
   ]
  },
  {
   "cell_type": "markdown",
   "metadata": {},
   "source": [
    "$\\frac{de}{dO2} = - (tk - 02) $\n",
    "\n",
    "$\\frac{dO2}{dZ2} = O2(1-O2)$\n",
    "\n",
    "$\\frac{dZ2}{dW2} = O1$"
   ]
  },
  {
   "cell_type": "code",
   "execution_count": 9,
   "metadata": {},
   "outputs": [
    {
     "data": {
      "text/plain": [
       "array([[-0.02980901, -0.02915455]])"
      ]
     },
     "execution_count": 9,
     "metadata": {},
     "output_type": "execute_result"
    }
   ],
   "source": [
    "dW2 = np.dot(-(tk - O2)*O2*(1 - O2),O1.T)\n",
    "dW2"
   ]
  },
  {
   "cell_type": "markdown",
   "metadata": {},
   "source": [
    "$$dW1 = \\frac{de}{dO2} * \\frac{dO2}{dZ2} * \\frac{dZ2}{dO1} * \\frac{dO1}{dZ1} * \\frac{dZ1}{dW1}$$\n",
    "\n"
   ]
  },
  {
   "cell_type": "markdown",
   "metadata": {},
   "source": [
    "$\\frac{dZ2}{dO1} = W2$\n",
    "\n",
    "$\\frac{dO1}{dZ1} = O1(1-O1)$\n",
    "\n",
    "$\\frac{dZ1}{dW1} = X$"
   ]
  },
  {
   "cell_type": "code",
   "execution_count": 10,
   "metadata": {},
   "outputs": [
    {
     "data": {
      "text/plain": [
       "(1, 2)"
      ]
     },
     "execution_count": 10,
     "metadata": {},
     "output_type": "execute_result"
    }
   ],
   "source": [
    "W2.shape"
   ]
  },
  {
   "cell_type": "code",
   "execution_count": 11,
   "metadata": {},
   "outputs": [
    {
     "data": {
      "text/plain": [
       "array([[-0.00130511, -0.00052204, -0.00091358],\n",
       "       [-0.00656219, -0.00262488, -0.00459354]])"
      ]
     },
     "execution_count": 11,
     "metadata": {},
     "output_type": "execute_result"
    }
   ],
   "source": [
    "dW1 = np.dot(-(tk - O2)*O2*(1 - O2)*W2.T*O1*(1-O1),X.T)\n",
    "dW1"
   ]
  },
  {
   "cell_type": "markdown",
   "metadata": {},
   "source": [
    "**Define Learning rate $\\eta = 0.1$**\n",
    "\n",
    "**Update Weight:**\n",
    "    \n",
    "$$ W1 = W1 - \\eta*dW1 $$\n",
    "\n",
    "$$ W2 = W2 - \\eta*dW2 $$"
   ]
  },
  {
   "cell_type": "code",
   "execution_count": 12,
   "metadata": {},
   "outputs": [],
   "source": [
    "learning_rate = 0.1\n",
    "updW1 = W1 - learning_rate*dW1\n",
    "updW2 = W2 - learning_rate*dW2"
   ]
  },
  {
   "cell_type": "code",
   "execution_count": 13,
   "metadata": {},
   "outputs": [
    {
     "data": {
      "text/plain": [
       "array([[ 0.20013051,  0.3000522 , -0.09990864],\n",
       "       [ 0.10065622, -0.09973751,  0.20045935]])"
      ]
     },
     "execution_count": 13,
     "metadata": {},
     "output_type": "execute_result"
    }
   ],
   "source": [
    "updW1"
   ]
  },
  {
   "cell_type": "code",
   "execution_count": 14,
   "metadata": {},
   "outputs": [
    {
     "data": {
      "text/plain": [
       "array([[0.1029809 , 0.50291546]])"
      ]
     },
     "execution_count": 14,
     "metadata": {},
     "output_type": "execute_result"
    }
   ],
   "source": [
    "updW2"
   ]
  },
  {
   "cell_type": "markdown",
   "metadata": {},
   "source": [
    "**updW1 and updW2 contain the updated in 1st iteration**"
   ]
  },
  {
   "cell_type": "markdown",
   "metadata": {},
   "source": [
    "## CONCLUSIONS"
   ]
  },
  {
   "cell_type": "markdown",
   "metadata": {},
   "source": [
    "After the 1st iteration the updated weighs are"
   ]
  },
  {
   "cell_type": "code",
   "execution_count": 15,
   "metadata": {},
   "outputs": [],
   "source": [
    "indexLst = ['w1j','w2j','w3j','w1i','w2i','w3i','wjk','wik']\n",
    "lisUpdWeights = np.squeeze(updW1.reshape(6,1)).tolist() + np.squeeze(updW2.reshape(2,1)).tolist()\n",
    "lisUpdWeights = np.round(lisUpdWeights,8)\n",
    "lisWeigh = [0.2, 0.3, -0.1, 0.1, -0.1, 0.2, 0.1, 0.5]"
   ]
  },
  {
   "cell_type": "code",
   "execution_count": 16,
   "metadata": {},
   "outputs": [],
   "source": [
    "import pandas as pd\n",
    "data = {'Weights':lisWeigh,\n",
    "        'Updated_Weights': lisUpdWeights}\n",
    "dataframe = pd.DataFrame(index = indexLst, data = data)"
   ]
  },
  {
   "cell_type": "code",
   "execution_count": 17,
   "metadata": {},
   "outputs": [
    {
     "data": {
      "text/html": [
       "<div>\n",
       "<style scoped>\n",
       "    .dataframe tbody tr th:only-of-type {\n",
       "        vertical-align: middle;\n",
       "    }\n",
       "\n",
       "    .dataframe tbody tr th {\n",
       "        vertical-align: top;\n",
       "    }\n",
       "\n",
       "    .dataframe thead th {\n",
       "        text-align: right;\n",
       "    }\n",
       "</style>\n",
       "<table border=\"1\" class=\"dataframe\">\n",
       "  <thead>\n",
       "    <tr style=\"text-align: right;\">\n",
       "      <th></th>\n",
       "      <th>Weights</th>\n",
       "      <th>Updated_Weights</th>\n",
       "    </tr>\n",
       "  </thead>\n",
       "  <tbody>\n",
       "    <tr>\n",
       "      <td>w1j</td>\n",
       "      <td>0.2</td>\n",
       "      <td>0.200131</td>\n",
       "    </tr>\n",
       "    <tr>\n",
       "      <td>w2j</td>\n",
       "      <td>0.3</td>\n",
       "      <td>0.300052</td>\n",
       "    </tr>\n",
       "    <tr>\n",
       "      <td>w3j</td>\n",
       "      <td>-0.1</td>\n",
       "      <td>-0.099909</td>\n",
       "    </tr>\n",
       "    <tr>\n",
       "      <td>w1i</td>\n",
       "      <td>0.1</td>\n",
       "      <td>0.100656</td>\n",
       "    </tr>\n",
       "    <tr>\n",
       "      <td>w2i</td>\n",
       "      <td>-0.1</td>\n",
       "      <td>-0.099738</td>\n",
       "    </tr>\n",
       "    <tr>\n",
       "      <td>w3i</td>\n",
       "      <td>0.2</td>\n",
       "      <td>0.200459</td>\n",
       "    </tr>\n",
       "    <tr>\n",
       "      <td>wjk</td>\n",
       "      <td>0.1</td>\n",
       "      <td>0.102981</td>\n",
       "    </tr>\n",
       "    <tr>\n",
       "      <td>wik</td>\n",
       "      <td>0.5</td>\n",
       "      <td>0.502915</td>\n",
       "    </tr>\n",
       "  </tbody>\n",
       "</table>\n",
       "</div>"
      ],
      "text/plain": [
       "     Weights  Updated_Weights\n",
       "w1j      0.2         0.200131\n",
       "w2j      0.3         0.300052\n",
       "w3j     -0.1        -0.099909\n",
       "w1i      0.1         0.100656\n",
       "w2i     -0.1        -0.099738\n",
       "w3i      0.2         0.200459\n",
       "wjk      0.1         0.102981\n",
       "wik      0.5         0.502915"
      ]
     },
     "execution_count": 17,
     "metadata": {},
     "output_type": "execute_result"
    }
   ],
   "source": [
    "dataframe"
   ]
  },
  {
   "cell_type": "markdown",
   "metadata": {},
   "source": [
    "**=> After the 1st iteration, table above shows the result**"
   ]
  }
 ],
 "metadata": {
  "kernelspec": {
   "display_name": "Python 3",
   "language": "python",
   "name": "python3"
  },
  "language_info": {
   "codemirror_mode": {
    "name": "ipython",
    "version": 3
   },
   "file_extension": ".py",
   "mimetype": "text/x-python",
   "name": "python",
   "nbconvert_exporter": "python",
   "pygments_lexer": "ipython3",
   "version": "3.7.4"
  },
  "toc": {
   "base_numbering": 1,
   "nav_menu": {},
   "number_sections": true,
   "sideBar": true,
   "skip_h1_title": true,
   "title_cell": "Table of Contents",
   "title_sidebar": "Contents",
   "toc_cell": true,
   "toc_position": {},
   "toc_section_display": true,
   "toc_window_display": true
  }
 },
 "nbformat": 4,
 "nbformat_minor": 2
}
