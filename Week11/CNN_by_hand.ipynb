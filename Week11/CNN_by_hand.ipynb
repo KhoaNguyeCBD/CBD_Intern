{
 "cells": [
  {
   "cell_type": "markdown",
   "metadata": {},
   "source": [
    "# <center>CNN by hand<center>"
   ]
  },
  {
   "cell_type": "markdown",
   "metadata": {
    "toc": true
   },
   "source": [
    "<h1>Table of Contents<span class=\"tocSkip\"></span></h1>\n",
    "<div class=\"toc\"><ul class=\"toc-item\"><li><span><a href=\"#Problem\" data-toc-modified-id=\"Problem-1\"><span class=\"toc-item-num\">1&nbsp;&nbsp;</span>Problem</a></span></li><li><span><a href=\"#Forward-propagation\" data-toc-modified-id=\"Forward-propagation-2\"><span class=\"toc-item-num\">2&nbsp;&nbsp;</span>Forward propagation</a></span><ul class=\"toc-item\"><li><span><a href=\"#Convolution-Layer\" data-toc-modified-id=\"Convolution-Layer-2.1\"><span class=\"toc-item-num\">2.1&nbsp;&nbsp;</span>Convolution Layer</a></span></li><li><span><a href=\"#Max-Pooling-Layer\" data-toc-modified-id=\"Max-Pooling-Layer-2.2\"><span class=\"toc-item-num\">2.2&nbsp;&nbsp;</span>Max Pooling Layer</a></span></li><li><span><a href=\"#Fully-Connected-Layers\" data-toc-modified-id=\"Fully-Connected-Layers-2.3\"><span class=\"toc-item-num\">2.3&nbsp;&nbsp;</span>Fully Connected Layers</a></span></li></ul></li><li><span><a href=\"#Backpropagation\" data-toc-modified-id=\"Backpropagation-3\"><span class=\"toc-item-num\">3&nbsp;&nbsp;</span>Backpropagation</a></span><ul class=\"toc-item\"><li><span><a href=\"#Fully-Connected-Layers\" data-toc-modified-id=\"Fully-Connected-Layers-3.1\"><span class=\"toc-item-num\">3.1&nbsp;&nbsp;</span>Fully Connected Layers</a></span></li><li><span><a href=\"#Pooling-Layers\" data-toc-modified-id=\"Pooling-Layers-3.2\"><span class=\"toc-item-num\">3.2&nbsp;&nbsp;</span>Pooling Layers</a></span></li><li><span><a href=\"#Convolution-Layers\" data-toc-modified-id=\"Convolution-Layers-3.3\"><span class=\"toc-item-num\">3.3&nbsp;&nbsp;</span>Convolution Layers</a></span></li></ul></li></ul></div>"
   ]
  },
  {
   "cell_type": "markdown",
   "metadata": {},
   "source": [
    "## Problem "
   ]
  },
  {
   "cell_type": "markdown",
   "metadata": {},
   "source": [
    "![title](problem.png)\n"
   ]
  },
  {
   "cell_type": "markdown",
   "metadata": {},
   "source": [
    "1. Input size (3,1,1) \n",
    "2. One Convolution layer with filter (2,1), stride = 1, pad = 0, depth = 3\n",
    "3. One max pooling layer wiht filter (2,1) stride = 1, pad = 0\n",
    "4. 1 Full connection layer with 1 neuron"
   ]
  },
  {
   "cell_type": "markdown",
   "metadata": {},
   "source": [
    "- Output size of convolution layer = $(3 - 2)/1 + 1 = 2 $  x $(1 - 1)/1 + 1 = 1$ => $(2,1,3)$\n",
    "- Number of parameter = $2*1*1*3$ = $6$"
   ]
  },
  {
   "cell_type": "markdown",
   "metadata": {},
   "source": [
    "- Ouput size of max pooling layer = $(2 - 2)/1 + 1 = 1$ x $(1 - 1)/1 + 1 = 1 $ => ($1,1,3)$\n",
    "- Number of parameter = 0"
   ]
  },
  {
   "cell_type": "markdown",
   "metadata": {},
   "source": [
    "- FC use 3 parameters"
   ]
  },
  {
   "cell_type": "markdown",
   "metadata": {},
   "source": [
    "- all biases = 0"
   ]
  },
  {
   "cell_type": "markdown",
   "metadata": {},
   "source": [
    "## Forward propagation "
   ]
  },
  {
   "cell_type": "code",
   "execution_count": 13,
   "metadata": {},
   "outputs": [],
   "source": [
    "import numpy as np"
   ]
  },
  {
   "cell_type": "code",
   "execution_count": 23,
   "metadata": {},
   "outputs": [
    {
     "data": {
      "text/plain": [
       "array([[[1. ]],\n",
       "\n",
       "       [[0.4]],\n",
       "\n",
       "       [[0.7]]])"
      ]
     },
     "execution_count": 23,
     "metadata": {},
     "output_type": "execute_result"
    }
   ],
   "source": [
    "X = np.array([1, 0.4, 0.7])\n",
    "X = X.reshape(3,1,1)\n",
    "X"
   ]
  },
  {
   "cell_type": "markdown",
   "metadata": {},
   "source": [
    "### Convolution Layer"
   ]
  },
  {
   "cell_type": "markdown",
   "metadata": {},
   "source": [
    "Weights of conv layer: take from w1j and i to w3j and i (6 in total)"
   ]
  },
  {
   "cell_type": "code",
   "execution_count": 70,
   "metadata": {},
   "outputs": [],
   "source": [
    "W1 = np.array([ [[0.2, 0.3,  -0.1]],\n",
    "                [[0.1, -0.1, 0.2]]\n",
    "              ])"
   ]
  },
  {
   "cell_type": "code",
   "execution_count": 71,
   "metadata": {},
   "outputs": [
    {
     "data": {
      "text/plain": [
       "(2, 1, 3)"
      ]
     },
     "execution_count": 71,
     "metadata": {},
     "output_type": "execute_result"
    }
   ],
   "source": [
    "W1.shape"
   ]
  },
  {
   "cell_type": "code",
   "execution_count": 72,
   "metadata": {},
   "outputs": [
    {
     "data": {
      "text/plain": [
       "(3, 1, 1)"
      ]
     },
     "execution_count": 72,
     "metadata": {},
     "output_type": "execute_result"
    }
   ],
   "source": [
    "X.shape"
   ]
  },
  {
   "cell_type": "code",
   "execution_count": 91,
   "metadata": {},
   "outputs": [],
   "source": [
    "Out_conv = np.zeros((2,1,3))\n",
    "\n",
    "# 1st filter\n",
    "Out_conv[0,0,0] = np.sum(W1[:,:,0]*X[:2,0,0])\n",
    "Out_conv[1,0,0] = np.sum(W1[:,:,0]*X[1:3,0,0])\n",
    "\n",
    "# 2nd filter\n",
    "Out_conv[0,0,1] = np.sum(W1[:,:,1]*X[:2,0,0])\n",
    "Out_conv[1,0,1] = np.sum(W1[:,:,1]*X[1:3,0,0])\n",
    "\n",
    "\n",
    "# 3rd filter\n",
    "Out_conv[0,0,2] = np.sum(W1[:,:,2]*X[:2,0,0])\n",
    "Out_conv[1,0,2] = np.sum(W1[:,:,2]*X[1:3,0,0])"
   ]
  },
  {
   "cell_type": "code",
   "execution_count": 93,
   "metadata": {},
   "outputs": [
    {
     "data": {
      "text/plain": [
       "(2, 1, 3)"
      ]
     },
     "execution_count": 93,
     "metadata": {},
     "output_type": "execute_result"
    }
   ],
   "source": [
    "Out_conv.shape"
   ]
  },
  {
   "cell_type": "code",
   "execution_count": 92,
   "metadata": {},
   "outputs": [
    {
     "data": {
      "text/plain": [
       "array([[[0.42, 0.28, 0.14]],\n",
       "\n",
       "       [[0.33, 0.22, 0.11]]])"
      ]
     },
     "execution_count": 92,
     "metadata": {},
     "output_type": "execute_result"
    }
   ],
   "source": [
    "Out_conv"
   ]
  },
  {
   "cell_type": "markdown",
   "metadata": {},
   "source": [
    "**=> 6 parameters and output size is (2,1,3)**"
   ]
  },
  {
   "cell_type": "markdown",
   "metadata": {},
   "source": [
    "### Max Pooling Layer "
   ]
  },
  {
   "cell_type": "code",
   "execution_count": 99,
   "metadata": {},
   "outputs": [],
   "source": [
    "Out_pool = np.zeros((1,1,3))\n",
    "\n",
    "# 1st filter\n",
    "Out_pool[0,0,0] = np.max(Out_conv[:,:,0])\n",
    "\n",
    "# 2nd filter\n",
    "Out_pool[0,0,1] = np.max(Out_conv[:,:,1])\n",
    "\n",
    "# 3rd filter\n",
    "Out_pool[0,0,2] = np.max(Out_conv[:,:,2])\n"
   ]
  },
  {
   "cell_type": "code",
   "execution_count": 101,
   "metadata": {},
   "outputs": [
    {
     "data": {
      "text/plain": [
       "(1, 1, 3)"
      ]
     },
     "execution_count": 101,
     "metadata": {},
     "output_type": "execute_result"
    }
   ],
   "source": [
    "Out_pool.shape"
   ]
  },
  {
   "cell_type": "code",
   "execution_count": 100,
   "metadata": {},
   "outputs": [
    {
     "data": {
      "text/plain": [
       "array([[[0.42, 0.28, 0.14]]])"
      ]
     },
     "execution_count": 100,
     "metadata": {},
     "output_type": "execute_result"
    }
   ],
   "source": [
    "Out_pool"
   ]
  },
  {
   "cell_type": "markdown",
   "metadata": {},
   "source": [
    "**=> 0 parameter and output size is (1,1,3)**"
   ]
  },
  {
   "cell_type": "markdown",
   "metadata": {},
   "source": [
    "### Fully Connected Layers"
   ]
  },
  {
   "cell_type": "markdown",
   "metadata": {},
   "source": [
    "Requirement is 3 parameters, but now only 2 parameters remains (wjk and wik) so another parameter is added (0.6)\n",
    "\n",
    "- ativation is sigmoid"
   ]
  },
  {
   "cell_type": "code",
   "execution_count": 108,
   "metadata": {},
   "outputs": [],
   "source": [
    "W3 = np.array([0.1, 0.5, 0.6])\n",
    "W3 = W3.reshape(1,3)"
   ]
  },
  {
   "cell_type": "code",
   "execution_count": 109,
   "metadata": {},
   "outputs": [
    {
     "data": {
      "text/plain": [
       "(1, 3)"
      ]
     },
     "execution_count": 109,
     "metadata": {},
     "output_type": "execute_result"
    }
   ],
   "source": [
    "W3.shape"
   ]
  },
  {
   "cell_type": "code",
   "execution_count": 112,
   "metadata": {},
   "outputs": [
    {
     "data": {
      "text/plain": [
       "array([[0.42],\n",
       "       [0.28],\n",
       "       [0.14]])"
      ]
     },
     "execution_count": 112,
     "metadata": {},
     "output_type": "execute_result"
    }
   ],
   "source": [
    "Out_pool = Out_pool.reshape(3,1)\n",
    "Out_pool"
   ]
  },
  {
   "cell_type": "code",
   "execution_count": 115,
   "metadata": {},
   "outputs": [
    {
     "data": {
      "text/plain": [
       "0.26599999999999996"
      ]
     },
     "execution_count": 115,
     "metadata": {},
     "output_type": "execute_result"
    }
   ],
   "source": [
    "Z = np.dot(W3,Out_pool)\n",
    "float(Z)"
   ]
  },
  {
   "cell_type": "code",
   "execution_count": 116,
   "metadata": {},
   "outputs": [],
   "source": [
    "def sigFun(num):\n",
    "    return 1/(1 + np.exp(-num))"
   ]
  },
  {
   "cell_type": "code",
   "execution_count": 118,
   "metadata": {},
   "outputs": [
    {
     "data": {
      "text/plain": [
       "0.5661106484969565"
      ]
     },
     "execution_count": 118,
     "metadata": {},
     "output_type": "execute_result"
    }
   ],
   "source": [
    "Output = sigFun(Z)\n",
    "float(Output)"
   ]
  },
  {
   "cell_type": "markdown",
   "metadata": {},
   "source": [
    "**=> Result is 0.5661106484969565**"
   ]
  },
  {
   "cell_type": "markdown",
   "metadata": {},
   "source": [
    "## Backpropagation "
   ]
  },
  {
   "cell_type": "markdown",
   "metadata": {},
   "source": [
    "### Fully Connected Layers "
   ]
  },
  {
   "cell_type": "markdown",
   "metadata": {},
   "source": [
    "**Define tk = 0.8**"
   ]
  },
  {
   "cell_type": "code",
   "execution_count": 119,
   "metadata": {},
   "outputs": [],
   "source": [
    "tk = 0.8"
   ]
  },
  {
   "cell_type": "code",
   "execution_count": 120,
   "metadata": {},
   "outputs": [
    {
     "data": {
      "text/plain": [
       "array([[-0.02412904, -0.01608603, -0.00804301]])"
      ]
     },
     "execution_count": 120,
     "metadata": {},
     "output_type": "execute_result"
    }
   ],
   "source": [
    "dW3 = np.dot(-(tk - Output)*Output*(1 - Output),Out_pool.T)\n",
    "dW3"
   ]
  },
  {
   "cell_type": "markdown",
   "metadata": {},
   "source": [
    "### Pooling Layers "
   ]
  },
  {
   "cell_type": "markdown",
   "metadata": {},
   "source": [
    "Find the input (max) affect to the gradients"
   ]
  },
  {
   "cell_type": "code",
   "execution_count": 123,
   "metadata": {},
   "outputs": [
    {
     "data": {
      "text/plain": [
       "(2, 1, 3)"
      ]
     },
     "execution_count": 123,
     "metadata": {},
     "output_type": "execute_result"
    }
   ],
   "source": [
    "dOut_conv = np.zeros(Out_conv.shape)\n",
    "Out_conv.shape"
   ]
  },
  {
   "cell_type": "code",
   "execution_count": 124,
   "metadata": {},
   "outputs": [],
   "source": [
    "def maskPool(x):\n",
    "    return (x == np.max(x))"
   ]
  },
  {
   "cell_type": "code",
   "execution_count": 130,
   "metadata": {},
   "outputs": [],
   "source": [
    "#filter 1\n",
    "dOut_conv[:,:,0] = maskPool(Out_conv[:,:,0])*dW3[0][0] \n",
    "\n",
    "#filter 1\n",
    "dOut_conv[:,:,1] = maskPool(Out_conv[:,:,0])*dW3[0][1] \n",
    "\n",
    "#filter 1\n",
    "dOut_conv[:,:,2] = maskPool(Out_conv[:,:,0])*dW3[0][2] "
   ]
  },
  {
   "cell_type": "code",
   "execution_count": 131,
   "metadata": {},
   "outputs": [
    {
     "data": {
      "text/plain": [
       "array([[[-0.02412904, -0.01608603, -0.00804301]],\n",
       "\n",
       "       [[-0.        , -0.        , -0.        ]]])"
      ]
     },
     "execution_count": 131,
     "metadata": {},
     "output_type": "execute_result"
    }
   ],
   "source": [
    "dOut_conv"
   ]
  },
  {
   "cell_type": "markdown",
   "metadata": {},
   "source": [
    "### Convolution Layers "
   ]
  },
  {
   "cell_type": "markdown",
   "metadata": {},
   "source": [
    "I don't know how to calculate gradient of this layer."
   ]
  },
  {
   "cell_type": "code",
   "execution_count": null,
   "metadata": {},
   "outputs": [],
   "source": []
  }
 ],
 "metadata": {
  "kernelspec": {
   "display_name": "Python 3",
   "language": "python",
   "name": "python3"
  },
  "language_info": {
   "codemirror_mode": {
    "name": "ipython",
    "version": 3
   },
   "file_extension": ".py",
   "mimetype": "text/x-python",
   "name": "python",
   "nbconvert_exporter": "python",
   "pygments_lexer": "ipython3",
   "version": "3.7.4"
  },
  "toc": {
   "base_numbering": 1,
   "nav_menu": {},
   "number_sections": true,
   "sideBar": true,
   "skip_h1_title": true,
   "title_cell": "Table of Contents",
   "title_sidebar": "Contents",
   "toc_cell": true,
   "toc_position": {
    "height": "calc(100% - 180px)",
    "left": "10px",
    "top": "150px",
    "width": "165px"
   },
   "toc_section_display": true,
   "toc_window_display": true
  }
 },
 "nbformat": 4,
 "nbformat_minor": 2
}
