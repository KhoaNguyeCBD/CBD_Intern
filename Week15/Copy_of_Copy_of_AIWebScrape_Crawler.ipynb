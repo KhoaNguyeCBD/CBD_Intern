{
  "nbformat": 4,
  "nbformat_minor": 0,
  "metadata": {
    "colab": {
      "name": "Copy of Copy of AIWebScrape_Crawler.ipynb",
      "provenance": [],
      "collapsed_sections": [],
      "toc_visible": true
    },
    "kernelspec": {
      "name": "python3",
      "display_name": "Python 3"
    }
  },
  "cells": [
    {
      "cell_type": "markdown",
      "metadata": {
        "id": "4DjRz_nacHA6",
        "colab_type": "text"
      },
      "source": [
        "## Introduction"
      ]
    },
    {
      "cell_type": "markdown",
      "metadata": {
        "id": "grOAD5ZacFbB",
        "colab_type": "text"
      },
      "source": [
        "\n",
        "1. Based on the results from part 1, the system go to **Google** and **search treatment** for desired stage. And get **first 10 websites** (if one of the website is my domain data which is used to compare similarity with other website).\n",
        "\n",
        "2. Then using a **Scrapy script** to **crawl** all possible **links** and **store** them in a json file **(Links.json)**.\n",
        "\n",
        "3. Using **BeautifulSoup and request** to get **all text in these links (only distinct links)** and **store** them in **ScrapedDataFrame.json** (for later usage) and return an pandas dataframe **(df)**.\n",
        "\n",
        "4. Then **concatenating all paragraph or sentences in each link** to one paragraph **(df_WholeWeb)** used to comapre with my data.\n",
        "\n",
        "5. Using **BeautifulSoup and request** get all **specific content for stage I, II and III of NSCLC**, after that they are **concatenaing to one paragraph** for each of them and return a dataframe **(df_prepTreatmentData)**.\n",
        "\n",
        "6. **Compare the similarity** of my data by using **Google Universal sentences encoder model**. The **5 most similar links** (if they are **higher** **80%**) will be taken.\n",
        "\n",
        "7. **Process my data** and using **LSA, LDA and NNMF** to extract the\n",
        "important information to **get 50 keywords**.\n",
        "\n",
        "8. Get **all sentences and paragraphs form the 5 most similar links** above and reuse **Google Universal sentences encoder model** to **find** the **highest rank of sentence and paragraph**.\n",
        "\n",
        "9. **Get a half highest rank (if they > 80%)** and **combine** it into **1 document** then use **texrank** to **summarize the content with ratio range from 10% to 70% and must higher than 1000 words**.\n",
        "\n",
        "\n",
        "**NOTE: All the test are preprocessed before finding the similarity such as convert_lower_case, remove_punctuation, remove_apostrophe, convert_numbers, remove_stop_words, stemming**\n",
        "\n"
      ]
    },
    {
      "cell_type": "code",
      "metadata": {
        "id": "1WoBc0FDlc4F",
        "colab_type": "code",
        "outputId": "81ca7d81-3cc5-46ac-8347-4b073e89483e",
        "colab": {
          "base_uri": "https://localhost:8080/",
          "height": 35
        }
      },
      "source": [
        "cd .."
      ],
      "execution_count": 1,
      "outputs": [
        {
          "output_type": "stream",
          "text": [
            "/\n"
          ],
          "name": "stdout"
        }
      ]
    },
    {
      "cell_type": "code",
      "metadata": {
        "id": "yHPA_wry6b_w",
        "colab_type": "code",
        "outputId": "c61867d0-b8f2-4240-8b86-0d1bea9141a2",
        "colab": {
          "base_uri": "https://localhost:8080/",
          "height": 35
        }
      },
      "source": [
        "cd \"/content/drive/My Drive/CBD_Robotic/Part2/Part2_2/Multisite-Python-Crawler-master/scraper\""
      ],
      "execution_count": 2,
      "outputs": [
        {
          "output_type": "stream",
          "text": [
            "/content/drive/My Drive/CBD_Robotic/Part2/Part2_2/Multisite-Python-Crawler-master/scraper\n"
          ],
          "name": "stdout"
        }
      ]
    },
    {
      "cell_type": "code",
      "metadata": {
        "id": "0BMc2D8z6i-g",
        "colab_type": "code",
        "outputId": "528b48de-2fe5-449a-a0d4-ea88740f0c60",
        "colab": {
          "base_uri": "https://localhost:8080/",
          "height": 53
        }
      },
      "source": [
        "!pip install google\n"
      ],
      "execution_count": 3,
      "outputs": [
        {
          "output_type": "stream",
          "text": [
            "Requirement already satisfied: google in /usr/local/lib/python3.6/dist-packages (2.0.3)\n",
            "Requirement already satisfied: beautifulsoup4 in /usr/local/lib/python3.6/dist-packages (from google) (4.6.3)\n"
          ],
          "name": "stdout"
        }
      ]
    },
    {
      "cell_type": "code",
      "metadata": {
        "id": "8GHxh6oR6oWg",
        "colab_type": "code",
        "outputId": "16fcd1b3-ef12-402b-9462-3e8b078956ad",
        "colab": {
          "base_uri": "https://localhost:8080/",
          "height": 505
        }
      },
      "source": [
        "!pip install scrapy"
      ],
      "execution_count": 4,
      "outputs": [
        {
          "output_type": "stream",
          "text": [
            "Requirement already satisfied: scrapy in /usr/local/lib/python3.6/dist-packages (2.0.1)\n",
            "Requirement already satisfied: PyDispatcher>=2.0.5 in /usr/local/lib/python3.6/dist-packages (from scrapy) (2.0.5)\n",
            "Requirement already satisfied: pyOpenSSL>=16.2.0 in /usr/local/lib/python3.6/dist-packages (from scrapy) (19.1.0)\n",
            "Requirement already satisfied: service-identity>=16.0.0 in /usr/local/lib/python3.6/dist-packages (from scrapy) (18.1.0)\n",
            "Requirement already satisfied: lxml>=3.5.0 in /usr/local/lib/python3.6/dist-packages (from scrapy) (4.2.6)\n",
            "Requirement already satisfied: cssselect>=0.9.1 in /usr/local/lib/python3.6/dist-packages (from scrapy) (1.1.0)\n",
            "Requirement already satisfied: w3lib>=1.17.0 in /usr/local/lib/python3.6/dist-packages (from scrapy) (1.21.0)\n",
            "Requirement already satisfied: protego>=0.1.15 in /usr/local/lib/python3.6/dist-packages (from scrapy) (0.1.16)\n",
            "Requirement already satisfied: Twisted>=17.9.0 in /usr/local/lib/python3.6/dist-packages (from scrapy) (20.3.0)\n",
            "Requirement already satisfied: cryptography>=2.0 in /usr/local/lib/python3.6/dist-packages (from scrapy) (2.9)\n",
            "Requirement already satisfied: zope.interface>=4.1.3 in /usr/local/lib/python3.6/dist-packages (from scrapy) (5.1.0)\n",
            "Requirement already satisfied: queuelib>=1.4.2 in /usr/local/lib/python3.6/dist-packages (from scrapy) (1.5.0)\n",
            "Requirement already satisfied: parsel>=1.5.0 in /usr/local/lib/python3.6/dist-packages (from scrapy) (1.5.2)\n",
            "Requirement already satisfied: six>=1.5.2 in /usr/local/lib/python3.6/dist-packages (from pyOpenSSL>=16.2.0->scrapy) (1.12.0)\n",
            "Requirement already satisfied: attrs>=16.0.0 in /usr/local/lib/python3.6/dist-packages (from service-identity>=16.0.0->scrapy) (19.3.0)\n",
            "Requirement already satisfied: pyasn1 in /usr/local/lib/python3.6/dist-packages (from service-identity>=16.0.0->scrapy) (0.4.8)\n",
            "Requirement already satisfied: pyasn1-modules in /usr/local/lib/python3.6/dist-packages (from service-identity>=16.0.0->scrapy) (0.2.8)\n",
            "Requirement already satisfied: Automat>=0.3.0 in /usr/local/lib/python3.6/dist-packages (from Twisted>=17.9.0->scrapy) (20.2.0)\n",
            "Requirement already satisfied: incremental>=16.10.1 in /usr/local/lib/python3.6/dist-packages (from Twisted>=17.9.0->scrapy) (17.5.0)\n",
            "Requirement already satisfied: PyHamcrest!=1.10.0,>=1.9.0 in /usr/local/lib/python3.6/dist-packages (from Twisted>=17.9.0->scrapy) (2.0.2)\n",
            "Requirement already satisfied: hyperlink>=17.1.1 in /usr/local/lib/python3.6/dist-packages (from Twisted>=17.9.0->scrapy) (19.0.0)\n",
            "Requirement already satisfied: constantly>=15.1 in /usr/local/lib/python3.6/dist-packages (from Twisted>=17.9.0->scrapy) (15.1.0)\n",
            "Requirement already satisfied: cffi!=1.11.3,>=1.8 in /usr/local/lib/python3.6/dist-packages (from cryptography>=2.0->scrapy) (1.14.0)\n",
            "Requirement already satisfied: setuptools in /usr/local/lib/python3.6/dist-packages (from zope.interface>=4.1.3->scrapy) (46.1.3)\n",
            "Requirement already satisfied: idna>=2.5 in /usr/local/lib/python3.6/dist-packages (from hyperlink>=17.1.1->Twisted>=17.9.0->scrapy) (2.8)\n",
            "Requirement already satisfied: pycparser in /usr/local/lib/python3.6/dist-packages (from cffi!=1.11.3,>=1.8->cryptography>=2.0->scrapy) (2.20)\n"
          ],
          "name": "stdout"
        }
      ]
    },
    {
      "cell_type": "code",
      "metadata": {
        "id": "VKi8xh-VjPjd",
        "colab_type": "code",
        "colab": {}
      },
      "source": [
        "import os"
      ],
      "execution_count": 0,
      "outputs": []
    },
    {
      "cell_type": "code",
      "metadata": {
        "id": "g0bbN4KgkVAp",
        "colab_type": "code",
        "colab": {}
      },
      "source": [
        "################################################################################"
      ],
      "execution_count": 0,
      "outputs": []
    },
    {
      "cell_type": "code",
      "metadata": {
        "id": "F8nRd16-kj3D",
        "colab_type": "code",
        "outputId": "5472c214-84bd-42f0-f596-72629936540a",
        "colab": {
          "base_uri": "https://localhost:8080/",
          "height": 107
        }
      },
      "source": [
        "try: \n",
        "    from googlesearch import search \n",
        "except ImportError:  \n",
        "    print(\"No module named 'google' found\") \n",
        "  \n",
        "# to search \n",
        "query = \"Treatment Choices for Non-Small Cell Lung Cancer by Stage 2 or II\"\n",
        "\n",
        "myDomainData = \"www.cancer.ca\" # avoid seeking my data\n",
        "googleLinks = []\n",
        "count = 0\n",
        "for j in search(query, tld=\"co.in\", num=1, stop=None, pause=2): \n",
        "    if count == 5:\n",
        "      break\n",
        "    print(j) \n",
        "    if myDomainData == j.split('/')[2]:\n",
        "      continue\n",
        "    googleLinks.append(j) \n",
        "    count += 1"
      ],
      "execution_count": 7,
      "outputs": [
        {
          "output_type": "stream",
          "text": [
            "https://www.cancer.org/cancer/lung-cancer/treating-non-small-cell/by-stage.html\n",
            "https://www.verywellhealth.com/stage-2-non-small-cell-lung-cancer-2249379\n",
            "https://www.webmd.com/lung-cancer/lung-cancer-stage-2-overview\n",
            "https://www.texasoncology.com/types-of-cancer/lung-cancer/non-small-cell-lung-cancer/stage-ii-non-small-cell-lung-cancer\n",
            "https://www.healthline.com/health/stage-2-lung-cancer\n"
          ],
          "name": "stdout"
        }
      ]
    },
    {
      "cell_type": "code",
      "metadata": {
        "id": "br9g58TT_wUm",
        "colab_type": "code",
        "colab": {}
      },
      "source": [
        "import json\n",
        "fullAllLinks = {}\n",
        "for link in googleLinks:\n",
        "  spiderName = \"mySpider\"\n",
        "  url = \"-a url=\" + str(link)\n",
        "  domainName = str(link).split(\"/\")[2]\n",
        "  domain = \"-a domain=\" + domainName\n",
        "  jsonName = \"-o \" + domainName.replace(\".\",\"_\") +\".json\"\n",
        "  os.system(\"scrapy crawl {} {} {}\".format(spiderName, url, domain))\n",
        "  #get fullAllLinks\n",
        "  with open(\"allLinks.json\", 'r') as f: \n",
        "      # Reading from json file \n",
        "      json_object = json.load(f)\n",
        "  fullAllLinks[domainName] = json_object\n",
        "\n",
        "with open(\"Links/Links.json\", \"w\") as outfile: \n",
        "\t\t\tjson.dump(fullAllLinks, outfile)\n",
        "\n",
        "\n"
      ],
      "execution_count": 0,
      "outputs": []
    },
    {
      "cell_type": "code",
      "metadata": {
        "id": "mWyEA7HK1b2M",
        "colab_type": "code",
        "colab": {}
      },
      "source": [
        "\n",
        "def GetConvertedDomainNametxt(links):\n",
        "  domainNameList = []\n",
        "  jsonFileList = []\n",
        "  for link in links:\n",
        "    domainNameList.append(str(link).split(\"/\")[2])\n",
        "    jsonFileList.append(str(link).split(\"/\")[2].replace(\".\", \"_\") + \".txt\")\n",
        "    \n",
        "  return list(set(domainNameList)), list(set(jsonFileList))"
      ],
      "execution_count": 0,
      "outputs": []
    },
    {
      "cell_type": "code",
      "metadata": {
        "id": "nNoyqM_r-inl",
        "colab_type": "code",
        "colab": {}
      },
      "source": [
        "\n",
        "def GetConvertedDomainNameJson(links):\n",
        "  domainNameList = []\n",
        "  jsonFileList = []\n",
        "  for link in links:\n",
        "    domainNameList.append(str(link).split(\"/\")[2])\n",
        "    jsonFileList.append(str(link).split(\"/\")[2].replace(\".\", \"_\") + \".json\")\n",
        "    \n",
        "  return list(set(domainNameList)), list(set(jsonFileList))"
      ],
      "execution_count": 0,
      "outputs": []
    },
    {
      "cell_type": "code",
      "metadata": {
        "id": "rRGQ364hg_ph",
        "colab_type": "code",
        "colab": {}
      },
      "source": [
        "domainNameList , txtFileList= GetConvertedDomainNametxt(googleLinks)"
      ],
      "execution_count": 0,
      "outputs": []
    },
    {
      "cell_type": "code",
      "metadata": {
        "id": "BIWWmLyZXm0d",
        "colab_type": "code",
        "colab": {}
      },
      "source": [
        "domainNameList , jsonFileList= GetConvertedDomainNameJson(googleLinks)"
      ],
      "execution_count": 0,
      "outputs": []
    },
    {
      "cell_type": "code",
      "metadata": {
        "id": "Lp0nECSgg_94",
        "colab_type": "code",
        "outputId": "ae8889bf-b950-43a2-ce3d-4bd1340a0e27",
        "colab": {
          "base_uri": "https://localhost:8080/",
          "height": 107
        }
      },
      "source": [
        "domainNameList"
      ],
      "execution_count": 13,
      "outputs": [
        {
          "output_type": "execute_result",
          "data": {
            "text/plain": [
              "['www.verywellhealth.com',\n",
              " 'www.healthline.com',\n",
              " 'www.webmd.com',\n",
              " 'www.cancer.org',\n",
              " 'www.texasoncology.com']"
            ]
          },
          "metadata": {
            "tags": []
          },
          "execution_count": 13
        }
      ]
    },
    {
      "cell_type": "code",
      "metadata": {
        "id": "qX5EKlCWX4k4",
        "colab_type": "code",
        "outputId": "5c010f64-97d7-4db8-ab3d-2330da018ad2",
        "colab": {
          "base_uri": "https://localhost:8080/",
          "height": 107
        }
      },
      "source": [
        "txtFileList"
      ],
      "execution_count": 14,
      "outputs": [
        {
          "output_type": "execute_result",
          "data": {
            "text/plain": [
              "['www_texasoncology_com.txt',\n",
              " 'www_healthline_com.txt',\n",
              " 'www_verywellhealth_com.txt',\n",
              " 'www_cancer_org.txt',\n",
              " 'www_webmd_com.txt']"
            ]
          },
          "metadata": {
            "tags": []
          },
          "execution_count": 14
        }
      ]
    },
    {
      "cell_type": "code",
      "metadata": {
        "id": "_taFABzjhAAz",
        "colab_type": "code",
        "outputId": "a0ad6fa5-a7e6-4a7e-82c1-35ec07aa2953",
        "colab": {
          "base_uri": "https://localhost:8080/",
          "height": 107
        }
      },
      "source": [
        "jsonFileList"
      ],
      "execution_count": 15,
      "outputs": [
        {
          "output_type": "execute_result",
          "data": {
            "text/plain": [
              "['www_webmd_com.json',\n",
              " 'www_healthline_com.json',\n",
              " 'www_verywellhealth_com.json',\n",
              " 'www_cancer_org.json',\n",
              " 'www_texasoncology_com.json']"
            ]
          },
          "metadata": {
            "tags": []
          },
          "execution_count": 15
        }
      ]
    },
    {
      "cell_type": "code",
      "metadata": {
        "id": "ahtu2E-ChAWB",
        "colab_type": "code",
        "colab": {}
      },
      "source": [
        "import requests, re\n",
        "from bs4 import BeautifulSoup\n",
        "import pandas as pd\n",
        "\n",
        "titleList = []\n",
        "# urls = [\"https://www.cancer.org/cancer/lung-cancer/treating-non-small-cell/by-stage.html\"]\n",
        "# text = 'downloaded'\n",
        "def GenerateSrapedDataFrame(allLinksJson, path, googleLinks):\n",
        "  #Get all domain name list\n",
        "  domainNameList , jsonFileList= GetConvertedDomainNameJson(googleLinks)\n",
        "  \n",
        "  #Searching tags may have text\n",
        "  #lista = ['h1', 'h2', 'h3', 'p', 'a', 'ul', 'span', 'input']\n",
        "  # lista = ['h1', 'h2', 'h3', 'p']\n",
        "  # cannot arrange h1 h2 h3 and p into a graph so I only get <p> tag and leave it for futer improvement\n",
        "  lista = ['p']\n",
        "\n",
        "  # Generate Pandas Data Frame\n",
        "  df = pd.DataFrame(columns = ['Domains', 'links', 'title','content'])\n",
        "  dictionary = {}\n",
        "\n",
        "  links = [] # container of all links got from scrapy\n",
        "  for domain in domainNameList:\n",
        "    for i in allLinksJson[domain]:\n",
        "      links.append(allLinksJson[domain][i])\n",
        "\n",
        "  with open(path + \"ScrapedDataFrame.json\", 'w', encoding='utf-8') as outfile:\n",
        "    for index, link in enumerate(links):\n",
        "      website = requests.get(link)\n",
        "      soup = BeautifulSoup(website.content, 'lxml')\n",
        "      tags = soup.find_all(lista)\n",
        "      title = soup.find('title').text\n",
        "      if title in titleList: # avoid repating page\n",
        "        continue\n",
        "      else:\n",
        "        titleList.append(title)\n",
        "      text = [''.join(s.findAll(text=True)) for s in tags]\n",
        "      text_len = len(text)\n",
        "\n",
        "      # for item in text:\n",
        "      #   print(item, file=outfile)\n",
        "      d = {'Domains':link.split('/')[2], 'links':link, 'title':title,'content': text}\n",
        "      df = df.append(d, ignore_index = True)\n",
        "      dictionary[index] = d\n",
        "    json.dump(dictionary, outfile)\n",
        "  print('Done! File is saved where you have your scrape-website.py')\n",
        "  return df"
      ],
      "execution_count": 0,
      "outputs": []
    },
    {
      "cell_type": "code",
      "metadata": {
        "id": "VchR-yFzeNQ4",
        "colab_type": "code",
        "colab": {}
      },
      "source": [
        "with open('Links/Links.json', 'r', encoding='utf-8') as outfile:\n",
        "  allLinks = json.load(outfile)"
      ],
      "execution_count": 0,
      "outputs": []
    },
    {
      "cell_type": "code",
      "metadata": {
        "id": "_EzoU_YYecUm",
        "colab_type": "code",
        "outputId": "514c74db-bdfe-436b-a4d9-025994b7784c",
        "colab": {
          "base_uri": "https://localhost:8080/",
          "height": 35
        }
      },
      "source": [
        "path = 'Links/ScrapedLinks/'\n",
        "\n",
        "df = GenerateSrapedDataFrame(allLinks, path, googleLinks)\n"
      ],
      "execution_count": 18,
      "outputs": [
        {
          "output_type": "stream",
          "text": [
            "Done! File is saved where you have your scrape-website.py\n"
          ],
          "name": "stdout"
        }
      ]
    },
    {
      "cell_type": "code",
      "metadata": {
        "id": "AFV8YMXzhAeE",
        "colab_type": "code",
        "outputId": "c4298f67-847f-4225-d00e-5b10c81a3c85",
        "colab": {
          "base_uri": "https://localhost:8080/",
          "height": 589
        }
      },
      "source": [
        "df"
      ],
      "execution_count": 19,
      "outputs": [
        {
          "output_type": "execute_result",
          "data": {
            "text/html": [
              "<div>\n",
              "<style scoped>\n",
              "    .dataframe tbody tr th:only-of-type {\n",
              "        vertical-align: middle;\n",
              "    }\n",
              "\n",
              "    .dataframe tbody tr th {\n",
              "        vertical-align: top;\n",
              "    }\n",
              "\n",
              "    .dataframe thead th {\n",
              "        text-align: right;\n",
              "    }\n",
              "</style>\n",
              "<table border=\"1\" class=\"dataframe\">\n",
              "  <thead>\n",
              "    <tr style=\"text-align: right;\">\n",
              "      <th></th>\n",
              "      <th>Domains</th>\n",
              "      <th>links</th>\n",
              "      <th>title</th>\n",
              "      <th>content</th>\n",
              "    </tr>\n",
              "  </thead>\n",
              "  <tbody>\n",
              "    <tr>\n",
              "      <th>0</th>\n",
              "      <td>www.verywellhealth.com</td>\n",
              "      <td>https://www.verywellhealth.com/stage-2-non-sma...</td>\n",
              "      <td>Stage 2 Non-Small Cell Lung Cancer</td>\n",
              "      <td>[Stage 2 non-small cell lung cancer is defined...</td>\n",
              "    </tr>\n",
              "    <tr>\n",
              "      <th>1</th>\n",
              "      <td>www.verywellhealth.com</td>\n",
              "      <td>https://www.verywellhealth.com/</td>\n",
              "      <td>Verywell Health - Know More. Feel Better.</td>\n",
              "      <td>[\\nLearn to navigate these difficult topics wi...</td>\n",
              "    </tr>\n",
              "    <tr>\n",
              "      <th>2</th>\n",
              "      <td>www.verywellhealth.com</td>\n",
              "      <td>https://www.verywellhealth.com/lung-cancer-ove...</td>\n",
              "      <td>Lung Cancer - Symptoms, Treatment, and More</td>\n",
              "      <td>[Lung cancer is the leading cause of cancer de...</td>\n",
              "    </tr>\n",
              "    <tr>\n",
              "      <th>3</th>\n",
              "      <td>www.verywellhealth.com</td>\n",
              "      <td>https://www.verywellhealth.com/non-small-cell-...</td>\n",
              "      <td>Non-Small Cell Lung Cancer</td>\n",
              "      <td>[Different lung cancer subtypes fall under the...</td>\n",
              "    </tr>\n",
              "    <tr>\n",
              "      <th>4</th>\n",
              "      <td>www.verywellhealth.com</td>\n",
              "      <td>https://www.verywellhealth.com/small-cell-lung...</td>\n",
              "      <td>Small Cell Lung Cancer - Symptoms, Treatment, ...</td>\n",
              "      <td>[Small cell lung cancer is a fast-growing form...</td>\n",
              "    </tr>\n",
              "    <tr>\n",
              "      <th>...</th>\n",
              "      <td>...</td>\n",
              "      <td>...</td>\n",
              "      <td>...</td>\n",
              "      <td>...</td>\n",
              "    </tr>\n",
              "    <tr>\n",
              "      <th>670</th>\n",
              "      <td>www.texasoncology.com</td>\n",
              "      <td>https://www.texasoncology.com/newly-diagnosed-...</td>\n",
              "      <td>\\n\\tPatient Forms | Texas Oncology\\n</td>\n",
              "      <td>[At your first appointment, you’ll need to com...</td>\n",
              "    </tr>\n",
              "    <tr>\n",
              "      <th>671</th>\n",
              "      <td>www.texasoncology.com</td>\n",
              "      <td>https://www.texasoncology.com/patients/resourc...</td>\n",
              "      <td>\\n\\tMyCare Plus Patient Portal | Texas Oncology\\n</td>\n",
              "      <td>[Texas Oncology I Can Newsletter is published ...</td>\n",
              "    </tr>\n",
              "    <tr>\n",
              "      <th>672</th>\n",
              "      <td>www.texasoncology.com</td>\n",
              "      <td>https://www.texasoncology.com/patients/resourc...</td>\n",
              "      <td>\\n\\tOnline Bill Pay | Texas Oncology\\n</td>\n",
              "      <td>[Texas Oncology offers a secure, quick and eas...</td>\n",
              "    </tr>\n",
              "    <tr>\n",
              "      <th>673</th>\n",
              "      <td>www.texasoncology.com</td>\n",
              "      <td>https://www.texasoncology.com/newly-diagnosed-...</td>\n",
              "      <td>\\r\\n\\tInsurance Information | Texas Oncology\\r\\n</td>\n",
              "      <td>[The list below reflects some of the plans we ...</td>\n",
              "    </tr>\n",
              "    <tr>\n",
              "      <th>674</th>\n",
              "      <td>www.texasoncology.com</td>\n",
              "      <td>https://www.texasoncology.com/patient-rights-a...</td>\n",
              "      <td>\\n\\tPatients Rights &amp; Privacy | Texas Oncology\\n</td>\n",
              "      <td>[Texas Oncology has a legal and ethical obliga...</td>\n",
              "    </tr>\n",
              "  </tbody>\n",
              "</table>\n",
              "<p>675 rows × 4 columns</p>\n",
              "</div>"
            ],
            "text/plain": [
              "                    Domains  ...                                            content\n",
              "0    www.verywellhealth.com  ...  [Stage 2 non-small cell lung cancer is defined...\n",
              "1    www.verywellhealth.com  ...  [\\nLearn to navigate these difficult topics wi...\n",
              "2    www.verywellhealth.com  ...  [Lung cancer is the leading cause of cancer de...\n",
              "3    www.verywellhealth.com  ...  [Different lung cancer subtypes fall under the...\n",
              "4    www.verywellhealth.com  ...  [Small cell lung cancer is a fast-growing form...\n",
              "..                      ...  ...                                                ...\n",
              "670   www.texasoncology.com  ...  [At your first appointment, you’ll need to com...\n",
              "671   www.texasoncology.com  ...  [Texas Oncology I Can Newsletter is published ...\n",
              "672   www.texasoncology.com  ...  [Texas Oncology offers a secure, quick and eas...\n",
              "673   www.texasoncology.com  ...  [The list below reflects some of the plans we ...\n",
              "674   www.texasoncology.com  ...  [Texas Oncology has a legal and ethical obliga...\n",
              "\n",
              "[675 rows x 4 columns]"
            ]
          },
          "metadata": {
            "tags": []
          },
          "execution_count": 19
        }
      ]
    },
    {
      "cell_type": "markdown",
      "metadata": {
        "id": "t2WtJnByjjIv",
        "colab_type": "text"
      },
      "source": [
        "#### Concatenate all paraphs to one graph for rank page"
      ]
    },
    {
      "cell_type": "code",
      "metadata": {
        "id": "TgDlPbOVdg4b",
        "colab_type": "code",
        "outputId": "cbbf18ce-160a-4628-9daf-a69ac6153fca",
        "colab": {
          "base_uri": "https://localhost:8080/",
          "height": 55
        }
      },
      "source": [
        "' '.join(map(str, df.content[0]))"
      ],
      "execution_count": 20,
      "outputs": [
        {
          "output_type": "execute_result",
          "data": {
            "text/plain": [
              "'Stage 2 non-small cell lung cancer\\xa0is defined as a “localized cancer,” that is, it refers to a tumor that is present in the lung and may have spread to local lymph nodes, but has not spread further. Tumors that have spread beyond these areas are referred to as \"advanced cancers.\" About 30 percent of lung cancers are diagnosed when they are at stage 1 or 2,\\ufeff\\ufeff and the prognosis\\xa0(long-term outcome) is significantly better than with later stages\\xa0of the disease. How is it determined that a lung cancer is stage 2 (stage II), and how this stage of lung cancer is treated? Determining the stage of a lung cancer is very important in choosing the most appropriate treatment. Stage II is divided into stages IIA and IIB. Stage IIA and IIB are each divided into two sections depending on the size of the tumor, where the tumor is found, and whether there is cancer in the lymph nodes. Stage IIA (1) Cancer has spread to lymph nodes on the same side of the chest as the tumor. The lymph nodes with cancer are within the lung or near the bronchus, and one or more of the following is true: Stage IIB (1) Cancer has spread to nearby lymph nodes on the same side of the chest as the tumor. The lymph nodes with cancer are within the lung or near the bronchus. Also, one or more of the following is true: or (2) Cancer has not spread to lymph nodes and one or more of the following is true: Oncologists talk about stages of lung cancer based on something called the TNM system. In this system, T refers to the size of the tumor, N refers to the involvement of any lymph nodes and where they are located, and M indicates if there are any metastases, that is,\\xa0spreading of the tumor to other regions of the body. Using the TNM system, stage 2 lung cancer is described as:\\ufeff\\ufeff One of the recent advances in lung cancer treatment has been the ability to treat some of these cancers by \"targeting\" mutations in the tumor. Along with characterizing a tumor based on size and how far it has spread, oncologists are now using\\xa0genetic testing (molecular profiling) for lung cancer\\xa0to further \"personalize\" the diagnosis. Until recently, testing was reserved primarily for people with more advanced stages of the disease, but with advances in treatment, it\\'s likely that those with stage 2 disease, especially people with lung adenocarcinoma, this testing will become routine.\\ufeff\\ufeff The most common symptoms of stage 2 lung cancer are a persistent cough, coughing up blood (hemoptysis), shortness of breath, pain in the chest or back, or repeated infections such as pneumonia or bronchitis. Since stage 2 lung cancer has not metastasized (spread) beyond the lungs, symptoms such as unintentional weight loss and fatigue are less common than in more advanced stages. It\\'s important to note that the symptoms of lung cancer in women (and in non-smokers) may differ from the symptoms in men (or in those who have smoked). This is important as lung cancer is almost as common now in women as in men.\\ufeff\\ufeff And though many people associate lung cancer with smoking, the incidence of lung cancer in one group, in particular, is significantly increasing: young, never-smoking women. Treatment options for stage 2 lung cancer most often include\\xa0a combination of therapies. Surgery offers the greatest hope for long-term survival. Unfortunately, stage 2 tumors can recur, and chemotherapy is often used after surgery to lower this risk. Options include:\\ufeff\\ufeff Surgery Surgery is the treatment of choice for stage 2 lung cancer, offers the greatest chance of a cure at this stage of the disease. There are 4 main types of lung cancer surgery that are done for lung cancer, and choosing which procedure is best depends on where your tumor is located and your\\xa0general state of health\\ufeff\\ufeff. In recent years a less invasive form of surgery called video-assisted thoracoscopic surgery (VATS) has become available. With this technique,\\xa0a part of the lung may be removed through small incisions in the chest wall. It can be wise to consider a second opinion when deciding upon lung cancer surgery.\\ufeff\\ufeff Studies suggest that people who have these procedures done at hospitals that do a large volume of these surgeries have better outcomes. Chemotherapy Most oncologists recommend adjuvant chemotherapy (chemotherapy after surgery) for those who undergo surgery for stage 2 lung cancer. The concept with this type of chemotherapy is to \"clean up\" any cancer cells that may have spread beyond the lungs (metastasized) but are not yet visible on any imaging tests. Depending on the location of your tumor, some oncologists may instead neoadjuvant chemotherapy—chemotherapy given before surgery to decrease the size of a tumor and make removing the tumor easier.\\ufeff\\ufeff Radiation Therapy for Inoperable Tumors Radiation therapy\\xa0is not often used with stage 2 lung cancer\\xa0but is an option for those who are unable to have surgery due to where the tumor is or general health concerns (inoperable lung cancer). In this setting, radiation can sometimes result in a cure. Other techniques such as proton beam therapy are being evaluated for stage 2 disease.\\ufeff\\ufeff Other Treatments At the current time, targeted therapies and immunotherapy are primarily used for people with stage 4 lung cancer, but this may be changing. In 2018 the use of immunotherapy was extended for some people with stage 3 lung cancer, and clinical trials are in progress looking to see whether using immunotherapy prior to surgery may improve survival rates and reduce the risk of recurrence.\\ufeff\\ufeff According to the National Cancer Institute, people with lung cancer should consider participating in clinical trials. Many advances in treating lung cancer have been made, and during the period between 2011 and 2015, there were more new medications approved for lung cancer than in the 40-year period prior to 2011. Many clinical trials\\xa0are in progress for stage 2 lung cancer looking at less invasive surgical methods, new radiation methods, and new treatments such as targeted therapies and immunotherapy for this stage of the disease. The overall\\xa0lung cancer recurrence rate (either locally or in other regions of the body) for localized lung cancer (stage 1 and stage 2) is between 20 and 50 percent. If a lung cancer recurs, further options are available for treatment. These\\xa0may include radiation with or without chemotherapy or one of the new targeted therapies\\xa0or immunotherapy medications that are being evaluated in many clinical trials. In the past, a distant recurrence, and subsequent diagnosis of stage 4 lung cancer, often meant an average survival of a year or less. This is changing, and there are now many people living for years with stage 4 lung cancer due to advances. To give this some perspective, there are now 4 immunotherapy drugs available for advanced lung cancer, and for some people, these drugs have resulted in a \"durable response\" or long-term survival. The first drug in this category was only approved for use by the public in 2015, and clinical trials are looking at further options, such as combining these drugs. The overall 5-year survival rate is approximately 20 percent for stage 2 non-small cell lung cancer.\\ufeff\\ufeff In individual situations, this number may sometimes vary, depending upon your particular tumor and your general health. Keep in mind that statistics about survival are often several years old, and new treatments that have been approved may not have been available when those numbers were recorded. Studies suggest that learning about your disease can improve your outcome.\\ufeff\\ufeff Ask questions. Learn about clinical trials that might be appropriate for you. If you are newly diagnosed with lung cancer, take a moment to breathe and think carefully about your current situation. Most decisions with lung cancer are not urgent, and you can often take a little time to fully evaluate your next steps. In some ways, you may feel like you just lost control of your life, but there are some things you can do yourself that even improve survival with lung cancer. Living with cancer can take a village. Allow people to help you. This isn\\'t a time to be the \"strong one,\" and cancer can be exhausting even with help. If it is your loved one who has been diagnosed with cancer, check out this article, \"When your loved one has lung cancer.\" Even if you have the loving support of family and friends, living with cancer can still be a lonely experience. Look into support groups in your community as well as online. There is a wonderful lung cancer community online where many people with lung cancer find support, while at the same time learning about the latest progress in lung cancer. It can be terrifying to be diagnosed with stage 2 lung cancer, though unlike later stages of the disease, there is a reasonable chance of long-term survival. Both the treatments for, and survival rates from, lung cancer are improving rapidly.\\ufeff\\ufeff While this is wonderful, it can be hard for any general oncologist to stay abreast of the latest improvements in all areas of care, and it\\'s important to learn how to advocate for yourself as a cancer patient Limiting processed foods and red meats can help ward off cancer risk. These recipes focus on antioxidant-rich foods to better protect you and your loved ones. Sign up and get your guide! Thank you, {{form.email}}, for signing up. There was an error. Please try again. Canadian Partnership Against Cancer. Lung; stage distribution. 2013. American Cancer Society. Non-small cell lung cancer stages. Updated October 1, 2019 Gregg JP, Li T, Yoneda KY. Molecular testing strategies in non-small cell lung cancer: optimizing the diagnostic journey. Transl Lung Cancer Res. 2019;8(3):286-301. doi:10.21037/tlcr.2019.04.14 American Cancer Society. Key statistics for lung cancer. Updated January 8, 2020. American Cancer Society. Treatment choices for non-small cell lung cancer, by stage. Updated October 1, 2019. American Cancer Society. Surgery for non-small cell lung cancer. October 1, 2019. American Cancer Society. Chemotherapy for non-small cell lung cancer. Updated October 1, 2019. Brodsky AN. Durvalumab becomes first immunotherapy approved for stage III lung cancer. Cancer Research Institute. February 20, 2018. Cancer Research UK. Lung cancer; survival. Updated August 7, 2017. American Cancer Society. Attitudes and cancer. March 31, 2014. American Cancer Society. Lung cancer survival rates. Updated January 9, 2020.  Thank you, {{form.email}}, for signing up. There was an error. Please try again.'"
            ]
          },
          "metadata": {
            "tags": []
          },
          "execution_count": 20
        }
      ]
    },
    {
      "cell_type": "code",
      "metadata": {
        "id": "1ZhXFpzgdhBQ",
        "colab_type": "code",
        "colab": {}
      },
      "source": [
        "df_WholeWeb = df.copy()\n",
        "df_WholeWeb.content = df.content.apply(lambda x : ' '.join(map(str, x)) )"
      ],
      "execution_count": 0,
      "outputs": []
    },
    {
      "cell_type": "code",
      "metadata": {
        "id": "LJ1s6RWLdhfG",
        "colab_type": "code",
        "outputId": "6d2ab25c-e875-494a-aee1-377095eb13e4",
        "colab": {
          "base_uri": "https://localhost:8080/",
          "height": 589
        }
      },
      "source": [
        "df_WholeWeb"
      ],
      "execution_count": 22,
      "outputs": [
        {
          "output_type": "execute_result",
          "data": {
            "text/html": [
              "<div>\n",
              "<style scoped>\n",
              "    .dataframe tbody tr th:only-of-type {\n",
              "        vertical-align: middle;\n",
              "    }\n",
              "\n",
              "    .dataframe tbody tr th {\n",
              "        vertical-align: top;\n",
              "    }\n",
              "\n",
              "    .dataframe thead th {\n",
              "        text-align: right;\n",
              "    }\n",
              "</style>\n",
              "<table border=\"1\" class=\"dataframe\">\n",
              "  <thead>\n",
              "    <tr style=\"text-align: right;\">\n",
              "      <th></th>\n",
              "      <th>Domains</th>\n",
              "      <th>links</th>\n",
              "      <th>title</th>\n",
              "      <th>content</th>\n",
              "    </tr>\n",
              "  </thead>\n",
              "  <tbody>\n",
              "    <tr>\n",
              "      <th>0</th>\n",
              "      <td>www.verywellhealth.com</td>\n",
              "      <td>https://www.verywellhealth.com/stage-2-non-sma...</td>\n",
              "      <td>Stage 2 Non-Small Cell Lung Cancer</td>\n",
              "      <td>Stage 2 non-small cell lung cancer is defined ...</td>\n",
              "    </tr>\n",
              "    <tr>\n",
              "      <th>1</th>\n",
              "      <td>www.verywellhealth.com</td>\n",
              "      <td>https://www.verywellhealth.com/</td>\n",
              "      <td>Verywell Health - Know More. Feel Better.</td>\n",
              "      <td>\\nLearn to navigate these difficult topics wit...</td>\n",
              "    </tr>\n",
              "    <tr>\n",
              "      <th>2</th>\n",
              "      <td>www.verywellhealth.com</td>\n",
              "      <td>https://www.verywellhealth.com/lung-cancer-ove...</td>\n",
              "      <td>Lung Cancer - Symptoms, Treatment, and More</td>\n",
              "      <td>Lung cancer is the leading cause of cancer dea...</td>\n",
              "    </tr>\n",
              "    <tr>\n",
              "      <th>3</th>\n",
              "      <td>www.verywellhealth.com</td>\n",
              "      <td>https://www.verywellhealth.com/non-small-cell-...</td>\n",
              "      <td>Non-Small Cell Lung Cancer</td>\n",
              "      <td>Different lung cancer subtypes fall under the ...</td>\n",
              "    </tr>\n",
              "    <tr>\n",
              "      <th>4</th>\n",
              "      <td>www.verywellhealth.com</td>\n",
              "      <td>https://www.verywellhealth.com/small-cell-lung...</td>\n",
              "      <td>Small Cell Lung Cancer - Symptoms, Treatment, ...</td>\n",
              "      <td>Small cell lung cancer is a fast-growing form ...</td>\n",
              "    </tr>\n",
              "    <tr>\n",
              "      <th>...</th>\n",
              "      <td>...</td>\n",
              "      <td>...</td>\n",
              "      <td>...</td>\n",
              "      <td>...</td>\n",
              "    </tr>\n",
              "    <tr>\n",
              "      <th>670</th>\n",
              "      <td>www.texasoncology.com</td>\n",
              "      <td>https://www.texasoncology.com/newly-diagnosed-...</td>\n",
              "      <td>\\n\\tPatient Forms | Texas Oncology\\n</td>\n",
              "      <td>At your first appointment, you’ll need to comp...</td>\n",
              "    </tr>\n",
              "    <tr>\n",
              "      <th>671</th>\n",
              "      <td>www.texasoncology.com</td>\n",
              "      <td>https://www.texasoncology.com/patients/resourc...</td>\n",
              "      <td>\\n\\tMyCare Plus Patient Portal | Texas Oncology\\n</td>\n",
              "      <td>Texas Oncology I Can Newsletter is published m...</td>\n",
              "    </tr>\n",
              "    <tr>\n",
              "      <th>672</th>\n",
              "      <td>www.texasoncology.com</td>\n",
              "      <td>https://www.texasoncology.com/patients/resourc...</td>\n",
              "      <td>\\n\\tOnline Bill Pay | Texas Oncology\\n</td>\n",
              "      <td>Texas Oncology offers a secure, quick and easy...</td>\n",
              "    </tr>\n",
              "    <tr>\n",
              "      <th>673</th>\n",
              "      <td>www.texasoncology.com</td>\n",
              "      <td>https://www.texasoncology.com/newly-diagnosed-...</td>\n",
              "      <td>\\r\\n\\tInsurance Information | Texas Oncology\\r\\n</td>\n",
              "      <td>The list below reflects some of the plans we a...</td>\n",
              "    </tr>\n",
              "    <tr>\n",
              "      <th>674</th>\n",
              "      <td>www.texasoncology.com</td>\n",
              "      <td>https://www.texasoncology.com/patient-rights-a...</td>\n",
              "      <td>\\n\\tPatients Rights &amp; Privacy | Texas Oncology\\n</td>\n",
              "      <td>Texas Oncology has a legal and ethical obligat...</td>\n",
              "    </tr>\n",
              "  </tbody>\n",
              "</table>\n",
              "<p>675 rows × 4 columns</p>\n",
              "</div>"
            ],
            "text/plain": [
              "                    Domains  ...                                            content\n",
              "0    www.verywellhealth.com  ...  Stage 2 non-small cell lung cancer is defined ...\n",
              "1    www.verywellhealth.com  ...  \\nLearn to navigate these difficult topics wit...\n",
              "2    www.verywellhealth.com  ...  Lung cancer is the leading cause of cancer dea...\n",
              "3    www.verywellhealth.com  ...  Different lung cancer subtypes fall under the ...\n",
              "4    www.verywellhealth.com  ...  Small cell lung cancer is a fast-growing form ...\n",
              "..                      ...  ...                                                ...\n",
              "670   www.texasoncology.com  ...  At your first appointment, you’ll need to comp...\n",
              "671   www.texasoncology.com  ...  Texas Oncology I Can Newsletter is published m...\n",
              "672   www.texasoncology.com  ...  Texas Oncology offers a secure, quick and easy...\n",
              "673   www.texasoncology.com  ...  The list below reflects some of the plans we a...\n",
              "674   www.texasoncology.com  ...  Texas Oncology has a legal and ethical obligat...\n",
              "\n",
              "[675 rows x 4 columns]"
            ]
          },
          "metadata": {
            "tags": []
          },
          "execution_count": 22
        }
      ]
    },
    {
      "cell_type": "markdown",
      "metadata": {
        "id": "880TAs4-szAV",
        "colab_type": "text"
      },
      "source": [
        "### My Data"
      ]
    },
    {
      "cell_type": "code",
      "metadata": {
        "id": "mzxG2iBFs2oZ",
        "colab_type": "code",
        "colab": {}
      },
      "source": [
        "data_base_url = \"https://www.cancer.ca/en/cancer-information/cancer-type/lung/treatment/\""
      ],
      "execution_count": 0,
      "outputs": []
    },
    {
      "cell_type": "code",
      "metadata": {
        "id": "Gou0xCuvtEuy",
        "colab_type": "code",
        "colab": {}
      },
      "source": [
        "def parse_data(full_url):\n",
        "  stagesDict = {'stage-1': 'Treating stage I NSCLC', 'stage-2': 'Treating stage II NSCLC', 'stage-3': 'Treating stage III NSCLC'}\n",
        "  df = pd.DataFrame(columns = [ 'stages','pargraphs'])\n",
        "  for s in list(stagesDict.keys()): \n",
        "    base_url = full_url + s + \"/?region=on\"\n",
        "    base_url = requests.get(base_url, timeout = 5)\n",
        "    page_content = BeautifulSoup(base_url.content, 'html.parser')\n",
        "    title = page_content.findAll('h1')[1].text\n",
        "    containers = page_content.find('div', { 'class': \"Section1\"})\n",
        "    print(s)\n",
        "    flag = True\n",
        "    # pargraphs = title\n",
        "    for section in containers.findAll('h2'):\n",
        "      nextNode = section\n",
        "      # print(nextNode)\n",
        "      pargraphs =   \" \"\n",
        "      if section.text == 'Clinical trials':\n",
        "        continue\n",
        "      if flag:\n",
        "        flag = False\n",
        "        pargraphs =   title + \" \"\n",
        "      # if section.text not in ['Surgery', 'Radiation therapy', 'Chemotherapy', 'Clinical trials']:\n",
        "      #   pargraphs = section.text + \" \"\n",
        "      while True:\n",
        "          nextNode = nextNode.nextSibling\n",
        "          if nextNode == \"\\n\":\n",
        "                continue\n",
        "          try:            \n",
        "              tag_name = nextNode.name\n",
        "          except AttributeError:\n",
        "              tag_name = \"\"\n",
        "          if tag_name == \"p\":\n",
        "              # print(nextNode.text)\n",
        "              #print(nextNode.string)# error not show all <p>\n",
        "              pargraphs +=  nextNode.text + \" \"\n",
        "              \n",
        "          else:\n",
        "              df = df.append({'stages' : stagesDict[s],'pargraphs': pargraphs }, ignore_index = True)\n",
        "              # print (\"*****\")\n",
        "              break\n",
        "  return df"
      ],
      "execution_count": 0,
      "outputs": []
    },
    {
      "cell_type": "code",
      "metadata": {
        "id": "vY27ucqitEkc",
        "colab_type": "code",
        "outputId": "9bce5086-5354-4554-c146-1099ad89bc3c",
        "colab": {
          "base_uri": "https://localhost:8080/",
          "height": 71
        }
      },
      "source": [
        "df_TreatmentData = parse_data(data_base_url)"
      ],
      "execution_count": 25,
      "outputs": [
        {
          "output_type": "stream",
          "text": [
            "stage-1\n",
            "stage-2\n",
            "stage-3\n"
          ],
          "name": "stdout"
        }
      ]
    },
    {
      "cell_type": "code",
      "metadata": {
        "id": "CSvZwyiPxh-1",
        "colab_type": "code",
        "outputId": "e8f37868-01d7-46ba-a611-fed4cb22c10b",
        "colab": {
          "base_uri": "https://localhost:8080/",
          "height": 421
        }
      },
      "source": [
        "df_TreatmentData\n"
      ],
      "execution_count": 26,
      "outputs": [
        {
          "output_type": "execute_result",
          "data": {
            "text/html": [
              "<div>\n",
              "<style scoped>\n",
              "    .dataframe tbody tr th:only-of-type {\n",
              "        vertical-align: middle;\n",
              "    }\n",
              "\n",
              "    .dataframe tbody tr th {\n",
              "        vertical-align: top;\n",
              "    }\n",
              "\n",
              "    .dataframe thead th {\n",
              "        text-align: right;\n",
              "    }\n",
              "</style>\n",
              "<table border=\"1\" class=\"dataframe\">\n",
              "  <thead>\n",
              "    <tr style=\"text-align: right;\">\n",
              "      <th></th>\n",
              "      <th>stages</th>\n",
              "      <th>pargraphs</th>\n",
              "    </tr>\n",
              "  </thead>\n",
              "  <tbody>\n",
              "    <tr>\n",
              "      <th>0</th>\n",
              "      <td>Treating stage I NSCLC</td>\n",
              "      <td>Treatments for stage 1 non–small cell lung can...</td>\n",
              "    </tr>\n",
              "    <tr>\n",
              "      <th>1</th>\n",
              "      <td>Treating stage I NSCLC</td>\n",
              "      <td>Radiation therapy is offered for stage 1 non–...</td>\n",
              "    </tr>\n",
              "    <tr>\n",
              "      <th>2</th>\n",
              "      <td>Treating stage I NSCLC</td>\n",
              "      <td>Chemotherapy may be offered after surgery to ...</td>\n",
              "    </tr>\n",
              "    <tr>\n",
              "      <th>3</th>\n",
              "      <td>Treating stage II NSCLC</td>\n",
              "      <td>Treatments for stage 2 non–small cell lung can...</td>\n",
              "    </tr>\n",
              "    <tr>\n",
              "      <th>4</th>\n",
              "      <td>Treating stage II NSCLC</td>\n",
              "      <td>External beam radiation therapy is offered fo...</td>\n",
              "    </tr>\n",
              "    <tr>\n",
              "      <th>5</th>\n",
              "      <td>Treating stage II NSCLC</td>\n",
              "      <td>Chemotherapy may be offered after surgery for...</td>\n",
              "    </tr>\n",
              "    <tr>\n",
              "      <th>6</th>\n",
              "      <td>Treating stage II NSCLC</td>\n",
              "      <td>Chemoradiation may be offered as a treatment ...</td>\n",
              "    </tr>\n",
              "    <tr>\n",
              "      <th>7</th>\n",
              "      <td>Treating stage III NSCLC</td>\n",
              "      <td>Treatments for stage 3 non–small cell lung can...</td>\n",
              "    </tr>\n",
              "    <tr>\n",
              "      <th>8</th>\n",
              "      <td>Treating stage III NSCLC</td>\n",
              "      <td>The type of surgery done depends on where the...</td>\n",
              "    </tr>\n",
              "    <tr>\n",
              "      <th>9</th>\n",
              "      <td>Treating stage III NSCLC</td>\n",
              "      <td>The most common chemotherapy drug combination...</td>\n",
              "    </tr>\n",
              "    <tr>\n",
              "      <th>10</th>\n",
              "      <td>Treating stage III NSCLC</td>\n",
              "      <td>Imfinzi (durvalumab) may be offered as a trea...</td>\n",
              "    </tr>\n",
              "    <tr>\n",
              "      <th>11</th>\n",
              "      <td>Treating stage III NSCLC</td>\n",
              "      <td>External beam radiation therapy by itself may...</td>\n",
              "    </tr>\n",
              "  </tbody>\n",
              "</table>\n",
              "</div>"
            ],
            "text/plain": [
              "                      stages                                          pargraphs\n",
              "0     Treating stage I NSCLC  Treatments for stage 1 non–small cell lung can...\n",
              "1     Treating stage I NSCLC   Radiation therapy is offered for stage 1 non–...\n",
              "2     Treating stage I NSCLC   Chemotherapy may be offered after surgery to ...\n",
              "3    Treating stage II NSCLC  Treatments for stage 2 non–small cell lung can...\n",
              "4    Treating stage II NSCLC   External beam radiation therapy is offered fo...\n",
              "5    Treating stage II NSCLC   Chemotherapy may be offered after surgery for...\n",
              "6    Treating stage II NSCLC   Chemoradiation may be offered as a treatment ...\n",
              "7   Treating stage III NSCLC  Treatments for stage 3 non–small cell lung can...\n",
              "8   Treating stage III NSCLC   The type of surgery done depends on where the...\n",
              "9   Treating stage III NSCLC   The most common chemotherapy drug combination...\n",
              "10  Treating stage III NSCLC   Imfinzi (durvalumab) may be offered as a trea...\n",
              "11  Treating stage III NSCLC   External beam radiation therapy by itself may..."
            ]
          },
          "metadata": {
            "tags": []
          },
          "execution_count": 26
        }
      ]
    },
    {
      "cell_type": "markdown",
      "metadata": {
        "id": "DahcpvYcxzTH",
        "colab_type": "text"
      },
      "source": [
        "## Prepare Data "
      ]
    },
    {
      "cell_type": "code",
      "metadata": {
        "id": "mMk7x74ayEHJ",
        "colab_type": "code",
        "outputId": "678f9ed1-77d3-4fea-fdac-20758a026b81",
        "colab": {
          "base_uri": "https://localhost:8080/",
          "height": 107
        }
      },
      "source": [
        "import nltk\n",
        "nltk.download('stopwords')\n",
        "nltk.download('punkt')\n",
        "\n"
      ],
      "execution_count": 27,
      "outputs": [
        {
          "output_type": "stream",
          "text": [
            "[nltk_data] Downloading package stopwords to /root/nltk_data...\n",
            "[nltk_data]   Package stopwords is already up-to-date!\n",
            "[nltk_data] Downloading package punkt to /root/nltk_data...\n",
            "[nltk_data]   Package punkt is already up-to-date!\n"
          ],
          "name": "stdout"
        },
        {
          "output_type": "execute_result",
          "data": {
            "text/plain": [
              "True"
            ]
          },
          "metadata": {
            "tags": []
          },
          "execution_count": 27
        }
      ]
    },
    {
      "cell_type": "code",
      "metadata": {
        "id": "TM_QyJPWyRzE",
        "colab_type": "code",
        "outputId": "c3488af2-d32b-4649-858a-3a481f52c8df",
        "colab": {
          "base_uri": "https://localhost:8080/",
          "height": 53
        }
      },
      "source": [
        "!pip install num2words"
      ],
      "execution_count": 28,
      "outputs": [
        {
          "output_type": "stream",
          "text": [
            "Requirement already satisfied: num2words in /usr/local/lib/python3.6/dist-packages (0.5.10)\n",
            "Requirement already satisfied: docopt>=0.6.2 in /usr/local/lib/python3.6/dist-packages (from num2words) (0.6.2)\n"
          ],
          "name": "stdout"
        }
      ]
    },
    {
      "cell_type": "code",
      "metadata": {
        "id": "hdOR3GWhx3NO",
        "colab_type": "code",
        "colab": {}
      },
      "source": [
        "\n",
        "from nltk.corpus import stopwords\n",
        "from nltk.tokenize import word_tokenize\n",
        "from nltk.stem import PorterStemmer\n",
        "from collections import Counter\n",
        "from num2words import num2words\n",
        "\n",
        "import os\n",
        "import string\n",
        "import numpy as np\n",
        "import copy\n",
        "import pandas as pd\n",
        "import pickle\n",
        "import re\n",
        "import math"
      ],
      "execution_count": 0,
      "outputs": []
    },
    {
      "cell_type": "code",
      "metadata": {
        "id": "zwZKIxvQx3PM",
        "colab_type": "code",
        "colab": {}
      },
      "source": [
        "def convert_lower_case(data):\n",
        "    return np.char.lower(data)"
      ],
      "execution_count": 0,
      "outputs": []
    },
    {
      "cell_type": "code",
      "metadata": {
        "id": "N5i0X3Pjx3Ro",
        "colab_type": "code",
        "colab": {}
      },
      "source": [
        "def remove_stop_words(data):\n",
        "    stop_words = stopwords.words('english')\n",
        "    words = word_tokenize(str(data))\n",
        "    new_text = \"\"\n",
        "    for w in words:\n",
        "        if w not in stop_words and len(w) > 1:\n",
        "            new_text = new_text + \" \" + w\n",
        "    return new_text"
      ],
      "execution_count": 0,
      "outputs": []
    },
    {
      "cell_type": "code",
      "metadata": {
        "id": "InpIY06Qx3U0",
        "colab_type": "code",
        "colab": {}
      },
      "source": [
        "def remove_punctuation(data):\n",
        "    symbols = \"!\\\"#$%&()*+-./:;<=>?@[\\]^_`{|}~\\n\"\n",
        "    for i in range(len(symbols)):\n",
        "        data = np.char.replace(data, symbols[i], ' ')\n",
        "        data = np.char.replace(data, \"  \", \" \")\n",
        "    data = np.char.replace(data, ',', '')\n",
        "    return data"
      ],
      "execution_count": 0,
      "outputs": []
    },
    {
      "cell_type": "code",
      "metadata": {
        "id": "cWe_woSkx3YQ",
        "colab_type": "code",
        "colab": {}
      },
      "source": [
        "def remove_apostrophe(data):\n",
        "    return np.char.replace(data, \"'\", \"\")"
      ],
      "execution_count": 0,
      "outputs": []
    },
    {
      "cell_type": "code",
      "metadata": {
        "id": "9SjsreKsx3JN",
        "colab_type": "code",
        "colab": {}
      },
      "source": [
        "\n",
        "def stemming(data):\n",
        "    stemmer= PorterStemmer()\n",
        "    \n",
        "    tokens = word_tokenize(str(data))\n",
        "    new_text = \"\"\n",
        "    for w in tokens:\n",
        "        new_text = new_text + \" \" + stemmer.stem(w)\n",
        "    return new_text"
      ],
      "execution_count": 0,
      "outputs": []
    },
    {
      "cell_type": "code",
      "metadata": {
        "id": "_PID29hAx3GW",
        "colab_type": "code",
        "colab": {}
      },
      "source": [
        "def convert_numbers(data):\n",
        "    tokens = word_tokenize(str(data))\n",
        "    new_text = \"\"\n",
        "    for w in tokens:\n",
        "        try:\n",
        "            w = num2words(int(w))\n",
        "        except:\n",
        "            a = 0\n",
        "        new_text = new_text + \" \" + w\n",
        "    new_text = np.char.replace(new_text, \"-\", \" \")\n",
        "    return new_text"
      ],
      "execution_count": 0,
      "outputs": []
    },
    {
      "cell_type": "code",
      "metadata": {
        "id": "-R1vjCnBx3C-",
        "colab_type": "code",
        "colab": {}
      },
      "source": [
        "def preprocess(data):\n",
        "    data = convert_lower_case(data)\n",
        "    data = remove_punctuation(data) #remove comma seperately\n",
        "    data = remove_apostrophe(data)\n",
        "    data = convert_numbers(data) # must be activated before remove_stop_words\n",
        "    data = remove_stop_words(data)\n",
        "    data = stemming(data)\n",
        "    # data = remove_punctuation(data)\n",
        "    # data = convert_numbers(data)\n",
        "    # data = stemming(data) #needed again as we need to stem the words\n",
        "    # data = remove_punctuation(data) #needed again as num2word is giving few hypens and commas fourty-one\n",
        "    # data = remove_stop_words(data) #needed again as num2word is giving stop words 101 - one hundred and one\n",
        "    return data"
      ],
      "execution_count": 0,
      "outputs": []
    },
    {
      "cell_type": "code",
      "metadata": {
        "id": "Cx2ZCb7Gz8Ww",
        "colab_type": "code",
        "outputId": "2d015187-d3f5-47bf-9a4c-15f93b14818c",
        "colab": {
          "base_uri": "https://localhost:8080/",
          "height": 55
        }
      },
      "source": [
        "preprocess(df_TreatmentData.pargraphs[0])"
      ],
      "execution_count": 37,
      "outputs": [
        {
          "output_type": "execute_result",
          "data": {
            "text/plain": [
              "' treatment stage one non–smal cell lung cancer surgeri standard treatment stage one non–smal cell lung cancer peopl well enough surgeri lobectomi remov lobe lung main type surgeri stage one non–smal cell lung cancer offer best chanc cancer complet remov wedg segment resect use remov tumour along margin healthi lung tissu type surgeri may offer stage one non–smal cell lung cancer peopl good lung function sleev resect use remov tumour larg airway lung bronchu surgeri non–smal cell lung cancer lymph node chest around lung remov surgeri may stop cancer lymph node shown diagnost test done cancer spread far surgeri help treatment surgeri may done lab report cancer margin posit margin tissu remov'"
            ]
          },
          "metadata": {
            "tags": []
          },
          "execution_count": 37
        }
      ]
    },
    {
      "cell_type": "code",
      "metadata": {
        "id": "e4vwQ41qx27h",
        "colab_type": "code",
        "colab": {}
      },
      "source": [
        "#df_TreatmentData\n",
        "#df_WholeWeb # df\n",
        "df_prepTreatmentData = df_TreatmentData.copy()\n",
        "df_prepWholeWeb = df_WholeWeb.copy()\n",
        "df_prepTreatmentData.pargraphs = df_TreatmentData.pargraphs.apply(lambda x: preprocess(x))\n",
        "df_WholeWeb.content = df_WholeWeb.content.apply(lambda x: preprocess(x))"
      ],
      "execution_count": 0,
      "outputs": []
    },
    {
      "cell_type": "code",
      "metadata": {
        "id": "Ze4XPUskzB_b",
        "colab_type": "code",
        "outputId": "215bcf7c-8137-4531-9a44-ed8b78cf2cf8",
        "colab": {
          "base_uri": "https://localhost:8080/",
          "height": 289
        }
      },
      "source": [
        "df_prepWholeWeb.head()"
      ],
      "execution_count": 39,
      "outputs": [
        {
          "output_type": "execute_result",
          "data": {
            "text/html": [
              "<div>\n",
              "<style scoped>\n",
              "    .dataframe tbody tr th:only-of-type {\n",
              "        vertical-align: middle;\n",
              "    }\n",
              "\n",
              "    .dataframe tbody tr th {\n",
              "        vertical-align: top;\n",
              "    }\n",
              "\n",
              "    .dataframe thead th {\n",
              "        text-align: right;\n",
              "    }\n",
              "</style>\n",
              "<table border=\"1\" class=\"dataframe\">\n",
              "  <thead>\n",
              "    <tr style=\"text-align: right;\">\n",
              "      <th></th>\n",
              "      <th>Domains</th>\n",
              "      <th>links</th>\n",
              "      <th>title</th>\n",
              "      <th>content</th>\n",
              "    </tr>\n",
              "  </thead>\n",
              "  <tbody>\n",
              "    <tr>\n",
              "      <th>0</th>\n",
              "      <td>www.verywellhealth.com</td>\n",
              "      <td>https://www.verywellhealth.com/stage-2-non-sma...</td>\n",
              "      <td>Stage 2 Non-Small Cell Lung Cancer</td>\n",
              "      <td>Stage 2 non-small cell lung cancer is defined ...</td>\n",
              "    </tr>\n",
              "    <tr>\n",
              "      <th>1</th>\n",
              "      <td>www.verywellhealth.com</td>\n",
              "      <td>https://www.verywellhealth.com/</td>\n",
              "      <td>Verywell Health - Know More. Feel Better.</td>\n",
              "      <td>\\nLearn to navigate these difficult topics wit...</td>\n",
              "    </tr>\n",
              "    <tr>\n",
              "      <th>2</th>\n",
              "      <td>www.verywellhealth.com</td>\n",
              "      <td>https://www.verywellhealth.com/lung-cancer-ove...</td>\n",
              "      <td>Lung Cancer - Symptoms, Treatment, and More</td>\n",
              "      <td>Lung cancer is the leading cause of cancer dea...</td>\n",
              "    </tr>\n",
              "    <tr>\n",
              "      <th>3</th>\n",
              "      <td>www.verywellhealth.com</td>\n",
              "      <td>https://www.verywellhealth.com/non-small-cell-...</td>\n",
              "      <td>Non-Small Cell Lung Cancer</td>\n",
              "      <td>Different lung cancer subtypes fall under the ...</td>\n",
              "    </tr>\n",
              "    <tr>\n",
              "      <th>4</th>\n",
              "      <td>www.verywellhealth.com</td>\n",
              "      <td>https://www.verywellhealth.com/small-cell-lung...</td>\n",
              "      <td>Small Cell Lung Cancer - Symptoms, Treatment, ...</td>\n",
              "      <td>Small cell lung cancer is a fast-growing form ...</td>\n",
              "    </tr>\n",
              "  </tbody>\n",
              "</table>\n",
              "</div>"
            ],
            "text/plain": [
              "                  Domains  ...                                            content\n",
              "0  www.verywellhealth.com  ...  Stage 2 non-small cell lung cancer is defined ...\n",
              "1  www.verywellhealth.com  ...  \\nLearn to navigate these difficult topics wit...\n",
              "2  www.verywellhealth.com  ...  Lung cancer is the leading cause of cancer dea...\n",
              "3  www.verywellhealth.com  ...  Different lung cancer subtypes fall under the ...\n",
              "4  www.verywellhealth.com  ...  Small cell lung cancer is a fast-growing form ...\n",
              "\n",
              "[5 rows x 4 columns]"
            ]
          },
          "metadata": {
            "tags": []
          },
          "execution_count": 39
        }
      ]
    },
    {
      "cell_type": "code",
      "metadata": {
        "id": "ouJ0GdKV4wDi",
        "colab_type": "code",
        "outputId": "7f0f5811-dfdf-41b7-93be-5359c84855fe",
        "colab": {
          "base_uri": "https://localhost:8080/",
          "height": 204
        }
      },
      "source": [
        "df_prepTreatmentData.head()"
      ],
      "execution_count": 40,
      "outputs": [
        {
          "output_type": "execute_result",
          "data": {
            "text/html": [
              "<div>\n",
              "<style scoped>\n",
              "    .dataframe tbody tr th:only-of-type {\n",
              "        vertical-align: middle;\n",
              "    }\n",
              "\n",
              "    .dataframe tbody tr th {\n",
              "        vertical-align: top;\n",
              "    }\n",
              "\n",
              "    .dataframe thead th {\n",
              "        text-align: right;\n",
              "    }\n",
              "</style>\n",
              "<table border=\"1\" class=\"dataframe\">\n",
              "  <thead>\n",
              "    <tr style=\"text-align: right;\">\n",
              "      <th></th>\n",
              "      <th>stages</th>\n",
              "      <th>pargraphs</th>\n",
              "    </tr>\n",
              "  </thead>\n",
              "  <tbody>\n",
              "    <tr>\n",
              "      <th>0</th>\n",
              "      <td>Treating stage I NSCLC</td>\n",
              "      <td>treatment stage one non–smal cell lung cancer...</td>\n",
              "    </tr>\n",
              "    <tr>\n",
              "      <th>1</th>\n",
              "      <td>Treating stage I NSCLC</td>\n",
              "      <td>radiat therapi offer stage one non–smal cell ...</td>\n",
              "    </tr>\n",
              "    <tr>\n",
              "      <th>2</th>\n",
              "      <td>Treating stage I NSCLC</td>\n",
              "      <td>chemotherapi may offer surgeri peopl stage on...</td>\n",
              "    </tr>\n",
              "    <tr>\n",
              "      <th>3</th>\n",
              "      <td>Treating stage II NSCLC</td>\n",
              "      <td>treatment stage two non–smal cell lung cancer...</td>\n",
              "    </tr>\n",
              "    <tr>\n",
              "      <th>4</th>\n",
              "      <td>Treating stage II NSCLC</td>\n",
              "      <td>extern beam radiat therapi offer stage two no...</td>\n",
              "    </tr>\n",
              "  </tbody>\n",
              "</table>\n",
              "</div>"
            ],
            "text/plain": [
              "                    stages                                          pargraphs\n",
              "0   Treating stage I NSCLC   treatment stage one non–smal cell lung cancer...\n",
              "1   Treating stage I NSCLC   radiat therapi offer stage one non–smal cell ...\n",
              "2   Treating stage I NSCLC   chemotherapi may offer surgeri peopl stage on...\n",
              "3  Treating stage II NSCLC   treatment stage two non–smal cell lung cancer...\n",
              "4  Treating stage II NSCLC   extern beam radiat therapi offer stage two no..."
            ]
          },
          "metadata": {
            "tags": []
          },
          "execution_count": 40
        }
      ]
    },
    {
      "cell_type": "markdown",
      "metadata": {
        "id": "f824dy3EtDuI",
        "colab_type": "text"
      },
      "source": [
        "## Use Google Universal sentence encoder to find smilar websites"
      ]
    },
    {
      "cell_type": "code",
      "metadata": {
        "id": "wuml-9cutDqE",
        "colab_type": "code",
        "outputId": "e6466451-c561-41a7-e949-0049d2fcc590",
        "colab": {
          "base_uri": "https://localhost:8080/",
          "height": 35
        }
      },
      "source": [
        "%tensorflow_version 1.x\n",
        "import tensorflow as tf\n",
        "import tensorflow_hub as hub\n",
        "import numpy as np"
      ],
      "execution_count": 41,
      "outputs": [
        {
          "output_type": "stream",
          "text": [
            "TensorFlow 1.x selected.\n"
          ],
          "name": "stdout"
        }
      ]
    },
    {
      "cell_type": "code",
      "metadata": {
        "id": "KOZvJZgYtDmL",
        "colab_type": "code",
        "outputId": "f5bbb666-0959-40d4-a211-5406f76732e9",
        "colab": {
          "base_uri": "https://localhost:8080/",
          "height": 233
        }
      },
      "source": [
        "!mkdir test_SimlarTxt\n",
        "# Download the module, and uncompress it to the destination folder. \n",
        "!curl -L \"https://tfhub.dev/google/universal-sentence-encoder-large/3?tf-hub-format=compressed\" |   tar -zxvC test_SimlarTxt"
      ],
      "execution_count": 42,
      "outputs": [
        {
          "output_type": "stream",
          "text": [
            "mkdir: cannot create directory ‘test_SimlarTxt’: File exists\n",
            "  % Total    % Received % Xferd  Average Speed   Time    Time     Time  Current\n",
            "                                 Dload  Upload   Total   Spent    Left  Speed\n",
            "  0     0    0     0    0     0      0      0 --:--:-- --:--:-- --:--:--     0\n",
            "./\n",
            "./tfhub_module.pb\n",
            "./variables/\n",
            "./variables/variables.data-00000-of-00001\n",
            " 97  745M   97  726M    0     0  36.9M      0  0:00:20  0:00:19  0:00:01 40.5M./variables/variables.index\n",
            "./assets/\n",
            "./saved_model.pb\n",
            "100  745M  100  745M    0     0  36.8M      0  0:00:20  0:00:20 --:--:-- 40.0M\n"
          ],
          "name": "stdout"
        }
      ]
    },
    {
      "cell_type": "code",
      "metadata": {
        "id": "wMEaimOHtDiq",
        "colab_type": "code",
        "outputId": "9ec26096-7f68-4cc2-871d-b61275da9338",
        "colab": {
          "base_uri": "https://localhost:8080/",
          "height": 163
        }
      },
      "source": [
        "#Function so that one session can be called multiple times. \n",
        "#Useful while multiple calls need to be done for embedding. \n",
        "import tensorflow as tf\n",
        "import tensorflow_hub as hub\n",
        "def embed_useT(module):\n",
        "    with tf.Graph().as_default():\n",
        "        sentences = tf.placeholder(tf.string)\n",
        "        embed = hub.Module(module)\n",
        "        embeddings = embed(sentences)\n",
        "        session = tf.train.MonitoredSession()\n",
        "    return lambda x: session.run(embeddings, {sentences: x})\n",
        "\n",
        "embed_fn = embed_useT(\"test_SimlarTxt\")"
      ],
      "execution_count": 43,
      "outputs": [
        {
          "output_type": "stream",
          "text": [
            "INFO:tensorflow:Saver not created because there are no variables in the graph to restore\n",
            "WARNING:tensorflow:From /tensorflow-1.15.2/python3.6/tensorflow_core/python/ops/array_ops.py:1475: where (from tensorflow.python.ops.array_ops) is deprecated and will be removed in a future version.\n",
            "Instructions for updating:\n",
            "Use tf.where in 2.0, which has the same broadcast rule as np.where\n",
            "INFO:tensorflow:Graph was finalized.\n",
            "INFO:tensorflow:Running local_init_op.\n",
            "INFO:tensorflow:Done running local_init_op.\n"
          ],
          "name": "stdout"
        }
      ]
    },
    {
      "cell_type": "code",
      "metadata": {
        "id": "lmw4rHqKtDS4",
        "colab_type": "code",
        "outputId": "97802c5d-7808-4b06-9fd1-ef2a5b3df586",
        "colab": {
          "base_uri": "https://localhost:8080/",
          "height": 35
        }
      },
      "source": [
        "convert_numbers(\"Treating stage I NSCLC\")"
      ],
      "execution_count": 44,
      "outputs": [
        {
          "output_type": "execute_result",
          "data": {
            "text/plain": [
              "array(' Treating stage I NSCLC', dtype='<U23')"
            ]
          },
          "metadata": {
            "tags": []
          },
          "execution_count": 44
        }
      ]
    },
    {
      "cell_type": "code",
      "metadata": {
        "id": "zT9fKMwxtDfW",
        "colab_type": "code",
        "colab": {}
      },
      "source": [
        "stageI = \"\"\n",
        "stageII = \"\"\n",
        "stageIII = \"\"\n",
        "def CombineStage(stageName, df):\n",
        "  string = \"\"\n",
        "  for s in df[df.stages == stageName].pargraphs:\n",
        "    string += s\n",
        "  return string\n",
        "stageI =  CombineStage('Treating stage I NSCLC', df_prepTreatmentData)\n",
        "stageII =  CombineStage('Treating stage II NSCLC', df_prepTreatmentData)\n",
        "stageIII =  CombineStage('Treating stage III NSCLC', df_prepTreatmentData)\n"
      ],
      "execution_count": 0,
      "outputs": []
    },
    {
      "cell_type": "code",
      "metadata": {
        "id": "BgsBC6DXtDX-",
        "colab_type": "code",
        "colab": {}
      },
      "source": [
        "webContentList = []\n",
        "for web in df_prepWholeWeb.content:\n",
        "  webContentList.append(web)"
      ],
      "execution_count": 0,
      "outputs": []
    },
    {
      "cell_type": "code",
      "metadata": {
        "id": "-nqZtOV-tDcB",
        "colab_type": "code",
        "outputId": "94be5665-d09b-4997-e79a-8f94752f45c7",
        "colab": {
          "base_uri": "https://localhost:8080/",
          "height": 107
        }
      },
      "source": [
        "messages = [stageII] +  webContentList\n",
        "print(len(messages))\n",
        "encoding_matrix = embed_fn(messages)\n",
        "result = np.inner(encoding_matrix, encoding_matrix)[0]\n",
        "print(len(result))\n",
        "result5Highest = list(sorted(result[1:]))[-5:]\n",
        "print(\"result5Highest {}\".format(result5Highest))\n",
        "\n",
        "index = np.argsort(result[1:])[-5:]\n",
        "# for i in range(len(index)):\n",
        "#   index[i] =  index[i] + 1\n",
        "index = [x+1 for x in index] # increas by 1 because remove 1st element (my data)\n",
        "\n",
        "print(\"result[index] {}\".format(result[index]))\n",
        "\n",
        "# filter all result greater than 80%\n",
        "finalIndex = []\n",
        "for i in index:\n",
        "  if result[i] > 0.8:\n",
        "    finalIndex.append(i)\n",
        "\n",
        "finalIndex"
      ],
      "execution_count": 47,
      "outputs": [
        {
          "output_type": "stream",
          "text": [
            "676\n",
            "676\n",
            "result5Highest [0.86293, 0.8650019, 0.86702067, 0.87356174, 0.87814975]\n",
            "result[index] [0.86293    0.8650019  0.86702067 0.87356174 0.87814975]\n"
          ],
          "name": "stdout"
        },
        {
          "output_type": "execute_result",
          "data": {
            "text/plain": [
              "[54, 119, 432, 626, 624]"
            ]
          },
          "metadata": {
            "tags": []
          },
          "execution_count": 47
        }
      ]
    },
    {
      "cell_type": "code",
      "metadata": {
        "id": "kRgSTu74diPc",
        "colab_type": "code",
        "colab": {
          "base_uri": "https://localhost:8080/",
          "height": 55
        },
        "outputId": "3d9535a5-4686-47a9-8261-3dd5262da0c3"
      },
      "source": [
        "messages[finalIndex[-1]]"
      ],
      "execution_count": 48,
      "outputs": [
        {
          "output_type": "execute_result",
          "data": {
            "text/plain": [
              "' Accurate staging of non-small cell lung (NSCLC) cancer is essential before definitive therapy can begin. Staging is performed according to the tumor, node, metastasis (TNM), staging system. Select the following general stage of cancer in order to learn more about treatment options.\\xa0 In addition to stage other tests may be performed on the biopsy in order to further classify the cancer and determine the optimal treatment strategy. Based on the stage of the cancer and the results of these tests, treatment of lung cancer is individualized. Testing the cancer for specific characteristics: An important advance in the treatment of NSCLC is the development of targeted therapies—drugs that target specific biological pathways involved in the growth or spread of cancer. Patients should endure that their cancer is teste in order to determine the best overall treatment strategy. EGFR gene: Mutations in the epidermal growth factor receptor (EGFR) gene may affect how NSCLC responds to certain drugs. EGFR contributes to the growth of several types of cancer, and drugs that block the activity of EGFR can slow cancer growth. One EGFR-targeted drug that has been shown to benefit selected patients with NSCLC is Tarceva® (erlotinib). Tarceva is currently approved for the treatment of advanced NSCLC and as maintenance therapy after chemotherapy.1,2 ALK gene: Up to 7% of NSCLC have an abnormal version of the ALK gene that contributes to the growth and development of cancer cells.\\xa0 Xalkori (crizotinib) is an oral medication that blocks certain proteins, including the protein produced by this abnormal gene. For advanced NSCLC that test positive for the ALK gene abnormality, Xalkori has produced very promising rates of response.3 Stage I:\\xa0The cancer measures 5 centimeters or smaller and does not involve the lymph nodes. Stage II:\\xa0The cancer has not spread to the lymph nodes but is larger than 5 centimeters or involves structures near the lung such as the chest wall or diaphragm. NSCLC is also considered to be Stage II if it measures 7 centimeters or less and involves the lymph nodes within the lung or near the bronchus. Stage IIIA:\\xa0The cancer involves lymph nodes in the space between the lungs (mediastinum) or near where the windpipe divides; is large or extensive but the only lymph node involvement is within the lung or near the bronchus; or there is no lymph node involvement but the cancer extends to other organs or tissues such as the heart, great vessels, trachea, or other lobes of the lung. Stage IIIB::\\xa0The cancer involves lymph nodes on the opposite side of the chest or above the collar bone, or is extensive (involves organs such as the heart or trachea) and also involves lymph nodes in the center of the chest (mediastinum) or near where the windpipe divides. Stage IV:\\xa0Cancer is found in both lungs, in the fluid that surrounds the lungs or heart, or has spread to other parts of the body such as the liver, brain, or bones. Recurrent/Relapsed:\\xa0Cancer has progressed or returned (recurred/relapsed) following an initial treatment with surgery, radiation therapy and/or chemotherapy. 2 Zhou C, Wu Y-L, Chen G et al. Erlotinib versus chemotherapy as first-line treatment for patients with advanced EGFR mutation-positive non-small-cell lung cancer (OPTIMAL, CTONG-0802): A multicentre, open-label, randomized, phase 3 study. Lancet Oncology. Early online publication July 22, 2011. 3 Shaw AT, Kim DW, Mehra R, et al: Ceritinib in ALK-rearranged non–small-cell lung cancer. New England Journal of Medicine. 2014; 370: 1189-1197.\\n Copyright ©; 2020 CancerConnect. All Rights Reserved. Texas Oncology I Can Newsletter is published monthly. To have the newsletter conveniently delivered to your email, please fill out the form below to subscribe to our newsletter. '"
            ]
          },
          "metadata": {
            "tags": []
          },
          "execution_count": 48
        }
      ]
    },
    {
      "cell_type": "code",
      "metadata": {
        "id": "wKJAGxctdiSg",
        "colab_type": "code",
        "colab": {
          "base_uri": "https://localhost:8080/",
          "height": 55
        },
        "outputId": "47520544-33a0-4b29-bbeb-6fcd4fa920c5"
      },
      "source": [
        "messages[finalIndex[0]]"
      ],
      "execution_count": 49,
      "outputs": [
        {
          "output_type": "execute_result",
          "data": {
            "text/plain": [
              "'The treatment of non-small cell lung cancer depends on the stage of the disease,\\ufeff\\ufeff as well as the subtype and molecular profile. Early-stage cancers may be treated with surgery or a specialized form of radiation therapy if surgery is not possible. Advanced lung cancers are most often treated with targeted therapies, immunotherapy (checkpoint inhibitors), or chemotherapy. In addition to these treatments, local treatments designed to eradicate the sites of spread (metastasis) are sometimes used. When you\\'ve been diagnosed with non-small cell lung cancer, the most important step you can take to maximize your outcome is to find a good doctor and cancer center. With surgery, studies have shown that outcomes of lung cancer surgery are better at cancer centers that perform large volumes of these surgeries.\\ufeff\\ufeff Once you have met with a lung cancer specialist, it\\'s also very helpful to get a second opinion. With so many options now available to treat non-small cell lung cancer (NSCLC), it\\'s helpful to break these down into two major approaches, with the primary approach taken depending on the stage of the lung cancer. Treatment options can be broken down into: With stage I cancers, local therapies may be sufficient to treat the tumor. With stage IV tumors, systemic therapies are the treatment of choice. Stage II and stage III lung cancers are usually treated with a combination of local and systemic therapies. For \"in-between\" tumors, such as stage II and stage IIIA non-small cell lung cancer, a combination of these treatments may be used. In this case:\\ufeff\\ufeff If a targeted therapy is not available to treat non-small cell lung cancer, combination therapy is often used. This may include a combination of chemotherapy drugs, a combination of immunotherapy drugs, a combination of immunotherapy and chemotherapy drugs, or a combination of an immunotherapy drug, a chemotherapy drug, and an angiogenesis inhibitor.\\ufeff\\ufeff If you are beginning to learn about non-small cell lung cancer, you\\'ll likely hear about \"precision medicine.\" Precision medicine is the practice of tailoring treatment to fit not only the characteristics of the tumor seen under the microscope, but the specific genetic profile of the tumor. For early-stage non-small cell lung cancers (stage I, stage II, and stage IIIA), surgery may offer a chance for a cure. There are a number of different procedures that may be done, with the best option depending on the size and location of the tumor.\\ufeff\\ufeff While an open thoracotomy (large chest incision) was most often used to remove lung tumors in the past, minimally invasive techniques such as video-assisted thoracoscopic surgery (VATS) may be done for many tumors; oftentimes with an easier recovery. VATS cannot be used for all tumors, however, and depend on the location of the tumor. For early lung cancers (stage I) that are inoperable due to location or if a person is unable to tolerate surgery, stereotactic body radiotherapy (SBRT) may be considered as a curative approach.\\ufeff\\ufeff Everyone with non-small cell lung cancer (advanced stage) should have gene testing (molecular profiling) on their tumor. While targeted therapies are currently used primarily for stage IV cancers, it\\'s likely that they will be used in earlier stages in the near future as adjuvant therapy. Targeted therapies control the growth of a non-small cell lung cancer, but do not cure the cancer; if the treatment is stopped, the tumor will begin to grow again. Fortunately, targeted therapies are often much better tolerated than chemotherapy. There are now targeted treatments available for a number of different mutations/genetic abnormalities in cancer cells, some that are FDA-approved, and others that are available only in clinical trials or through compassionate drug use or expanded access. According to the International Association for the Study of Lung Cancer, roughly 60 percent of lung adenocarcinomas have one of these abnormalities that may be treated with targeted therapies. Abnormalities for which FDA approved treatments are available include: Other potentially treatable changes include: Other potential driver mutations include those in PI3K and DDR2, as well as FGFR1 amplifications. In addition, some mutations for which treatment is not yet available may still provide valuable information about the behavior of the tumor and prognosis, such as KRAS mutations. Targeted therapies sometimes have a high success rate in controlling the growth of a non-small cell lung cancer, but in time, resistance to the treatment usually develops. Newer medications are being developed such that a second line or third line of treatment may be available when this occurs, or may replace the earlier drug due to a longer duration of action. Looking for further lines of treatment and understanding resistance is a very active area of research at the current time. Another type of treatment that targets specific pathways in the growth of a cancer includes angiogenesis inhibitors. These drugs inhibit the formation of new blood vessels (angiogenesis) that are needed for tumors to grow, and include drugs such as Avastin (bevacizumab).\\ufeff\\ufeff Angiogenesis inhibitors are most often used along with a chemotherapy and immunotherapy drug. Immunotherapy drugs are treatments that work by essentially boosting the ability of the immune system to fight cancer. One category of immunotherapy drugs is checkpoint inhibitors, of which four drugs are currently available for treating non-small cell lung cancer (with different indications):\\ufeff\\ufeff Not everyone responds to immunotherapy, but in some cases, the results can be very dramatic with long-term control of the disease. Unfortunately, there is not yet a tool in place to predict who will respond to these drugs. Chemotherapy was once a mainstay of treatment for advanced non-small cell lung cancer, but is less effective (and more toxic) that targeted therapy and immunotherapy drugs when these can be used. It is still frequently used for people who do not have targetable genetic changes in their tumors and in combination with immunotherapy.\\ufeff\\ufeff (Chemotherapy drugs may result in the breakdown of cancer cells such that immunotherapy drugs are able to work better.) Radiation therapy can be used in different ways to treat non-small cell lung cancer. With locally advanced cancers (such as stage II and stage III), it is often used as an adjuvant treatment. Proton beam therapy may be used as an alternative and is thought by some to have fewer side effects. With advanced non-small cell lung cancer, radiation may be used as a palliative therapy (to reduce symptoms but not extend life), such as when pain is present due to bone metastases, a tumor is causing obstruction of the airways, and more.\\ufeff\\ufeff A specialized form of radiation therapy called stereotactic body radiotherapy (SBRT) may be used to treat metastases when only a few are present, with a curative intent (see below). SBRT involves the delivery of a high dose of radiation to a very localized area of tissue. At the current time, there are many clinical trials in progress looking at treatments that are more effective or have fewer side effects than standard options,\\ufeff\\ufeff and with non-small cell lung cancer, a clinical trial may offer by far the best option for some people. While many people have fears about clinical trials, it\\'s important to understand that the role of clinical trials in cancer has changed significantly in recent years. In the past, a phase I trial (the first trials done on humans) may have been primarily a \"last-ditch\" option, with a low likelihood of effectiveness. In contrast, the current phase I trials are often designed looking at precise pathways in the growth of a cancer. In this setting, there is often a very reasonable chance that a drug will be effective, and in some cases, a phase I clinical trial may be the only option that could extend life. Treatment of metastatic (stage IV) non-small cell lung cancer usually involves systemic therapy, but metastasis-specific treatment may be considered in some cases. When only a few sites of metastases are present (referred to as \"oligometastases\"), treating these sites can sometimes improve survival.\\ufeff\\ufeff It is wonderful that there are now so many new options available for treating non-small cell lung cancer, but having numerous options can be confusing. It\\'s important to learn as much as you can about your cancer (and your specific mutation if you have one) and to be an advocate in your own care. Not only does this help people feel more in control of their disease, but in some cases, it may improve outcomes. We\\'ve entered an era in which sometimes patients understand the treatment options available for their cancer more than many community oncologists. An example is the change in survival rate for people who have ALK rearrangements. A decade ago the expected survival rate was less than one year. Now the median survival rate, even with brain metastases, is 6.8 years among those who are receiving specialized care by oncologists on the leading end of research.\\ufeff\\ufeff The treatment options for non-small cell lung cancer have increased dramatically in even the past few years, and many additional therapies are being evaluated in clinical trials. Instead of treating lung cancer as a single disease, it is now recognized and treated as a condition made up of many diseases. Fortunately, along with advances in treatment have come greater social support. Patient-led groups are now available for many of the common mutations (such as the ROS2ders and EGFR resisters) that also include oncologists, surgeons, pathologists, researchers, and more. Limiting processed foods and red meats can help ward off cancer risk. These recipes focus on antioxidant-rich foods to better protect you and your loved ones. Sign up and get your guide! Thank you, {{form.email}}, for signing up. There was an error. Please try again. American Cancer Society. Treatment Choices for Non-Small Cell Lung Cancer, by Stage. Updated April 18, 2019. David EA, Cooke DT, Chen Y, Perry A, Canter RJ, Cress R. Surgery in high-volume hospitals not commission on cancer accreditation leads to increased cancer-specific survival for early-stage lung cancer. Am J Surg. 2015;210(4):643-7. doi:10.1016/j.amjsurg.2015.05.002 Chuang JC, Liang Y, Wakelee HA. Neoadjuvant and Adjuvant Therapy for Non-Small Cell Lung Cancer. Hematol Oncol Clin North Am. 2017;31(1):31-44. doi:10.1016/j.hoc.2016.08.011 Schneider BJ, Daly ME, Kennedy EB, et al. Stereotactic Body Radiotherapy for Early-Stage Non-Small-Cell Lung Cancer: American Society of Clinical Oncology Endorsement of the American Society for Radiation Oncology Evidence-Based Guideline. J Clin Oncol. 2018;36(7):710-719. doi:10.1200/JCO.2017.74.9671 American Cancer Society, Immunotherapy for Non-Small Cell Lung Cancer. Updated April 18, 2019. American Cancer Society. Chemotherapy for Non-Small Cell Lung Cancer. Updated May 16, 2016. American Cancer Society. Radiation Therapy for Non-Small Cell Lung Cancer. Updated May 16, 2016. National Cancer Institute. Treatment Clinical Trials for Non-Small Cell Lung Cancer. Stephens SJ, Moravan MJ, Salama JK. Managing Patients With Oligometastatic Non-Small-Cell Lung Cancer. J Oncol Pract. 2018;14(1):23-31. doi:10.1200/JOP.2017.026500 Pacheco JM, Gao D, Smith D, et al. Natural History and Factors Associated with Overall Survival in Stage IV ALK-Rearranged Non-Small Cell Lung Cancer. J Thorac Oncol. 2019;14(4):691-700. doi:10.1016/j.jtho.2018.12.014 National Cancer Institute. Non-Small Cell Lung Cancer Treatment (PDQ) - Health Professional Version. Updated June 13, 2019. Sequist, L., and J. Neal. Personalized, Genotype-Directed Therapy for Advanced Non-Small Cell Lung Cancer. UpToDate. Updated April 5, 2019.  Thank you, {{form.email}}, for signing up. There was an error. Please try again.'"
            ]
          },
          "metadata": {
            "tags": []
          },
          "execution_count": 49
        }
      ]
    },
    {
      "cell_type": "code",
      "metadata": {
        "id": "obnQHbgzdiNN",
        "colab_type": "code",
        "colab": {
          "base_uri": "https://localhost:8080/",
          "height": 125
        },
        "outputId": "fcd0b97c-57c0-4ba3-8983-10b245d7f10d"
      },
      "source": [
        "finalIndex_df = [x - 1 for x in finalIndex]\n",
        "df_prepWholeWeb.content[finalIndex_df]"
      ],
      "execution_count": 50,
      "outputs": [
        {
          "output_type": "execute_result",
          "data": {
            "text/plain": [
              "53     The treatment of non-small cell lung cancer de...\n",
              "118    Lung cancer is cancer that begins in the lungs...\n",
              "431     A stage II non-small cell lung cancer is loca...\n",
              "625     Stage I non-small cell lung cancer (NSCLC) is...\n",
              "623     Accurate staging of non-small cell lung (NSCL...\n",
              "Name: content, dtype: object"
            ]
          },
          "metadata": {
            "tags": []
          },
          "execution_count": 50
        }
      ]
    },
    {
      "cell_type": "markdown",
      "metadata": {
        "id": "F7BRPbvoIEZa",
        "colab_type": "text"
      },
      "source": [
        "## Use Google Universal sentence encoder to find the smilar sentences or graphs of the most highest similarity 5 pages and then summarizing the treatment\n"
      ]
    },
    {
      "cell_type": "markdown",
      "metadata": {
        "id": "1rTtRwhDIEmk",
        "colab_type": "text"
      },
      "source": [
        "### My Keywords"
      ]
    },
    {
      "cell_type": "code",
      "metadata": {
        "id": "WjgXBDD1IEsO",
        "colab_type": "code",
        "colab": {}
      },
      "source": [
        ""
      ],
      "execution_count": 0,
      "outputs": []
    },
    {
      "cell_type": "code",
      "metadata": {
        "id": "dgF0b1yHNtnr",
        "colab_type": "code",
        "colab": {
          "base_uri": "https://localhost:8080/",
          "height": 559
        },
        "outputId": "55346d81-f714-4190-e01a-c307fe5305e8"
      },
      "source": [
        "!pip install --upgrade gensim\n"
      ],
      "execution_count": 51,
      "outputs": [
        {
          "output_type": "stream",
          "text": [
            "Requirement already up-to-date: gensim in /usr/local/lib/python3.6/dist-packages (3.8.2)\n",
            "Requirement already satisfied, skipping upgrade: six>=1.5.0 in /usr/local/lib/python3.6/dist-packages (from gensim) (1.12.0)\n",
            "Requirement already satisfied, skipping upgrade: scipy>=1.0.0 in /usr/local/lib/python3.6/dist-packages (from gensim) (1.4.1)\n",
            "Requirement already satisfied, skipping upgrade: numpy>=1.11.3 in /usr/local/lib/python3.6/dist-packages (from gensim) (1.18.2)\n",
            "Requirement already satisfied, skipping upgrade: smart-open>=1.8.1 in /usr/local/lib/python3.6/dist-packages (from gensim) (1.10.0)\n",
            "Requirement already satisfied, skipping upgrade: requests in /usr/local/lib/python3.6/dist-packages (from smart-open>=1.8.1->gensim) (2.21.0)\n",
            "Requirement already satisfied, skipping upgrade: google-cloud-storage in /usr/local/lib/python3.6/dist-packages (from smart-open>=1.8.1->gensim) (1.18.1)\n",
            "Requirement already satisfied, skipping upgrade: boto3 in /usr/local/lib/python3.6/dist-packages (from smart-open>=1.8.1->gensim) (1.12.38)\n",
            "Requirement already satisfied, skipping upgrade: urllib3<1.25,>=1.21.1 in /usr/local/lib/python3.6/dist-packages (from requests->smart-open>=1.8.1->gensim) (1.24.3)\n",
            "Requirement already satisfied, skipping upgrade: certifi>=2017.4.17 in /usr/local/lib/python3.6/dist-packages (from requests->smart-open>=1.8.1->gensim) (2020.4.5.1)\n",
            "Requirement already satisfied, skipping upgrade: chardet<3.1.0,>=3.0.2 in /usr/local/lib/python3.6/dist-packages (from requests->smart-open>=1.8.1->gensim) (3.0.4)\n",
            "Requirement already satisfied, skipping upgrade: idna<2.9,>=2.5 in /usr/local/lib/python3.6/dist-packages (from requests->smart-open>=1.8.1->gensim) (2.8)\n",
            "Requirement already satisfied, skipping upgrade: google-auth>=1.2.0 in /usr/local/lib/python3.6/dist-packages (from google-cloud-storage->smart-open>=1.8.1->gensim) (1.7.2)\n",
            "Requirement already satisfied, skipping upgrade: google-resumable-media<0.5.0dev,>=0.3.1 in /usr/local/lib/python3.6/dist-packages (from google-cloud-storage->smart-open>=1.8.1->gensim) (0.4.1)\n",
            "Requirement already satisfied, skipping upgrade: google-cloud-core<2.0dev,>=1.0.0 in /usr/local/lib/python3.6/dist-packages (from google-cloud-storage->smart-open>=1.8.1->gensim) (1.0.3)\n",
            "Requirement already satisfied, skipping upgrade: jmespath<1.0.0,>=0.7.1 in /usr/local/lib/python3.6/dist-packages (from boto3->smart-open>=1.8.1->gensim) (0.9.5)\n",
            "Requirement already satisfied, skipping upgrade: s3transfer<0.4.0,>=0.3.0 in /usr/local/lib/python3.6/dist-packages (from boto3->smart-open>=1.8.1->gensim) (0.3.3)\n",
            "Requirement already satisfied, skipping upgrade: botocore<1.16.0,>=1.15.38 in /usr/local/lib/python3.6/dist-packages (from boto3->smart-open>=1.8.1->gensim) (1.15.38)\n",
            "Requirement already satisfied, skipping upgrade: setuptools>=40.3.0 in /usr/local/lib/python3.6/dist-packages (from google-auth>=1.2.0->google-cloud-storage->smart-open>=1.8.1->gensim) (46.1.3)\n",
            "Requirement already satisfied, skipping upgrade: pyasn1-modules>=0.2.1 in /usr/local/lib/python3.6/dist-packages (from google-auth>=1.2.0->google-cloud-storage->smart-open>=1.8.1->gensim) (0.2.8)\n",
            "Requirement already satisfied, skipping upgrade: rsa<4.1,>=3.1.4 in /usr/local/lib/python3.6/dist-packages (from google-auth>=1.2.0->google-cloud-storage->smart-open>=1.8.1->gensim) (4.0)\n",
            "Requirement already satisfied, skipping upgrade: cachetools<3.2,>=2.0.0 in /usr/local/lib/python3.6/dist-packages (from google-auth>=1.2.0->google-cloud-storage->smart-open>=1.8.1->gensim) (3.1.1)\n",
            "Requirement already satisfied, skipping upgrade: google-api-core<2.0.0dev,>=1.14.0 in /usr/local/lib/python3.6/dist-packages (from google-cloud-core<2.0dev,>=1.0.0->google-cloud-storage->smart-open>=1.8.1->gensim) (1.16.0)\n",
            "Requirement already satisfied, skipping upgrade: docutils<0.16,>=0.10 in /usr/local/lib/python3.6/dist-packages (from botocore<1.16.0,>=1.15.38->boto3->smart-open>=1.8.1->gensim) (0.15.2)\n",
            "Requirement already satisfied, skipping upgrade: python-dateutil<3.0.0,>=2.1 in /usr/local/lib/python3.6/dist-packages (from botocore<1.16.0,>=1.15.38->boto3->smart-open>=1.8.1->gensim) (2.8.1)\n",
            "Requirement already satisfied, skipping upgrade: pyasn1<0.5.0,>=0.4.6 in /usr/local/lib/python3.6/dist-packages (from pyasn1-modules>=0.2.1->google-auth>=1.2.0->google-cloud-storage->smart-open>=1.8.1->gensim) (0.4.8)\n",
            "Requirement already satisfied, skipping upgrade: protobuf>=3.4.0 in /usr/local/lib/python3.6/dist-packages (from google-api-core<2.0.0dev,>=1.14.0->google-cloud-core<2.0dev,>=1.0.0->google-cloud-storage->smart-open>=1.8.1->gensim) (3.10.0)\n",
            "Requirement already satisfied, skipping upgrade: pytz in /usr/local/lib/python3.6/dist-packages (from google-api-core<2.0.0dev,>=1.14.0->google-cloud-core<2.0dev,>=1.0.0->google-cloud-storage->smart-open>=1.8.1->gensim) (2018.9)\n",
            "Requirement already satisfied, skipping upgrade: googleapis-common-protos<2.0dev,>=1.6.0 in /usr/local/lib/python3.6/dist-packages (from google-api-core<2.0.0dev,>=1.14.0->google-cloud-core<2.0dev,>=1.0.0->google-cloud-storage->smart-open>=1.8.1->gensim) (1.51.0)\n"
          ],
          "name": "stdout"
        }
      ]
    },
    {
      "cell_type": "code",
      "metadata": {
        "id": "NSrJnIKeNoqN",
        "colab_type": "code",
        "colab": {}
      },
      "source": [
        "from gensim import corpora\n",
        "from gensim.models import LsiModel, LdaModel, nmf\n",
        "from nltk.tokenize import RegexpTokenizer\n"
      ],
      "execution_count": 0,
      "outputs": []
    },
    {
      "cell_type": "code",
      "metadata": {
        "id": "h8wO2LBPOPsr",
        "colab_type": "code",
        "colab": {}
      },
      "source": [
        "def preprocess_data(doc_set):\n",
        "    \"\"\"\n",
        "    Input  : docuemnt list\n",
        "    Purpose: preprocess text (tokenize, removing stopwords, and stemming)\n",
        "    Output : preprocessed text\n",
        "    \"\"\"\n",
        "    # initialize regex tokenizer\n",
        "    tokenizer = RegexpTokenizer(r'\\w+')\n",
        "    # create English stop words list\n",
        "    en_stop = set(stopwords.words('english'))\n",
        "    # Create p_stemmer of class PorterStemmer\n",
        "    p_stemmer = PorterStemmer()\n",
        "    # list for tokenized documents in loop\n",
        "    texts = []\n",
        "    # loop through document list\n",
        "    for i in doc_set:\n",
        "        # clean and tokenize document string\n",
        "        raw = i.lower()\n",
        "        tokens = tokenizer.tokenize(raw)\n",
        "        # remove stop words from tokens\n",
        "        stopped_tokens = [i for i in tokens if not i in en_stop]\n",
        "        # stem tokens\n",
        "        # stemmed_tokens = [p_stemmer.stem(i) for i in stopped_tokens]\n",
        "        # # add tokens to list\n",
        "        texts.append(stopped_tokens)\n",
        "    return texts"
      ],
      "execution_count": 0,
      "outputs": []
    },
    {
      "cell_type": "code",
      "metadata": {
        "id": "OUa50fcMIEwv",
        "colab_type": "code",
        "colab": {}
      },
      "source": [
        "def prepare_corpus(doc_clean):\n",
        "    \"\"\"\n",
        "    Input  : clean document\n",
        "    Purpose: create term dictionary of our courpus and Converting list of documents (corpus) into Document Term Matrix\n",
        "    Output : term dictionary and Document Term Matrix\n",
        "    \"\"\"\n",
        "    # Creating the term dictionary of our courpus, where every unique term is assigned an index. dictionary = corpora.Dictionary(doc_clean)\n",
        "    dictionary = corpora.Dictionary(doc_clean)\n",
        "    # Converting list of documents (corpus) into Document Term Matrix using dictionary prepared above.\n",
        "    doc_term_matrix = [dictionary.doc2bow(doc) for doc in doc_clean]\n",
        "    # generate LDA model\n",
        "    return dictionary,doc_term_matrix"
      ],
      "execution_count": 0,
      "outputs": []
    },
    {
      "cell_type": "code",
      "metadata": {
        "id": "58ZbtQsIIE09",
        "colab_type": "code",
        "colab": {}
      },
      "source": [
        "def create_gensim_lsa_model(doc_clean,number_of_topics,words):\n",
        "    \"\"\"\n",
        "    Input  : clean document, number of topics and number of words associated with each topic\n",
        "    Purpose: create LSA model using gensim\n",
        "    Output : return LSA model\n",
        "    \"\"\"\n",
        "    dictionary,doc_term_matrix=prepare_corpus(doc_clean)\n",
        "    # generate LSA model\n",
        "    lsamodel = LsiModel(doc_term_matrix, num_topics=number_of_topics, id2word = dictionary)  # train model\n",
        "    print(lsamodel.print_topics(num_topics=number_of_topics, num_words=words))\n",
        "    return lsamodel"
      ],
      "execution_count": 0,
      "outputs": []
    },
    {
      "cell_type": "code",
      "metadata": {
        "id": "k1N-hGnmIE4f",
        "colab_type": "code",
        "colab": {}
      },
      "source": [
        "def create_gensim_lda_model(doc_clean,number_of_topics,words):\n",
        "    \"\"\"\n",
        "    Input  : clean document, number of topics and number of words associated with each topic\n",
        "    Purpose: create LDA model using gensim\n",
        "    Output : return LDA model\n",
        "    \"\"\"\n",
        "    dictionary,doc_term_matrix=prepare_corpus(doc_clean)\n",
        "    # generate LDA model\n",
        "    ldamodel = LdaModel(doc_term_matrix, num_topics=number_of_topics, id2word = dictionary)  # train model\n",
        "    print(ldamodel.print_topics(num_topics=number_of_topics, num_words=words))\n",
        "    return ldamodel"
      ],
      "execution_count": 0,
      "outputs": []
    },
    {
      "cell_type": "code",
      "metadata": {
        "id": "LIYfnFlQIE8D",
        "colab_type": "code",
        "colab": {}
      },
      "source": [
        "def create_gensim_nmf_model(doc_clean,number_of_topics,words):\n",
        "    \"\"\"\n",
        "    Input  : clean document, number of topics and number of words associated with each topic\n",
        "    Purpose: create nmf model using gensim\n",
        "    Output : return nmf model\n",
        "    \"\"\"\n",
        "    dictionary,doc_term_matrix=prepare_corpus(doc_clean)\n",
        "    # generate nmf model\n",
        "    nmfmodel = nmf.Nmf(doc_term_matrix, num_topics=number_of_topics, id2word = dictionary)  # train model\n",
        "    print(nmfmodel.print_topics(num_topics=number_of_topics, num_words=words))\n",
        "    return nmfmodel"
      ],
      "execution_count": 0,
      "outputs": []
    },
    {
      "cell_type": "markdown",
      "metadata": {
        "id": "YkbxqmjmIE_3",
        "colab_type": "text"
      },
      "source": [
        "#### Determine the number of topics"
      ]
    },
    {
      "cell_type": "code",
      "metadata": {
        "id": "Ln1JexsJIFEY",
        "colab_type": "code",
        "colab": {}
      },
      "source": [
        "def compute_coherence_values(dictionary, doc_term_matrix, doc_clean, stop, start=2, step=3):\n",
        "    \"\"\"\n",
        "    Input   : dictionary : Gensim dictionary\n",
        "              corpus : Gensim corpus\n",
        "              texts : List of input texts\n",
        "              stop : Max num of topics\n",
        "    purpose : Compute c_v coherence for various number of topics\n",
        "    Output  : model_list : List of LSA topic models\n",
        "              coherence_values : Coherence values corresponding to the LDA model with respective number of topics\n",
        "    \"\"\"\n",
        "    coherence_values = []\n",
        "    model_list = []\n",
        "    for num_topics in range(start, stop, step):\n",
        "        # generate LSA model\n",
        "        model = LsiModel(doc_term_matrix, num_topics=number_of_topics, id2word = dictionary)  # train model\n",
        "        model_list.append(model)\n",
        "        coherencemodel = CoherenceModel(model=model, texts=doc_clean, dictionary=dictionary, coherence='c_v')\n",
        "        coherence_values.append(coherencemodel.get_coherence())\n",
        "    return model_list, coherence_values"
      ],
      "execution_count": 0,
      "outputs": []
    },
    {
      "cell_type": "code",
      "metadata": {
        "id": "LD33ku_SOhxe",
        "colab_type": "code",
        "colab": {
          "base_uri": "https://localhost:8080/",
          "height": 55
        },
        "outputId": "d0f3138a-237e-41fb-bee8-da4d2c714420"
      },
      "source": [
        "stageII"
      ],
      "execution_count": 59,
      "outputs": [
        {
          "output_type": "execute_result",
          "data": {
            "text/plain": [
              "' treatment stage two non–smal cell lung cancer surgeri standard treatment stage two non–smal cell lung cancer peopl well enough surgeri lobectomi remov lobe lung main type surgeri stage two non–smal cell lung cancer offer best chanc cancer complet remov wedg segment resect use remov tumour along margin healthi lung tissu type surgeri may offer stage two non–smal cell lung cancer peopl good lung function sleev resect use remov tumour larg airway bronchu lung extend pulmonari resect chest wall resect may done stage two non–smal cell lung cancer spread chest wall tissu around lung surgeri non–smal cell lung cancer lymph node chest around lung remov cancer lymph node shown diagnost test surgeri may stop done cancer spread far surgeri help treatment surgeri may done lab report cancer found margin posit margin tissu remov extern beam radiat therapi offer stage two non–smal cell lung cancer peopl well enough surgeri choos surgeri radiat therapi may given surgeri posit margin tissu remov surgeri done stereotact bodi radiotherapi sbrt may offer peopl lung cancer spread outsid lung hypofraction radiat treatment may offer peopl abl sbrt three conform radiat therapi three crt intens modul radiat therapi imrt may offer peopl toler dose radiat given sbrt hypofraction treatment chemotherapi may offer surgeri stage two non–smal cell lung cancer spread bronchial lymph node peopl healthi enough chemotherapi healthcar team discuss benefit risk chemotherapi common chemotherapi drug combin use cisplatin vinorelbin navelbin person given cisplatin poor health carboplatin paraplatin paraplatin aq may given instead chemoradi may offer treatment peopl non–smal cell lung cancer surgeri tumour five cm larger cancer spread lymph node'"
            ]
          },
          "metadata": {
            "tags": []
          },
          "execution_count": 59
        }
      ]
    },
    {
      "cell_type": "code",
      "metadata": {
        "id": "b3-EdJTKIFHJ",
        "colab_type": "code",
        "colab": {
          "base_uri": "https://localhost:8080/",
          "height": 91
        },
        "outputId": "49d8342a-d14f-4469-9e88-b2c20574ddcf"
      },
      "source": [
        "# LSA Model\n",
        "number_of_topics=1\n",
        "words=50\n",
        "document_list = [stageII]\n",
        "clean_text=preprocess_data(document_list)\n",
        "lsamodel=create_gensim_lsa_model(clean_text,number_of_topics,words)\n",
        "ldamodel = create_gensim_lda_model(clean_text,number_of_topics,words)\n",
        "nmfmodel = create_gensim_nmf_model(clean_text,number_of_topics,words)"
      ],
      "execution_count": 60,
      "outputs": [
        {
          "output_type": "stream",
          "text": [
            "[(0, '0.408*\"lung\" + 0.360*\"cancer\" + 0.336*\"surgeri\" + 0.264*\"may\" + 0.216*\"cell\" + 0.216*\"smal\" + 0.216*\"non\" + 0.192*\"peopl\" + 0.192*\"offer\" + 0.168*\"two\" + 0.168*\"remov\" + 0.168*\"stage\" + 0.144*\"radiat\" + 0.144*\"treatment\" + 0.120*\"spread\" + 0.096*\"tissu\" + 0.096*\"therapi\" + 0.096*\"lymph\" + 0.096*\"node\" + 0.096*\"resect\" + 0.096*\"given\" + 0.096*\"margin\" + 0.096*\"done\" + 0.096*\"chemotherapi\" + 0.072*\"use\" + 0.072*\"enough\" + 0.072*\"tumour\" + 0.072*\"sbrt\" + 0.072*\"chest\" + 0.048*\"type\" + 0.048*\"cisplatin\" + 0.048*\"wall\" + 0.048*\"three\" + 0.048*\"healthi\" + 0.048*\"paraplatin\" + 0.048*\"hypofraction\" + 0.048*\"posit\" + 0.048*\"around\" + 0.048*\"well\" + 0.024*\"aq\" + 0.024*\"bodi\" + 0.024*\"airway\" + 0.024*\"test\" + 0.024*\"complet\" + 0.024*\"chanc\" + 0.024*\"chemoradi\" + 0.024*\"lobe\" + 0.024*\"function\" + 0.024*\"carboplatin\" + 0.024*\"diagnost\"')]\n",
            "[(0, '0.048*\"lung\" + 0.043*\"cancer\" + 0.040*\"surgeri\" + 0.032*\"may\" + 0.027*\"smal\" + 0.027*\"non\" + 0.027*\"cell\" + 0.024*\"offer\" + 0.024*\"peopl\" + 0.021*\"two\" + 0.021*\"remov\" + 0.021*\"stage\" + 0.019*\"treatment\" + 0.019*\"radiat\" + 0.016*\"spread\" + 0.013*\"node\" + 0.013*\"therapi\" + 0.013*\"resect\" + 0.013*\"done\" + 0.013*\"given\" + 0.013*\"lymph\" + 0.013*\"chemotherapi\" + 0.013*\"tissu\" + 0.013*\"margin\" + 0.011*\"tumour\" + 0.011*\"chest\" + 0.011*\"sbrt\" + 0.011*\"enough\" + 0.011*\"use\" + 0.008*\"cisplatin\" + 0.008*\"hypofraction\" + 0.008*\"type\" + 0.008*\"wall\" + 0.008*\"three\" + 0.008*\"posit\" + 0.008*\"well\" + 0.008*\"healthi\" + 0.008*\"paraplatin\" + 0.008*\"around\" + 0.005*\"person\" + 0.005*\"lobectomi\" + 0.005*\"toler\" + 0.005*\"bronchu\" + 0.005*\"extend\" + 0.005*\"navelbin\" + 0.005*\"healthcar\" + 0.005*\"found\" + 0.005*\"along\" + 0.005*\"complet\" + 0.005*\"imrt\"')]\n",
            "[(0, '0.063*\"lung\" + 0.055*\"cancer\" + 0.051*\"surgeri\" + 0.040*\"may\" + 0.033*\"cell\" + 0.033*\"smal\" + 0.033*\"non\" + 0.029*\"offer\" + 0.029*\"peopl\" + 0.026*\"remov\" + 0.026*\"two\" + 0.026*\"stage\" + 0.022*\"radiat\" + 0.022*\"treatment\" + 0.018*\"spread\" + 0.015*\"resect\" + 0.015*\"chemotherapi\" + 0.015*\"given\" + 0.015*\"lymph\" + 0.015*\"tissu\" + 0.015*\"margin\" + 0.015*\"node\" + 0.015*\"done\" + 0.015*\"therapi\" + 0.011*\"use\" + 0.011*\"tumour\" + 0.011*\"enough\" + 0.011*\"sbrt\" + 0.011*\"chest\" + 0.007*\"healthi\" + 0.007*\"well\" + 0.007*\"three\" + 0.007*\"type\" + 0.007*\"posit\" + 0.007*\"around\" + 0.007*\"paraplatin\" + 0.007*\"wall\" + 0.007*\"hypofraction\" + 0.007*\"cisplatin\" + 0.004*\"radiotherapi\" + 0.004*\"extend\" + 0.004*\"complet\" + 0.004*\"help\" + 0.004*\"shown\" + 0.004*\"cm\" + 0.004*\"stereotact\" + 0.004*\"stop\" + 0.004*\"vinorelbin\" + 0.004*\"outsid\" + 0.004*\"wedg\"')]\n"
          ],
          "name": "stdout"
        }
      ]
    },
    {
      "cell_type": "code",
      "metadata": {
        "id": "jXMxYqM0IFKS",
        "colab_type": "code",
        "colab": {
          "base_uri": "https://localhost:8080/",
          "height": 55
        },
        "outputId": "617faa08-5430-47c4-9d96-2d44152c54d7"
      },
      "source": [
        "lsa_words_topic = [x[0] for x in lsamodel.show_topic(0,topn=words) ]\n",
        "' '.join(lsa_words_topic)"
      ],
      "execution_count": 61,
      "outputs": [
        {
          "output_type": "execute_result",
          "data": {
            "text/plain": [
              "'lung cancer surgeri may cell smal non peopl offer two remov stage radiat treatment spread tissu therapi lymph node resect given margin done chemotherapi use enough tumour sbrt chest type cisplatin wall three healthi paraplatin hypofraction posit around well aq bodi airway test complet chanc chemoradi lobe function carboplatin diagnost'"
            ]
          },
          "metadata": {
            "tags": []
          },
          "execution_count": 61
        }
      ]
    },
    {
      "cell_type": "code",
      "metadata": {
        "id": "949mSNnWIFNk",
        "colab_type": "code",
        "colab": {
          "base_uri": "https://localhost:8080/",
          "height": 55
        },
        "outputId": "1255350b-a1ad-4077-d7d1-1813ab4804ab"
      },
      "source": [
        "lda_words_topic = [x[0] for x in ldamodel.show_topic(0,topn=words) ]\n",
        "' '.join(lda_words_topic)"
      ],
      "execution_count": 62,
      "outputs": [
        {
          "output_type": "execute_result",
          "data": {
            "text/plain": [
              "'lung cancer surgeri may smal non cell offer peopl two remov stage treatment radiat spread node therapi resect done given lymph chemotherapi tissu margin tumour chest sbrt enough use cisplatin hypofraction type wall three posit well healthi paraplatin around person lobectomi toler bronchu extend navelbin healthcar found along complet imrt'"
            ]
          },
          "metadata": {
            "tags": []
          },
          "execution_count": 62
        }
      ]
    },
    {
      "cell_type": "code",
      "metadata": {
        "id": "DNqJpkGFIFQt",
        "colab_type": "code",
        "colab": {
          "base_uri": "https://localhost:8080/",
          "height": 55
        },
        "outputId": "fdf0dc21-4a75-4e04-d53a-0d58d3d44edc"
      },
      "source": [
        "nmf_words_topic = [x[0] for x in nmfmodel.show_topic(0,topn=words) ]\n",
        "' '.join(nmf_words_topic)"
      ],
      "execution_count": 63,
      "outputs": [
        {
          "output_type": "execute_result",
          "data": {
            "text/plain": [
              "'lung cancer surgeri may cell smal non offer peopl remov two stage radiat treatment spread resect chemotherapi given lymph tissu margin node done therapi use tumour enough sbrt chest healthi well three type posit around paraplatin wall hypofraction cisplatin radiotherapi extend complet help shown cm stereotact stop vinorelbin outsid wedg'"
            ]
          },
          "metadata": {
            "tags": []
          },
          "execution_count": 63
        }
      ]
    },
    {
      "cell_type": "markdown",
      "metadata": {
        "id": "EuqALNmoOgYH",
        "colab_type": "text"
      },
      "source": [
        "#### Combine 5 pages Links\n"
      ]
    },
    {
      "cell_type": "code",
      "metadata": {
        "id": "UFlgyNZUIFdG",
        "colab_type": "code",
        "colab": {
          "base_uri": "https://localhost:8080/",
          "height": 127
        },
        "outputId": "c97bafdc-f362-4ddd-c478-30cf52b830e3"
      },
      "source": [
        "fiveLinks = df_prepWholeWeb.links[finalIndex_df]\n",
        "fiveLinks = list(fiveLinks)\n",
        "fiveLinks"
      ],
      "execution_count": 64,
      "outputs": [
        {
          "output_type": "execute_result",
          "data": {
            "text/plain": [
              "['https://www.verywellhealth.com/non-small-cell-lung-cancer-treatment-2824979',\n",
              " 'https://www.healthline.com/health/lung-cancer/stage-1-lung-cancer',\n",
              " 'https://www.texasoncology.com/types-of-cancer/lung-cancer/non-small-cell-lung-cancer/stage-ii-non-small-cell-lung-cancer',\n",
              " 'https://www.texasoncology.com/cancer-and-blood-disorders/cancer-types/lung-cancer/non-small-cell-lung-cancer/stage-i-non-small-cell-lung-cancer',\n",
              " 'https://www.texasoncology.com/cancer-and-blood-disorders/cancer-types/lung-cancer/non-small-cell-lung-cancer']"
            ]
          },
          "metadata": {
            "tags": []
          },
          "execution_count": 64
        }
      ]
    },
    {
      "cell_type": "code",
      "metadata": {
        "id": "JAHoHqdgPGMf",
        "colab_type": "code",
        "colab": {}
      },
      "source": [
        "senParFiveLinks = []\n",
        "for l in fiveLinks: # 5 links\n",
        "  for senPar in list(df.content[df_prepWholeWeb.links == l])[0]: # all sentences or paragraphs in the link\n",
        "    senParFiveLinks.append(senPar)"
      ],
      "execution_count": 0,
      "outputs": []
    },
    {
      "cell_type": "code",
      "metadata": {
        "id": "NLjXS26APGQs",
        "colab_type": "code",
        "colab": {
          "base_uri": "https://localhost:8080/",
          "height": 127
        },
        "outputId": "c3900bec-2eba-493a-9a6d-25cd1f703309"
      },
      "source": [
        "senParFiveLinks[:5]"
      ],
      "execution_count": 66,
      "outputs": [
        {
          "output_type": "execute_result",
          "data": {
            "text/plain": [
              "['The treatment of non-small cell lung cancer depends on the stage of the disease,\\ufeff\\ufeff as well as the subtype and molecular profile. Early-stage cancers may be treated with surgery or a specialized form of radiation therapy if surgery is not possible. Advanced lung cancers are most often treated with targeted therapies, immunotherapy (checkpoint inhibitors), or chemotherapy. In addition to these treatments, local treatments designed to eradicate the sites of spread (metastasis) are sometimes used.',\n",
              " \"When you've been diagnosed with non-small cell lung cancer, the most important step you can take to maximize your outcome is to find a good doctor and cancer center. With surgery, studies have shown that outcomes of lung cancer surgery are better at cancer centers that perform large volumes of these surgeries.\\ufeff\\ufeff Once you have met with a lung cancer specialist, it's also very helpful to get a second opinion.\",\n",
              " \"With so many options now available to treat non-small cell lung cancer (NSCLC), it's helpful to break these down into two major approaches, with the primary approach taken depending on the stage of the lung cancer.\",\n",
              " 'Treatment options can be broken down into:',\n",
              " 'With stage I cancers, local therapies may be sufficient to treat the tumor. With stage IV tumors, systemic therapies are the treatment of choice. Stage II and stage III lung cancers are usually treated with a combination of local and systemic therapies.']"
            ]
          },
          "metadata": {
            "tags": []
          },
          "execution_count": 66
        }
      ]
    },
    {
      "cell_type": "code",
      "metadata": {
        "id": "9CmiuP0-PGUj",
        "colab_type": "code",
        "colab": {
          "base_uri": "https://localhost:8080/",
          "height": 145
        },
        "outputId": "1e62a2c2-6c41-4bdb-e6e4-0f5234024e89"
      },
      "source": [
        "prep_senParFiveLinks = [preprocess(x) for x in senParFiveLinks ]\n",
        "print(len(prep_senParFiveLinks))\n",
        "prep_senParFiveLinks[:5]"
      ],
      "execution_count": 67,
      "outputs": [
        {
          "output_type": "stream",
          "text": [
            "204\n"
          ],
          "name": "stdout"
        },
        {
          "output_type": "execute_result",
          "data": {
            "text/plain": [
              "[' treatment non small cell lung cancer depend stage disease\\ufeff\\ufeff well subtyp molecular profil earli stage cancer may treat surgeri special form radiat therapi surgeri possibl advanc lung cancer often treat target therapi immunotherapi checkpoint inhibitor chemotherapi addit treatment local treatment design erad site spread metastasi sometim use',\n",
              " ' youv diagnos non small cell lung cancer import step take maxim outcom find good doctor cancer center surgeri studi shown outcom lung cancer surgeri better cancer center perform larg volum surgeri \\ufeff\\ufeff met lung cancer specialist also help get second opinion',\n",
              " ' mani option avail treat non small cell lung cancer nsclc help break two major approach primari approach taken depend stage lung cancer',\n",
              " ' treatment option broken',\n",
              " ' stage cancer local therapi may suffici treat tumor stage iv tumor system therapi treatment choic stage ii stage iii lung cancer usual treat combin local system therapi']"
            ]
          },
          "metadata": {
            "tags": []
          },
          "execution_count": 67
        }
      ]
    },
    {
      "cell_type": "code",
      "metadata": {
        "id": "batIXtroYUoE",
        "colab_type": "code",
        "colab": {
          "base_uri": "https://localhost:8080/",
          "height": 55
        },
        "outputId": "9cf370f3-9ac6-4287-f559-24bfa4c158f5"
      },
      "source": [
        "ldaString = \"\"\n",
        "for s in lda_words_topic:\n",
        "  ldaString += s + \" \"\n",
        "ldaString"
      ],
      "execution_count": 68,
      "outputs": [
        {
          "output_type": "execute_result",
          "data": {
            "text/plain": [
              "'lung cancer surgeri may smal non cell offer peopl two remov stage treatment radiat spread node therapi resect done given lymph chemotherapi tissu margin tumour chest sbrt enough use cisplatin hypofraction type wall three posit well healthi paraplatin around person lobectomi toler bronchu extend navelbin healthcar found along complet imrt '"
            ]
          },
          "metadata": {
            "tags": []
          },
          "execution_count": 68
        }
      ]
    },
    {
      "cell_type": "code",
      "metadata": {
        "id": "8it37gh0PGXU",
        "colab_type": "code",
        "colab": {
          "base_uri": "https://localhost:8080/",
          "height": 415
        },
        "outputId": "c2356d35-db63-4c2e-9fd7-245240a6ed26"
      },
      "source": [
        "messages2 = [ldaString] +  prep_senParFiveLinks\n",
        "print(len(messages2))\n",
        "encoding_matrix = embed_fn(messages2)\n",
        "result_senPar = np.inner(encoding_matrix, encoding_matrix)[0]\n",
        "print(len(result_senPar))\n",
        "halfLen = int(len(prep_senParFiveLinks)/2) # get 1/2 highest result\n",
        "result_senPar5Highest = list(sorted(result_senPar[1:]))[-halfLen:]\n",
        "print(\"result_senPar5Highest {}\".format(result_senPar5Highest))\n",
        "\n",
        "index_senPar = np.argsort(result_senPar[1:])[-halfLen:]\n",
        "# for i in range(len(index_senPar)):\n",
        "#   index_senPar[i] =  index_senPar[i] + 1\n",
        "index_senPar = [x+1 for x in index_senPar] # increas by 1 because remove 1st element (my data)\n",
        "\n",
        "print(\"result_senPar[index_senPar] {}\".format(result_senPar[index_senPar]))\n",
        "\n",
        "# filter all result_senPar greater than 80%\n",
        "finalIndex_senPar = []\n",
        "for i in index_senPar:\n",
        "  if result_senPar[i] > 0.8:\n",
        "    finalIndex_senPar.append(i)\n",
        "\n",
        "print(len(finalIndex_senPar))"
      ],
      "execution_count": 69,
      "outputs": [
        {
          "output_type": "stream",
          "text": [
            "205\n",
            "205\n",
            "result_senPar5Highest [0.7365817, 0.7374294, 0.74134433, 0.74134433, 0.7414775, 0.74754214, 0.7477176, 0.75158286, 0.75158286, 0.7520707, 0.7520707, 0.75337446, 0.7538832, 0.7538832, 0.7548232, 0.7592883, 0.7605932, 0.76079, 0.76097655, 0.762339, 0.7627104, 0.76642466, 0.76642466, 0.76692086, 0.77242327, 0.77242327, 0.7734767, 0.7734767, 0.7744908, 0.7751358, 0.7756368, 0.7770207, 0.7770207, 0.77819943, 0.77819943, 0.78434896, 0.7879374, 0.7879374, 0.7902738, 0.7902738, 0.79071355, 0.79071355, 0.79219925, 0.7932299, 0.79445904, 0.794951, 0.7963377, 0.7963377, 0.79768485, 0.8022673, 0.8047347, 0.80620337, 0.8079082, 0.8120262, 0.81391907, 0.8142965, 0.81467676, 0.8187161, 0.818979, 0.81994295, 0.82011485, 0.8227416, 0.8227416, 0.82331, 0.8243702, 0.8243702, 0.8275318, 0.8287605, 0.83027655, 0.8312187, 0.8312187, 0.83427846, 0.84015805, 0.843755, 0.84770614, 0.84770614, 0.8532014, 0.85838497, 0.8610033, 0.8616117, 0.8616117, 0.8669523, 0.8669523, 0.86764026, 0.8676794, 0.86780745, 0.86931574, 0.87440836, 0.87628675, 0.8794391, 0.8826065, 0.8827322, 0.885808, 0.8907244, 0.8920295, 0.8949275, 0.8970008, 0.90117645, 0.9012225, 0.90170336, 0.9275825, 0.9288839]\n",
            "result_senPar[index_senPar] [0.7365817  0.7374294  0.74134433 0.74134433 0.7414775  0.74754214\n",
            " 0.7477176  0.75158286 0.75158286 0.7520707  0.7520707  0.75337446\n",
            " 0.7538832  0.7538832  0.7548232  0.7592883  0.7605932  0.76079\n",
            " 0.76097655 0.762339   0.7627104  0.76642466 0.76642466 0.76692086\n",
            " 0.77242327 0.77242327 0.7734767  0.7734767  0.7744908  0.7751358\n",
            " 0.7756368  0.7770207  0.7770207  0.77819943 0.77819943 0.78434896\n",
            " 0.7879374  0.7879374  0.7902738  0.7902738  0.79071355 0.79071355\n",
            " 0.79219925 0.7932299  0.79445904 0.794951   0.7963377  0.7963377\n",
            " 0.79768485 0.8022673  0.8047347  0.80620337 0.8079082  0.8120262\n",
            " 0.81391907 0.8142965  0.81467676 0.8187161  0.818979   0.81994295\n",
            " 0.82011485 0.8227416  0.8227416  0.82331    0.8243702  0.8243702\n",
            " 0.8275318  0.8287605  0.83027655 0.8312187  0.8312187  0.83427846\n",
            " 0.84015805 0.843755   0.84770614 0.84770614 0.8532014  0.85838497\n",
            " 0.8610033  0.8616117  0.8616117  0.8669523  0.8669523  0.86764026\n",
            " 0.8676794  0.86780745 0.86931574 0.87440836 0.87628675 0.8794391\n",
            " 0.8826065  0.8827322  0.885808   0.8907244  0.8920295  0.8949275\n",
            " 0.8970008  0.90117645 0.9012225  0.90170336 0.9275825  0.9288839 ]\n",
            "53\n"
          ],
          "name": "stdout"
        }
      ]
    },
    {
      "cell_type": "code",
      "metadata": {
        "id": "RvOD6UtWPGai",
        "colab_type": "code",
        "colab": {
          "base_uri": "https://localhost:8080/",
          "height": 55
        },
        "outputId": "41eb8a71-de5e-497a-e59d-6f30e8cf2279"
      },
      "source": [
        "finalIndex_senPar = [x - 1 for x in finalIndex_senPar]\n",
        "finalTreatment = \"\"\n",
        "for s in finalIndex_senPar:\n",
        "  finalTreatment += senParFiveLinks[s] \n",
        "print(finalTreatment)"
      ],
      "execution_count": 70,
      "outputs": [
        {
          "output_type": "stream",
          "text": [
            "The treatment options for non-small cell lung cancer have increased dramatically in even the past few years, and many additional therapies are being evaluated in clinical trials. Instead of treating lung cancer as a single disease, it is now recognized and treated as a condition made up of many diseases. Fortunately, along with advances in treatment have come greater social support. Patient-led groups are now available for many of the common mutations (such as the ROS2ders and EGFR resisters) that also include oncologists, surgeons, pathologists, researchers, and more.Radiofrequency ablation uses high-energy radio waves to heat the tumor. Guided by imaging scans, a small probe is inserted through the skin and to the tumor. It can be performed under local anesthesia as an outpatient procedure.One category of immunotherapy drugs is checkpoint inhibitors, of which four drugs are currently available for treating non-small cell lung cancer (with different indications):﻿﻿Recurrent/Relapsed: Cancer has progressed or returned (recurred/relapsed) following an initial treatment with surgery, radiation therapy and/or chemotherapy.Small cell lung cancer is a very aggressive form of lung cancer. Learn about small cell lung cancer symptoms, risk factors, diagnosis, and treatment.A variety of factors ultimately influence a patient’s decision to receive treatment of cancer. The purpose of receiving cancer treatment may be to improve symptoms through local control of the cancer, increase a patient’s chance of cure, or prolong a patient’s survival. The potential benefits of receiving cancer treatment must be carefully balanced with the potential risks of receiving cancer treatment.Once the TNM categories are assigned, the overall stage can be determined. Lung cancer is staged from 0 to 4. Stage 1 is further divided into 1A and 1B.With so many options now available to treat non-small cell lung cancer (NSCLC), it's helpful to break these down into two major approaches, with the primary approach taken depending on the stage of the lung cancer.The following is a general overview of treatment for stage I NSCLC. Treatment may consist of surgery, radiation, chemotherapy, or a combination of these treatment techniques. The information on this website is intended to help educate patients about their treatment options and to facilitate a mutual or shared decision-making process with their treating cancer physician.3 Gajra A, Newman N, Gamble G, et al. Effect of number of lymph nodes sampled on outcome in patients with Stage II non-small-cell lung cancer. Journal of Clinical Oncology 2003;21:1029-1034.Chemotherapy was once a mainstay of treatment for advanced non-small cell lung cancer, but is less effective (and more toxic) that targeted therapy and immunotherapy drugs when these can be used. It is still frequently used for people who do not have targetable genetic changes in their tumors and in combination with immunotherapy.﻿﻿ (Chemotherapy drugs may result in the breakdown of cancer cells such that immunotherapy drugs are able to work better.)3 Gajra A, Newman N, Gamble G, et al. Effect of number of lymph nodes sampled on outcome in patients with stage I non-small-cell lung cancer. Journal of Clinical Oncology 2003;21:1029-1034.Angiogenesis inhibitors: A growing area of cancer research involves the inhibition of angiogenesis. Cancer cells require food, oxygen and proteins in order to grow and spread. These essential nutrients are transported to the cancer cells by blood vessels. Angiogenesis is the process of creating new blood vessels necessary to transport “food” to the cancer cells. Two of several key proteins that are necessary for the process of angiogenesis are called vascular endothelial growth factor (VEGF) and matrix metalloproteinases (MMPs). VEGF causes endothelial cells (cells comprising the innermost layer of blood vessels) to replicate and migrate from existing blood vessels to the cancer. Endothelial cells secrete MMPs, which create an opening in existing tissues surrounding the cancer, allowing the endothelial cells to move near the cancer and form new blood vessels to “feed” the cancer. Researchers have been evaluating targeted treatments hinder or reduce the effects of VEGF and thus, slow cancer progression.Angiogenesis inhibitors: A growing area of cancer research involves the inhibition of angiogenesis. Cancer cells require food, oxygen and proteins in order to grow and spread. These essential nutrients are transported to the cancer cells by blood vessels. Angiogenesis is the process of creating new blood vessels necessary to transport “food” to the cancer cells. Two of several key proteins that are necessary for the process of angiogenesis are called vascular endothelial growth factor (VEGF) and matrix metalloproteinases (MMPs). VEGF causes endothelial cells (cells comprising the innermost layer of blood vessels) to replicate and migrate from existing blood vessels to the cancer. Endothelial cells secrete MMPs, which create an opening in existing tissues surrounding the cancer, allowing the endothelial cells to move near the cancer and form new blood vessels to “feed” the cancer. Researchers have been evaluating targeted treatments hinder or reduce the effects of VEGF and thus, slow cancer progression.The following is a general overview of treatment for Stage II NSCLC. Treatment may consist of surgery, radiation, chemotherapy, or a combination of these treatment techniques. The information on this website is intended to help educate patients about their treatment options and to facilitate a mutual or shared decision-making process with their treating cancer physician.Researchers from the City of Hope National Medical Center recently determined that annual CT scans and chest x-rays three times per year may detect early second cancers in patients with previously treated stage IA NSCLC who appeared to be cured. These researchers evaluated 124 patients previously treated with surgery alone. Follow-up included an annual computed tomographic (CT) scan of the chest with interval chest x-rays every 4 months for 2 years and every 6 months for 3 additional years. During this time, 14 patients were found to have developed a second cancer and received further surgery. The average diameter of cancers detected by CT smaller than those detected by x-ray, 14 millimeters compared to 26.5 millimeters.8Researchers from the City of Hope National Medical Center recently determined that annual CT scans and chest x-rays three times per year may detect early second cancers in patients with previously treated stage IA NSCLC who appeared to be cured. These researchers evaluated 124 patients previously treated with surgery alone. Follow-up included an annual computed tomographic (CT) scan of the chest with interval chest x-rays every 4 months for 2 years and every 6 months for 3 additional years. During this time, 14 patients were found to have developed a second cancer and received further surgery. The average diameter of cancers detected by CT smaller than those detected by x-ray, 14 millimeters compared to 26.5 millimeters.8Small cell lung cancer (SCLC) is generally divided into two stages — limited stage and extended stage. Extensive stage SCLC has spread far from the…Another type of treatment that targets specific pathways in the growth of a cancer includes angiogenesis inhibitors. These drugs inhibit the formation of new blood vessels (angiogenesis) that are needed for tumors to grow, and include drugs such as Avastin (bevacizumab).﻿﻿ Angiogenesis inhibitors are most often used along with a chemotherapy and immunotherapy drug.You’ll most likely need surgery to remove the cancerous part of your lung. This surgery may include removal of nearby lymph nodes to check for cancer cells. It’s possible that you won’t need any other treatment.Xalkori (crizotinib): Up to 7% of NSCLC’s have an abnormal version of the ALK gene that contributes to the growth and development of cancer.  Xalkori is an oral medication that blocks certain proteins, including the protein produced by this abnormal gene. For advanced non-small cell lung cancers that test positive for the ALK gene mutation, Xalkori has produced very promising rates of response and appears to have some activity treating cancer that has spread to the brain.11,12Xalkori (crizotinib): Up to 7% of NSCLC’s have an abnormal version of the ALK gene that contributes to the growth and development of cancer.  Xalkori is an oral medication that blocks certain proteins, including the protein produced by this abnormal gene. For advanced non-small cell lung cancers that test positive for the ALK gene mutation, Xalkori has produced very promising rates of response and appears to have some activity treating cancer that has spread to the brain.11,12While an open thoracotomy (large chest incision) was most often used to remove lung tumors in the past, minimally invasive techniques such as video-assisted thoracoscopic surgery (VATS) may be done for many tumors; oftentimes with an easier recovery. VATS cannot be used for all tumors, however, and depend on the location of the tumor.For early lung cancers (stage I) that are inoperable due to location or if a person is unable to tolerate surgery, stereotactic body radiotherapy (SBRT) may be considered as a curative approach.﻿﻿Stage I: The cancer measures 5 centimeters or smaller and does not involve the lymph nodes.Although patients with stage IA NSCLC have a relatively high rate of long-term survival following treatment many patients are still at risk for developing a cancer recurrence due to micrometastases. Also, patients who have been treated for NSCLC may still develop another lung cancer if lifestyle or other factors that increase their risk of developing cancer have not been changed. Researchers have been evaluating different screening methods and schedules for these patients in order to detect recurrent or second cancers early, when they are most treatable.Although patients with stage IA NSCLC have a relatively high rate of long-term survival following treatment many patients are still at risk for developing a cancer recurrence due to micrometastases. Also, patients who have been treated for NSCLC may still develop another lung cancer if lifestyle or other factors that increase their risk of developing cancer have not been changed. Researchers have been evaluating different screening methods and schedules for these patients in order to detect recurrent or second cancers early, when they are most treatable.Treatment of metastatic (stage IV) non-small cell lung cancer usually involves systemic therapy, but metastasis-specific treatment may be considered in some cases. When only a few sites of metastases are present (referred to as \"oligometastases\"), treating these sites can sometimes improve survival.﻿﻿For \"in-between\" tumors, such as stage II and stage IIIA non-small cell lung cancer, a combination of these treatments may be used. In this case:﻿﻿Stage IIIB:: The cancer involves lymph nodes on the opposite side of the chest or above the collar bone, or is extensive (involves organs such as the heart or trachea) and also involves lymph nodes in the center of the chest (mediastinum) or near where the windpipe divides.Some patients with lung cancer are not able to undergo the surgery to remove their cancer. Advanced age and other medical conditions such as heart disease and diminished lung capacity make it more difficult for these patients to withstand surgery. For these patients, staging of their cancer may be relatively precise using newer scanning techniques, including positron emission tomography (PET) and they are often offered radiation therapy as treatment for their cancer.Some patients with lung cancer are not able to undergo the surgery to remove their cancer. Advanced age and other medical conditions such as heart disease and diminished lung capacity make it more difficult for these patients to withstand surgery. For these patients, staging of their cancer may be relatively precise using newer scanning techniques, including positron emission tomography (PET) and they are often offered radiation therapy as treatment for their cancer.Surgical removal of the cancer may be accomplished by removing the entire lung (pneumonectomy), a lobe of the lung (lobectomy) or even a small segment of the lung (segmentectomy). In general, the less lung that is removed, the greater the preservation of lung function and the lower the risk of major side effects from the surgery. On the other hand, if too little lung is removed, there is an increased chance of a local cancer recurrence. Currently, most physicians recommend a lobectomy. A patient’s general overall condition, age and location of the cancer are other factors that may influence the type of surgery performed and the side effects associated with the surgery. Prior to surgery, patients should carefully discuss the risks and benefits of removing the cancer with their surgeon.Surgical removal of the cancer may be accomplished by removing the entire lung (pneumonectomy), a lobe of the lung (lobectomy) or even a small segment of the lung (segmentectomy). In general, the less lung that is removed, the greater the preservation of lung function and the lower the risk of major side effects from the surgery. On the other hand, if too little lung is removed, there is an increased chance of a local cancer recurrence. Currently, most physicians recommend a lobectomy. A patient’s general overall condition, age and location of the cancer are other factors that may influence the type of surgery performed and the side effects associated with the surgery. Prior to surgery, patients should carefully discuss the risks and benefits of removing the cancer with their surgeon.For early-stage non-small cell lung cancers (stage I, stage II, and stage IIIA), surgery may offer a chance for a cure. There are a number of different procedures that may be done, with the best option depending on the size and location of the tumor.﻿﻿Accurate staging of non-small cell lung (NSCLC) cancer is essential before definitive therapy can begin. Staging is performed according to the tumor, node, metastasis (TNM), staging system. Select the following general stage of cancer in order to learn more about treatment options.  In addition to stage other tests may be performed on the biopsy in order to further classify the cancer and determine the optimal treatment strategy. Based on the stage of the cancer and the results of these tests, treatment of lung cancer is individualized.Image-guided radiation therapy (IGRT): IGRT involves a computed tomography (CT) scanner and computer modeling to accurately determine the size and depth of the cancer. In addition, this technique determines the measurement of the cancer through all stages of respiration and can direct the radiation more precisely while the patient is breathing normally. Researchers from Japan recently concluded that IGRT appears to be an effective and well tolerated radiation technique for patients with inoperable stage I NSCLC with poor lung function. A distinct advantage of IGRT is that patients do not have to hold their breath during the treatment, which is necessary for standard radiation therapy. This is important because many patients with lung cancer have poor lung function and are not able to hold their breath during treatment.Image-guided radiation therapy (IGRT): IGRT involves a computed tomography (CT) scanner and computer modeling to accurately determine the size and depth of the cancer. In addition, this technique determines the measurement of the cancer through all stages of respiration and can direct the radiation more precisely while the patient is breathing normally. Researchers from Japan recently concluded that IGRT appears to be an effective and well tolerated radiation technique for patients with inoperable Stage II NSCLC with poor lung function. A distinct advantage of IGRT is that patients do not have to hold their breath during the treatment, which is necessary for standard radiation therapy. This is important because many patients with lung cancer have poor lung function and are not able to hold their breath during treatment.With stage I cancers, local therapies may be sufficient to treat the tumor. With stage IV tumors, systemic therapies are the treatment of choice. Stage II and stage III lung cancers are usually treated with a combination of local and systemic therapies.T1b, N0, M0: Your primary tumor is between 2 and 3 cm (T1b). There is no lymph node involvement (N0) and no metastasis (M0). You have stage 1A lung cancer.Stage II: The cancer has not spread to the lymph nodes but is larger than 5 centimeters or involves structures near the lung such as the chest wall or diaphragm. NSCLC is also considered to be Stage II if it measures 7 centimeters or less and involves the lymph nodes within the lung or near the bronchus.A stage II non-small cell lung cancer is located in one lung and may involve lymph nodes on the same side of the chest that do not include lymph nodes in the mediastinum.T1a, N0, M0: Your primary tumor is 2 centimeters (cm) or less (T1a). There is no lymph node involvement (N0) and no metastasis (M0). You have stage 1A lung cancer.Everyone with non-small cell lung cancer (advanced stage) should have gene testing (molecular profiling) on their tumor. While targeted therapies are currently used primarily for stage IV cancers, it's likely that they will be used in earlier stages in the near future as adjuvant therapy.Stage IIIA: The cancer involves lymph nodes in the space between the lungs (mediastinum) or near where the windpipe divides; is large or extensive but the only lymph node involvement is within the lung or near the bronchus; or there is no lymph node involvement but the cancer extends to other organs or tissues such as the heart, great vessels, trachea, or other lobes of the lung.Stage I non-small cell lung cancer (NSCLC) is located in only one lung and has not spread to the adjacent lymph nodes or outside the chest. The mainstay of treatment for patients diagnosed with a stage I NSCLC is surgical removal of the cancer. In general, surgical removal of stage I cancers results in over 60% of patients surviving without evidence of cancer recurrence within 5 years of treatment.When surgery is conducted in patients with early-stage NSCLC, physicians often remove nearby lymph nodes and send them to the laboratory to determine if they contain cancer cells. The number of lymph nodes removed is often based on physician preference. Results from a recent study conducted by researchers in New York indicate that patients with a larger number of sampled lymph nodes may be more accurately staged and receive more appropriate therapy, ultimately leading to improved overall and cancer-free survival. These researchers suggest that 6 or more lymph nodes should be surgically removed and evaluated in all patients with Stage II NSCLC undergoing surgery to remove cancer.3When surgery is conducted in patients with early-stage NSCLC, physicians often remove nearby lymph nodes and send them to the laboratory to determine if they contain cancer cells. The number of lymph nodes removed is often based on physician preference. Results from a recent study conducted by researchers in New York indicate that patients with a larger number of sampled lymph nodes may be more accurately staged and receive more appropriate therapy, ultimately leading to improved overall and cancer-free survival. These researchers suggest that 6 or more lymph nodes should be surgically removed and evaluated in all patients with stage I NSCLC undergoing surgery to remove cancer.3T2a, N0, M0: Your primary tumor is between 3 and 5 cm. It may be growing into a main airway (bronchus) of your lung or the membrane that covers the lung (visceral pleura). Cancer may be partially blocking your airways (T2a). There is no lymph node involvement (N0) and no metastasis (M0). You have stage 1B lung cancer.With advanced non-small cell lung cancer, radiation may be used as a palliative therapy (to reduce symptoms but not extend life), such as when pain is present due to bone metastases, a tumor is causing obstruction of the airways, and more.﻿﻿The treatment of non-small cell lung cancer depends on the stage of the disease,﻿﻿ as well as the subtype and molecular profile. Early-stage cancers may be treated with surgery or a specialized form of radiation therapy if surgery is not possible. Advanced lung cancers are most often treated with targeted therapies, immunotherapy (checkpoint inhibitors), or chemotherapy. In addition to these treatments, local treatments designed to eradicate the sites of spread (metastasis) are sometimes used.For patients with NSCLC have cancer that is limited to the chest surgical resection is not only an important therapeutic modality, but in many cases, the most effective method of controlling the disease. Patients with stages I-II localized cancer without spread to lymph nodes are considered to have early stage lung cancer and are almost always treated with surgery. The following are the types of surgical procedures that may be performed in patients with stage I NSCLC.For patients with NSCLC have cancer that is limited to the chest surgical resection is not only an important therapeutic modality, but in many cases, the most effective method of controlling the disease. Patients with stages I-II localized cancer without spread to lymph nodes are considered to have early stage lung cancer and are almost always treated with surgery. The following are the types of surgical procedures that may be performed in patients with Stage II NSCLC.\n"
          ],
          "name": "stdout"
        }
      ]
    },
    {
      "cell_type": "code",
      "metadata": {
        "id": "zdaG-cdRPGf8",
        "colab_type": "code",
        "colab": {
          "base_uri": "https://localhost:8080/",
          "height": 1000
        },
        "outputId": "cc3e7e5a-d270-40b3-dde3-3438d3e513c2"
      },
      "source": [
        "from gensim.summarization.summarizer import summarize\n",
        "sum_finalTreatment = summarize(finalTreatment, ratio = 0.5)\n",
        "print(sum_finalTreatment)"
      ],
      "execution_count": 71,
      "outputs": [
        {
          "output_type": "stream",
          "text": [
            "The treatment options for non-small cell lung cancer have increased dramatically in even the past few years, and many additional therapies are being evaluated in clinical trials.\n",
            "It can be performed under local anesthesia as an outpatient procedure.One category of immunotherapy drugs is checkpoint inhibitors, of which four drugs are currently available for treating non-small cell lung cancer (with different indications):﻿﻿Recurrent/Relapsed: Cancer has progressed or returned (recurred/relapsed) following an initial treatment with surgery, radiation therapy and/or chemotherapy.Small cell lung cancer is a very aggressive form of lung cancer.\n",
            "Learn about small cell lung cancer symptoms, risk factors, diagnosis, and treatment.A variety of factors ultimately influence a patient’s decision to receive treatment of cancer.\n",
            "Stage 1 is further divided into 1A and 1B.With so many options now available to treat non-small cell lung cancer (NSCLC), it's helpful to break these down into two major approaches, with the primary approach taken depending on the stage of the lung cancer.The following is a general overview of treatment for stage I NSCLC.\n",
            "The information on this website is intended to help educate patients about their treatment options and to facilitate a mutual or shared decision-making process with their treating cancer physician.3 Gajra A, Newman N, Gamble G, et al.\n",
            "Journal of Clinical Oncology 2003;21:1029-1034.Chemotherapy was once a mainstay of treatment for advanced non-small cell lung cancer, but is less effective (and more toxic) that targeted therapy and immunotherapy drugs when these can be used.\n",
            "Effect of number of lymph nodes sampled on outcome in patients with stage I non-small-cell lung cancer.\n",
            "Effect of number of lymph nodes sampled on outcome in patients with stage I non-small-cell lung cancer.\n",
            "Researchers have been evaluating targeted treatments hinder or reduce the effects of VEGF and thus, slow cancer progression.Angiogenesis inhibitors: A growing area of cancer research involves the inhibition of angiogenesis.\n",
            "Researchers have been evaluating targeted treatments hinder or reduce the effects of VEGF and thus, slow cancer progression.The following is a general overview of treatment for Stage II NSCLC.\n",
            "The information on this website is intended to help educate patients about their treatment options and to facilitate a mutual or shared decision-making process with their treating cancer physician.Researchers from the City of Hope National Medical Center recently determined that annual CT scans and chest x-rays three times per year may detect early second cancers in patients with previously treated stage IA NSCLC who appeared to be cured.\n",
            "The average diameter of cancers detected by CT smaller than those detected by x-ray, 14 millimeters compared to 26.5 millimeters.8Researchers from the City of Hope National Medical Center recently determined that annual CT scans and chest x-rays three times per year may detect early second cancers in patients with previously treated stage IA NSCLC who appeared to be cured.\n",
            "The average diameter of cancers detected by CT smaller than those detected by x-ray, 14 millimeters compared to 26.5 millimeters.8Small cell lung cancer (SCLC) is generally divided into two stages — limited stage and extended stage.\n",
            "Extensive stage SCLC has spread far from the…Another type of treatment that targets specific pathways in the growth of a cancer includes angiogenesis inhibitors.\n",
            "These drugs inhibit the formation of new blood vessels (angiogenesis) that are needed for tumors to grow, and include drugs such as Avastin (bevacizumab).﻿﻿ Angiogenesis inhibitors are most often used along with a chemotherapy and immunotherapy drug.You’ll most likely need surgery to remove the cancerous part of your lung.\n",
            "This surgery may include removal of nearby lymph nodes to check for cancer cells.\n",
            "For advanced non-small cell lung cancers that test positive for the ALK gene mutation, Xalkori has produced very promising rates of response and appears to have some activity treating cancer that has spread to the brain.11,12Xalkori (crizotinib): Up to 7% of NSCLC’s have an abnormal version of the ALK gene that contributes to the growth and development of cancer.\n",
            "For advanced non-small cell lung cancers that test positive for the ALK gene mutation, Xalkori has produced very promising rates of response and appears to have some activity treating cancer that has spread to the brain.11,12While an open thoracotomy (large chest incision) was most often used to remove lung tumors in the past, minimally invasive techniques such as video-assisted thoracoscopic surgery (VATS) may be done for many tumors; oftentimes with an easier recovery.\n",
            "VATS cannot be used for all tumors, however, and depend on the location of the tumor.For early lung cancers (stage I) that are inoperable due to location or if a person is unable to tolerate surgery, stereotactic body radiotherapy (SBRT) may be considered as a curative approach.﻿﻿Stage I: The cancer measures 5 centimeters or smaller and does not involve the lymph nodes.Although patients with stage IA NSCLC have a relatively high rate of long-term survival following treatment many patients are still at risk for developing a cancer recurrence due to micrometastases.\n",
            "Researchers have been evaluating different screening methods and schedules for these patients in order to detect recurrent or second cancers early, when they are most treatable.Although patients with stage IA NSCLC have a relatively high rate of long-term survival following treatment many patients are still at risk for developing a cancer recurrence due to micrometastases.\n",
            "Also, patients who have been treated for NSCLC may still develop another lung cancer if lifestyle or other factors that increase their risk of developing cancer have not been changed.\n",
            "Also, patients who have been treated for NSCLC may still develop another lung cancer if lifestyle or other factors that increase their risk of developing cancer have not been changed.\n",
            "Researchers have been evaluating different screening methods and schedules for these patients in order to detect recurrent or second cancers early, when they are most treatable.Treatment of metastatic (stage IV) non-small cell lung cancer usually involves systemic therapy, but metastasis-specific treatment may be considered in some cases.\n",
            "When only a few sites of metastases are present (referred to as \"oligometastases\"), treating these sites can sometimes improve survival.﻿﻿For \"in-between\" tumors, such as stage II and stage IIIA non-small cell lung cancer, a combination of these treatments may be used.\n",
            "In this case:﻿﻿Stage IIIB:: The cancer involves lymph nodes on the opposite side of the chest or above the collar bone, or is extensive (involves organs such as the heart or trachea) and also involves lymph nodes in the center of the chest (mediastinum) or near where the windpipe divides.Some patients with lung cancer are not able to undergo the surgery to remove their cancer.\n",
            "For these patients, staging of their cancer may be relatively precise using newer scanning techniques, including positron emission tomography (PET) and they are often offered radiation therapy as treatment for their cancer.Some patients with lung cancer are not able to undergo the surgery to remove their cancer.\n",
            "For these patients, staging of their cancer may be relatively precise using newer scanning techniques, including positron emission tomography (PET) and they are often offered radiation therapy as treatment for their cancer.Surgical removal of the cancer may be accomplished by removing the entire lung (pneumonectomy), a lobe of the lung (lobectomy) or even a small segment of the lung (segmentectomy).\n",
            "Prior to surgery, patients should carefully discuss the risks and benefits of removing the cancer with their surgeon.Surgical removal of the cancer may be accomplished by removing the entire lung (pneumonectomy), a lobe of the lung (lobectomy) or even a small segment of the lung (segmentectomy).\n",
            "Prior to surgery, patients should carefully discuss the risks and benefits of removing the cancer with their surgeon.For early-stage non-small cell lung cancers (stage I, stage II, and stage IIIA), surgery may offer a chance for a cure.\n",
            "There are a number of different procedures that may be done, with the best option depending on the size and location of the tumor.﻿﻿Accurate staging of non-small cell lung (NSCLC) cancer is essential before definitive therapy can begin.\n",
            "Based on the stage of the cancer and the results of these tests, treatment of lung cancer is individualized.Image-guided radiation therapy (IGRT): IGRT involves a computed tomography (CT) scanner and computer modeling to accurately determine the size and depth of the cancer.\n",
            "This is important because many patients with lung cancer have poor lung function and are not able to hold their breath during treatment.Image-guided radiation therapy (IGRT): IGRT involves a computed tomography (CT) scanner and computer modeling to accurately determine the size and depth of the cancer.\n",
            "In addition, this technique determines the measurement of the cancer through all stages of respiration and can direct the radiation more precisely while the patient is breathing normally.\n",
            "Researchers from Japan recently concluded that IGRT appears to be an effective and well tolerated radiation technique for patients with inoperable Stage II NSCLC with poor lung function.\n",
            "Researchers from Japan recently concluded that IGRT appears to be an effective and well tolerated radiation technique for patients with inoperable Stage II NSCLC with poor lung function.\n",
            "This is important because many patients with lung cancer have poor lung function and are not able to hold their breath during treatment.With stage I cancers, local therapies may be sufficient to treat the tumor.\n",
            "Stage II and stage III lung cancers are usually treated with a combination of local and systemic therapies.T1b, N0, M0: Your primary tumor is between 2 and 3 cm (T1b).\n",
            "You have stage 1A lung cancer.Stage II: The cancer has not spread to the lymph nodes but is larger than 5 centimeters or involves structures near the lung such as the chest wall or diaphragm.\n",
            "NSCLC is also considered to be Stage II if it measures 7 centimeters or less and involves the lymph nodes within the lung or near the bronchus.A stage II non-small cell lung cancer is located in one lung and may involve lymph nodes on the same side of the chest that do not include lymph nodes in the mediastinum.T1a, N0, M0: Your primary tumor is 2 centimeters (cm) or less (T1a).\n",
            "You have stage 1A lung cancer.Everyone with non-small cell lung cancer (advanced stage) should have gene testing (molecular profiling) on their tumor.\n",
            "While targeted therapies are currently used primarily for stage IV cancers, it's likely that they will be used in earlier stages in the near future as adjuvant therapy.Stage IIIA: The cancer involves lymph nodes in the space between the lungs (mediastinum) or near where the windpipe divides; is large or extensive but the only lymph node involvement is within the lung or near the bronchus; or there is no lymph node involvement but the cancer extends to other organs or tissues such as the heart, great vessels, trachea, or other lobes of the lung.Stage I non-small cell lung cancer (NSCLC) is located in only one lung and has not spread to the adjacent lymph nodes or outside the chest.\n",
            "The mainstay of treatment for patients diagnosed with a stage I NSCLC is surgical removal of the cancer.\n",
            "In general, surgical removal of stage I cancers results in over 60% of patients surviving without evidence of cancer recurrence within 5 years of treatment.When surgery is conducted in patients with early-stage NSCLC, physicians often remove nearby lymph nodes and send them to the laboratory to determine if they contain cancer cells.\n",
            "These researchers suggest that 6 or more lymph nodes should be surgically removed and evaluated in all patients with Stage II NSCLC undergoing surgery to remove cancer.3When surgery is conducted in patients with early-stage NSCLC, physicians often remove nearby lymph nodes and send them to the laboratory to determine if they contain cancer cells.\n",
            "Results from a recent study conducted by researchers in New York indicate that patients with a larger number of sampled lymph nodes may be more accurately staged and receive more appropriate therapy, ultimately leading to improved overall and cancer-free survival.\n",
            "Results from a recent study conducted by researchers in New York indicate that patients with a larger number of sampled lymph nodes may be more accurately staged and receive more appropriate therapy, ultimately leading to improved overall and cancer-free survival.\n",
            "These researchers suggest that 6 or more lymph nodes should be surgically removed and evaluated in all patients with stage I NSCLC undergoing surgery to remove cancer.3T2a, N0, M0: Your primary tumor is between 3 and 5 cm.\n",
            "You have stage 1B lung cancer.With advanced non-small cell lung cancer, radiation may be used as a palliative therapy (to reduce symptoms but not extend life), such as when pain is present due to bone metastases, a tumor is causing obstruction of the airways, and more.﻿﻿The treatment of non-small cell lung cancer depends on the stage of the disease,﻿﻿ as well as the subtype and molecular profile.\n",
            "Early-stage cancers may be treated with surgery or a specialized form of radiation therapy if surgery is not possible.\n",
            "Advanced lung cancers are most often treated with targeted therapies, immunotherapy (checkpoint inhibitors), or chemotherapy.\n",
            "In addition to these treatments, local treatments designed to eradicate the sites of spread (metastasis) are sometimes used.For patients with NSCLC have cancer that is limited to the chest surgical resection is not only an important therapeutic modality, but in many cases, the most effective method of controlling the disease.\n",
            "The following are the types of surgical procedures that may be performed in patients with stage I NSCLC.For patients with NSCLC have cancer that is limited to the chest surgical resection is not only an important therapeutic modality, but in many cases, the most effective method of controlling the disease.\n",
            "Patients with stages I-II localized cancer without spread to lymph nodes are considered to have early stage lung cancer and are almost always treated with surgery.\n",
            "Patients with stages I-II localized cancer without spread to lymph nodes are considered to have early stage lung cancer and are almost always treated with surgery.\n",
            "The following are the types of surgical procedures that may be performed in patients with Stage II NSCLC.\n"
          ],
          "name": "stdout"
        }
      ]
    },
    {
      "cell_type": "code",
      "metadata": {
        "id": "XhRn9EXEPGlZ",
        "colab_type": "code",
        "colab": {
          "base_uri": "https://localhost:8080/",
          "height": 271
        },
        "outputId": "7968dc34-cb69-42fd-df41-8239240ff51e"
      },
      "source": [
        "from gensim.summarization.summarizer import summarize\n",
        "ratioList = [x*0.1 for x in range(7)]\n",
        "sum_finalTreatment = [0]\n",
        "for i in ratioList:\n",
        "  sum_finalTreatment = summarize(finalTreatment, ratio = i)\n",
        "  if len(sum_finalTreatment) >= 1000:\n",
        "    print(\"ratio: {}\".format(i))\n",
        "    print(\"len(sum_finalTreatment): {}\".format(len(sum_finalTreatment)))\n",
        "    break\n",
        "print(sum_finalTreatment)"
      ],
      "execution_count": 78,
      "outputs": [
        {
          "output_type": "stream",
          "text": [
            "ratio: 0.1\n",
            "len(sum_finalTreatment): 4056\n",
            "It can be performed under local anesthesia as an outpatient procedure.One category of immunotherapy drugs is checkpoint inhibitors, of which four drugs are currently available for treating non-small cell lung cancer (with different indications):﻿﻿Recurrent/Relapsed: Cancer has progressed or returned (recurred/relapsed) following an initial treatment with surgery, radiation therapy and/or chemotherapy.Small cell lung cancer is a very aggressive form of lung cancer.\n",
            "The information on this website is intended to help educate patients about their treatment options and to facilitate a mutual or shared decision-making process with their treating cancer physician.Researchers from the City of Hope National Medical Center recently determined that annual CT scans and chest x-rays three times per year may detect early second cancers in patients with previously treated stage IA NSCLC who appeared to be cured.\n",
            "The average diameter of cancers detected by CT smaller than those detected by x-ray, 14 millimeters compared to 26.5 millimeters.8Researchers from the City of Hope National Medical Center recently determined that annual CT scans and chest x-rays three times per year may detect early second cancers in patients with previously treated stage IA NSCLC who appeared to be cured.\n",
            "For advanced non-small cell lung cancers that test positive for the ALK gene mutation, Xalkori has produced very promising rates of response and appears to have some activity treating cancer that has spread to the brain.11,12While an open thoracotomy (large chest incision) was most often used to remove lung tumors in the past, minimally invasive techniques such as video-assisted thoracoscopic surgery (VATS) may be done for many tumors; oftentimes with an easier recovery.\n",
            "VATS cannot be used for all tumors, however, and depend on the location of the tumor.For early lung cancers (stage I) that are inoperable due to location or if a person is unable to tolerate surgery, stereotactic body radiotherapy (SBRT) may be considered as a curative approach.﻿﻿Stage I: The cancer measures 5 centimeters or smaller and does not involve the lymph nodes.Although patients with stage IA NSCLC have a relatively high rate of long-term survival following treatment many patients are still at risk for developing a cancer recurrence due to micrometastases.\n",
            "Researchers have been evaluating different screening methods and schedules for these patients in order to detect recurrent or second cancers early, when they are most treatable.Treatment of metastatic (stage IV) non-small cell lung cancer usually involves systemic therapy, but metastasis-specific treatment may be considered in some cases.\n",
            "For these patients, staging of their cancer may be relatively precise using newer scanning techniques, including positron emission tomography (PET) and they are often offered radiation therapy as treatment for their cancer.Some patients with lung cancer are not able to undergo the surgery to remove their cancer.\n",
            "For these patients, staging of their cancer may be relatively precise using newer scanning techniques, including positron emission tomography (PET) and they are often offered radiation therapy as treatment for their cancer.Surgical removal of the cancer may be accomplished by removing the entire lung (pneumonectomy), a lobe of the lung (lobectomy) or even a small segment of the lung (segmentectomy).\n",
            "In general, surgical removal of stage I cancers results in over 60% of patients surviving without evidence of cancer recurrence within 5 years of treatment.When surgery is conducted in patients with early-stage NSCLC, physicians often remove nearby lymph nodes and send them to the laboratory to determine if they contain cancer cells.\n",
            "Patients with stages I-II localized cancer without spread to lymph nodes are considered to have early stage lung cancer and are almost always treated with surgery.\n",
            "Patients with stages I-II localized cancer without spread to lymph nodes are considered to have early stage lung cancer and are almost always treated with surgery.\n"
          ],
          "name": "stdout"
        }
      ]
    },
    {
      "cell_type": "markdown",
      "metadata": {
        "id": "xIqIiNiAPGsV",
        "colab_type": "text"
      },
      "source": [
        "## Conclusion"
      ]
    },
    {
      "cell_type": "markdown",
      "metadata": {
        "id": "LBgDOE0dPG4Q",
        "colab_type": "text"
      },
      "source": [
        "- Should control the depth of crwaling pages => the more links ther longer content.\n",
        "- Choose better data to use similarity comparation"
      ]
    },
    {
      "cell_type": "code",
      "metadata": {
        "id": "NDSAraG0tYI3",
        "colab_type": "code",
        "colab": {}
      },
      "source": [
        ""
      ],
      "execution_count": 0,
      "outputs": []
    },
    {
      "cell_type": "code",
      "metadata": {
        "id": "XYUI61JhPG7E",
        "colab_type": "code",
        "colab": {}
      },
      "source": [
        ""
      ],
      "execution_count": 0,
      "outputs": []
    },
    {
      "cell_type": "code",
      "metadata": {
        "id": "nX5RsL9fPHPk",
        "colab_type": "code",
        "colab": {}
      },
      "source": [
        ""
      ],
      "execution_count": 0,
      "outputs": []
    },
    {
      "cell_type": "code",
      "metadata": {
        "id": "UCbXNRIFPHSU",
        "colab_type": "code",
        "colab": {}
      },
      "source": [
        ""
      ],
      "execution_count": 0,
      "outputs": []
    },
    {
      "cell_type": "code",
      "metadata": {
        "id": "fggQ_VcxPHW5",
        "colab_type": "code",
        "colab": {}
      },
      "source": [
        ""
      ],
      "execution_count": 0,
      "outputs": []
    },
    {
      "cell_type": "code",
      "metadata": {
        "id": "D8TZA6zIPHZ2",
        "colab_type": "code",
        "colab": {}
      },
      "source": [
        ""
      ],
      "execution_count": 0,
      "outputs": []
    },
    {
      "cell_type": "code",
      "metadata": {
        "id": "Joa59_YoPHeU",
        "colab_type": "code",
        "colab": {}
      },
      "source": [
        ""
      ],
      "execution_count": 0,
      "outputs": []
    },
    {
      "cell_type": "code",
      "metadata": {
        "id": "P76sMes-PHVO",
        "colab_type": "code",
        "colab": {}
      },
      "source": [
        ""
      ],
      "execution_count": 0,
      "outputs": []
    },
    {
      "cell_type": "code",
      "metadata": {
        "id": "fHrwOeE6PGn0",
        "colab_type": "code",
        "colab": {}
      },
      "source": [
        ""
      ],
      "execution_count": 0,
      "outputs": []
    },
    {
      "cell_type": "code",
      "metadata": {
        "id": "vdPUzyRPPGeB",
        "colab_type": "code",
        "colab": {}
      },
      "source": [
        ""
      ],
      "execution_count": 0,
      "outputs": []
    },
    {
      "cell_type": "code",
      "metadata": {
        "id": "suy7gLR-IFm2",
        "colab_type": "code",
        "colab": {}
      },
      "source": [
        ""
      ],
      "execution_count": 0,
      "outputs": []
    },
    {
      "cell_type": "markdown",
      "metadata": {
        "id": "BniMXK6Omu3W",
        "colab_type": "text"
      },
      "source": [
        "https://stackoverflow.com/questions/13437402/how-to-run-scrapy-from-within-a-python-script"
      ]
    },
    {
      "cell_type": "code",
      "metadata": {
        "id": "9jwz22Cm7FGr",
        "colab_type": "code",
        "outputId": "b47a4934-d5e4-489c-eace-75a0f71e823e",
        "colab": {
          "base_uri": "https://localhost:8080/",
          "height": 35
        }
      },
      "source": [
        "cd .."
      ],
      "execution_count": 72,
      "outputs": [
        {
          "output_type": "stream",
          "text": [
            "/content/drive/My Drive/CBD_Robotic/Part2/Part2_2/Multisite-Python-Crawler-master\n"
          ],
          "name": "stdout"
        }
      ]
    },
    {
      "cell_type": "markdown",
      "metadata": {
        "id": "a9wZT6iN7SJ5",
        "colab_type": "text"
      },
      "source": [
        "\n",
        "https://www.google.com/search?q=Extract+information+NLP&oq=extrac&aqs=chrome.0.69i59l2j69i57j69i59j69i60l3.2919j0j1&client=ubuntu&sourceid=chrome&ie=UTF-8\n",
        "\n",
        "\n",
        "https://medium.com/@venali\n",
        "\n",
        "https://towardsdatascience.com/deep-learning-for-specific-information-extraction-from-unstructured-texts-12c5b9dceada\n",
        "\n",
        "https://www.analyticsvidhya.com/blog/2019/09/introduction-information-extraction-python-spacy/\n",
        "\n",
        "https://www.intechopen.com/books/efficient-decision-support-systems-practice-and-challenges-in-biomedical-related-domain/information-extraction-approach-for-clinical-practice-guidelines-representation-in-a-medical-decisio\n",
        "\n",
        "\n",
        "https://link.springer.com/article/10.1007/s13721-019-0216-2\n",
        "\n",
        "http://airccse.org/journal/avc/papers/1114avc03.pdf\n",
        "\n",
        "https://www.sciencedirect.com/science/article/pii/S1532046417302563.\n",
        "\n",
        "https://medium.com/@andreasherman/different-ways-of-doing-relation-extraction-from-text-7362b4c3169e\n",
        "\n"
      ]
    },
    {
      "cell_type": "code",
      "metadata": {
        "id": "-iy0vbmhz51F",
        "colab_type": "code",
        "colab": {}
      },
      "source": [
        ""
      ],
      "execution_count": 0,
      "outputs": []
    }
  ]
}