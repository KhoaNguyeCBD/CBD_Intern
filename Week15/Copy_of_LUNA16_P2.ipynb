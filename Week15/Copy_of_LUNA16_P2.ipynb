{
  "nbformat": 4,
  "nbformat_minor": 0,
  "metadata": {
    "colab": {
      "name": "Copy of LUNA16_P2",
      "provenance": [],
      "collapsed_sections": []
    },
    "kernelspec": {
      "name": "python3",
      "display_name": "Python 3"
    }
  },
  "cells": [
    {
      "cell_type": "markdown",
      "metadata": {
        "id": "YVADAv-IE25_",
        "colab_type": "text"
      },
      "source": [
        "## Introduction"
      ]
    },
    {
      "cell_type": "markdown",
      "metadata": {
        "id": "7hd8A4JVE5qh",
        "colab_type": "text"
      },
      "source": [
        "1. Based on the results from part 1, go to the appropriate website\n",
        "area for treatment and scrape (using Scrapy)the text of treatment\n",
        "\n",
        "2. Everything should be done automatically (especially for scraping,\n",
        "system should be able to decide what area (text) of website to\n",
        "scrape the text (based on the results)\n",
        "\n",
        "  **=> Using a data from cancaer.ca as source of information than let the system scrapes the infromation from cancer.org and choose the desired position of each stage of cance by comparing the similarity using Google Universal sentences encoder.**\n",
        "\n",
        "3. Process the text and using LSA, LDA and NNMF to extract the\n",
        "important information\n",
        "\n",
        "  **=> After geting the exactly information of cancer stage, this project uses LSA, LDA and NNMF to extract the important information by show the 10 words represented for this stage**\n",
        "\n",
        "4. Using PageRank and Sequence2Sequence to summarize the\n",
        "text information\n",
        "\n",
        "  **=> Using TextRank to summarize the information with ratio 50%**\n",
        "\n",
        "5. Do the same things for Medicine recommendation\n",
        "  **=> didn't complete yet**"
      ]
    },
    {
      "cell_type": "markdown",
      "metadata": {
        "id": "DQw6Vf6biIay",
        "colab_type": "text"
      },
      "source": [
        "## Scraping Web"
      ]
    },
    {
      "cell_type": "code",
      "metadata": {
        "id": "fyyEGsuPh2Eu",
        "colab_type": "code",
        "colab": {}
      },
      "source": [
        "from bs4 import BeautifulSoup\n",
        "# import dryscrape\n",
        "# from selenium import webdriver # the website loads the data using JavaScript.Try use Selenium and beautiful soup.\n",
        "import requests\n",
        "import pandas as pd\n",
        "import numpy as np"
      ],
      "execution_count": 0,
      "outputs": []
    },
    {
      "cell_type": "markdown",
      "metadata": {
        "id": "VEev6oiZh_UH",
        "colab_type": "text"
      },
      "source": [
        "The imported “request” library has a get() function which will request the indeed.com server for the content of the URL and store the server’s response in the “base_url” variable. If we print the “base_url” variable we’ll actually see the entire HTML for the page."
      ]
    },
    {
      "cell_type": "code",
      "metadata": {
        "id": "LueCnzveiDee",
        "colab_type": "code",
        "colab": {}
      },
      "source": [
        "test_base_url = requests.get(\"https://www.cancer.org/cancer/lung-cancer/treating-non-small-cell/by-stage.html\", timeout=5)\n",
        "data_base_url = \"https://www.cancer.ca/en/cancer-information/cancer-type/lung/treatment/\""
      ],
      "execution_count": 0,
      "outputs": []
    },
    {
      "cell_type": "code",
      "metadata": {
        "id": "kjdQgcAkiElh",
        "colab_type": "code",
        "outputId": "69d20ed3-0792-4b01-ae80-237d249aeb1a",
        "colab": {
          "base_uri": "https://localhost:8080/",
          "height": 55
        }
      },
      "source": [
        "test_base_url.text[-2000:-2301:-1]"
      ],
      "execution_count": 3,
      "outputs": [
        {
          "output_type": "execute_result",
          "data": {
            "text/plain": [
              "'bal-aira \"ladoMcireneg\"=di \"ladom-cireneg edaf ladom\"=ssalc vid<    \\n\\r>vid/<\\n\\r>vid/<    \\n\\r>vid/<        \\n\\r>vid/<            \\n\\r>vid/<                \\n\\r>a/<>naps/<>naps/<txeN>\"ylno-rs\"=ssalc \"eurt\"=neddih-aira naps<>\"2thgir-worra-oci oci\"=ssalc naps<>\"txen\"=edils-atad \"lesuoraCladom#\"=ferh \"thgir lortn'"
            ]
          },
          "metadata": {
            "tags": []
          },
          "execution_count": 3
        }
      ]
    },
    {
      "cell_type": "markdown",
      "metadata": {
        "id": "3R2rpLZTiRop",
        "colab_type": "text"
      },
      "source": [
        "- Defining a function named “parse” which will take one argument which will be the actual URL of the page we are attempting to parse/scrape.\n",
        "- Use the BeautifulSoup class crator to parse the content (HTML code) of the website we are trying to parse.\n",
        "-We’ll use the “lxml” parser just in case the HTML is not perfectly formed."
      ]
    },
    {
      "cell_type": "code",
      "metadata": {
        "id": "0WoFDOET5GaB",
        "colab_type": "code",
        "colab": {}
      },
      "source": [
        "page_content = BeautifulSoup(test_base_url.content, 'html.parser')"
      ],
      "execution_count": 0,
      "outputs": []
    },
    {
      "cell_type": "code",
      "metadata": {
        "id": "OB9Bpll95HE-",
        "colab_type": "code",
        "outputId": "e1b03bc0-648c-425a-ef1d-1fccac683a9a",
        "colab": {
          "base_uri": "https://localhost:8080/",
          "height": 35
        }
      },
      "source": [
        "page_content.findAll('h1')"
      ],
      "execution_count": 5,
      "outputs": [
        {
          "output_type": "execute_result",
          "data": {
            "text/plain": [
              "[<h1>Treatment Choices for Non-Small Cell Lung Cancer, by Stage</h1>]"
            ]
          },
          "metadata": {
            "tags": []
          },
          "execution_count": 5
        }
      ]
    },
    {
      "cell_type": "code",
      "metadata": {
        "id": "tyPNeQDW5HSG",
        "colab_type": "code",
        "outputId": "48608589-0c45-4731-f05e-b84006605537",
        "colab": {
          "base_uri": "https://localhost:8080/",
          "height": 179
        }
      },
      "source": [
        "page_content.findAll('h2')"
      ],
      "execution_count": 6,
      "outputs": [
        {
          "output_type": "execute_result",
          "data": {
            "text/plain": [
              "[<h2>Treating occult cancer</h2>,\n",
              " <h2>Treating stage 0 NSCLC</h2>,\n",
              " <h2>Treating stage I NSCLC</h2>,\n",
              " <h2>Treating stage II NSCLC</h2>,\n",
              " <h2>Treating stage IIIA NSCLC</h2>,\n",
              " <h2>Treating stage IIIB NSCLC</h2>,\n",
              " <h2>Treating stage IV NSCLC</h2>,\n",
              " <h2>NSCLC that progresses or recurs after treatment</h2>,\n",
              " <h2><div class=\"inner\"><span class=\"left-bar\"></span>More In Lung Cancer<span class=\"right-bar\"></span></div></h2>]"
            ]
          },
          "metadata": {
            "tags": []
          },
          "execution_count": 6
        }
      ]
    },
    {
      "cell_type": "code",
      "metadata": {
        "id": "5qfIU9NqiZxx",
        "colab_type": "code",
        "colab": {}
      },
      "source": [
        "# class=\"col-md-12\" # whole page\n",
        "# class=\"text-ckeditor section\" # text under titile\n",
        "def parse_test(full_url):\n",
        "  page_content = BeautifulSoup(full_url.content, 'html.parser')\n",
        "  containers = page_content.find('body', { 'class': None})\n",
        "  df = pd.DataFrame(columns = ['pargraphs', 'stages'])\n",
        "  print(len(containers.findAll('p')))\n",
        "  for section in containers.findAll('h2'):\n",
        "    nextNode = section\n",
        "    pargraph = nextNode\n",
        "    print(nextNode)\n",
        "    while True:\n",
        "        nextNode = nextNode.nextSibling\n",
        "        if nextNode == \"\\n\":\n",
        "              continue\n",
        "        try:            \n",
        "            tag_name = nextNode.name\n",
        "        except AttributeError:\n",
        "            tag_name = \"\"\n",
        "        if tag_name == \"p\":\n",
        "            print(nextNode.text)\n",
        "            #print(nextNode.string)# error not show all <p>\n",
        "            df = df.append({'pargraphs': nextNode.text, 'stages' : pargraph.text}, ignore_index = True)\n",
        "        else:\n",
        "            print (\"*****\")\n",
        "            break\n",
        "  return df"
      ],
      "execution_count": 0,
      "outputs": []
    },
    {
      "cell_type": "code",
      "metadata": {
        "id": "uYm0fePw4lwH",
        "colab_type": "code",
        "outputId": "10d30b45-6e36-4c96-86cf-7429dc876a2f",
        "colab": {
          "base_uri": "https://localhost:8080/",
          "height": 865
        }
      },
      "source": [
        "df_ScrapeTreatment = parse_test(test_base_url)"
      ],
      "execution_count": 8,
      "outputs": [
        {
          "output_type": "stream",
          "text": [
            "39\n",
            "<h2>Treating occult cancer</h2>\n",
            "For these cancers, malignant cells are seen on sputum cytology but no obvious tumor can be found with bronchoscopy or imaging tests. They are usually early-stage cancers. Bronchoscopy and possibly other tests are usually repeated every few months to look for a tumor. If a tumor is found, treatment will depend on the stage.\n",
            "*****\n",
            "<h2>Treating stage 0 NSCLC</h2>\n",
            "Because stage 0 NSCLC is limited to the lining layer of airways and has not invaded deeper into the lung tissue or other areas, it is usually curable by surgery alone. No chemotherapy or radiation therapy is needed.\n",
            "If you are healthy enough for surgery, you can usually be treated by segmentectomy or wedge resection (removal of part of the lobe of the lung). Cancers in some locations (such as where the windpipe divides into the left and right main bronchi) may be treated with a sleeve resection, but in some cases they may be hard to remove completely without removing a lobe (lobectomy) or even an entire lung (pneumonectomy).\n",
            "For some stage 0 cancers, treatments such as photodynamic therapy (PDT), laser therapy, or brachytherapy (internal radiation) may be alternatives to surgery. If your cancer is truly stage 0, these treatments should cure you.\n",
            "*****\n",
            "<h2>Treating stage I NSCLC</h2>\n",
            "If you have stage I NSCLC, surgery may be the only treatment you need. This may be done either by taking out the lobe of the lung that has the tumor (lobectomy) or by taking out a smaller piece of the lung (sleeve resection, segmentectomy, or wedge resection). At least some lymph nodes in the lung and in the space between the lungs will also be removed and checked for cancer.\n",
            "Segmentectomy or wedge resection is generally an option only for very small stage I cancers and for patients with other health problems that make removing the entire lobe dangerous. Still, most surgeons believe it is better to do a lobectomy if the patient can tolerate it, as it offers the best chance for cure.\n",
            "For people with stage I NSCLC that has a higher risk of coming back (based on size, location, or other factors), adjuvant chemotherapy after surgery may lower the risk that cancer will return. But doctors aren’t always sure how to determine which people are likely to be helped by chemo. New lab tests that look at the patterns of certain genes in the cancer cells may help with this. Studies are now being done to see if these tests are accurate.\n",
            "After surgery, the removed tissue is checked to see if there are cancer cells at the edges of the surgery specimen (called positive margins). This could mean that some cancer has been left behind, so a second surgery might be done to try to ensure that all the cancer has been removed. (This might be followed by chemotherapy as well.) Another option might be to use radiation therapy after surgery.\n",
            "If you have serious health problems that prevent you from having surgery, you may get stereotactic body radiation therapy (SBRT) or another type of radiation therapy as your main treatment. Radiofrequency ablation (RFA) may be another option if the tumor is small and in the outer part of the lung.\n",
            "*****\n",
            "<h2>Treating stage II NSCLC</h2>\n",
            "People who have stage II NSCLC and are healthy enough for surgery usually have the cancer removed by lobectomy or sleeve resection. Sometimes removing the whole lung (pneumonectomy) is needed.\n",
            "Any lymph nodes likely to have cancer in them are also removed. The extent of lymph node involvement and whether or not cancer cells are found at the edges of the removed tissues are important factors when planning the next step of treatment.\n",
            "After surgery, the removed tissue is checked to see if there are cancer cells at the edges of the surgery specimen.  This might mean that some cancer has been left behind, so a second surgery might be done to try to remove any remaining cancer. This may be followed by chemotherapy (chemo). Another option is to treat with radiation, sometimes  with chemo.\n",
            "Even if positive margins are not found, chemo is usually recommended after surgery to try to destroy any cancer cells that might have been left behind. As with stage I cancers, newer lab tests now being studied may help doctors find out which patients need this adjuvant treatment and which are less likely to benefit from it.\n",
            "If you have serious medical problems that would keep you from having surgery, you may get only radiation therapy as your main treatment.\n",
            "*****\n",
            "<h2>Treating stage IIIA NSCLC</h2>\n",
            "Treatment for stage IIIA NSCLC may include some combination of radiation therapy, chemotherapy (chemo), and/or surgery. For this reason, planning treatment for stage IIIA NSCLC often requires input from a medical oncologist, radiation oncologist, and a thoracic surgeon. Your treatment options depend on the size of the tumor, where it is in your lung, which lymph nodes it has spread to, your overall health, and how well you are tolerating treatment.\n",
            "For patients who can tolerate it, treatment usually starts with chemo, often combined with radiation therapy (also called chemoradiation). Surgery may be an option after this if the doctor thinks any remaining cancer can be removed and the patient is healthy enough. (In some cases, surgery may be an option as the first treatment.) This is often followed by chemo, and possibly radiation therapy if it hasn’t been given before.\n",
            "For people who are not healthy enough for surgery, radiation therapy, which may be combined with chemo, is often used. \n",
            "If surgery, radiation or chemoradiation are not considered tolerable treatment options, immunotherapy with pembrolizumab may be considered as first treatment.\n",
            "*****\n",
            "<h2>Treating stage IIIB NSCLC</h2>\n",
            "Stage IIIB NSCLC has spread to lymph nodes that are near the other lung or in the neck, and may also have grown into important structures in the chest. These cancers can’t be removed completely by surgery. As with other stages of lung cancer, treatment depends on the patient’s overall health. If you are in fairly good health you may be helped by chemotherapy (chemo) combined with radiation therapy. Some people can even be cured with this treatment. If the cancer stays under control after 2 or more treatments of chemoradiation, the immunotherapy drug durvalumab can be given for up to a year to help keep the cancer stable.\n",
            "Patients who are not healthy enough for this combination are often treated with radiation therapy alone, or, less often, chemo alone. If surgery, radiation, or chemoradiation are not considered tolerable treatment options, immunotherapy with pembrolizumab may be considered as first treatment.\n",
            "These cancers can be hard to treat, so taking part in a clinical trial of newer treatments may be a good option for some people.\n",
            "*****\n",
            "<h2>Treating stage IV NSCLC</h2>\n",
            "Stage IV NSCLC is widespread when it is diagnosed. Because these cancers have spread to distant sites, they are very hard to cure. Treatment options depend on where the cancer has spread, the number of tumors, and your overall health.\n",
            "If you are in otherwise good health, treatments such as surgery, chemotherapy (chemo), targeted therapy, immunotherapy, and radiation therapy may help you live longer and make you feel better by relieving symptoms, even though they aren’t likely to cure you.\n",
            "Other treatments, such as photodynamic therapy (PDT) or laser therapy, may also be used to help relieve symptoms. In any case, if you are going to be treated for advanced NSCLC, be sure you understand the goals of treatment before you start.\n",
            "*****\n",
            "<h2>NSCLC that progresses or recurs after treatment</h2>\n",
            "If cancer continues to grow during treatment (progresses) or comes back (recurs), further treatment will depend on the location and extent of the cancer, what treatments have been used, and on the person’s health and desire for more treatment. It’s important to understand the goal of any further treatment – if it is to try to cure the cancer, to slow its growth, or to help relieve symptoms . It is also important to understand the benefits and risks.\n",
            "If cancer continues to grow during initial treatment such as radiation therapy, chemotherapy (chemo) may be tried. If a cancer continues to grow during chemo as the first treatment, second-line treatment most often consists of a single chemo drug such as docetaxel or pemetrexed, or targeted therapy. If a targeted drug was the first treatment and is no longer working, another targeted drug or combination chemo might be tried. For some people with certain types of NSCLC, treatment with an immunotherapy drug such as nivolumab (Opdivo), pembrolizumab (Keytruda), or atezolizumab (Tecentriq) might be an option.\n",
            "Smaller cancers that recur locally in the lungs can sometimes be retreated with surgery or radiation therapy (if it hasn’t been used before). Cancers that recur in the lymph nodes between the lungs are usually treated with chemo, possibly along with radiation if it hasn’t been used before. For cancers that return at distant sites, chemo, targeted therapies, and/or immunotherapy are often the treatments of choice.\n",
            "For more on dealing with a recurrence, see Understanding Recurrence. \n",
            "In some people, the cancer may never go away completely. These people may get regular treatments with chemo, radiation therapy, or other therapies to try to help keep the cancer in check. Learning to live with cancer that does not go away can be difficult and very stressful. It has its own type of uncertainty. Managing Cancer as a Chronic Illness talks more about this.\n",
            "*****\n"
          ],
          "name": "stdout"
        }
      ]
    },
    {
      "cell_type": "code",
      "metadata": {
        "id": "_PGHq34t5ibc",
        "colab_type": "code",
        "outputId": "a97726ed-4241-4cb9-c3ed-e3219c0f8a96",
        "colab": {
          "base_uri": "https://localhost:8080/",
          "height": 204
        }
      },
      "source": [
        "df_ScrapeTreatment.tail()"
      ],
      "execution_count": 11,
      "outputs": [
        {
          "output_type": "execute_result",
          "data": {
            "text/html": [
              "<div>\n",
              "<style scoped>\n",
              "    .dataframe tbody tr th:only-of-type {\n",
              "        vertical-align: middle;\n",
              "    }\n",
              "\n",
              "    .dataframe tbody tr th {\n",
              "        vertical-align: top;\n",
              "    }\n",
              "\n",
              "    .dataframe thead th {\n",
              "        text-align: right;\n",
              "    }\n",
              "</style>\n",
              "<table border=\"1\" class=\"dataframe\">\n",
              "  <thead>\n",
              "    <tr style=\"text-align: right;\">\n",
              "      <th></th>\n",
              "      <th>pargraphs</th>\n",
              "      <th>stages</th>\n",
              "    </tr>\n",
              "  </thead>\n",
              "  <tbody>\n",
              "    <tr>\n",
              "      <th>24</th>\n",
              "      <td>If cancer continues to grow during treatment (...</td>\n",
              "      <td>NSCLC that progresses or recurs after treatment</td>\n",
              "    </tr>\n",
              "    <tr>\n",
              "      <th>25</th>\n",
              "      <td>If cancer continues to grow during initial tre...</td>\n",
              "      <td>NSCLC that progresses or recurs after treatment</td>\n",
              "    </tr>\n",
              "    <tr>\n",
              "      <th>26</th>\n",
              "      <td>Smaller cancers that recur locally in the lung...</td>\n",
              "      <td>NSCLC that progresses or recurs after treatment</td>\n",
              "    </tr>\n",
              "    <tr>\n",
              "      <th>27</th>\n",
              "      <td>For more on dealing with a recurrence, see Und...</td>\n",
              "      <td>NSCLC that progresses or recurs after treatment</td>\n",
              "    </tr>\n",
              "    <tr>\n",
              "      <th>28</th>\n",
              "      <td>In some people, the cancer may never go away c...</td>\n",
              "      <td>NSCLC that progresses or recurs after treatment</td>\n",
              "    </tr>\n",
              "  </tbody>\n",
              "</table>\n",
              "</div>"
            ],
            "text/plain": [
              "                                            pargraphs                                           stages\n",
              "24  If cancer continues to grow during treatment (...  NSCLC that progresses or recurs after treatment\n",
              "25  If cancer continues to grow during initial tre...  NSCLC that progresses or recurs after treatment\n",
              "26  Smaller cancers that recur locally in the lung...  NSCLC that progresses or recurs after treatment\n",
              "27  For more on dealing with a recurrence, see Und...  NSCLC that progresses or recurs after treatment\n",
              "28  In some people, the cancer may never go away c...  NSCLC that progresses or recurs after treatment"
            ]
          },
          "metadata": {
            "tags": []
          },
          "execution_count": 11
        }
      ]
    },
    {
      "cell_type": "code",
      "metadata": {
        "id": "qADqy2Oe5i44",
        "colab_type": "code",
        "outputId": "74788bd4-96c6-498e-a59e-1421d5ef6bc8",
        "colab": {
          "base_uri": "https://localhost:8080/",
          "height": 35
        }
      },
      "source": [
        "df_ScrapeTreatment.shape"
      ],
      "execution_count": 12,
      "outputs": [
        {
          "output_type": "execute_result",
          "data": {
            "text/plain": [
              "(29, 2)"
            ]
          },
          "metadata": {
            "tags": []
          },
          "execution_count": 12
        }
      ]
    },
    {
      "cell_type": "code",
      "metadata": {
        "id": "vjE87ohd7N2z",
        "colab_type": "code",
        "outputId": "a051a5bc-1bfa-4b16-9cb2-db57a9b41c81",
        "colab": {
          "base_uri": "https://localhost:8080/",
          "height": 179
        }
      },
      "source": [
        "df_ScrapeTreatment[\"stages\"].value_counts()"
      ],
      "execution_count": 0,
      "outputs": [
        {
          "output_type": "execute_result",
          "data": {
            "text/plain": [
              "NSCLC that progresses or recurs after treatment    5\n",
              "Treating stage II NSCLC                            5\n",
              "Treating stage I NSCLC                             5\n",
              "Treating stage IIIA NSCLC                          4\n",
              "Treating stage 0 NSCLC                             3\n",
              "Treating stage IV NSCLC                            3\n",
              "Treating stage IIIB NSCLC                          3\n",
              "Treating occult cancer                             1\n",
              "Name: stages, dtype: int64"
            ]
          },
          "metadata": {
            "tags": []
          },
          "execution_count": 15
        }
      ]
    },
    {
      "cell_type": "code",
      "metadata": {
        "id": "zRVnHC5E5i2G",
        "colab_type": "code",
        "outputId": "b203ffbb-d4d6-45de-8b14-ab4f5e772fd1",
        "colab": {
          "base_uri": "https://localhost:8080/",
          "height": 142
        }
      },
      "source": [
        "df_ScrapeTreatment[df_ScrapeTreatment[\"stages\"] == 'Treating stage IV NSCLC']"
      ],
      "execution_count": 0,
      "outputs": [
        {
          "output_type": "execute_result",
          "data": {
            "text/html": [
              "<div>\n",
              "<style scoped>\n",
              "    .dataframe tbody tr th:only-of-type {\n",
              "        vertical-align: middle;\n",
              "    }\n",
              "\n",
              "    .dataframe tbody tr th {\n",
              "        vertical-align: top;\n",
              "    }\n",
              "\n",
              "    .dataframe thead th {\n",
              "        text-align: right;\n",
              "    }\n",
              "</style>\n",
              "<table border=\"1\" class=\"dataframe\">\n",
              "  <thead>\n",
              "    <tr style=\"text-align: right;\">\n",
              "      <th></th>\n",
              "      <th>pargraphs</th>\n",
              "      <th>stages</th>\n",
              "    </tr>\n",
              "  </thead>\n",
              "  <tbody>\n",
              "    <tr>\n",
              "      <th>21</th>\n",
              "      <td>Stage IV NSCLC is widespread when it is diagno...</td>\n",
              "      <td>Treating stage IV NSCLC</td>\n",
              "    </tr>\n",
              "    <tr>\n",
              "      <th>22</th>\n",
              "      <td>If you are in otherwise good health, treatment...</td>\n",
              "      <td>Treating stage IV NSCLC</td>\n",
              "    </tr>\n",
              "    <tr>\n",
              "      <th>23</th>\n",
              "      <td>Other treatments, such as photodynamic therapy...</td>\n",
              "      <td>Treating stage IV NSCLC</td>\n",
              "    </tr>\n",
              "  </tbody>\n",
              "</table>\n",
              "</div>"
            ],
            "text/plain": [
              "                                            pargraphs                   stages\n",
              "21  Stage IV NSCLC is widespread when it is diagno...  Treating stage IV NSCLC\n",
              "22  If you are in otherwise good health, treatment...  Treating stage IV NSCLC\n",
              "23  Other treatments, such as photodynamic therapy...  Treating stage IV NSCLC"
            ]
          },
          "metadata": {
            "tags": []
          },
          "execution_count": 16
        }
      ]
    },
    {
      "cell_type": "markdown",
      "metadata": {
        "id": "4DHq_hOH5ixH",
        "colab_type": "text"
      },
      "source": [
        "### Get Data to scrape a stage of cancer on the test web"
      ]
    },
    {
      "cell_type": "code",
      "metadata": {
        "id": "dAUJLl3E5iun",
        "colab_type": "code",
        "colab": {}
      },
      "source": [
        "\n",
        "def parse_data(full_url):\n",
        "  stagesDict = {'stage-1': 'Treating stage I NSCLC', 'stage-2': 'Treating stage II NSCLC', 'stage-3': 'Treating stage III NSCLC'}\n",
        "  df = pd.DataFrame(columns = ['pargraphs', 'stages'])\n",
        "  for s in list(stagesDict.keys()): \n",
        "    base_url = full_url + s + \"/?region=on\"\n",
        "    base_url = requests.get(base_url, timeout = 5)\n",
        "    page_content = BeautifulSoup(base_url.content, 'html.parser')\n",
        "    title = page_content.findAll('h1')[1].text\n",
        "    containers = page_content.find('div', { 'class': \"Section1\"})\n",
        "    print(s)\n",
        "    flag = True\n",
        "    # pargraphs = title\n",
        "    for section in containers.findAll('h2'):\n",
        "      nextNode = section\n",
        "      print(nextNode)\n",
        "      pargraphs =   \" \"\n",
        "      if section.text == 'Clinical trials':\n",
        "        continue\n",
        "      if flag:\n",
        "        flag = False\n",
        "        pargraphs =   title + \" \"\n",
        "      # if section.text not in ['Surgery', 'Radiation therapy', 'Chemotherapy', 'Clinical trials']:\n",
        "      #   pargraphs = section.text + \" \"\n",
        "      while True:\n",
        "          nextNode = nextNode.nextSibling\n",
        "          if nextNode == \"\\n\":\n",
        "                continue\n",
        "          try:            \n",
        "              tag_name = nextNode.name\n",
        "          except AttributeError:\n",
        "              tag_name = \"\"\n",
        "          if tag_name == \"p\":\n",
        "              print(nextNode.text)\n",
        "              #print(nextNode.string)# error not show all <p>\n",
        "              pargraphs +=  nextNode.text + \" \"\n",
        "              \n",
        "          else:\n",
        "              df = df.append({'pargraphs': pargraphs, 'stages' : stagesDict[s]}, ignore_index = True)\n",
        "              print (\"*****\")\n",
        "              break\n",
        "  return df"
      ],
      "execution_count": 0,
      "outputs": []
    },
    {
      "cell_type": "code",
      "metadata": {
        "id": "ljYnx8fFcDsd",
        "colab_type": "code",
        "outputId": "afc8df3b-aeda-461c-94f9-9a1b8e7f2f58",
        "colab": {
          "base_uri": "https://localhost:8080/",
          "height": 1000
        }
      },
      "source": [
        "df_TreatmentData = parse_data(data_base_url)"
      ],
      "execution_count": 16,
      "outputs": [
        {
          "output_type": "stream",
          "text": [
            "stage-1\n",
            "<h2>Surgery</h2>\n",
            "Surgery is a standard treatment for stage 1 non–small cell lung cancer for people who are well enough to have surgery. \n",
            "Lobectomy to remove the lobe of the lung is the main type of surgery for stage 1 non–small cell lung cancer. It offers the best chance that the cancer will be completely removed.\n",
            "Wedge or segmental resection is used to remove the tumour along with a margin of healthy lung tissue. This type of surgery may be offered for stage 1 non–small cell lung cancer in people who do not have very good lung function.\n",
            "Sleeve resection is used to remove a tumour in the large airway of the lung (bronchus).\n",
            "During surgery for non–small cell lung cancer, the lymph nodes in the chest and around the lungs are removed. The surgery may be stopped if there is cancer in more lymph nodes than was shown with diagnostic tests. This is done because the cancer has spread too far for surgery to be helpful as a treatment. \n",
            "Surgery may be done again if the lab reports that there was cancer in the margins (positive margins) of the tissue that was removed.\n",
            "*****\n",
            "<h2>Radiation therapy</h2>\n",
            "Radiation therapy is offered for stage 1 non–small cell lung cancer in people who are not well enough to have surgery or who choose not to have surgery. \n",
            "Stereotactic body radiotherapy (SBRT) may be offered to people with lung cancer that hasn’t spread outside of the lung.\n",
            "Hypofractionated radiation therapy may be offered to people who are not able to have SBRT.\n",
            "3-D conformal radiation therapy (3-D CRT) or intensity-modulated radiation therapy (IMRT) may be offered to people who cannot tolerate the dose of radiation given during SBRT or hypofractionated treatments.\n",
            "Radiation therapy may be given after surgery if cancer is found in the margins of the tissue that was removed and surgery can’t be done again. It is not given after surgery for stage 1 non–small cell lung cancer if the entire tumour has been removed and there is no cancer found in the tissue margins. Research has shown that giving radiation therapy lowers survival in this group of people. \n",
            "*****\n",
            "<h2>Chemotherapy</h2>\n",
            "Chemotherapy may be offered after surgery to people with stage 1 non–small cell lung cancer with a tumour that is 4 cm or larger who are healthy enough to have chemotherapy. Your healthcare team will discuss the benefits and risks of chemotherapy with you.\n",
            "The most common chemotherapy drug combination used is cisplatin and vinorelbine (Navelbine). If a person cannot be given cisplatin because of poor health, carboplatin (Paraplatin, Paraplatin AQ) may be given instead.\n",
            "*****\n",
            "<h2>Clinical trials</h2>\n",
            "stage-2\n",
            "<h2>Surgery</h2>\n",
            "Surgery is a standard treatment for stage 2 non–small cell lung cancer for people who are well enough to have surgery.\n",
            "Lobectomy to remove the lobe of the lung is the main type of surgery for stage 2 non–small cell lung cancer. It offers the best chance that the cancer will be completely removed. \n",
            "Wedge or segmental resection is used to remove the tumour along with a margin of healthy lung tissue. This type of surgery may be offered for stage 2 non–small cell lung cancer in people who do not have very good lung function.\n",
            "Sleeve resection is used to remove a tumour in the large airway (bronchus) of the lung.\n",
            "Extended pulmonary resection and a chest wall resection may be done for stage 2 non–small cell lung cancer that has spread to the chest wall or other tissues around the lung.\n",
            "During surgery for non–small cell lung cancer, the lymph nodes in the chest and around the lungs are removed. If there is cancer in more lymph nodes than shown with diagnostic tests, the surgery may be stopped. This is done because the cancer has spread too far for surgery to be helpful as a treatment. \n",
            "Surgery may be done again if the lab reports that cancer is found in the margins (positive margins) of the tissue that was removed.\n",
            "*****\n",
            "<h2>Radiation therapy</h2>\n",
            "External beam radiation therapy is offered for stage 2 non–small cell lung cancer in people who are not well enough to have surgery or who choose not to have surgery. Radiation therapy may be given after surgery if there were positive margins in the tissue that was removed and surgery can’t be done again. \n",
            "Stereotactic body radiotherapy (SBRT) may be offered to people with lung cancer that has not spread outside the lung.\n",
            "Hypofractionated radiation treatments may be offered to people who are not able to have SBRT.\n",
            "3-D conformal radiation therapy (3-D CRT) or intensity-modulated radiation therapy (IMRT) may be offered to people who cannot tolerate the dose of radiation given during SBRT or hypofractionated treatments.\n",
            "*****\n",
            "<h2>Chemotherapy</h2>\n",
            "Chemotherapy may be offered after surgery for stage 2 non–small cell lung cancer that has spread to the bronchial lymph nodes in people who are healthy enough to have chemotherapy. Your healthcare team will discuss the benefits and risks of chemotherapy with you.\n",
            "The most common chemotherapy drug combination used is cisplatin and vinorelbine (Navelbine). If a person cannot be given cisplatin because of poor health, carboplatin (Paraplatin, Paraplatin AQ) may be given instead.\n",
            "*****\n",
            "<h2>Chemoradiation</h2>\n",
            "Chemoradiation may be offered as a treatment to people with non–small cell lung cancer who can’t have surgery and have a tumour 5 cm or larger or have cancer that has spread to the lymph nodes.\n",
            "*****\n",
            "<h2>Clinical trials</h2>\n",
            "stage-3\n",
            "<h2>Chemoradiation</h2>\n",
            "The chemotherapy drug combinations most often used with chemoradiation are cisplatin with etoposide (Vepesid, VP-16) or cisplatin with vinorelbine (Navelbine).\n",
            "Chemotherapy and external beam radiation therapy may be given together before surgery for stage 3A and 3B non–small cell lung cancer, in people who are well enough to have this treatment. \n",
            "Chemoradiation may also be given to people who will not be having surgery and are well enough to have this treatment.\n",
            "*****\n",
            "<h2>Surgery</h2>\n",
            "The type of surgery done depends on where the tumour is found in the lung. Surgery may include a lobectomy, a bilobectomy, a sleeve resection or a pneumonectomy. If the cancer has spread, an extended pulmonary resection or a chest wall resection may be done. Surgery for cancer that has grown into the bones of the spine is done using 2 surgeries, one to support the spine with rods followed by another surgery to remove the tumour. \n",
            "For stage 3A non–small cell lung cancer, surgery may be offered after chemoradiation to people who are healthy enough to have surgery and whose cancer has responded to chemoradiation. \n",
            "For stage 3B non–small cell lung cancer, surgery is not offered because the cancer has spread too far for the treatment to be helpful.\n",
            "*****\n",
            "<h2>Chemotherapy</h2>\n",
            "The most common chemotherapy drug combination used is cisplatin with either vinorelbine or etoposide.\n",
            "For stage 3A non–small cell lung cancer, chemotherapy may be offered before surgery for people who cannot be given radiation therapy. It may also be offered after surgery if no chemotherapy was given before surgery or if the cancer had responded to chemotherapy given before surgery.\n",
            "For stage 3B non–small cell lung cancer, chemotherapy may be offered by itself to people who are not well enough to have chemoradiation or radiation therapy.\n",
            "*****\n",
            "<h2>Immunotherapy</h2>\n",
            "Imfinzi (durvalumab) may be offered as a treatment for stage 3 non–small cell lung cancer that has stopped growing (progressed) after chemoradiation, in people who can’t have surgery.\n",
            "Immunotherapy with necitumumab (Portrazza) in combination with the chemotherapy drugs gemcitabine (Gemzar) and cisplatin may be offered for stage 3B squamous cell non–small cell lung cancer. It may be offered as the first treatment for people who are not able to have surgery. \n",
            "*****\n",
            "<h2>Radiation therapy</h2>\n",
            "External beam radiation therapy by itself may be offered as the main treatment for people with stage 3A or stage 3B non–small cell lung cancer who are not well enough to have surgery, chemotherapy or chemoradiation as treatment.\n",
            "External beam radiation therapy may be delivered by 3 D conformal radiation therapy (3 D CRT) or intensity modulated radiation therapy (IMRT).\n",
            "*****\n",
            "<h2>Clinical trials</h2>\n"
          ],
          "name": "stdout"
        }
      ]
    },
    {
      "cell_type": "code",
      "metadata": {
        "id": "qFOiHC9dc_Tf",
        "colab_type": "code",
        "outputId": "4e7b0040-9842-4edc-93ad-f3e5a8d286d6",
        "colab": {
          "base_uri": "https://localhost:8080/",
          "height": 35
        }
      },
      "source": [
        "df_TreatmentData.shape"
      ],
      "execution_count": 17,
      "outputs": [
        {
          "output_type": "execute_result",
          "data": {
            "text/plain": [
              "(12, 2)"
            ]
          },
          "metadata": {
            "tags": []
          },
          "execution_count": 17
        }
      ]
    },
    {
      "cell_type": "markdown",
      "metadata": {
        "id": "ku5GRDmV9SIe",
        "colab_type": "text"
      },
      "source": [
        "**Only get 3 stages which are requirement for this project**\n",
        "\n",
        "**Assume we get the diameter of cancer node and get the stage**"
      ]
    },
    {
      "cell_type": "code",
      "metadata": {
        "id": "JcfAwdoJLEe7",
        "colab_type": "code",
        "colab": {}
      },
      "source": [
        ""
      ],
      "execution_count": 0,
      "outputs": []
    },
    {
      "cell_type": "code",
      "metadata": {
        "id": "AhsR05gqLEhR",
        "colab_type": "code",
        "colab": {}
      },
      "source": [
        ""
      ],
      "execution_count": 0,
      "outputs": []
    },
    {
      "cell_type": "markdown",
      "metadata": {
        "id": "6z0TCPlP9wSw",
        "colab_type": "text"
      },
      "source": [
        "## Use Google Universal sentence encoder to find the smilar sentences or graphs"
      ]
    },
    {
      "cell_type": "code",
      "metadata": {
        "id": "TwBOyFpnLEjk",
        "colab_type": "code",
        "outputId": "c44f2637-9012-44fc-88a0-a4d4a24fc878",
        "colab": {
          "base_uri": "https://localhost:8080/",
          "height": 35
        }
      },
      "source": [
        "%tensorflow_version 1.x\n",
        "import tensorflow as tf\n",
        "import tensorflow_hub as hub\n",
        "import numpy as np"
      ],
      "execution_count": 21,
      "outputs": [
        {
          "output_type": "stream",
          "text": [
            "TensorFlow 1.x selected.\n"
          ],
          "name": "stdout"
        }
      ]
    },
    {
      "cell_type": "code",
      "metadata": {
        "id": "gHqP-44GLEmP",
        "colab_type": "code",
        "outputId": "e289c438-f1d5-406c-8fcf-b7f6c943ba94",
        "colab": {
          "base_uri": "https://localhost:8080/",
          "height": 215
        }
      },
      "source": [
        "!mkdir test_SimlarTxt\n",
        "# Download the module, and uncompress it to the destination folder. \n",
        "!curl -L \"https://tfhub.dev/google/universal-sentence-encoder-large/3?tf-hub-format=compressed\" |   tar -zxvC test_SimlarTxt"
      ],
      "execution_count": 22,
      "outputs": [
        {
          "output_type": "stream",
          "text": [
            "  % Total    % Received % Xferd  Average Speed   Time    Time     Time  Current\n",
            "                                 Dload  Upload   Total   Spent    Left  Speed\n",
            "\r  0     0    0     0    0     0      0      0 --:--:-- --:--:-- --:--:--     0\r  0     0    0     0    0     0      0      0 --:--:-- --:--:-- --:--:--     0\n",
            "./\n",
            "./tfhub_module.pb\n",
            "./variables/\n",
            "./variables/variables.data-00000-of-00001\n",
            " 93  745M   93  698M    0     0  53.8M      0  0:00:13  0:00:12  0:00:01 56.3M./variables/variables.index\n",
            "./assets/\n",
            "./saved_model.pb\n",
            "100  745M  100  745M    0     0  54.3M      0  0:00:13  0:00:13 --:--:-- 56.7M\n"
          ],
          "name": "stdout"
        }
      ]
    },
    {
      "cell_type": "code",
      "metadata": {
        "id": "zz-OkdURLEog",
        "colab_type": "code",
        "outputId": "81646591-3105-4a9f-81c5-603038beb2f7",
        "colab": {
          "base_uri": "https://localhost:8080/",
          "height": 163
        }
      },
      "source": [
        "#Function so that one session can be called multiple times. \n",
        "#Useful while multiple calls need to be done for embedding. \n",
        "import tensorflow as tf\n",
        "import tensorflow_hub as hub\n",
        "def embed_useT(module):\n",
        "    with tf.Graph().as_default():\n",
        "        sentences = tf.placeholder(tf.string)\n",
        "        embed = hub.Module(module)\n",
        "        embeddings = embed(sentences)\n",
        "        session = tf.train.MonitoredSession()\n",
        "    return lambda x: session.run(embeddings, {sentences: x})\n",
        "\n",
        "embed_fn = embed_useT(\"test_SimlarTxt\")"
      ],
      "execution_count": 23,
      "outputs": [
        {
          "output_type": "stream",
          "text": [
            "INFO:tensorflow:Saver not created because there are no variables in the graph to restore\n",
            "WARNING:tensorflow:From /tensorflow-1.15.2/python3.6/tensorflow_core/python/ops/array_ops.py:1475: where (from tensorflow.python.ops.array_ops) is deprecated and will be removed in a future version.\n",
            "Instructions for updating:\n",
            "Use tf.where in 2.0, which has the same broadcast rule as np.where\n",
            "INFO:tensorflow:Graph was finalized.\n",
            "INFO:tensorflow:Running local_init_op.\n",
            "INFO:tensorflow:Done running local_init_op.\n"
          ],
          "name": "stdout"
        }
      ]
    },
    {
      "cell_type": "code",
      "metadata": {
        "id": "QRZEp9m4-cia",
        "colab_type": "code",
        "colab": {}
      },
      "source": [
        "Diameter = '3'\n",
        "stage = 'Treating stage I NSCLC'\n",
        "stage1 = df_TreatmentData[df_TreatmentData['stages'] == stage]['pargraphs']"
      ],
      "execution_count": 0,
      "outputs": []
    },
    {
      "cell_type": "markdown",
      "metadata": {
        "id": "Oj08zJZG-dkC",
        "colab_type": "text"
      },
      "source": [
        "Use information of stage 1 from source to find the place of stage 1 in the scraped web test"
      ]
    },
    {
      "cell_type": "code",
      "metadata": {
        "id": "lBDVX6hrLErE",
        "colab_type": "code",
        "colab": {
          "base_uri": "https://localhost:8080/",
          "height": 91
        },
        "outputId": "dc5d7873-4d27-4ec5-8020-9894ec77a211"
      },
      "source": [
        "dataStage = []\n",
        "for sx in stage1:\n",
        "  dataStage.append(sx)\n",
        "dataStage"
      ],
      "execution_count": 26,
      "outputs": [
        {
          "output_type": "execute_result",
          "data": {
            "text/plain": [
              "['Treatments for stage 1 non–small cell lung cancer Surgery is a standard treatment for stage 1 non–small cell lung cancer for people who are well enough to have surgery.  Lobectomy to remove the lobe of the lung is the main type of surgery for stage 1 non–small cell lung cancer. It offers the best chance that the cancer will be completely removed. Wedge or segmental resection is used to remove the tumour along with a margin of healthy lung tissue. This type of surgery may be offered for stage 1 non–small cell lung cancer in people who do not have very good lung function. Sleeve resection is used to remove a tumour in the large airway of the lung (bronchus). During surgery for non–small cell lung cancer, the lymph nodes in the chest and around the lungs are removed. The surgery may be stopped if there is cancer in more lymph nodes than was shown with diagnostic tests. This is done because the cancer has spread too far for surgery to be helpful as a treatment.  Surgery may be done again if the lab reports that there was cancer in the margins (positive margins) of the tissue that was removed. ',\n",
              " ' Radiation therapy is offered for stage 1 non–small cell lung cancer in people who are not well enough to have surgery or who choose not to have surgery.  Stereotactic body radiotherapy (SBRT) may be offered to people with lung cancer that hasn’t spread outside of the lung. Hypofractionated radiation therapy may be offered to people who are not able to have SBRT. 3-D conformal radiation therapy (3-D CRT) or intensity-modulated radiation therapy (IMRT) may be offered to people who cannot tolerate the dose of radiation given during SBRT or hypofractionated treatments. Radiation therapy may be given after surgery if cancer is found in the margins of the tissue that was removed and surgery can’t be done again. It is not given after surgery for stage 1 non–small cell lung cancer if the entire tumour has been removed and there is no cancer found in the tissue margins. Research has shown that giving radiation therapy lowers survival in this group of people.  ',\n",
              " ' Chemotherapy may be offered after surgery to people with stage 1 non–small cell lung cancer with a tumour that is 4 cm or larger who are healthy enough to have chemotherapy. Your healthcare team will discuss the benefits and risks of chemotherapy with you. The most common chemotherapy drug combination used is cisplatin and vinorelbine (Navelbine). If a person cannot be given cisplatin because of poor health, carboplatin (Paraplatin, Paraplatin AQ) may be given instead. ']"
            ]
          },
          "metadata": {
            "tags": []
          },
          "execution_count": 26
        }
      ]
    },
    {
      "cell_type": "code",
      "metadata": {
        "id": "cc6_32_Dg3vP",
        "colab_type": "code",
        "outputId": "764e0da2-fdab-44bc-97d2-9ac109c7d7ef",
        "colab": {
          "base_uri": "https://localhost:8080/",
          "height": 145
        }
      },
      "source": [
        "TestStage = []\n",
        "for sx_test in df_ScrapeTreatment['pargraphs']:\n",
        "  TestStage.append(sx_test)\n",
        "print(len(TestStage))\n",
        "TestStage[:5]"
      ],
      "execution_count": 27,
      "outputs": [
        {
          "output_type": "stream",
          "text": [
            "29\n"
          ],
          "name": "stdout"
        },
        {
          "output_type": "execute_result",
          "data": {
            "text/plain": [
              "['For these cancers, malignant cells are seen on sputum cytology but no obvious tumor can be found with bronchoscopy or imaging tests. They are usually early-stage cancers. Bronchoscopy and possibly other tests are usually repeated every few months to look for a tumor. If a tumor is found, treatment will depend on the stage.',\n",
              " 'Because stage 0 NSCLC is limited to the lining layer of airways and has not invaded deeper into the lung tissue or other areas, it is usually curable by surgery alone. No chemotherapy or radiation therapy is needed.',\n",
              " 'If you are healthy enough for surgery, you can usually be treated by segmentectomy or wedge resection (removal of part of the lobe of the lung). Cancers in some locations (such as where the windpipe divides into the left and right main bronchi) may be treated with a sleeve resection, but in some cases they may be hard to remove completely without removing a lobe (lobectomy) or even an entire lung (pneumonectomy).',\n",
              " 'For some stage 0 cancers, treatments such as photodynamic therapy (PDT), laser therapy, or brachytherapy (internal radiation) may be alternatives to surgery. If your cancer is truly stage 0, these treatments should cure you.',\n",
              " 'If you have stage I NSCLC, surgery may be the only treatment you need. This may be done either by taking out the lobe of the lung that has the tumor (lobectomy) or by taking out a smaller piece of the lung (sleeve resection, segmentectomy, or wedge resection). At least some lymph nodes in the lung and in the space between the lungs will also be removed and checked for cancer.']"
            ]
          },
          "metadata": {
            "tags": []
          },
          "execution_count": 27
        }
      ]
    },
    {
      "cell_type": "code",
      "metadata": {
        "id": "UQBpOypXLEtI",
        "colab_type": "code",
        "outputId": "2b065892-e302-404c-dc65-916ef6166616",
        "colab": {
          "base_uri": "https://localhost:8080/",
          "height": 161
        }
      },
      "source": [
        "messages = dataStage + TestStage\n",
        "print(len(messages))\n",
        "encoding_matrix = embed_fn(messages)\n",
        "results = np.inner(encoding_matrix, encoding_matrix)\n",
        "results[0]"
      ],
      "execution_count": 28,
      "outputs": [
        {
          "output_type": "stream",
          "text": [
            "32\n"
          ],
          "name": "stdout"
        },
        {
          "output_type": "execute_result",
          "data": {
            "text/plain": [
              "array([0.9999999 , 0.8891977 , 0.8791368 , 0.81553197, 0.82436424,\n",
              "       0.8344706 , 0.84074247, 0.86763126, 0.72092164, 0.81143546,\n",
              "       0.84825206, 0.83177114, 0.8695761 , 0.7816832 , 0.86710036,\n",
              "       0.80257547, 0.6717336 , 0.84305954, 0.86976993, 0.83490586,\n",
              "       0.7133719 , 0.897699  , 0.8227962 , 0.7462059 , 0.7869357 ,\n",
              "       0.65377605, 0.59027755, 0.8123313 , 0.8409171 , 0.85531604,\n",
              "       0.3281222 , 0.76744276], dtype=float32)"
            ]
          },
          "metadata": {
            "tags": []
          },
          "execution_count": 28
        }
      ]
    },
    {
      "cell_type": "code",
      "metadata": {
        "id": "Al9MCWYpjpS9",
        "colab_type": "code",
        "colab": {}
      },
      "source": [
        "subRes = results[0].copy()\n",
        "\n",
        "index = [(i,x) for i, x in enumerate(subRes[3:]) if x > 0.89 ]"
      ],
      "execution_count": 0,
      "outputs": []
    },
    {
      "cell_type": "code",
      "metadata": {
        "id": "-k2hJjxqgM7t",
        "colab_type": "code",
        "outputId": "376a4901-6816-4b4d-85d6-3118685ec267",
        "colab": {
          "base_uri": "https://localhost:8080/",
          "height": 73
        }
      },
      "source": [
        "print(index)\n",
        "messages[int(index[0][0]) +  3]"
      ],
      "execution_count": 32,
      "outputs": [
        {
          "output_type": "stream",
          "text": [
            "[(18, 0.897699)]\n"
          ],
          "name": "stdout"
        },
        {
          "output_type": "execute_result",
          "data": {
            "text/plain": [
              "'Stage IIIB NSCLC has spread to lymph nodes that are near the other lung or in the neck, and may also have grown into important structures in the chest. These cancers can’t be removed completely by surgery. As with other stages of lung cancer, treatment depends on the patient’s overall health. If you are in fairly good health you may be helped by chemotherapy (chemo) combined with radiation therapy. Some people can even be cured with this treatment. If the cancer stays under control after 2 or more treatments of chemoradiation, the immunotherapy drug durvalumab can be given for up to a year to help keep the cancer stable.'"
            ]
          },
          "metadata": {
            "tags": []
          },
          "execution_count": 32
        },
        {
          "output_type": "stream",
          "text": [
            "ERROR! Session/line number was not unique in database. History logging moved to new session 59\n"
          ],
          "name": "stdout"
        }
      ]
    },
    {
      "cell_type": "markdown",
      "metadata": {
        "id": "_0z1PFbC_7is",
        "colab_type": "text"
      },
      "source": [
        "**=> data stage 1, but the test is stage 3b => not good measure**"
      ]
    },
    {
      "cell_type": "code",
      "metadata": {
        "id": "Qb4ln8oKgNAh",
        "colab_type": "code",
        "colab": {}
      },
      "source": [
        "##################################################################################|"
      ],
      "execution_count": 0,
      "outputs": []
    },
    {
      "cell_type": "markdown",
      "metadata": {
        "id": "_5_1TIfMARgY",
        "colab_type": "text"
      },
      "source": [
        "**New solution: Concatenate all paragraphs of one stage into 1 paragraph and combine stage 3a and 3b => stage 3**"
      ]
    },
    {
      "cell_type": "code",
      "metadata": {
        "id": "esjAroiU8CCP",
        "colab_type": "code",
        "outputId": "63f12c65-5acd-4989-f962-de5ac246ad5f",
        "colab": {
          "base_uri": "https://localhost:8080/",
          "height": 89
        }
      },
      "source": [
        "stage = 'Treating stage I NSCLC'\n",
        "stage1 = df_TreatmentData[df_TreatmentData['stages'] == stage]['pargraphs']\n",
        "stage1"
      ],
      "execution_count": 33,
      "outputs": [
        {
          "output_type": "execute_result",
          "data": {
            "text/plain": [
              "0    Treatments for stage 1 non–small cell lung can...\n",
              "1     Radiation therapy is offered for stage 1 non–...\n",
              "2     Chemotherapy may be offered after surgery to ...\n",
              "Name: pargraphs, dtype: object"
            ]
          },
          "metadata": {
            "tags": []
          },
          "execution_count": 33
        },
        {
          "output_type": "stream",
          "text": [
            "ERROR! Session/line number was not unique in database. History logging moved to new session 60\n"
          ],
          "name": "stdout"
        }
      ]
    },
    {
      "cell_type": "code",
      "metadata": {
        "id": "eSeyEt5bEIht",
        "colab_type": "code",
        "outputId": "dc8ab5bf-a05b-455d-abbb-0835755811a2",
        "colab": {
          "base_uri": "https://localhost:8080/",
          "height": 107
        }
      },
      "source": [
        "stage = 'Treating stage II NSCLC'\n",
        "stage2 = df_TreatmentData[df_TreatmentData['stages'] == stage]['pargraphs']\n",
        "stage2"
      ],
      "execution_count": 34,
      "outputs": [
        {
          "output_type": "execute_result",
          "data": {
            "text/plain": [
              "3    Treatments for stage 2 non–small cell lung can...\n",
              "4     External beam radiation therapy is offered fo...\n",
              "5     Chemotherapy may be offered after surgery for...\n",
              "6     Chemoradiation may be offered as a treatment ...\n",
              "Name: pargraphs, dtype: object"
            ]
          },
          "metadata": {
            "tags": []
          },
          "execution_count": 34
        }
      ]
    },
    {
      "cell_type": "code",
      "metadata": {
        "id": "I2k_ve9uEIAJ",
        "colab_type": "code",
        "outputId": "3b5dd687-90c5-45d3-ea05-92c661666bb4",
        "colab": {
          "base_uri": "https://localhost:8080/",
          "height": 125
        }
      },
      "source": [
        "stage = 'Treating stage III NSCLC'\n",
        "stage3 = df_TreatmentData[df_TreatmentData['stages'] == stage]['pargraphs']\n",
        "stage3"
      ],
      "execution_count": 35,
      "outputs": [
        {
          "output_type": "execute_result",
          "data": {
            "text/plain": [
              "7     Treatments for stage 3 non–small cell lung can...\n",
              "8      The type of surgery done depends on where the...\n",
              "9      The most common chemotherapy drug combination...\n",
              "10     Imfinzi (durvalumab) may be offered as a trea...\n",
              "11     External beam radiation therapy by itself may...\n",
              "Name: pargraphs, dtype: object"
            ]
          },
          "metadata": {
            "tags": []
          },
          "execution_count": 35
        }
      ]
    },
    {
      "cell_type": "code",
      "metadata": {
        "id": "QttJ8Cf-gNFN",
        "colab_type": "code",
        "outputId": "2edf829e-20e1-4a21-892b-3f237b94db37",
        "colab": {
          "base_uri": "https://localhost:8080/",
          "height": 55
        }
      },
      "source": [
        "dataStage1_v2 = \"\"\n",
        "for x in list(stage1):\n",
        "  dataStage1_v2 += x\n",
        "dataStage1_v2"
      ],
      "execution_count": 38,
      "outputs": [
        {
          "output_type": "execute_result",
          "data": {
            "text/plain": [
              "'Treatments for stage 1 non–small cell lung cancer Surgery is a standard treatment for stage 1 non–small cell lung cancer for people who are well enough to have surgery.  Lobectomy to remove the lobe of the lung is the main type of surgery for stage 1 non–small cell lung cancer. It offers the best chance that the cancer will be completely removed. Wedge or segmental resection is used to remove the tumour along with a margin of healthy lung tissue. This type of surgery may be offered for stage 1 non–small cell lung cancer in people who do not have very good lung function. Sleeve resection is used to remove a tumour in the large airway of the lung (bronchus). During surgery for non–small cell lung cancer, the lymph nodes in the chest and around the lungs are removed. The surgery may be stopped if there is cancer in more lymph nodes than was shown with diagnostic tests. This is done because the cancer has spread too far for surgery to be helpful as a treatment.  Surgery may be done again if the lab reports that there was cancer in the margins (positive margins) of the tissue that was removed.  Radiation therapy is offered for stage 1 non–small cell lung cancer in people who are not well enough to have surgery or who choose not to have surgery.  Stereotactic body radiotherapy (SBRT) may be offered to people with lung cancer that hasn’t spread outside of the lung. Hypofractionated radiation therapy may be offered to people who are not able to have SBRT. 3-D conformal radiation therapy (3-D CRT) or intensity-modulated radiation therapy (IMRT) may be offered to people who cannot tolerate the dose of radiation given during SBRT or hypofractionated treatments. Radiation therapy may be given after surgery if cancer is found in the margins of the tissue that was removed and surgery can’t be done again. It is not given after surgery for stage 1 non–small cell lung cancer if the entire tumour has been removed and there is no cancer found in the tissue margins. Research has shown that giving radiation therapy lowers survival in this group of people.   Chemotherapy may be offered after surgery to people with stage 1 non–small cell lung cancer with a tumour that is 4 cm or larger who are healthy enough to have chemotherapy. Your healthcare team will discuss the benefits and risks of chemotherapy with you. The most common chemotherapy drug combination used is cisplatin and vinorelbine (Navelbine). If a person cannot be given cisplatin because of poor health, carboplatin (Paraplatin, Paraplatin AQ) may be given instead. '"
            ]
          },
          "metadata": {
            "tags": []
          },
          "execution_count": 38
        }
      ]
    },
    {
      "cell_type": "code",
      "metadata": {
        "id": "1KEP0_IWA_Wn",
        "colab_type": "code",
        "colab": {
          "base_uri": "https://localhost:8080/",
          "height": 55
        },
        "outputId": "4481bcf1-3521-4b1e-ad31-e02d9c83c4fc"
      },
      "source": [
        "dataStage2_v2 = \"\"\n",
        "for x in list(stage2):\n",
        "  dataStage2_v2 += x\n",
        "dataStage2_v2"
      ],
      "execution_count": 39,
      "outputs": [
        {
          "output_type": "execute_result",
          "data": {
            "text/plain": [
              "'Treatments for stage 2 non–small cell lung cancer Surgery is a standard treatment for stage 2 non–small cell lung cancer for people who are well enough to have surgery. Lobectomy to remove the lobe of the lung is the main type of surgery for stage 2 non–small cell lung cancer. It offers the best chance that the cancer will be completely removed.  Wedge or segmental resection is used to remove the tumour along with a margin of healthy lung tissue. This type of surgery may be offered for stage 2 non–small cell lung cancer in people who do not have very good lung function. Sleeve resection is used to remove a tumour in the large airway (bronchus) of the lung. Extended pulmonary resection and a chest wall resection may be done for stage 2 non–small cell lung cancer that has spread to the chest wall or other tissues around the lung. During surgery for non–small cell lung cancer, the lymph nodes in the chest and around the lungs are removed. If there is cancer in more lymph nodes than shown with diagnostic tests, the surgery may be stopped. This is done because the cancer has spread too far for surgery to be helpful as a treatment.  Surgery may be done again if the lab reports that cancer is found in the margins (positive margins) of the tissue that was removed.  External beam radiation therapy is offered for stage 2 non–small cell lung cancer in people who are not well enough to have surgery or who choose not to have surgery. Radiation therapy may be given after surgery if there were positive margins in the tissue that was removed and surgery can’t be done again.  Stereotactic body radiotherapy (SBRT) may be offered to people with lung cancer that has not spread outside the lung. Hypofractionated radiation treatments may be offered to people who are not able to have SBRT. 3-D conformal radiation therapy (3-D CRT) or intensity-modulated radiation therapy (IMRT) may be offered to people who cannot tolerate the dose of radiation given during SBRT or hypofractionated treatments.  Chemotherapy may be offered after surgery for stage 2 non–small cell lung cancer that has spread to the bronchial lymph nodes in people who are healthy enough to have chemotherapy. Your healthcare team will discuss the benefits and risks of chemotherapy with you. The most common chemotherapy drug combination used is cisplatin and vinorelbine (Navelbine). If a person cannot be given cisplatin because of poor health, carboplatin (Paraplatin, Paraplatin AQ) may be given instead.  Chemoradiation may be offered as a treatment to people with non–small cell lung cancer who can’t have surgery and have a tumour 5 cm or larger or have cancer that has spread to the lymph nodes. '"
            ]
          },
          "metadata": {
            "tags": []
          },
          "execution_count": 39
        }
      ]
    },
    {
      "cell_type": "code",
      "metadata": {
        "id": "y_VSC5ikBKft",
        "colab_type": "code",
        "colab": {
          "base_uri": "https://localhost:8080/",
          "height": 55
        },
        "outputId": "ee9ed26a-debe-4796-9a60-60f8c948f861"
      },
      "source": [
        "dataStage3_v2 = \"\"\n",
        "for x in list(stage3):\n",
        "  dataStage3_v2 += x\n",
        "dataStage3_v2"
      ],
      "execution_count": 40,
      "outputs": [
        {
          "output_type": "execute_result",
          "data": {
            "text/plain": [
              "'Treatments for stage 3 non–small cell lung cancer The chemotherapy drug combinations most often used with chemoradiation are cisplatin with etoposide (Vepesid, VP-16) or cisplatin with vinorelbine (Navelbine). Chemotherapy and external beam radiation therapy may be given together before surgery for stage 3A and 3B non–small cell lung cancer, in people who are well enough to have this treatment.  Chemoradiation may also be given to people who will not be having surgery and are well enough to have this treatment.  The type of surgery done depends on where the tumour is found in the lung. Surgery may include a lobectomy, a bilobectomy, a sleeve resection or a pneumonectomy. If the cancer has spread, an extended pulmonary resection or a chest wall resection may be done. Surgery for cancer that has grown into the bones of the spine is done using 2 surgeries, one to support the spine with rods followed by another surgery to remove the tumour.  For stage 3A non–small cell lung cancer, surgery may be offered after chemoradiation to people who are healthy enough to have surgery and whose cancer has responded to chemoradiation.  For stage 3B non–small cell lung cancer, surgery is not offered because the cancer has spread too far for the treatment to be helpful.  The most common chemotherapy drug combination used is cisplatin with either vinorelbine or etoposide. For stage 3A non–small cell lung cancer, chemotherapy may be offered before surgery for people who cannot be given radiation therapy. It may also be offered after surgery if no chemotherapy was given before surgery or if the cancer had responded to chemotherapy given before surgery. For stage 3B non–small cell lung cancer, chemotherapy may be offered by itself to people who are not well enough to have chemoradiation or radiation therapy.  Imfinzi (durvalumab) may be offered as a treatment for stage 3 non–small cell lung cancer that has stopped growing (progressed) after chemoradiation, in people who can’t have surgery. Immunotherapy with necitumumab (Portrazza) in combination with the chemotherapy drugs gemcitabine (Gemzar) and cisplatin may be offered for stage 3B squamous cell non–small cell lung cancer. It may be offered as the first treatment for people who are not able to have surgery.   External beam radiation therapy by itself may be offered as the main treatment for people with stage 3A or stage 3B non–small cell lung cancer who are not well enough to have surgery, chemotherapy or chemoradiation as treatment. External beam radiation therapy may be delivered by 3 D conformal radiation therapy (3 D CRT) or intensity modulated radiation therapy (IMRT). '"
            ]
          },
          "metadata": {
            "tags": []
          },
          "execution_count": 40
        }
      ]
    },
    {
      "cell_type": "code",
      "metadata": {
        "id": "wxgQW-o3A_iT",
        "colab_type": "code",
        "colab": {}
      },
      "source": [
        ""
      ],
      "execution_count": 0,
      "outputs": []
    },
    {
      "cell_type": "code",
      "metadata": {
        "id": "9tTRGZrngNJ-",
        "colab_type": "code",
        "colab": {}
      },
      "source": [
        "TestStage_v2 = []\n",
        "for st in df_ScrapeTreatment['stages'].unique():\n",
        "  tempStr = \"\"\n",
        "  for p in list(df_ScrapeTreatment[df_ScrapeTreatment['stages'] == st]['pargraphs']):\n",
        "    tempStr += p\n",
        "  TestStage_v2.append(tempStr)"
      ],
      "execution_count": 0,
      "outputs": []
    },
    {
      "cell_type": "code",
      "metadata": {
        "id": "mfpSTbdjgNMW",
        "colab_type": "code",
        "outputId": "c35e178a-dd84-44cf-97a1-44c2d04cdb3a",
        "colab": {
          "base_uri": "https://localhost:8080/",
          "height": 181
        }
      },
      "source": [
        "TestStage_v2"
      ],
      "execution_count": 42,
      "outputs": [
        {
          "output_type": "execute_result",
          "data": {
            "text/plain": [
              "['For these cancers, malignant cells are seen on sputum cytology but no obvious tumor can be found with bronchoscopy or imaging tests. They are usually early-stage cancers. Bronchoscopy and possibly other tests are usually repeated every few months to look for a tumor. If a tumor is found, treatment will depend on the stage.',\n",
              " 'Because stage 0 NSCLC is limited to the lining layer of airways and has not invaded deeper into the lung tissue or other areas, it is usually curable by surgery alone. No chemotherapy or radiation therapy is needed.If you are healthy enough for surgery, you can usually be treated by segmentectomy or wedge resection (removal of part of the lobe of the lung). Cancers in some locations (such as where the windpipe divides into the left and right main bronchi) may be treated with a sleeve resection, but in some cases they may be hard to remove completely without removing a lobe (lobectomy) or even an entire lung (pneumonectomy).For some stage 0 cancers, treatments such as photodynamic therapy (PDT), laser therapy, or brachytherapy (internal radiation) may be alternatives to surgery. If your cancer is truly stage 0, these treatments should cure you.',\n",
              " 'If you have stage I NSCLC, surgery may be the only treatment you need. This may be done either by taking out the lobe of the lung that has the tumor (lobectomy) or by taking out a smaller piece of the lung (sleeve resection, segmentectomy, or wedge resection). At least some lymph nodes in the lung and in the space between the lungs will also be removed and checked for cancer.Segmentectomy or wedge resection is generally an option only for very small stage I cancers and for patients with other health problems that make removing the entire lobe dangerous. Still, most surgeons believe it is better to do a lobectomy if the patient can tolerate it, as it offers the best chance for cure.For people with stage I NSCLC that has a higher risk of coming back (based on size, location, or other factors), adjuvant chemotherapy after surgery may lower the risk that cancer will return. But doctors aren’t always sure how to determine which people are likely to be helped by chemo. New lab tests that look at the patterns of certain genes in the cancer cells may help with this. Studies are now being done to see if these tests are accurate.After surgery, the removed tissue is checked to see if there are cancer cells at the edges of the surgery specimen (called positive margins). This could mean that some cancer has been left behind, so a second surgery might be done to try to ensure that all the cancer has been removed. (This might be followed by chemotherapy as well.) Another option might be to use radiation therapy after surgery.If you have serious health problems that prevent you from having surgery, you may get stereotactic body radiation therapy (SBRT) or another type of radiation therapy as your main treatment. Radiofrequency ablation (RFA) may be another option if the tumor is small and in the outer part of the lung.',\n",
              " 'People who have stage II NSCLC and are healthy enough for surgery usually have the cancer removed by lobectomy or sleeve resection. Sometimes removing the whole lung (pneumonectomy) is needed.Any lymph nodes likely to have cancer in them are also removed. The extent of lymph node involvement and whether or not cancer cells are found at the edges of the removed tissues are important factors when planning the next step of treatment.After surgery, the removed tissue is checked to see if there are cancer cells at the edges of the surgery specimen.  This might mean that some cancer has been left behind, so a second surgery might be done to try to remove any remaining cancer. This may be followed by chemotherapy (chemo). Another option is to treat with radiation, sometimes  with chemo.Even if positive margins are not found, chemo is usually recommended after surgery to try to destroy any cancer cells that might have been left behind. As with stage I cancers, newer lab tests now being studied may help doctors find out which patients need this adjuvant treatment and which are less likely to benefit from it.If you have serious medical problems that would keep you from having surgery, you may get only radiation therapy as your main treatment.',\n",
              " 'Treatment for stage IIIA NSCLC may include some combination of radiation therapy, chemotherapy (chemo), and/or surgery. For this reason, planning treatment for stage IIIA NSCLC often requires input from a medical oncologist, radiation oncologist, and a thoracic surgeon. Your treatment options depend on the size of the tumor, where it is in your lung, which lymph nodes it has spread to, your overall health, and how well you are tolerating treatment.For patients who can tolerate it, treatment usually starts with chemo, often combined with radiation therapy (also called chemoradiation). Surgery may be an option after this if the doctor thinks any remaining cancer can be removed and the patient is healthy enough. (In some cases, surgery may be an option as the first treatment.) This is often followed by chemo, and possibly radiation therapy if it hasn’t been given before.For people who are not healthy enough for surgery, radiation therapy, which may be combined with chemo, is often used. If surgery, radiation or chemoradiation are not considered tolerable treatment options, immunotherapy with pembrolizumab may be considered as first treatment.',\n",
              " 'Stage IIIB NSCLC has spread to lymph nodes that are near the other lung or in the neck, and may also have grown into important structures in the chest. These cancers can’t be removed completely by surgery. As with other stages of lung cancer, treatment depends on the patient’s overall health. If you are in fairly good health you may be helped by chemotherapy (chemo) combined with radiation therapy. Some people can even be cured with this treatment. If the cancer stays under control after 2 or more treatments of chemoradiation, the immunotherapy drug durvalumab can be given for up to a year to help keep the cancer stable.Patients who are not healthy enough for this combination are often treated with radiation therapy alone, or, less often, chemo alone. If surgery, radiation, or chemoradiation are not considered tolerable treatment options, immunotherapy\\xa0with pembrolizumab may be considered as first treatment.These cancers can be hard to treat, so taking part in a clinical trial of newer treatments may be a good option for some people.',\n",
              " 'Stage IV NSCLC is widespread when it is diagnosed. Because these cancers have spread to distant sites, they are very hard to cure. Treatment options depend on where the cancer has spread, the number of tumors, and your overall health.If you are in otherwise good health, treatments such as surgery, chemotherapy (chemo), targeted therapy, immunotherapy, and radiation therapy may help you live longer and make you feel better by relieving symptoms, even though they aren’t likely to cure you.Other treatments, such as photodynamic therapy (PDT) or laser therapy, may also be used to help relieve symptoms. In any case, if you are going to be treated for advanced NSCLC, be sure you understand the goals of treatment before you start.',\n",
              " 'If cancer continues to grow during treatment (progresses) or comes back (recurs), further treatment will depend on the location and extent of the cancer, what treatments have been used, and on the person’s health and desire for more treatment. It’s important to understand the goal of any further treatment – if it is to try to cure the cancer, to slow its growth, or to help relieve symptoms . It is also important to understand the\\xa0benefits and risks.If cancer continues to grow during initial treatment such as radiation therapy, chemotherapy (chemo) may be tried. If a cancer continues to grow during chemo as the first treatment, second-line treatment most often consists of a single chemo drug such as docetaxel or pemetrexed, or targeted therapy. If a targeted drug was the first treatment and is no longer working, another targeted drug or combination chemo might be tried. For some people with certain types of NSCLC, treatment with an immunotherapy drug such as nivolumab (Opdivo), pembrolizumab (Keytruda), or atezolizumab (Tecentriq) might be an option.Smaller cancers that recur locally in the lungs can sometimes be retreated with surgery or radiation therapy (if it hasn’t been used before). Cancers that recur in the lymph nodes between the lungs are usually treated with chemo, possibly along with radiation if it hasn’t been used before. For cancers that return at distant sites, chemo, targeted therapies, and/or immunotherapy are often the treatments of choice.For more on dealing with a recurrence, see Understanding Recurrence. In some people, the cancer may never go away completely. These people may get regular treatments with chemo, radiation therapy, or other therapies to try to help keep the cancer in check. Learning to live with cancer that does not go away can be difficult and very stressful. It has its own type of uncertainty. Managing Cancer as a Chronic Illness talks more about this.']"
            ]
          },
          "metadata": {
            "tags": []
          },
          "execution_count": 42
        }
      ]
    },
    {
      "cell_type": "markdown",
      "metadata": {
        "id": "ocIGWNQzBSJM",
        "colab_type": "text"
      },
      "source": [
        "stage3a + stage3b = stage 3"
      ]
    },
    {
      "cell_type": "code",
      "metadata": {
        "id": "8Eh12MNTArJ3",
        "colab_type": "code",
        "outputId": "79d122d6-050c-4e54-cf78-d2b5607934f4",
        "colab": {
          "base_uri": "https://localhost:8080/",
          "height": 163
        }
      },
      "source": [
        "TestStage_v2[4] = TestStage_v2[4] + TestStage_v2[5]\n",
        "del TestStage_v2[5]\n",
        "TestStage_v2"
      ],
      "execution_count": 43,
      "outputs": [
        {
          "output_type": "execute_result",
          "data": {
            "text/plain": [
              "['For these cancers, malignant cells are seen on sputum cytology but no obvious tumor can be found with bronchoscopy or imaging tests. They are usually early-stage cancers. Bronchoscopy and possibly other tests are usually repeated every few months to look for a tumor. If a tumor is found, treatment will depend on the stage.',\n",
              " 'Because stage 0 NSCLC is limited to the lining layer of airways and has not invaded deeper into the lung tissue or other areas, it is usually curable by surgery alone. No chemotherapy or radiation therapy is needed.If you are healthy enough for surgery, you can usually be treated by segmentectomy or wedge resection (removal of part of the lobe of the lung). Cancers in some locations (such as where the windpipe divides into the left and right main bronchi) may be treated with a sleeve resection, but in some cases they may be hard to remove completely without removing a lobe (lobectomy) or even an entire lung (pneumonectomy).For some stage 0 cancers, treatments such as photodynamic therapy (PDT), laser therapy, or brachytherapy (internal radiation) may be alternatives to surgery. If your cancer is truly stage 0, these treatments should cure you.',\n",
              " 'If you have stage I NSCLC, surgery may be the only treatment you need. This may be done either by taking out the lobe of the lung that has the tumor (lobectomy) or by taking out a smaller piece of the lung (sleeve resection, segmentectomy, or wedge resection). At least some lymph nodes in the lung and in the space between the lungs will also be removed and checked for cancer.Segmentectomy or wedge resection is generally an option only for very small stage I cancers and for patients with other health problems that make removing the entire lobe dangerous. Still, most surgeons believe it is better to do a lobectomy if the patient can tolerate it, as it offers the best chance for cure.For people with stage I NSCLC that has a higher risk of coming back (based on size, location, or other factors), adjuvant chemotherapy after surgery may lower the risk that cancer will return. But doctors aren’t always sure how to determine which people are likely to be helped by chemo. New lab tests that look at the patterns of certain genes in the cancer cells may help with this. Studies are now being done to see if these tests are accurate.After surgery, the removed tissue is checked to see if there are cancer cells at the edges of the surgery specimen (called positive margins). This could mean that some cancer has been left behind, so a second surgery might be done to try to ensure that all the cancer has been removed. (This might be followed by chemotherapy as well.) Another option might be to use radiation therapy after surgery.If you have serious health problems that prevent you from having surgery, you may get stereotactic body radiation therapy (SBRT) or another type of radiation therapy as your main treatment. Radiofrequency ablation (RFA) may be another option if the tumor is small and in the outer part of the lung.',\n",
              " 'People who have stage II NSCLC and are healthy enough for surgery usually have the cancer removed by lobectomy or sleeve resection. Sometimes removing the whole lung (pneumonectomy) is needed.Any lymph nodes likely to have cancer in them are also removed. The extent of lymph node involvement and whether or not cancer cells are found at the edges of the removed tissues are important factors when planning the next step of treatment.After surgery, the removed tissue is checked to see if there are cancer cells at the edges of the surgery specimen.  This might mean that some cancer has been left behind, so a second surgery might be done to try to remove any remaining cancer. This may be followed by chemotherapy (chemo). Another option is to treat with radiation, sometimes  with chemo.Even if positive margins are not found, chemo is usually recommended after surgery to try to destroy any cancer cells that might have been left behind. As with stage I cancers, newer lab tests now being studied may help doctors find out which patients need this adjuvant treatment and which are less likely to benefit from it.If you have serious medical problems that would keep you from having surgery, you may get only radiation therapy as your main treatment.',\n",
              " 'Treatment for stage IIIA NSCLC may include some combination of radiation therapy, chemotherapy (chemo), and/or surgery. For this reason, planning treatment for stage IIIA NSCLC often requires input from a medical oncologist, radiation oncologist, and a thoracic surgeon. Your treatment options depend on the size of the tumor, where it is in your lung, which lymph nodes it has spread to, your overall health, and how well you are tolerating treatment.For patients who can tolerate it, treatment usually starts with chemo, often combined with radiation therapy (also called chemoradiation). Surgery may be an option after this if the doctor thinks any remaining cancer can be removed and the patient is healthy enough. (In some cases, surgery may be an option as the first treatment.) This is often followed by chemo, and possibly radiation therapy if it hasn’t been given before.For people who are not healthy enough for surgery, radiation therapy, which may be combined with chemo, is often used. If surgery, radiation or chemoradiation are not considered tolerable treatment options, immunotherapy with pembrolizumab may be considered as first treatment.Stage IIIB NSCLC has spread to lymph nodes that are near the other lung or in the neck, and may also have grown into important structures in the chest. These cancers can’t be removed completely by surgery. As with other stages of lung cancer, treatment depends on the patient’s overall health. If you are in fairly good health you may be helped by chemotherapy (chemo) combined with radiation therapy. Some people can even be cured with this treatment. If the cancer stays under control after 2 or more treatments of chemoradiation, the immunotherapy drug durvalumab can be given for up to a year to help keep the cancer stable.Patients who are not healthy enough for this combination are often treated with radiation therapy alone, or, less often, chemo alone. If surgery, radiation, or chemoradiation are not considered tolerable treatment options, immunotherapy\\xa0with pembrolizumab may be considered as first treatment.These cancers can be hard to treat, so taking part in a clinical trial of newer treatments may be a good option for some people.',\n",
              " 'Stage IV NSCLC is widespread when it is diagnosed. Because these cancers have spread to distant sites, they are very hard to cure. Treatment options depend on where the cancer has spread, the number of tumors, and your overall health.If you are in otherwise good health, treatments such as surgery, chemotherapy (chemo), targeted therapy, immunotherapy, and radiation therapy may help you live longer and make you feel better by relieving symptoms, even though they aren’t likely to cure you.Other treatments, such as photodynamic therapy (PDT) or laser therapy, may also be used to help relieve symptoms. In any case, if you are going to be treated for advanced NSCLC, be sure you understand the goals of treatment before you start.',\n",
              " 'If cancer continues to grow during treatment (progresses) or comes back (recurs), further treatment will depend on the location and extent of the cancer, what treatments have been used, and on the person’s health and desire for more treatment. It’s important to understand the goal of any further treatment – if it is to try to cure the cancer, to slow its growth, or to help relieve symptoms . It is also important to understand the\\xa0benefits and risks.If cancer continues to grow during initial treatment such as radiation therapy, chemotherapy (chemo) may be tried. If a cancer continues to grow during chemo as the first treatment, second-line treatment most often consists of a single chemo drug such as docetaxel or pemetrexed, or targeted therapy. If a targeted drug was the first treatment and is no longer working, another targeted drug or combination chemo might be tried. For some people with certain types of NSCLC, treatment with an immunotherapy drug such as nivolumab (Opdivo), pembrolizumab (Keytruda), or atezolizumab (Tecentriq) might be an option.Smaller cancers that recur locally in the lungs can sometimes be retreated with surgery or radiation therapy (if it hasn’t been used before). Cancers that recur in the lymph nodes between the lungs are usually treated with chemo, possibly along with radiation if it hasn’t been used before. For cancers that return at distant sites, chemo, targeted therapies, and/or immunotherapy are often the treatments of choice.For more on dealing with a recurrence, see Understanding Recurrence. In some people, the cancer may never go away completely. These people may get regular treatments with chemo, radiation therapy, or other therapies to try to help keep the cancer in check. Learning to live with cancer that does not go away can be difficult and very stressful. It has its own type of uncertainty. Managing Cancer as a Chronic Illness talks more about this.']"
            ]
          },
          "metadata": {
            "tags": []
          },
          "execution_count": 43
        }
      ]
    },
    {
      "cell_type": "code",
      "metadata": {
        "id": "MsJt4DN-gNTS",
        "colab_type": "code",
        "outputId": "bb0dc8a3-a598-40ed-be54-92660a484b0d",
        "colab": {
          "base_uri": "https://localhost:8080/",
          "height": 109
        }
      },
      "source": [
        "messages = [dataStage1_v2] + TestStage_v2\n",
        "print(len(messages))\n",
        "encoding_matrix = embed_fn(messages)\n",
        "results = np.inner(encoding_matrix, encoding_matrix)\n",
        "results[0]"
      ],
      "execution_count": 49,
      "outputs": [
        {
          "output_type": "stream",
          "text": [
            "8\n",
            "['Treatments for stage 1 non–small cell lung cancer Surgery is a standard treatment for stage 1 non–small cell lung cancer for people who are well enough to have surgery.  Lobectomy to remove the lobe of the lung is the main type of surgery for stage 1 non–small cell lung cancer. It offers the best chance that the cancer will be completely removed. Wedge or segmental resection is used to remove the tumour along with a margin of healthy lung tissue. This type of surgery may be offered for stage 1 non–small cell lung cancer in people who do not have very good lung function. Sleeve resection is used to remove a tumour in the large airway of the lung (bronchus). During surgery for non–small cell lung cancer, the lymph nodes in the chest and around the lungs are removed. The surgery may be stopped if there is cancer in more lymph nodes than was shown with diagnostic tests. This is done because the cancer has spread too far for surgery to be helpful as a treatment.  Surgery may be done again if the lab reports that there was cancer in the margins (positive margins) of the tissue that was removed.  Radiation therapy is offered for stage 1 non–small cell lung cancer in people who are not well enough to have surgery or who choose not to have surgery.  Stereotactic body radiotherapy (SBRT) may be offered to people with lung cancer that hasn’t spread outside of the lung. Hypofractionated radiation therapy may be offered to people who are not able to have SBRT. 3-D conformal radiation therapy (3-D CRT) or intensity-modulated radiation therapy (IMRT) may be offered to people who cannot tolerate the dose of radiation given during SBRT or hypofractionated treatments. Radiation therapy may be given after surgery if cancer is found in the margins of the tissue that was removed and surgery can’t be done again. It is not given after surgery for stage 1 non–small cell lung cancer if the entire tumour has been removed and there is no cancer found in the tissue margins. Research has shown that giving radiation therapy lowers survival in this group of people.   Chemotherapy may be offered after surgery to people with stage 1 non–small cell lung cancer with a tumour that is 4 cm or larger who are healthy enough to have chemotherapy. Your healthcare team will discuss the benefits and risks of chemotherapy with you. The most common chemotherapy drug combination used is cisplatin and vinorelbine (Navelbine). If a person cannot be given cisplatin because of poor health, carboplatin (Paraplatin, Paraplatin AQ) may be given instead. ', 'For these cancers, malignant cells are seen on sputum cytology but no obvious tumor can be found with bronchoscopy or imaging tests. They are usually early-stage cancers. Bronchoscopy and possibly other tests are usually repeated every few months to look for a tumor. If a tumor is found, treatment will depend on the stage.', 'Because stage 0 NSCLC is limited to the lining layer of airways and has not invaded deeper into the lung tissue or other areas, it is usually curable by surgery alone. No chemotherapy or radiation therapy is needed.If you are healthy enough for surgery, you can usually be treated by segmentectomy or wedge resection (removal of part of the lobe of the lung). Cancers in some locations (such as where the windpipe divides into the left and right main bronchi) may be treated with a sleeve resection, but in some cases they may be hard to remove completely without removing a lobe (lobectomy) or even an entire lung (pneumonectomy).For some stage 0 cancers, treatments such as photodynamic therapy (PDT), laser therapy, or brachytherapy (internal radiation) may be alternatives to surgery. If your cancer is truly stage 0, these treatments should cure you.', 'If you have stage I NSCLC, surgery may be the only treatment you need. This may be done either by taking out the lobe of the lung that has the tumor (lobectomy) or by taking out a smaller piece of the lung (sleeve resection, segmentectomy, or wedge resection). At least some lymph nodes in the lung and in the space between the lungs will also be removed and checked for cancer.Segmentectomy or wedge resection is generally an option only for very small stage I cancers and for patients with other health problems that make removing the entire lobe dangerous. Still, most surgeons believe it is better to do a lobectomy if the patient can tolerate it, as it offers the best chance for cure.For people with stage I NSCLC that has a higher risk of coming back (based on size, location, or other factors), adjuvant chemotherapy after surgery may lower the risk that cancer will return. But doctors aren’t always sure how to determine which people are likely to be helped by chemo. New lab tests that look at the patterns of certain genes in the cancer cells may help with this. Studies are now being done to see if these tests are accurate.After surgery, the removed tissue is checked to see if there are cancer cells at the edges of the surgery specimen (called positive margins). This could mean that some cancer has been left behind, so a second surgery might be done to try to ensure that all the cancer has been removed. (This might be followed by chemotherapy as well.) Another option might be to use radiation therapy after surgery.If you have serious health problems that prevent you from having surgery, you may get stereotactic body radiation therapy (SBRT) or another type of radiation therapy as your main treatment. Radiofrequency ablation (RFA) may be another option if the tumor is small and in the outer part of the lung.', 'People who have stage II NSCLC and are healthy enough for surgery usually have the cancer removed by lobectomy or sleeve resection. Sometimes removing the whole lung (pneumonectomy) is needed.Any lymph nodes likely to have cancer in them are also removed. The extent of lymph node involvement and whether or not cancer cells are found at the edges of the removed tissues are important factors when planning the next step of treatment.After surgery, the removed tissue is checked to see if there are cancer cells at the edges of the surgery specimen.  This might mean that some cancer has been left behind, so a second surgery might be done to try to remove any remaining cancer. This may be followed by chemotherapy (chemo). Another option is to treat with radiation, sometimes  with chemo.Even if positive margins are not found, chemo is usually recommended after surgery to try to destroy any cancer cells that might have been left behind. As with stage I cancers, newer lab tests now being studied may help doctors find out which patients need this adjuvant treatment and which are less likely to benefit from it.If you have serious medical problems that would keep you from having surgery, you may get only radiation therapy as your main treatment.', 'Treatment for stage IIIA NSCLC may include some combination of radiation therapy, chemotherapy (chemo), and/or surgery. For this reason, planning treatment for stage IIIA NSCLC often requires input from a medical oncologist, radiation oncologist, and a thoracic surgeon. Your treatment options depend on the size of the tumor, where it is in your lung, which lymph nodes it has spread to, your overall health, and how well you are tolerating treatment.For patients who can tolerate it, treatment usually starts with chemo, often combined with radiation therapy (also called chemoradiation). Surgery may be an option after this if the doctor thinks any remaining cancer can be removed and the patient is healthy enough. (In some cases, surgery may be an option as the first treatment.) This is often followed by chemo, and possibly radiation therapy if it hasn’t been given before.For people who are not healthy enough for surgery, radiation therapy, which may be combined with chemo, is often used. If surgery, radiation or chemoradiation are not considered tolerable treatment options, immunotherapy with pembrolizumab may be considered as first treatment.Stage IIIB NSCLC has spread to lymph nodes that are near the other lung or in the neck, and may also have grown into important structures in the chest. These cancers can’t be removed completely by surgery. As with other stages of lung cancer, treatment depends on the patient’s overall health. If you are in fairly good health you may be helped by chemotherapy (chemo) combined with radiation therapy. Some people can even be cured with this treatment. If the cancer stays under control after 2 or more treatments of chemoradiation, the immunotherapy drug durvalumab can be given for up to a year to help keep the cancer stable.Patients who are not healthy enough for this combination are often treated with radiation therapy alone, or, less often, chemo alone. If surgery, radiation, or chemoradiation are not considered tolerable treatment options, immunotherapy\\xa0with pembrolizumab may be considered as first treatment.These cancers can be hard to treat, so taking part in a clinical trial of newer treatments may be a good option for some people.', 'Stage IV NSCLC is widespread when it is diagnosed. Because these cancers have spread to distant sites, they are very hard to cure. Treatment options depend on where the cancer has spread, the number of tumors, and your overall health.If you are in otherwise good health, treatments such as surgery, chemotherapy (chemo), targeted therapy, immunotherapy, and radiation therapy may help you live longer and make you feel better by relieving symptoms, even though they aren’t likely to cure you.Other treatments, such as photodynamic therapy (PDT) or laser therapy, may also be used to help relieve symptoms. In any case, if you are going to be treated for advanced NSCLC, be sure you understand the goals of treatment before you start.', 'If cancer continues to grow during treatment (progresses) or comes back (recurs), further treatment will depend on the location and extent of the cancer, what treatments have been used, and on the person’s health and desire for more treatment. It’s important to understand the goal of any further treatment – if it is to try to cure the cancer, to slow its growth, or to help relieve symptoms . It is also important to understand the\\xa0benefits and risks.If cancer continues to grow during initial treatment such as radiation therapy, chemotherapy (chemo) may be tried. If a cancer continues to grow during chemo as the first treatment, second-line treatment most often consists of a single chemo drug such as docetaxel or pemetrexed, or targeted therapy. If a targeted drug was the first treatment and is no longer working, another targeted drug or combination chemo might be tried. For some people with certain types of NSCLC, treatment with an immunotherapy drug such as nivolumab (Opdivo), pembrolizumab (Keytruda), or atezolizumab (Tecentriq) might be an option.Smaller cancers that recur locally in the lungs can sometimes be retreated with surgery or radiation therapy (if it hasn’t been used before). Cancers that recur in the lymph nodes between the lungs are usually treated with chemo, possibly along with radiation if it hasn’t been used before. For cancers that return at distant sites, chemo, targeted therapies, and/or immunotherapy are often the treatments of choice.For more on dealing with a recurrence, see Understanding Recurrence. In some people, the cancer may never go away completely. These people may get regular treatments with chemo, radiation therapy, or other therapies to try to help keep the cancer in check. Learning to live with cancer that does not go away can be difficult and very stressful. It has its own type of uncertainty. Managing Cancer as a Chronic Illness talks more about this.']\n"
          ],
          "name": "stdout"
        },
        {
          "output_type": "execute_result",
          "data": {
            "text/plain": [
              "array([0.9999999 , 0.81553197, 0.87515914, 0.8585496 , 0.89456177,\n",
              "       0.8863358 , 0.79708266, 0.84831846], dtype=float32)"
            ]
          },
          "metadata": {
            "tags": []
          },
          "execution_count": 49
        }
      ]
    },
    {
      "cell_type": "code",
      "metadata": {
        "id": "2hFf5Bb8ASi2",
        "colab_type": "code",
        "outputId": "cc8360e3-137b-4548-bc60-3dddcb81bc17",
        "colab": {
          "base_uri": "https://localhost:8080/",
          "height": 181
        }
      },
      "source": [
        "messages"
      ],
      "execution_count": 46,
      "outputs": [
        {
          "output_type": "execute_result",
          "data": {
            "text/plain": [
              "['Treatments for stage 1 non–small cell lung cancer Surgery is a standard treatment for stage 1 non–small cell lung cancer for people who are well enough to have surgery.  Lobectomy to remove the lobe of the lung is the main type of surgery for stage 1 non–small cell lung cancer. It offers the best chance that the cancer will be completely removed. Wedge or segmental resection is used to remove the tumour along with a margin of healthy lung tissue. This type of surgery may be offered for stage 1 non–small cell lung cancer in people who do not have very good lung function. Sleeve resection is used to remove a tumour in the large airway of the lung (bronchus). During surgery for non–small cell lung cancer, the lymph nodes in the chest and around the lungs are removed. The surgery may be stopped if there is cancer in more lymph nodes than was shown with diagnostic tests. This is done because the cancer has spread too far for surgery to be helpful as a treatment.  Surgery may be done again if the lab reports that there was cancer in the margins (positive margins) of the tissue that was removed.  Radiation therapy is offered for stage 1 non–small cell lung cancer in people who are not well enough to have surgery or who choose not to have surgery.  Stereotactic body radiotherapy (SBRT) may be offered to people with lung cancer that hasn’t spread outside of the lung. Hypofractionated radiation therapy may be offered to people who are not able to have SBRT. 3-D conformal radiation therapy (3-D CRT) or intensity-modulated radiation therapy (IMRT) may be offered to people who cannot tolerate the dose of radiation given during SBRT or hypofractionated treatments. Radiation therapy may be given after surgery if cancer is found in the margins of the tissue that was removed and surgery can’t be done again. It is not given after surgery for stage 1 non–small cell lung cancer if the entire tumour has been removed and there is no cancer found in the tissue margins. Research has shown that giving radiation therapy lowers survival in this group of people.   Chemotherapy may be offered after surgery to people with stage 1 non–small cell lung cancer with a tumour that is 4 cm or larger who are healthy enough to have chemotherapy. Your healthcare team will discuss the benefits and risks of chemotherapy with you. The most common chemotherapy drug combination used is cisplatin and vinorelbine (Navelbine). If a person cannot be given cisplatin because of poor health, carboplatin (Paraplatin, Paraplatin AQ) may be given instead. ',\n",
              " 'For these cancers, malignant cells are seen on sputum cytology but no obvious tumor can be found with bronchoscopy or imaging tests. They are usually early-stage cancers. Bronchoscopy and possibly other tests are usually repeated every few months to look for a tumor. If a tumor is found, treatment will depend on the stage.',\n",
              " 'Because stage 0 NSCLC is limited to the lining layer of airways and has not invaded deeper into the lung tissue or other areas, it is usually curable by surgery alone. No chemotherapy or radiation therapy is needed.If you are healthy enough for surgery, you can usually be treated by segmentectomy or wedge resection (removal of part of the lobe of the lung). Cancers in some locations (such as where the windpipe divides into the left and right main bronchi) may be treated with a sleeve resection, but in some cases they may be hard to remove completely without removing a lobe (lobectomy) or even an entire lung (pneumonectomy).For some stage 0 cancers, treatments such as photodynamic therapy (PDT), laser therapy, or brachytherapy (internal radiation) may be alternatives to surgery. If your cancer is truly stage 0, these treatments should cure you.',\n",
              " 'If you have stage I NSCLC, surgery may be the only treatment you need. This may be done either by taking out the lobe of the lung that has the tumor (lobectomy) or by taking out a smaller piece of the lung (sleeve resection, segmentectomy, or wedge resection). At least some lymph nodes in the lung and in the space between the lungs will also be removed and checked for cancer.Segmentectomy or wedge resection is generally an option only for very small stage I cancers and for patients with other health problems that make removing the entire lobe dangerous. Still, most surgeons believe it is better to do a lobectomy if the patient can tolerate it, as it offers the best chance for cure.For people with stage I NSCLC that has a higher risk of coming back (based on size, location, or other factors), adjuvant chemotherapy after surgery may lower the risk that cancer will return. But doctors aren’t always sure how to determine which people are likely to be helped by chemo. New lab tests that look at the patterns of certain genes in the cancer cells may help with this. Studies are now being done to see if these tests are accurate.After surgery, the removed tissue is checked to see if there are cancer cells at the edges of the surgery specimen (called positive margins). This could mean that some cancer has been left behind, so a second surgery might be done to try to ensure that all the cancer has been removed. (This might be followed by chemotherapy as well.) Another option might be to use radiation therapy after surgery.If you have serious health problems that prevent you from having surgery, you may get stereotactic body radiation therapy (SBRT) or another type of radiation therapy as your main treatment. Radiofrequency ablation (RFA) may be another option if the tumor is small and in the outer part of the lung.',\n",
              " 'People who have stage II NSCLC and are healthy enough for surgery usually have the cancer removed by lobectomy or sleeve resection. Sometimes removing the whole lung (pneumonectomy) is needed.Any lymph nodes likely to have cancer in them are also removed. The extent of lymph node involvement and whether or not cancer cells are found at the edges of the removed tissues are important factors when planning the next step of treatment.After surgery, the removed tissue is checked to see if there are cancer cells at the edges of the surgery specimen.  This might mean that some cancer has been left behind, so a second surgery might be done to try to remove any remaining cancer. This may be followed by chemotherapy (chemo). Another option is to treat with radiation, sometimes  with chemo.Even if positive margins are not found, chemo is usually recommended after surgery to try to destroy any cancer cells that might have been left behind. As with stage I cancers, newer lab tests now being studied may help doctors find out which patients need this adjuvant treatment and which are less likely to benefit from it.If you have serious medical problems that would keep you from having surgery, you may get only radiation therapy as your main treatment.',\n",
              " 'Treatment for stage IIIA NSCLC may include some combination of radiation therapy, chemotherapy (chemo), and/or surgery. For this reason, planning treatment for stage IIIA NSCLC often requires input from a medical oncologist, radiation oncologist, and a thoracic surgeon. Your treatment options depend on the size of the tumor, where it is in your lung, which lymph nodes it has spread to, your overall health, and how well you are tolerating treatment.For patients who can tolerate it, treatment usually starts with chemo, often combined with radiation therapy (also called chemoradiation). Surgery may be an option after this if the doctor thinks any remaining cancer can be removed and the patient is healthy enough. (In some cases, surgery may be an option as the first treatment.) This is often followed by chemo, and possibly radiation therapy if it hasn’t been given before.For people who are not healthy enough for surgery, radiation therapy, which may be combined with chemo, is often used. If surgery, radiation or chemoradiation are not considered tolerable treatment options, immunotherapy with pembrolizumab may be considered as first treatment.Stage IIIB NSCLC has spread to lymph nodes that are near the other lung or in the neck, and may also have grown into important structures in the chest. These cancers can’t be removed completely by surgery. As with other stages of lung cancer, treatment depends on the patient’s overall health. If you are in fairly good health you may be helped by chemotherapy (chemo) combined with radiation therapy. Some people can even be cured with this treatment. If the cancer stays under control after 2 or more treatments of chemoradiation, the immunotherapy drug durvalumab can be given for up to a year to help keep the cancer stable.Patients who are not healthy enough for this combination are often treated with radiation therapy alone, or, less often, chemo alone. If surgery, radiation, or chemoradiation are not considered tolerable treatment options, immunotherapy\\xa0with pembrolizumab may be considered as first treatment.These cancers can be hard to treat, so taking part in a clinical trial of newer treatments may be a good option for some people.',\n",
              " 'Stage IV NSCLC is widespread when it is diagnosed. Because these cancers have spread to distant sites, they are very hard to cure. Treatment options depend on where the cancer has spread, the number of tumors, and your overall health.If you are in otherwise good health, treatments such as surgery, chemotherapy (chemo), targeted therapy, immunotherapy, and radiation therapy may help you live longer and make you feel better by relieving symptoms, even though they aren’t likely to cure you.Other treatments, such as photodynamic therapy (PDT) or laser therapy, may also be used to help relieve symptoms. In any case, if you are going to be treated for advanced NSCLC, be sure you understand the goals of treatment before you start.',\n",
              " 'If cancer continues to grow during treatment (progresses) or comes back (recurs), further treatment will depend on the location and extent of the cancer, what treatments have been used, and on the person’s health and desire for more treatment. It’s important to understand the goal of any further treatment – if it is to try to cure the cancer, to slow its growth, or to help relieve symptoms . It is also important to understand the\\xa0benefits and risks.If cancer continues to grow during initial treatment such as radiation therapy, chemotherapy (chemo) may be tried. If a cancer continues to grow during chemo as the first treatment, second-line treatment most often consists of a single chemo drug such as docetaxel or pemetrexed, or targeted therapy. If a targeted drug was the first treatment and is no longer working, another targeted drug or combination chemo might be tried. For some people with certain types of NSCLC, treatment with an immunotherapy drug such as nivolumab (Opdivo), pembrolizumab (Keytruda), or atezolizumab (Tecentriq) might be an option.Smaller cancers that recur locally in the lungs can sometimes be retreated with surgery or radiation therapy (if it hasn’t been used before). Cancers that recur in the lymph nodes between the lungs are usually treated with chemo, possibly along with radiation if it hasn’t been used before. For cancers that return at distant sites, chemo, targeted therapies, and/or immunotherapy are often the treatments of choice.For more on dealing with a recurrence, see Understanding Recurrence. In some people, the cancer may never go away completely. These people may get regular treatments with chemo, radiation therapy, or other therapies to try to help keep the cancer in check. Learning to live with cancer that does not go away can be difficult and very stressful. It has its own type of uncertainty. Managing Cancer as a Chronic Illness talks more about this.']"
            ]
          },
          "metadata": {
            "tags": []
          },
          "execution_count": 46
        }
      ]
    },
    {
      "cell_type": "code",
      "metadata": {
        "id": "EcONpu5zgNVx",
        "colab_type": "code",
        "outputId": "2e0cfa8b-5c13-48a5-9f95-04ad62e58473",
        "colab": {
          "base_uri": "https://localhost:8080/",
          "height": 73
        }
      },
      "source": [
        "print(results[0][1:].argmax())\n",
        "messages[results[0][1:].argmax()+1]"
      ],
      "execution_count": 47,
      "outputs": [
        {
          "output_type": "stream",
          "text": [
            "3\n"
          ],
          "name": "stdout"
        },
        {
          "output_type": "execute_result",
          "data": {
            "text/plain": [
              "'People who have stage II NSCLC and are healthy enough for surgery usually have the cancer removed by lobectomy or sleeve resection. Sometimes removing the whole lung (pneumonectomy) is needed.Any lymph nodes likely to have cancer in them are also removed. The extent of lymph node involvement and whether or not cancer cells are found at the edges of the removed tissues are important factors when planning the next step of treatment.After surgery, the removed tissue is checked to see if there are cancer cells at the edges of the surgery specimen.  This might mean that some cancer has been left behind, so a second surgery might be done to try to remove any remaining cancer. This may be followed by chemotherapy (chemo). Another option is to treat with radiation, sometimes  with chemo.Even if positive margins are not found, chemo is usually recommended after surgery to try to destroy any cancer cells that might have been left behind. As with stage I cancers, newer lab tests now being studied may help doctors find out which patients need this adjuvant treatment and which are less likely to benefit from it.If you have serious medical problems that would keep you from having surgery, you may get only radiation therapy as your main treatment.'"
            ]
          },
          "metadata": {
            "tags": []
          },
          "execution_count": 47
        }
      ]
    },
    {
      "cell_type": "markdown",
      "metadata": {
        "id": "0zTZMs-MB1WT",
        "colab_type": "text"
      },
      "source": [
        "**Wrong stage 1 -> stage 2**"
      ]
    },
    {
      "cell_type": "code",
      "metadata": {
        "id": "-y7qXGvIgNYI",
        "colab_type": "code",
        "outputId": "dd4874e3-65ca-4961-ca09-15cfe268e7a3",
        "colab": {
          "base_uri": "https://localhost:8080/",
          "height": 71
        }
      },
      "source": [
        "messages = [dataStage2_v2] + TestStage_v2\n",
        "print(len(messages))\n",
        "encoding_matrix = embed_fn(messages)\n",
        "results = np.inner(encoding_matrix, encoding_matrix)\n",
        "results[0]"
      ],
      "execution_count": 51,
      "outputs": [
        {
          "output_type": "stream",
          "text": [
            "8\n"
          ],
          "name": "stdout"
        },
        {
          "output_type": "execute_result",
          "data": {
            "text/plain": [
              "array([1.        , 0.8161068 , 0.87506163, 0.86850774, 0.894032  ,\n",
              "       0.88969296, 0.7958753 , 0.83801234], dtype=float32)"
            ]
          },
          "metadata": {
            "tags": []
          },
          "execution_count": 51
        }
      ]
    },
    {
      "cell_type": "code",
      "metadata": {
        "id": "kJZ2J9HoB9Ht",
        "colab_type": "code",
        "colab": {
          "base_uri": "https://localhost:8080/",
          "height": 73
        },
        "outputId": "799892e6-78fc-4d58-e16a-bca677f8edd7"
      },
      "source": [
        "print(results[0][1:].argmax())\n",
        "messages[results[0][1:].argmax()+1]"
      ],
      "execution_count": 52,
      "outputs": [
        {
          "output_type": "stream",
          "text": [
            "3\n"
          ],
          "name": "stdout"
        },
        {
          "output_type": "execute_result",
          "data": {
            "text/plain": [
              "'People who have stage II NSCLC and are healthy enough for surgery usually have the cancer removed by lobectomy or sleeve resection. Sometimes removing the whole lung (pneumonectomy) is needed.Any lymph nodes likely to have cancer in them are also removed. The extent of lymph node involvement and whether or not cancer cells are found at the edges of the removed tissues are important factors when planning the next step of treatment.After surgery, the removed tissue is checked to see if there are cancer cells at the edges of the surgery specimen.  This might mean that some cancer has been left behind, so a second surgery might be done to try to remove any remaining cancer. This may be followed by chemotherapy (chemo). Another option is to treat with radiation, sometimes  with chemo.Even if positive margins are not found, chemo is usually recommended after surgery to try to destroy any cancer cells that might have been left behind. As with stage I cancers, newer lab tests now being studied may help doctors find out which patients need this adjuvant treatment and which are less likely to benefit from it.If you have serious medical problems that would keep you from having surgery, you may get only radiation therapy as your main treatment.'"
            ]
          },
          "metadata": {
            "tags": []
          },
          "execution_count": 52
        }
      ]
    },
    {
      "cell_type": "markdown",
      "metadata": {
        "id": "MplTu4IMCDCN",
        "colab_type": "text"
      },
      "source": [
        "**Correct stage 2 -> stage 2**"
      ]
    },
    {
      "cell_type": "code",
      "metadata": {
        "id": "LLPS0iaDCIaD",
        "colab_type": "code",
        "colab": {
          "base_uri": "https://localhost:8080/",
          "height": 89
        },
        "outputId": "3b06b511-f352-4306-e11e-66dfea3ec142"
      },
      "source": [
        "messages = [dataStage3_v2] + TestStage_v2\n",
        "print(len(messages))\n",
        "encoding_matrix = embed_fn(messages)\n",
        "results = np.inner(encoding_matrix, encoding_matrix)\n",
        "results[0]"
      ],
      "execution_count": 53,
      "outputs": [
        {
          "output_type": "stream",
          "text": [
            "8\n",
            "ERROR! Session/line number was not unique in database. History logging moved to new session 63\n"
          ],
          "name": "stdout"
        },
        {
          "output_type": "execute_result",
          "data": {
            "text/plain": [
              "array([0.9999999 , 0.8585387 , 0.8633062 , 0.80717397, 0.8717682 ,\n",
              "       0.9286721 , 0.858235  , 0.8740091 ], dtype=float32)"
            ]
          },
          "metadata": {
            "tags": []
          },
          "execution_count": 53
        }
      ]
    },
    {
      "cell_type": "code",
      "metadata": {
        "id": "jLI560fDCIQ9",
        "colab_type": "code",
        "colab": {
          "base_uri": "https://localhost:8080/",
          "height": 73
        },
        "outputId": "f287ceec-f15c-4ea0-f5cd-0f959cb70e98"
      },
      "source": [
        "print(results[0][1:].argmax())\n",
        "messages[results[0][1:].argmax()+1]"
      ],
      "execution_count": 54,
      "outputs": [
        {
          "output_type": "stream",
          "text": [
            "4\n"
          ],
          "name": "stdout"
        },
        {
          "output_type": "execute_result",
          "data": {
            "text/plain": [
              "'Treatment for stage IIIA NSCLC may include some combination of radiation therapy, chemotherapy (chemo), and/or surgery. For this reason, planning treatment for stage IIIA NSCLC often requires input from a medical oncologist, radiation oncologist, and a thoracic surgeon. Your treatment options depend on the size of the tumor, where it is in your lung, which lymph nodes it has spread to, your overall health, and how well you are tolerating treatment.For patients who can tolerate it, treatment usually starts with chemo, often combined with radiation therapy (also called chemoradiation). Surgery may be an option after this if the doctor thinks any remaining cancer can be removed and the patient is healthy enough. (In some cases, surgery may be an option as the first treatment.) This is often followed by chemo, and possibly radiation therapy if it hasn’t been given before.For people who are not healthy enough for surgery, radiation therapy, which may be combined with chemo, is often used. If surgery, radiation or chemoradiation are not considered tolerable treatment options, immunotherapy with pembrolizumab may be considered as first treatment.Stage IIIB NSCLC has spread to lymph nodes that are near the other lung or in the neck, and may also have grown into important structures in the chest. These cancers can’t be removed completely by surgery. As with other stages of lung cancer, treatment depends on the patient’s overall health. If you are in fairly good health you may be helped by chemotherapy (chemo) combined with radiation therapy. Some people can even be cured with this treatment. If the cancer stays under control after 2 or more treatments of chemoradiation, the immunotherapy drug durvalumab can be given for up to a year to help keep the cancer stable.Patients who are not healthy enough for this combination are often treated with radiation therapy alone, or, less often, chemo alone. If surgery, radiation, or chemoradiation are not considered tolerable treatment options, immunotherapy\\xa0with pembrolizumab may be considered as first treatment.These cancers can be hard to treat, so taking part in a clinical trial of newer treatments may be a good option for some people.'"
            ]
          },
          "metadata": {
            "tags": []
          },
          "execution_count": 54
        }
      ]
    },
    {
      "cell_type": "markdown",
      "metadata": {
        "id": "8r0WudSlCIFQ",
        "colab_type": "text"
      },
      "source": [
        "**Correct stage 3 -> stage 3**"
      ]
    },
    {
      "cell_type": "markdown",
      "metadata": {
        "id": "YMVRS9ugCS05",
        "colab_type": "text"
      },
      "source": [
        "**=> it can chose correctly stage 2 and 3 in test web**"
      ]
    },
    {
      "cell_type": "code",
      "metadata": {
        "id": "9vCVn5uegNkA",
        "colab_type": "code",
        "colab": {
          "base_uri": "https://localhost:8080/",
          "height": 35
        },
        "outputId": "7fd307d3-9248-4257-a94e-d8984762d3c5"
      },
      "source": [
        "############################################################################"
      ],
      "execution_count": 55,
      "outputs": [
        {
          "output_type": "stream",
          "text": [
            "ERROR! Session/line number was not unique in database. History logging moved to new session 65\n"
          ],
          "name": "stdout"
        }
      ]
    },
    {
      "cell_type": "markdown",
      "metadata": {
        "id": "hUljwdgBgNab",
        "colab_type": "text"
      },
      "source": [
        "## Process the text and using LSA, LDA and NNMF to extract the important information"
      ]
    },
    {
      "cell_type": "markdown",
      "metadata": {
        "id": "5A-TRSzNgNDE",
        "colab_type": "text"
      },
      "source": [
        "### Processing LSA\n",
        "- Tokenize the text articles\n",
        "- Remove stop words\n",
        "- Perform stemming on text artcle"
      ]
    },
    {
      "cell_type": "code",
      "metadata": {
        "id": "n874TDXZXI24",
        "colab_type": "code",
        "outputId": "79beddaa-b52f-4d36-c9ef-328c0dcb6c22",
        "colab": {
          "base_uri": "https://localhost:8080/",
          "height": 71
        }
      },
      "source": [
        "import nltk\n",
        "nltk.download('stopwords')"
      ],
      "execution_count": 56,
      "outputs": [
        {
          "output_type": "stream",
          "text": [
            "[nltk_data] Downloading package stopwords to /root/nltk_data...\n",
            "[nltk_data]   Unzipping corpora/stopwords.zip.\n"
          ],
          "name": "stdout"
        },
        {
          "output_type": "execute_result",
          "data": {
            "text/plain": [
              "True"
            ]
          },
          "metadata": {
            "tags": []
          },
          "execution_count": 56
        }
      ]
    },
    {
      "cell_type": "code",
      "metadata": {
        "id": "9nlyXcx6oeRB",
        "colab_type": "code",
        "outputId": "e68a359f-1c90-46ac-b8b3-318153abd13b",
        "colab": {
          "base_uri": "https://localhost:8080/",
          "height": 685
        }
      },
      "source": [
        "!pip install --upgrade gensim\n"
      ],
      "execution_count": 57,
      "outputs": [
        {
          "output_type": "stream",
          "text": [
            "Collecting gensim\n",
            "\u001b[?25l  Downloading https://files.pythonhosted.org/packages/d1/dd/112bd4258cee11e0baaaba064060eb156475a42362e59e3ff28e7ca2d29d/gensim-3.8.1-cp36-cp36m-manylinux1_x86_64.whl (24.2MB)\n",
            "\u001b[K     |████████████████████████████████| 24.2MB 1.3MB/s \n",
            "\u001b[?25hRequirement already satisfied, skipping upgrade: smart-open>=1.8.1 in /usr/local/lib/python3.6/dist-packages (from gensim) (1.10.0)\n",
            "Requirement already satisfied, skipping upgrade: six>=1.5.0 in /usr/local/lib/python3.6/dist-packages (from gensim) (1.12.0)\n",
            "Requirement already satisfied, skipping upgrade: numpy>=1.11.3 in /usr/local/lib/python3.6/dist-packages (from gensim) (1.18.2)\n",
            "Requirement already satisfied, skipping upgrade: scipy>=0.18.1 in /usr/local/lib/python3.6/dist-packages (from gensim) (1.4.1)\n",
            "Requirement already satisfied, skipping upgrade: google-cloud-storage in /usr/local/lib/python3.6/dist-packages (from smart-open>=1.8.1->gensim) (1.18.1)\n",
            "Requirement already satisfied, skipping upgrade: requests in /usr/local/lib/python3.6/dist-packages (from smart-open>=1.8.1->gensim) (2.21.0)\n",
            "Requirement already satisfied, skipping upgrade: boto3 in /usr/local/lib/python3.6/dist-packages (from smart-open>=1.8.1->gensim) (1.12.27)\n",
            "Requirement already satisfied, skipping upgrade: google-cloud-core<2.0dev,>=1.0.0 in /usr/local/lib/python3.6/dist-packages (from google-cloud-storage->smart-open>=1.8.1->gensim) (1.0.3)\n",
            "Requirement already satisfied, skipping upgrade: google-resumable-media<0.5.0dev,>=0.3.1 in /usr/local/lib/python3.6/dist-packages (from google-cloud-storage->smart-open>=1.8.1->gensim) (0.4.1)\n",
            "Requirement already satisfied, skipping upgrade: google-auth>=1.2.0 in /usr/local/lib/python3.6/dist-packages (from google-cloud-storage->smart-open>=1.8.1->gensim) (1.7.2)\n",
            "Requirement already satisfied, skipping upgrade: chardet<3.1.0,>=3.0.2 in /usr/local/lib/python3.6/dist-packages (from requests->smart-open>=1.8.1->gensim) (3.0.4)\n",
            "Requirement already satisfied, skipping upgrade: idna<2.9,>=2.5 in /usr/local/lib/python3.6/dist-packages (from requests->smart-open>=1.8.1->gensim) (2.8)\n",
            "Requirement already satisfied, skipping upgrade: urllib3<1.25,>=1.21.1 in /usr/local/lib/python3.6/dist-packages (from requests->smart-open>=1.8.1->gensim) (1.24.3)\n",
            "Requirement already satisfied, skipping upgrade: certifi>=2017.4.17 in /usr/local/lib/python3.6/dist-packages (from requests->smart-open>=1.8.1->gensim) (2019.11.28)\n",
            "Requirement already satisfied, skipping upgrade: botocore<1.16.0,>=1.15.27 in /usr/local/lib/python3.6/dist-packages (from boto3->smart-open>=1.8.1->gensim) (1.15.27)\n",
            "Requirement already satisfied, skipping upgrade: s3transfer<0.4.0,>=0.3.0 in /usr/local/lib/python3.6/dist-packages (from boto3->smart-open>=1.8.1->gensim) (0.3.3)\n",
            "Requirement already satisfied, skipping upgrade: jmespath<1.0.0,>=0.7.1 in /usr/local/lib/python3.6/dist-packages (from boto3->smart-open>=1.8.1->gensim) (0.9.5)\n",
            "Requirement already satisfied, skipping upgrade: google-api-core<2.0.0dev,>=1.14.0 in /usr/local/lib/python3.6/dist-packages (from google-cloud-core<2.0dev,>=1.0.0->google-cloud-storage->smart-open>=1.8.1->gensim) (1.16.0)\n",
            "Requirement already satisfied, skipping upgrade: rsa<4.1,>=3.1.4 in /usr/local/lib/python3.6/dist-packages (from google-auth>=1.2.0->google-cloud-storage->smart-open>=1.8.1->gensim) (4.0)\n",
            "Requirement already satisfied, skipping upgrade: setuptools>=40.3.0 in /usr/local/lib/python3.6/dist-packages (from google-auth>=1.2.0->google-cloud-storage->smart-open>=1.8.1->gensim) (46.0.0)\n",
            "Requirement already satisfied, skipping upgrade: cachetools<3.2,>=2.0.0 in /usr/local/lib/python3.6/dist-packages (from google-auth>=1.2.0->google-cloud-storage->smart-open>=1.8.1->gensim) (3.1.1)\n",
            "Requirement already satisfied, skipping upgrade: pyasn1-modules>=0.2.1 in /usr/local/lib/python3.6/dist-packages (from google-auth>=1.2.0->google-cloud-storage->smart-open>=1.8.1->gensim) (0.2.8)\n",
            "Requirement already satisfied, skipping upgrade: python-dateutil<3.0.0,>=2.1 in /usr/local/lib/python3.6/dist-packages (from botocore<1.16.0,>=1.15.27->boto3->smart-open>=1.8.1->gensim) (2.8.1)\n",
            "Requirement already satisfied, skipping upgrade: docutils<0.16,>=0.10 in /usr/local/lib/python3.6/dist-packages (from botocore<1.16.0,>=1.15.27->boto3->smart-open>=1.8.1->gensim) (0.15.2)\n",
            "Requirement already satisfied, skipping upgrade: pytz in /usr/local/lib/python3.6/dist-packages (from google-api-core<2.0.0dev,>=1.14.0->google-cloud-core<2.0dev,>=1.0.0->google-cloud-storage->smart-open>=1.8.1->gensim) (2018.9)\n",
            "Requirement already satisfied, skipping upgrade: googleapis-common-protos<2.0dev,>=1.6.0 in /usr/local/lib/python3.6/dist-packages (from google-api-core<2.0.0dev,>=1.14.0->google-cloud-core<2.0dev,>=1.0.0->google-cloud-storage->smart-open>=1.8.1->gensim) (1.51.0)\n",
            "Requirement already satisfied, skipping upgrade: protobuf>=3.4.0 in /usr/local/lib/python3.6/dist-packages (from google-api-core<2.0.0dev,>=1.14.0->google-cloud-core<2.0dev,>=1.0.0->google-cloud-storage->smart-open>=1.8.1->gensim) (3.10.0)\n",
            "Requirement already satisfied, skipping upgrade: pyasn1>=0.1.3 in /usr/local/lib/python3.6/dist-packages (from rsa<4.1,>=3.1.4->google-auth>=1.2.0->google-cloud-storage->smart-open>=1.8.1->gensim) (0.4.8)\n",
            "Installing collected packages: gensim\n",
            "  Found existing installation: gensim 3.6.0\n",
            "    Uninstalling gensim-3.6.0:\n",
            "      Successfully uninstalled gensim-3.6.0\n",
            "Successfully installed gensim-3.8.1\n"
          ],
          "name": "stdout"
        }
      ]
    },
    {
      "cell_type": "code",
      "metadata": {
        "id": "Zsf6643WcpLQ",
        "colab_type": "code",
        "colab": {}
      },
      "source": [
        "#import modules\n",
        "import os.path\n",
        "from gensim import corpora\n",
        "from gensim.models import LsiModel, LdaModel, nmf\n",
        "from nltk.tokenize import RegexpTokenizer\n",
        "from nltk.corpus import stopwords\n",
        "from nltk.stem.porter import PorterStemmer\n",
        "from gensim.models.coherencemodel import CoherenceModel\n",
        "import matplotlib.pyplot as plt"
      ],
      "execution_count": 0,
      "outputs": []
    },
    {
      "cell_type": "code",
      "metadata": {
        "id": "TxlocibyUztC",
        "colab_type": "code",
        "colab": {}
      },
      "source": [
        "def preprocess_data(doc_set):\n",
        "    \"\"\"\n",
        "    Input  : docuemnt list\n",
        "    Purpose: preprocess text (tokenize, removing stopwords, and stemming)\n",
        "    Output : preprocessed text\n",
        "    \"\"\"\n",
        "    # initialize regex tokenizer\n",
        "    tokenizer = RegexpTokenizer(r'\\w+')\n",
        "    # create English stop words list\n",
        "    en_stop = set(stopwords.words('english'))\n",
        "    # Create p_stemmer of class PorterStemmer\n",
        "    p_stemmer = PorterStemmer()\n",
        "    # list for tokenized documents in loop\n",
        "    texts = []\n",
        "    # loop through document list\n",
        "    for i in doc_set:\n",
        "        # clean and tokenize document string\n",
        "        raw = i.lower()\n",
        "        tokens = tokenizer.tokenize(raw)\n",
        "        # remove stop words from tokens\n",
        "        stopped_tokens = [i for i in tokens if not i in en_stop]\n",
        "        # stem tokens\n",
        "        # stemmed_tokens = [p_stemmer.stem(i) for i in stopped_tokens]\n",
        "        # # add tokens to list\n",
        "        texts.append(stopped_tokens)\n",
        "    return texts"
      ],
      "execution_count": 0,
      "outputs": []
    },
    {
      "cell_type": "markdown",
      "metadata": {
        "colab_type": "text",
        "id": "L33E1-WGeb2-"
      },
      "source": [
        "### Prepare Corpus\n",
        "Next step is to prepare corpus. Here, you need to create a document-term matrix and dictionary of terms."
      ]
    },
    {
      "cell_type": "code",
      "metadata": {
        "colab_type": "code",
        "id": "osGDOUpJebwe",
        "colab": {}
      },
      "source": [
        "def prepare_corpus(doc_clean):\n",
        "    \"\"\"\n",
        "    Input  : clean document\n",
        "    Purpose: create term dictionary of our courpus and Converting list of documents (corpus) into Document Term Matrix\n",
        "    Output : term dictionary and Document Term Matrix\n",
        "    \"\"\"\n",
        "    # Creating the term dictionary of our courpus, where every unique term is assigned an index. dictionary = corpora.Dictionary(doc_clean)\n",
        "    dictionary = corpora.Dictionary(doc_clean)\n",
        "    # Converting list of documents (corpus) into Document Term Matrix using dictionary prepared above.\n",
        "    doc_term_matrix = [dictionary.doc2bow(doc) for doc in doc_clean]\n",
        "    # generate LDA model\n",
        "    return dictionary,doc_term_matrix"
      ],
      "execution_count": 0,
      "outputs": []
    },
    {
      "cell_type": "markdown",
      "metadata": {
        "colab_type": "text",
        "id": "wx5irYhoebpH"
      },
      "source": [
        "### Create an LSA model using Gensim\n",
        "After corpus creation, a model is generated by using LSA.\n",
        "\n"
      ]
    },
    {
      "cell_type": "code",
      "metadata": {
        "colab_type": "code",
        "id": "66elxUaWebif",
        "colab": {}
      },
      "source": [
        "def create_gensim_lsa_model(doc_clean,number_of_topics,words):\n",
        "    \"\"\"\n",
        "    Input  : clean document, number of topics and number of words associated with each topic\n",
        "    Purpose: create LSA model using gensim\n",
        "    Output : return LSA model\n",
        "    \"\"\"\n",
        "    dictionary,doc_term_matrix=prepare_corpus(doc_clean)\n",
        "    # generate LSA model\n",
        "    lsamodel = LsiModel(doc_term_matrix, num_topics=number_of_topics, id2word = dictionary)  # train model\n",
        "    print(lsamodel.print_topics(num_topics=number_of_topics, num_words=words))\n",
        "    return lsamodel"
      ],
      "execution_count": 0,
      "outputs": []
    },
    {
      "cell_type": "code",
      "metadata": {
        "id": "ap8ffhXujXtO",
        "colab_type": "code",
        "colab": {}
      },
      "source": [
        "def create_gensim_lda_model(doc_clean,number_of_topics,words):\n",
        "    \"\"\"\n",
        "    Input  : clean document, number of topics and number of words associated with each topic\n",
        "    Purpose: create LDA model using gensim\n",
        "    Output : return LDA model\n",
        "    \"\"\"\n",
        "    dictionary,doc_term_matrix=prepare_corpus(doc_clean)\n",
        "    # generate LDA model\n",
        "    ldamodel = LdaModel(doc_term_matrix, num_topics=number_of_topics, id2word = dictionary)  # train model\n",
        "    print(ldamodel.print_topics(num_topics=number_of_topics, num_words=words))\n",
        "    return ldamodel"
      ],
      "execution_count": 0,
      "outputs": []
    },
    {
      "cell_type": "code",
      "metadata": {
        "id": "1spTRBwNnEHx",
        "colab_type": "code",
        "colab": {}
      },
      "source": [
        "def create_gensim_nmf_model(doc_clean,number_of_topics,words):\n",
        "    \"\"\"\n",
        "    Input  : clean document, number of topics and number of words associated with each topic\n",
        "    Purpose: create nmf model using gensim\n",
        "    Output : return nmf model\n",
        "    \"\"\"\n",
        "    dictionary,doc_term_matrix=prepare_corpus(doc_clean)\n",
        "    # generate nmf model\n",
        "    nmfmodel = nmf.Nmf(doc_term_matrix, num_topics=number_of_topics, id2word = dictionary)  # train model\n",
        "    print(nmfmodel.print_topics(num_topics=number_of_topics, num_words=words))\n",
        "    return nmfmodel"
      ],
      "execution_count": 0,
      "outputs": []
    },
    {
      "cell_type": "markdown",
      "metadata": {
        "colab_type": "text",
        "id": "GTjUvNJAebal"
      },
      "source": [
        "### Determine the number of topics\n"
      ]
    },
    {
      "cell_type": "markdown",
      "metadata": {
        "colab_type": "text",
        "id": "vOZUMDNFebUu"
      },
      "source": [
        "Another extra step needs to be taken to optimize results by identifying an optimum amount of topics."
      ]
    },
    {
      "cell_type": "code",
      "metadata": {
        "colab_type": "code",
        "id": "bAJc56yZebN1",
        "colab": {}
      },
      "source": [
        "def compute_coherence_values(dictionary, doc_term_matrix, doc_clean, stop, start=2, step=3):\n",
        "    \"\"\"\n",
        "    Input   : dictionary : Gensim dictionary\n",
        "              corpus : Gensim corpus\n",
        "              texts : List of input texts\n",
        "              stop : Max num of topics\n",
        "    purpose : Compute c_v coherence for various number of topics\n",
        "    Output  : model_list : List of LSA topic models\n",
        "              coherence_values : Coherence values corresponding to the LDA model with respective number of topics\n",
        "    \"\"\"\n",
        "    coherence_values = []\n",
        "    model_list = []\n",
        "    for num_topics in range(start, stop, step):\n",
        "        # generate LSA model\n",
        "        model = LsiModel(doc_term_matrix, num_topics=number_of_topics, id2word = dictionary)  # train model\n",
        "        model_list.append(model)\n",
        "        coherencemodel = CoherenceModel(model=model, texts=doc_clean, dictionary=dictionary, coherence='c_v')\n",
        "        coherence_values.append(coherencemodel.get_coherence())\n",
        "    return model_list, coherence_values"
      ],
      "execution_count": 0,
      "outputs": []
    },
    {
      "cell_type": "code",
      "metadata": {
        "colab_type": "code",
        "id": "eugkd_DRebHm",
        "colab": {}
      },
      "source": [
        "def plot_graph(doc_clean,start, stop, step):\n",
        "    dictionary,doc_term_matrix=prepare_corpus(doc_clean)\n",
        "    model_list, coherence_values = compute_coherence_values(dictionary, doc_term_matrix,doc_clean,\n",
        "                                                            stop, start, step)\n",
        "    # Show graph\n",
        "    x = range(start, stop, step)\n",
        "    plt.plot(x, coherence_values)\n",
        "    plt.xlabel(\"Number of Topics\")\n",
        "    plt.ylabel(\"Coherence score\")\n",
        "    plt.legend((\"coherence_values\"), loc='best')\n",
        "    plt.show()"
      ],
      "execution_count": 0,
      "outputs": []
    },
    {
      "cell_type": "code",
      "metadata": {
        "colab_type": "code",
        "outputId": "1b2b5fc2-63e3-481d-ee5e-b92749e54f87",
        "id": "qDVQfbakebAG",
        "colab": {
          "base_uri": "https://localhost:8080/",
          "height": 91
        }
      },
      "source": [
        "# LSA Model\n",
        "number_of_topics=1\n",
        "words=10\n",
        "document_list = [messages[results[0][1:].argmax()+1]]\n",
        "clean_text=preprocess_data(document_list)\n",
        "lsamodel=create_gensim_lsa_model(clean_text,number_of_topics,words)\n",
        "ldamodel = create_gensim_lda_model(clean_text,number_of_topics,words)\n",
        "nmfmodel = create_gensim_nmf_model(clean_text,number_of_topics,words)"
      ],
      "execution_count": 92,
      "outputs": [
        {
          "output_type": "stream",
          "text": [
            "[(0, '0.438*\"treatment\" + 0.328*\"may\" + 0.328*\"radiation\" + 0.255*\"surgery\" + 0.219*\"chemo\" + 0.219*\"therapy\" + 0.219*\"often\" + 0.146*\"cancer\" + 0.146*\"chemoradiation\" + 0.146*\"considered\"')]\n",
            "[(0, '0.044*\"treatment\" + 0.034*\"radiation\" + 0.034*\"may\" + 0.027*\"surgery\" + 0.024*\"often\" + 0.024*\"therapy\" + 0.024*\"chemo\" + 0.017*\"chemoradiation\" + 0.017*\"cancer\" + 0.017*\"considered\"')]\n",
            "[(0, '0.061*\"treatment\" + 0.046*\"may\" + 0.046*\"radiation\" + 0.036*\"surgery\" + 0.030*\"therapy\" + 0.030*\"chemo\" + 0.030*\"often\" + 0.020*\"cancer\" + 0.020*\"chemoradiation\" + 0.020*\"considered\"')]\n"
          ],
          "name": "stdout"
        }
      ]
    },
    {
      "cell_type": "code",
      "metadata": {
        "colab_type": "code",
        "outputId": "0610857c-617d-4727-85d7-39dfeb25dcda",
        "id": "z7Ep5X4UeavN",
        "colab": {
          "base_uri": "https://localhost:8080/",
          "height": 35
        }
      },
      "source": [
        "words_topic = [x[0] for x in lsamodel.show_topic(0,topn=words) ]\n",
        "' '.join(words_topic)"
      ],
      "execution_count": 93,
      "outputs": [
        {
          "output_type": "execute_result",
          "data": {
            "text/plain": [
              "'treatment may radiation surgery chemo therapy often cancer chemoradiation considered'"
            ]
          },
          "metadata": {
            "tags": []
          },
          "execution_count": 93
        }
      ]
    },
    {
      "cell_type": "code",
      "metadata": {
        "id": "RhrMJY6WU0WW",
        "colab_type": "code",
        "outputId": "dc9caacf-e5e1-4571-e672-8a1be65f0f16",
        "colab": {
          "base_uri": "https://localhost:8080/",
          "height": 35
        }
      },
      "source": [
        "words_topic = [x[0] for x in ldamodel.show_topic(0,topn=words) ]\n",
        "' '.join(words_topic)"
      ],
      "execution_count": 94,
      "outputs": [
        {
          "output_type": "execute_result",
          "data": {
            "text/plain": [
              "'treatment radiation may surgery often therapy chemo chemoradiation cancer considered'"
            ]
          },
          "metadata": {
            "tags": []
          },
          "execution_count": 94
        }
      ]
    },
    {
      "cell_type": "code",
      "metadata": {
        "id": "HHn3Z4WxU0IQ",
        "colab_type": "code",
        "outputId": "b5fad759-5f4a-4fe2-81b1-70a9790c4955",
        "colab": {
          "base_uri": "https://localhost:8080/",
          "height": 35
        }
      },
      "source": [
        "words_topic = [x[0] for x in nmfmodel.show_topic(0,topn=words) ]\n",
        "' '.join(words_topic)"
      ],
      "execution_count": 95,
      "outputs": [
        {
          "output_type": "execute_result",
          "data": {
            "text/plain": [
              "'treatment may radiation surgery therapy chemo often cancer chemoradiation considered'"
            ]
          },
          "metadata": {
            "tags": []
          },
          "execution_count": 95
        }
      ]
    },
    {
      "cell_type": "markdown",
      "metadata": {
        "id": "JHXK0hnEDUGq",
        "colab_type": "text"
      },
      "source": [
        "**=> LSA, LDA, NMF give nearly similar words in the topic of stage 2 on the test web**"
      ]
    },
    {
      "cell_type": "markdown",
      "metadata": {
        "id": "PaozN6dZU0EE",
        "colab_type": "text"
      },
      "source": [
        "\n",
        "## Using PageRank and Sequence2Sequence to summarize the text information"
      ]
    },
    {
      "cell_type": "markdown",
      "metadata": {
        "id": "fPgxLFBlU0Bb",
        "colab_type": "text"
      },
      "source": [
        "Text Summarisation with Gensim (TextRank algorithm)-"
      ]
    },
    {
      "cell_type": "code",
      "metadata": {
        "id": "k8hHnkNRUz80",
        "colab_type": "code",
        "outputId": "27157b4e-e8bc-4d9d-d579-ebbfc08189d3",
        "colab": {
          "base_uri": "https://localhost:8080/",
          "height": 91
        }
      },
      "source": [
        "from gensim.summarization.summarizer import summarize\n",
        "textRank = summarize(document_list[0], ratio = 0.5)\n",
        "print(textRank)"
      ],
      "execution_count": 0,
      "outputs": [
        {
          "output_type": "stream",
          "text": [
            "Sometimes removing the whole lung (pneumonectomy) is needed.Any lymph nodes likely to have cancer in them are also removed.\n",
            "This might mean that some cancer has been left behind, so a second surgery might be done to try to remove any remaining cancer.\n",
            "Another option is to treat with radiation, sometimes  with chemo.Even if positive margins are not found, chemo is usually recommended after surgery to try to destroy any cancer cells that might have been left behind.\n"
          ],
          "name": "stdout"
        }
      ]
    },
    {
      "cell_type": "markdown",
      "metadata": {
        "id": "Lh7WB2gPEwdX",
        "colab_type": "text"
      },
      "source": [
        "**=>- use TextRank to summarize (ration 50%) still keep important information**"
      ]
    },
    {
      "cell_type": "markdown",
      "metadata": {
        "id": "uLwZI7Nx4Fd8",
        "colab_type": "text"
      },
      "source": [
        "## Conclusion"
      ]
    },
    {
      "cell_type": "markdown",
      "metadata": {
        "id": "RP1k39bf4Fiz",
        "colab_type": "text"
      },
      "source": [
        "**- Combine all paragraphs of 1 stage will give better results than compare each paragraph of data with test data**\n",
        "\n",
        "**- Use Google Universal sentence encoder to encode pargraph can determine area of information of stage 2 and stage 3**\n",
        "\n",
        "**- LSA, LDA, NFM, give almost similar words in the topic of stage 2**\n",
        "\n",
        "**- Use TextRank to summarize (ration 50%) still keep important information**"
      ]
    },
    {
      "cell_type": "code",
      "metadata": {
        "id": "oS_kxHaJ4FlO",
        "colab_type": "code",
        "colab": {}
      },
      "source": [
        ""
      ],
      "execution_count": 0,
      "outputs": []
    },
    {
      "cell_type": "code",
      "metadata": {
        "id": "fQ2akw4O4Fpj",
        "colab_type": "code",
        "colab": {}
      },
      "source": [
        ""
      ],
      "execution_count": 0,
      "outputs": []
    },
    {
      "cell_type": "code",
      "metadata": {
        "id": "e8I08AcJ4FsJ",
        "colab_type": "code",
        "colab": {}
      },
      "source": [
        ""
      ],
      "execution_count": 0,
      "outputs": []
    },
    {
      "cell_type": "code",
      "metadata": {
        "id": "P9cXAhOY4Fwp",
        "colab_type": "code",
        "colab": {}
      },
      "source": [
        ""
      ],
      "execution_count": 0,
      "outputs": []
    },
    {
      "cell_type": "code",
      "metadata": {
        "id": "ktSPWsl24Fze",
        "colab_type": "code",
        "colab": {}
      },
      "source": [
        ""
      ],
      "execution_count": 0,
      "outputs": []
    },
    {
      "cell_type": "code",
      "metadata": {
        "id": "cg6lzk8Z4F12",
        "colab_type": "code",
        "colab": {}
      },
      "source": [
        ""
      ],
      "execution_count": 0,
      "outputs": []
    },
    {
      "cell_type": "code",
      "metadata": {
        "id": "nwM5rVRA4Fu4",
        "colab_type": "code",
        "colab": {}
      },
      "source": [
        ""
      ],
      "execution_count": 0,
      "outputs": []
    },
    {
      "cell_type": "code",
      "metadata": {
        "id": "YtXMnVgc4Fg0",
        "colab_type": "code",
        "colab": {}
      },
      "source": [
        ""
      ],
      "execution_count": 0,
      "outputs": []
    },
    {
      "cell_type": "code",
      "metadata": {
        "id": "UTwyGkY7UzwM",
        "colab_type": "code",
        "colab": {}
      },
      "source": [
        ""
      ],
      "execution_count": 0,
      "outputs": []
    },
    {
      "cell_type": "markdown",
      "metadata": {
        "id": "EwDjBleRkU3P",
        "colab_type": "text"
      },
      "source": [
        "- Use Scipy in Jupyter Notebook: https://www.jitsejan.com/using-scrapy-in-jupyter-notebook.html\n",
        "- Find next siblings until a certain one using beautifulsoup: https://stackoverflow.com/questions/11647348/find-next-siblings-until-a-certain-one-using-beautifulsoup\n",
        "\n",
        "- Model for find similarity word, sentencem paragraph (*Google Universal sentence encoder*) https://towardsdatascience.com/use-cases-of-googles-universal-sentence-encoder-in-production-dd5aaab4fc15 \n",
        "\n",
        "   https://github.com/sambit9238/Deep-Learning/blob/master/tensorflow_hub_useT.ipynb\n",
        "\n",
        "  https://nlp.town/blog/sentence-similarity/\n",
        "\n",
        "- Great NLP Project GitHub\n",
        "https://github.com/susanli2016/NLP-with-Python/blob/master/Fuzzy%20String%20Matching.ipynb\n",
        "\n",
        "\n",
        "- TREATMENT TRAINING DATA: https://www.cancer.ca/en/cancer-information/cancer-type/lung/treatment/stage-3/?region=on\n",
        "\n",
        "  https://www.texasoncology.com/types-of-cancer/lung-cancer/non-small-cell-lung-cancer/stage-iiib-non-small-cell-lung-cancer\n",
        "\n",
        "  https://www.healthline.com/health/lung-cancer#treatment\n",
        "\n",
        "- EN | Non-Small-Cell Lung Cancer: Guide for Patients\n",
        "\n",
        "\n",
        "- TREATMENT TEST DATA: https://www.cancer.org/cancer/lung-cancer/treating-non-small-cell/by-stage.html\n",
        "\n",
        "- STAGE: https://www.cancer.org/cancer/lung-cancer/detection-diagnosis-staging/staging-nsclc.html\n",
        "\n",
        "  https://www.cancer.org/treatment/treatments-and-side-effects/treatment-types.html\n",
        "\n",
        "\n",
        "- LSA Datacamp: https://www.datacamp.com/community/tutorials/discovering-hidden-topics-python\n",
        "\n"
      ]
    },
    {
      "cell_type": "markdown",
      "metadata": {
        "id": "ASjdYb0IlURA",
        "colab_type": "text"
      },
      "source": [
        "- Understand TextRank for Keyword Extraction by Python: https://towardsdatascience.com/textrank-for-keyword-extraction-by-python-c0bae21bcec0 \n",
        "\n",
        "- Text Summarisation with Gensim (TextRank Algorithm):  https://medium.com/@shivangisareen/text-summarisation-with-gensim-textrank-46bbb3401289"
      ]
    },
    {
      "cell_type": "code",
      "metadata": {
        "id": "jKBCPXmT5LkD",
        "colab_type": "code",
        "colab": {}
      },
      "source": [
        ""
      ],
      "execution_count": 0,
      "outputs": []
    }
  ]
}